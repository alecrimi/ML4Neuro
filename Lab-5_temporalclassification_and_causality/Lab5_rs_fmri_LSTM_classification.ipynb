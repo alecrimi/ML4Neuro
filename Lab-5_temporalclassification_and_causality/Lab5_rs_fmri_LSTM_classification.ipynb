{
  "nbformat": 4,
  "nbformat_minor": 0,
  "metadata": {
    "colab": {
      "name": "rs-fmri_LSTM_classification.ipynb",
      "provenance": []
    },
    "kernelspec": {
      "name": "python3",
      "display_name": "Python 3"
    }
  },
  "cells": [
    {
      "cell_type": "markdown",
      "metadata": {
        "id": "U4tBTCQDXA3u"
      },
      "source": [
        "## Using LSTM to analyze resting state networks\n",
        "\n",
        "This notebook includes code to classify ADHD from healthy controls using LSTM model with rs-fMRI data."
      ]
    },
    {
      "cell_type": "markdown",
      "metadata": {
        "id": "0flh6WiRXUOX"
      },
      "source": [
        "First let's import the relevant libraries"
      ]
    },
    {
      "cell_type": "code",
      "metadata": {
        "id": "PwSjjSL0j0wM",
        "outputId": "75dc9a73-cc1c-445f-c9b5-aca6be0e7440",
        "colab": {
          "base_uri": "https://localhost:8080/",
          "height": 0
        }
      },
      "source": [
        "!pip install nilearn\n",
        "from nilearn import datasets\n",
        "import numpy as np\n",
        "import matplotlib.pyplot as plt\n",
        "%matplotlib inline\n",
        "import warnings\n",
        "warnings.filterwarnings(\"ignore\")\n",
        "plt.style.use('ggplot')\n",
        "\n",
        "#nilearn - neuroimaging tailored library\n",
        "from nilearn.input_data import NiftiMapsMasker\n",
        "from nilearn import plotting\n",
        "\n",
        "#sklearn - basic ML tools\n",
        "from sklearn.model_selection import train_test_split\n",
        "from sklearn.metrics import roc_curve\n",
        "from sklearn import metrics\n",
        "\n",
        "#keras - for NN models\n",
        "from keras.models import Model, Sequential\n",
        "from keras.layers import Input, Dense\n",
        "from keras.layers import LSTM\n",
        "from keras import optimizers\n",
        "from keras.utils import plot_model\n",
        "from keras import utils\n",
        "from sklearn.metrics import roc_curve\n",
        "\n",
        "\n",
        "#scipy- statistical analysis tools\n",
        "from scipy.stats import ttest_1samp\n",
        "#from scipy import interp\n",
        "\n"
      ],
      "execution_count": 3,
      "outputs": [
        {
          "output_type": "stream",
          "name": "stdout",
          "text": [
            "Requirement already satisfied: nilearn in /usr/local/lib/python3.10/dist-packages (0.11.0)\n",
            "Requirement already satisfied: joblib>=1.2.0 in /usr/local/lib/python3.10/dist-packages (from nilearn) (1.4.2)\n",
            "Requirement already satisfied: lxml in /usr/local/lib/python3.10/dist-packages (from nilearn) (5.3.0)\n",
            "Requirement already satisfied: nibabel>=5.2.0 in /usr/local/lib/python3.10/dist-packages (from nilearn) (5.3.2)\n",
            "Requirement already satisfied: numpy>=1.22.4 in /usr/local/lib/python3.10/dist-packages (from nilearn) (1.26.4)\n",
            "Requirement already satisfied: packaging in /usr/local/lib/python3.10/dist-packages (from nilearn) (24.2)\n",
            "Requirement already satisfied: pandas>=2.2.0 in /usr/local/lib/python3.10/dist-packages (from nilearn) (2.2.2)\n",
            "Requirement already satisfied: requests>=2.25.0 in /usr/local/lib/python3.10/dist-packages (from nilearn) (2.32.3)\n",
            "Requirement already satisfied: scikit-learn>=1.4.0 in /usr/local/lib/python3.10/dist-packages (from nilearn) (1.5.2)\n",
            "Requirement already satisfied: scipy>=1.8.0 in /usr/local/lib/python3.10/dist-packages (from nilearn) (1.13.1)\n",
            "Requirement already satisfied: importlib-resources>=5.12 in /usr/local/lib/python3.10/dist-packages (from nibabel>=5.2.0->nilearn) (6.4.5)\n",
            "Requirement already satisfied: typing-extensions>=4.6 in /usr/local/lib/python3.10/dist-packages (from nibabel>=5.2.0->nilearn) (4.12.2)\n",
            "Requirement already satisfied: python-dateutil>=2.8.2 in /usr/local/lib/python3.10/dist-packages (from pandas>=2.2.0->nilearn) (2.8.2)\n",
            "Requirement already satisfied: pytz>=2020.1 in /usr/local/lib/python3.10/dist-packages (from pandas>=2.2.0->nilearn) (2024.2)\n",
            "Requirement already satisfied: tzdata>=2022.7 in /usr/local/lib/python3.10/dist-packages (from pandas>=2.2.0->nilearn) (2024.2)\n",
            "Requirement already satisfied: charset-normalizer<4,>=2 in /usr/local/lib/python3.10/dist-packages (from requests>=2.25.0->nilearn) (3.4.0)\n",
            "Requirement already satisfied: idna<4,>=2.5 in /usr/local/lib/python3.10/dist-packages (from requests>=2.25.0->nilearn) (3.10)\n",
            "Requirement already satisfied: urllib3<3,>=1.21.1 in /usr/local/lib/python3.10/dist-packages (from requests>=2.25.0->nilearn) (2.2.3)\n",
            "Requirement already satisfied: certifi>=2017.4.17 in /usr/local/lib/python3.10/dist-packages (from requests>=2.25.0->nilearn) (2024.8.30)\n",
            "Requirement already satisfied: threadpoolctl>=3.1.0 in /usr/local/lib/python3.10/dist-packages (from scikit-learn>=1.4.0->nilearn) (3.5.0)\n",
            "Requirement already satisfied: six>=1.5 in /usr/local/lib/python3.10/dist-packages (from python-dateutil>=2.8.2->pandas>=2.2.0->nilearn) (1.16.0)\n"
          ]
        }
      ]
    },
    {
      "cell_type": "markdown",
      "metadata": {
        "id": "Bo5Cuig9pVoL"
      },
      "source": [
        "## Preparing data for analysis ##\n",
        "\n",
        "Import data, and exctract features"
      ]
    },
    {
      "cell_type": "code",
      "metadata": {
        "id": "Rw2IVtvWoteg",
        "outputId": "5944d4f3-20b7-45a9-8500-f0d9566fe2fc",
        "colab": {
          "base_uri": "https://localhost:8080/",
          "height": 550
        }
      },
      "source": [
        "## load the smith (ICA based) mask\n",
        "## 'rsn10': 10 ICA maps from the above that matched across task and rest\n",
        "# http://brainmap.org/pubs/SmithPNAS09.pdf\n",
        "\n",
        "smith_atlas = datasets.fetch_atlas_smith_2009()\n",
        "smith_atlas_rs_networks = smith_atlas.rsn70\n"
      ],
      "execution_count": 4,
      "outputs": [
        {
          "output_type": "display_data",
          "data": {
            "text/plain": [
              "\u001b[1;34m[\u001b[0m\u001b[34m_add_readme_to_default_data_locations\u001b[0m\u001b[1;34m]\u001b[0m Added README.md to \u001b[35m/root/\u001b[0m\u001b[95mnilearn_data\u001b[0m\n"
            ],
            "text/html": [
              "<pre style=\"white-space:pre;overflow-x:auto;line-height:normal;font-family:Menlo,'DejaVu Sans Mono',consolas,'Courier New',monospace\"><span style=\"color: #000080; text-decoration-color: #000080; font-weight: bold\">[</span><span style=\"color: #000080; text-decoration-color: #000080\">_add_readme_to_default_data_locations</span><span style=\"color: #000080; text-decoration-color: #000080; font-weight: bold\">]</span> Added README.md to <span style=\"color: #800080; text-decoration-color: #800080\">/root/</span><span style=\"color: #ff00ff; text-decoration-color: #ff00ff\">nilearn_data</span>\n",
              "</pre>\n"
            ]
          },
          "metadata": {}
        },
        {
          "output_type": "display_data",
          "data": {
            "text/plain": [
              "\u001b[1;34m[\u001b[0m\u001b[34mget_dataset_dir\u001b[0m\u001b[1;34m]\u001b[0m Dataset created in \u001b[35m/root/nilearn_data/\u001b[0m\u001b[95msmith_2009\u001b[0m\n"
            ],
            "text/html": [
              "<pre style=\"white-space:pre;overflow-x:auto;line-height:normal;font-family:Menlo,'DejaVu Sans Mono',consolas,'Courier New',monospace\"><span style=\"color: #000080; text-decoration-color: #000080; font-weight: bold\">[</span><span style=\"color: #000080; text-decoration-color: #000080\">get_dataset_dir</span><span style=\"color: #000080; text-decoration-color: #000080; font-weight: bold\">]</span> Dataset created in <span style=\"color: #800080; text-decoration-color: #800080\">/root/nilearn_data/</span><span style=\"color: #ff00ff; text-decoration-color: #ff00ff\">smith_2009</span>\n",
              "</pre>\n"
            ]
          },
          "metadata": {}
        },
        {
          "output_type": "display_data",
          "data": {
            "text/plain": [
              "\u001b[1;34m[\u001b[0m\u001b[34mfetch_single_file\u001b[0m\u001b[1;34m]\u001b[0m Downloading data from \u001b[4;94mhttps://www.fmrib.ox.ac.uk/datasets/brainmap+rsns/rsn20.nii.gz\u001b[0m \u001b[33m...\u001b[0m\n"
            ],
            "text/html": [
              "<pre style=\"white-space:pre;overflow-x:auto;line-height:normal;font-family:Menlo,'DejaVu Sans Mono',consolas,'Courier New',monospace\"><span style=\"color: #000080; text-decoration-color: #000080; font-weight: bold\">[</span><span style=\"color: #000080; text-decoration-color: #000080\">fetch_single_file</span><span style=\"color: #000080; text-decoration-color: #000080; font-weight: bold\">]</span> Downloading data from <span style=\"color: #0000ff; text-decoration-color: #0000ff; text-decoration: underline\">https://www.fmrib.ox.ac.uk/datasets/brainmap+rsns/rsn20.nii.gz</span> <span style=\"color: #808000; text-decoration-color: #808000\">...</span>\n",
              "</pre>\n"
            ]
          },
          "metadata": {}
        },
        {
          "output_type": "display_data",
          "data": {
            "text/plain": [
              "\u001b[1;34m[\u001b[0m\u001b[34m_chunk_report_\u001b[0m\u001b[1;34m]\u001b[0m Downloaded \u001b[1;36m3473408\u001b[0m of \u001b[1;36m15129514\u001b[0m bytes \u001b[1m(\u001b[0m\u001b[1;36m23.0\u001b[0m%%,    \u001b[1;36m3.\u001b[0m4s remaining\u001b[1m)\u001b[0m\n"
            ],
            "text/html": [
              "<pre style=\"white-space:pre;overflow-x:auto;line-height:normal;font-family:Menlo,'DejaVu Sans Mono',consolas,'Courier New',monospace\"><span style=\"color: #000080; text-decoration-color: #000080; font-weight: bold\">[</span><span style=\"color: #000080; text-decoration-color: #000080\">_chunk_report_</span><span style=\"color: #000080; text-decoration-color: #000080; font-weight: bold\">]</span> Downloaded <span style=\"color: #008080; text-decoration-color: #008080; font-weight: bold\">3473408</span> of <span style=\"color: #008080; text-decoration-color: #008080; font-weight: bold\">15129514</span> bytes <span style=\"font-weight: bold\">(</span><span style=\"color: #008080; text-decoration-color: #008080; font-weight: bold\">23.0</span>%%,    <span style=\"color: #008080; text-decoration-color: #008080; font-weight: bold\">3.</span>4s remaining<span style=\"font-weight: bold\">)</span>\n",
              "</pre>\n"
            ]
          },
          "metadata": {}
        },
        {
          "output_type": "display_data",
          "data": {
            "text/plain": [
              "\u001b[1;34m[\u001b[0m\u001b[34m_chunk_report_\u001b[0m\u001b[1;34m]\u001b[0m Downloaded \u001b[1;36m13590528\u001b[0m of \u001b[1;36m15129514\u001b[0m bytes \u001b[1m(\u001b[0m\u001b[1;36m89.8\u001b[0m%%,    \u001b[1;36m0.\u001b[0m2s remaining\u001b[1m)\u001b[0m\n"
            ],
            "text/html": [
              "<pre style=\"white-space:pre;overflow-x:auto;line-height:normal;font-family:Menlo,'DejaVu Sans Mono',consolas,'Courier New',monospace\"><span style=\"color: #000080; text-decoration-color: #000080; font-weight: bold\">[</span><span style=\"color: #000080; text-decoration-color: #000080\">_chunk_report_</span><span style=\"color: #000080; text-decoration-color: #000080; font-weight: bold\">]</span> Downloaded <span style=\"color: #008080; text-decoration-color: #008080; font-weight: bold\">13590528</span> of <span style=\"color: #008080; text-decoration-color: #008080; font-weight: bold\">15129514</span> bytes <span style=\"font-weight: bold\">(</span><span style=\"color: #008080; text-decoration-color: #008080; font-weight: bold\">89.8</span>%%,    <span style=\"color: #008080; text-decoration-color: #008080; font-weight: bold\">0.</span>2s remaining<span style=\"font-weight: bold\">)</span>\n",
              "</pre>\n"
            ]
          },
          "metadata": {}
        },
        {
          "output_type": "display_data",
          "data": {
            "text/plain": [
              "\u001b[1;34m[\u001b[0m\u001b[34mfetch_single_file\u001b[0m\u001b[1;34m]\u001b[0m  \u001b[33m...\u001b[0mdone. \u001b[1m(\u001b[0m\u001b[1;36m3\u001b[0m seconds, \u001b[1;36m0\u001b[0m min\u001b[1m)\u001b[0m\n",
              "\n"
            ],
            "text/html": [
              "<pre style=\"white-space:pre;overflow-x:auto;line-height:normal;font-family:Menlo,'DejaVu Sans Mono',consolas,'Courier New',monospace\"><span style=\"color: #000080; text-decoration-color: #000080; font-weight: bold\">[</span><span style=\"color: #000080; text-decoration-color: #000080\">fetch_single_file</span><span style=\"color: #000080; text-decoration-color: #000080; font-weight: bold\">]</span>  <span style=\"color: #808000; text-decoration-color: #808000\">...</span>done. <span style=\"font-weight: bold\">(</span><span style=\"color: #008080; text-decoration-color: #008080; font-weight: bold\">3</span> seconds, <span style=\"color: #008080; text-decoration-color: #008080; font-weight: bold\">0</span> min<span style=\"font-weight: bold\">)</span>\n",
              "\n",
              "</pre>\n"
            ]
          },
          "metadata": {}
        },
        {
          "output_type": "display_data",
          "data": {
            "text/plain": [
              "\u001b[1;34m[\u001b[0m\u001b[34mfetch_single_file\u001b[0m\u001b[1;34m]\u001b[0m Downloading data from \n",
              "\u001b[4;94mhttps://www.fmrib.ox.ac.uk/datasets/brainmap+rsns/PNAS_Smith09_rsn10.nii.gz\u001b[0m \u001b[33m...\u001b[0m\n"
            ],
            "text/html": [
              "<pre style=\"white-space:pre;overflow-x:auto;line-height:normal;font-family:Menlo,'DejaVu Sans Mono',consolas,'Courier New',monospace\"><span style=\"color: #000080; text-decoration-color: #000080; font-weight: bold\">[</span><span style=\"color: #000080; text-decoration-color: #000080\">fetch_single_file</span><span style=\"color: #000080; text-decoration-color: #000080; font-weight: bold\">]</span> Downloading data from \n",
              "<span style=\"color: #0000ff; text-decoration-color: #0000ff; text-decoration: underline\">https://www.fmrib.ox.ac.uk/datasets/brainmap+rsns/PNAS_Smith09_rsn10.nii.gz</span> <span style=\"color: #808000; text-decoration-color: #808000\">...</span>\n",
              "</pre>\n"
            ]
          },
          "metadata": {}
        },
        {
          "output_type": "display_data",
          "data": {
            "text/plain": [
              "\u001b[1;34m[\u001b[0m\u001b[34mfetch_single_file\u001b[0m\u001b[1;34m]\u001b[0m  \u001b[33m...\u001b[0mdone. \u001b[1m(\u001b[0m\u001b[1;36m1\u001b[0m seconds, \u001b[1;36m0\u001b[0m min\u001b[1m)\u001b[0m\n",
              "\n"
            ],
            "text/html": [
              "<pre style=\"white-space:pre;overflow-x:auto;line-height:normal;font-family:Menlo,'DejaVu Sans Mono',consolas,'Courier New',monospace\"><span style=\"color: #000080; text-decoration-color: #000080; font-weight: bold\">[</span><span style=\"color: #000080; text-decoration-color: #000080\">fetch_single_file</span><span style=\"color: #000080; text-decoration-color: #000080; font-weight: bold\">]</span>  <span style=\"color: #808000; text-decoration-color: #808000\">...</span>done. <span style=\"font-weight: bold\">(</span><span style=\"color: #008080; text-decoration-color: #008080; font-weight: bold\">1</span> seconds, <span style=\"color: #008080; text-decoration-color: #008080; font-weight: bold\">0</span> min<span style=\"font-weight: bold\">)</span>\n",
              "\n",
              "</pre>\n"
            ]
          },
          "metadata": {}
        },
        {
          "output_type": "display_data",
          "data": {
            "text/plain": [
              "\u001b[1;34m[\u001b[0m\u001b[34mfetch_single_file\u001b[0m\u001b[1;34m]\u001b[0m Downloading data from \u001b[4;94mhttps://www.fmrib.ox.ac.uk/datasets/brainmap+rsns/rsn70.nii.gz\u001b[0m \u001b[33m...\u001b[0m\n"
            ],
            "text/html": [
              "<pre style=\"white-space:pre;overflow-x:auto;line-height:normal;font-family:Menlo,'DejaVu Sans Mono',consolas,'Courier New',monospace\"><span style=\"color: #000080; text-decoration-color: #000080; font-weight: bold\">[</span><span style=\"color: #000080; text-decoration-color: #000080\">fetch_single_file</span><span style=\"color: #000080; text-decoration-color: #000080; font-weight: bold\">]</span> Downloading data from <span style=\"color: #0000ff; text-decoration-color: #0000ff; text-decoration: underline\">https://www.fmrib.ox.ac.uk/datasets/brainmap+rsns/rsn70.nii.gz</span> <span style=\"color: #808000; text-decoration-color: #808000\">...</span>\n",
              "</pre>\n"
            ]
          },
          "metadata": {}
        },
        {
          "output_type": "display_data",
          "data": {
            "text/plain": [
              "\u001b[1;34m[\u001b[0m\u001b[34m_chunk_report_\u001b[0m\u001b[1;34m]\u001b[0m Downloaded \u001b[1;36m11714560\u001b[0m of \u001b[1;36m53028809\u001b[0m bytes \u001b[1m(\u001b[0m\u001b[1;36m22.1\u001b[0m%%,    \u001b[1;36m3.\u001b[0m5s remaining\u001b[1m)\u001b[0m\n"
            ],
            "text/html": [
              "<pre style=\"white-space:pre;overflow-x:auto;line-height:normal;font-family:Menlo,'DejaVu Sans Mono',consolas,'Courier New',monospace\"><span style=\"color: #000080; text-decoration-color: #000080; font-weight: bold\">[</span><span style=\"color: #000080; text-decoration-color: #000080\">_chunk_report_</span><span style=\"color: #000080; text-decoration-color: #000080; font-weight: bold\">]</span> Downloaded <span style=\"color: #008080; text-decoration-color: #008080; font-weight: bold\">11714560</span> of <span style=\"color: #008080; text-decoration-color: #008080; font-weight: bold\">53028809</span> bytes <span style=\"font-weight: bold\">(</span><span style=\"color: #008080; text-decoration-color: #008080; font-weight: bold\">22.1</span>%%,    <span style=\"color: #008080; text-decoration-color: #008080; font-weight: bold\">3.</span>5s remaining<span style=\"font-weight: bold\">)</span>\n",
              "</pre>\n"
            ]
          },
          "metadata": {}
        },
        {
          "output_type": "display_data",
          "data": {
            "text/plain": [
              "\u001b[1;34m[\u001b[0m\u001b[34m_chunk_report_\u001b[0m\u001b[1;34m]\u001b[0m Downloaded \u001b[1;36m28442624\u001b[0m of \u001b[1;36m53028809\u001b[0m bytes \u001b[1m(\u001b[0m\u001b[1;36m53.6\u001b[0m%%,    \u001b[1;36m1.\u001b[0m8s remaining\u001b[1m)\u001b[0m\n"
            ],
            "text/html": [
              "<pre style=\"white-space:pre;overflow-x:auto;line-height:normal;font-family:Menlo,'DejaVu Sans Mono',consolas,'Courier New',monospace\"><span style=\"color: #000080; text-decoration-color: #000080; font-weight: bold\">[</span><span style=\"color: #000080; text-decoration-color: #000080\">_chunk_report_</span><span style=\"color: #000080; text-decoration-color: #000080; font-weight: bold\">]</span> Downloaded <span style=\"color: #008080; text-decoration-color: #008080; font-weight: bold\">28442624</span> of <span style=\"color: #008080; text-decoration-color: #008080; font-weight: bold\">53028809</span> bytes <span style=\"font-weight: bold\">(</span><span style=\"color: #008080; text-decoration-color: #008080; font-weight: bold\">53.6</span>%%,    <span style=\"color: #008080; text-decoration-color: #008080; font-weight: bold\">1.</span>8s remaining<span style=\"font-weight: bold\">)</span>\n",
              "</pre>\n"
            ]
          },
          "metadata": {}
        },
        {
          "output_type": "display_data",
          "data": {
            "text/plain": [
              "\u001b[1;34m[\u001b[0m\u001b[34m_chunk_report_\u001b[0m\u001b[1;34m]\u001b[0m Downloaded \u001b[1;36m47841280\u001b[0m of \u001b[1;36m53028809\u001b[0m bytes \u001b[1m(\u001b[0m\u001b[1;36m90.2\u001b[0m%%,    \u001b[1;36m0.\u001b[0m3s remaining\u001b[1m)\u001b[0m\n"
            ],
            "text/html": [
              "<pre style=\"white-space:pre;overflow-x:auto;line-height:normal;font-family:Menlo,'DejaVu Sans Mono',consolas,'Courier New',monospace\"><span style=\"color: #000080; text-decoration-color: #000080; font-weight: bold\">[</span><span style=\"color: #000080; text-decoration-color: #000080\">_chunk_report_</span><span style=\"color: #000080; text-decoration-color: #000080; font-weight: bold\">]</span> Downloaded <span style=\"color: #008080; text-decoration-color: #008080; font-weight: bold\">47841280</span> of <span style=\"color: #008080; text-decoration-color: #008080; font-weight: bold\">53028809</span> bytes <span style=\"font-weight: bold\">(</span><span style=\"color: #008080; text-decoration-color: #008080; font-weight: bold\">90.2</span>%%,    <span style=\"color: #008080; text-decoration-color: #008080; font-weight: bold\">0.</span>3s remaining<span style=\"font-weight: bold\">)</span>\n",
              "</pre>\n"
            ]
          },
          "metadata": {}
        },
        {
          "output_type": "display_data",
          "data": {
            "text/plain": [
              "\u001b[1;34m[\u001b[0m\u001b[34mfetch_single_file\u001b[0m\u001b[1;34m]\u001b[0m  \u001b[33m...\u001b[0mdone. \u001b[1m(\u001b[0m\u001b[1;36m4\u001b[0m seconds, \u001b[1;36m0\u001b[0m min\u001b[1m)\u001b[0m\n",
              "\n"
            ],
            "text/html": [
              "<pre style=\"white-space:pre;overflow-x:auto;line-height:normal;font-family:Menlo,'DejaVu Sans Mono',consolas,'Courier New',monospace\"><span style=\"color: #000080; text-decoration-color: #000080; font-weight: bold\">[</span><span style=\"color: #000080; text-decoration-color: #000080\">fetch_single_file</span><span style=\"color: #000080; text-decoration-color: #000080; font-weight: bold\">]</span>  <span style=\"color: #808000; text-decoration-color: #808000\">...</span>done. <span style=\"font-weight: bold\">(</span><span style=\"color: #008080; text-decoration-color: #008080; font-weight: bold\">4</span> seconds, <span style=\"color: #008080; text-decoration-color: #008080; font-weight: bold\">0</span> min<span style=\"font-weight: bold\">)</span>\n",
              "\n",
              "</pre>\n"
            ]
          },
          "metadata": {}
        },
        {
          "output_type": "display_data",
          "data": {
            "text/plain": [
              "\u001b[1;34m[\u001b[0m\u001b[34mfetch_single_file\u001b[0m\u001b[1;34m]\u001b[0m Downloading data from \u001b[4;94mhttps://www.fmrib.ox.ac.uk/datasets/brainmap+rsns/bm20.nii.gz\u001b[0m \u001b[33m...\u001b[0m\n"
            ],
            "text/html": [
              "<pre style=\"white-space:pre;overflow-x:auto;line-height:normal;font-family:Menlo,'DejaVu Sans Mono',consolas,'Courier New',monospace\"><span style=\"color: #000080; text-decoration-color: #000080; font-weight: bold\">[</span><span style=\"color: #000080; text-decoration-color: #000080\">fetch_single_file</span><span style=\"color: #000080; text-decoration-color: #000080; font-weight: bold\">]</span> Downloading data from <span style=\"color: #0000ff; text-decoration-color: #0000ff; text-decoration: underline\">https://www.fmrib.ox.ac.uk/datasets/brainmap+rsns/bm20.nii.gz</span> <span style=\"color: #808000; text-decoration-color: #808000\">...</span>\n",
              "</pre>\n"
            ]
          },
          "metadata": {}
        },
        {
          "output_type": "display_data",
          "data": {
            "text/plain": [
              "\u001b[1;34m[\u001b[0m\u001b[34m_chunk_report_\u001b[0m\u001b[1;34m]\u001b[0m Downloaded \u001b[1;36m4636672\u001b[0m of \u001b[1;36m19114114\u001b[0m bytes \u001b[1m(\u001b[0m\u001b[1;36m24.3\u001b[0m%%,    \u001b[1;36m3.\u001b[0m2s remaining\u001b[1m)\u001b[0m\n"
            ],
            "text/html": [
              "<pre style=\"white-space:pre;overflow-x:auto;line-height:normal;font-family:Menlo,'DejaVu Sans Mono',consolas,'Courier New',monospace\"><span style=\"color: #000080; text-decoration-color: #000080; font-weight: bold\">[</span><span style=\"color: #000080; text-decoration-color: #000080\">_chunk_report_</span><span style=\"color: #000080; text-decoration-color: #000080; font-weight: bold\">]</span> Downloaded <span style=\"color: #008080; text-decoration-color: #008080; font-weight: bold\">4636672</span> of <span style=\"color: #008080; text-decoration-color: #008080; font-weight: bold\">19114114</span> bytes <span style=\"font-weight: bold\">(</span><span style=\"color: #008080; text-decoration-color: #008080; font-weight: bold\">24.3</span>%%,    <span style=\"color: #008080; text-decoration-color: #008080; font-weight: bold\">3.</span>2s remaining<span style=\"font-weight: bold\">)</span>\n",
              "</pre>\n"
            ]
          },
          "metadata": {}
        },
        {
          "output_type": "display_data",
          "data": {
            "text/plain": [
              "\u001b[1;34m[\u001b[0m\u001b[34m_chunk_report_\u001b[0m\u001b[1;34m]\u001b[0m Downloaded \u001b[1;36m18481152\u001b[0m of \u001b[1;36m19114114\u001b[0m bytes \u001b[1m(\u001b[0m\u001b[1;36m96.7\u001b[0m%%,    \u001b[1;36m0.\u001b[0m1s remaining\u001b[1m)\u001b[0m\n"
            ],
            "text/html": [
              "<pre style=\"white-space:pre;overflow-x:auto;line-height:normal;font-family:Menlo,'DejaVu Sans Mono',consolas,'Courier New',monospace\"><span style=\"color: #000080; text-decoration-color: #000080; font-weight: bold\">[</span><span style=\"color: #000080; text-decoration-color: #000080\">_chunk_report_</span><span style=\"color: #000080; text-decoration-color: #000080; font-weight: bold\">]</span> Downloaded <span style=\"color: #008080; text-decoration-color: #008080; font-weight: bold\">18481152</span> of <span style=\"color: #008080; text-decoration-color: #008080; font-weight: bold\">19114114</span> bytes <span style=\"font-weight: bold\">(</span><span style=\"color: #008080; text-decoration-color: #008080; font-weight: bold\">96.7</span>%%,    <span style=\"color: #008080; text-decoration-color: #008080; font-weight: bold\">0.</span>1s remaining<span style=\"font-weight: bold\">)</span>\n",
              "</pre>\n"
            ]
          },
          "metadata": {}
        },
        {
          "output_type": "display_data",
          "data": {
            "text/plain": [
              "\u001b[1;34m[\u001b[0m\u001b[34mfetch_single_file\u001b[0m\u001b[1;34m]\u001b[0m  \u001b[33m...\u001b[0mdone. \u001b[1m(\u001b[0m\u001b[1;36m3\u001b[0m seconds, \u001b[1;36m0\u001b[0m min\u001b[1m)\u001b[0m\n",
              "\n"
            ],
            "text/html": [
              "<pre style=\"white-space:pre;overflow-x:auto;line-height:normal;font-family:Menlo,'DejaVu Sans Mono',consolas,'Courier New',monospace\"><span style=\"color: #000080; text-decoration-color: #000080; font-weight: bold\">[</span><span style=\"color: #000080; text-decoration-color: #000080\">fetch_single_file</span><span style=\"color: #000080; text-decoration-color: #000080; font-weight: bold\">]</span>  <span style=\"color: #808000; text-decoration-color: #808000\">...</span>done. <span style=\"font-weight: bold\">(</span><span style=\"color: #008080; text-decoration-color: #008080; font-weight: bold\">3</span> seconds, <span style=\"color: #008080; text-decoration-color: #008080; font-weight: bold\">0</span> min<span style=\"font-weight: bold\">)</span>\n",
              "\n",
              "</pre>\n"
            ]
          },
          "metadata": {}
        },
        {
          "output_type": "display_data",
          "data": {
            "text/plain": [
              "\u001b[1;34m[\u001b[0m\u001b[34mfetch_single_file\u001b[0m\u001b[1;34m]\u001b[0m Downloading data from \n",
              "\u001b[4;94mhttps://www.fmrib.ox.ac.uk/datasets/brainmap+rsns/PNAS_Smith09_bm10.nii.gz\u001b[0m \u001b[33m...\u001b[0m\n"
            ],
            "text/html": [
              "<pre style=\"white-space:pre;overflow-x:auto;line-height:normal;font-family:Menlo,'DejaVu Sans Mono',consolas,'Courier New',monospace\"><span style=\"color: #000080; text-decoration-color: #000080; font-weight: bold\">[</span><span style=\"color: #000080; text-decoration-color: #000080\">fetch_single_file</span><span style=\"color: #000080; text-decoration-color: #000080; font-weight: bold\">]</span> Downloading data from \n",
              "<span style=\"color: #0000ff; text-decoration-color: #0000ff; text-decoration: underline\">https://www.fmrib.ox.ac.uk/datasets/brainmap+rsns/PNAS_Smith09_bm10.nii.gz</span> <span style=\"color: #808000; text-decoration-color: #808000\">...</span>\n",
              "</pre>\n"
            ]
          },
          "metadata": {}
        },
        {
          "output_type": "display_data",
          "data": {
            "text/plain": [
              "\u001b[1;34m[\u001b[0m\u001b[34mfetch_single_file\u001b[0m\u001b[1;34m]\u001b[0m  \u001b[33m...\u001b[0mdone. \u001b[1m(\u001b[0m\u001b[1;36m1\u001b[0m seconds, \u001b[1;36m0\u001b[0m min\u001b[1m)\u001b[0m\n",
              "\n"
            ],
            "text/html": [
              "<pre style=\"white-space:pre;overflow-x:auto;line-height:normal;font-family:Menlo,'DejaVu Sans Mono',consolas,'Courier New',monospace\"><span style=\"color: #000080; text-decoration-color: #000080; font-weight: bold\">[</span><span style=\"color: #000080; text-decoration-color: #000080\">fetch_single_file</span><span style=\"color: #000080; text-decoration-color: #000080; font-weight: bold\">]</span>  <span style=\"color: #808000; text-decoration-color: #808000\">...</span>done. <span style=\"font-weight: bold\">(</span><span style=\"color: #008080; text-decoration-color: #008080; font-weight: bold\">1</span> seconds, <span style=\"color: #008080; text-decoration-color: #008080; font-weight: bold\">0</span> min<span style=\"font-weight: bold\">)</span>\n",
              "\n",
              "</pre>\n"
            ]
          },
          "metadata": {}
        },
        {
          "output_type": "display_data",
          "data": {
            "text/plain": [
              "\u001b[1;34m[\u001b[0m\u001b[34mfetch_single_file\u001b[0m\u001b[1;34m]\u001b[0m Downloading data from \u001b[4;94mhttps://www.fmrib.ox.ac.uk/datasets/brainmap+rsns/bm70.nii.gz\u001b[0m \u001b[33m...\u001b[0m\n"
            ],
            "text/html": [
              "<pre style=\"white-space:pre;overflow-x:auto;line-height:normal;font-family:Menlo,'DejaVu Sans Mono',consolas,'Courier New',monospace\"><span style=\"color: #000080; text-decoration-color: #000080; font-weight: bold\">[</span><span style=\"color: #000080; text-decoration-color: #000080\">fetch_single_file</span><span style=\"color: #000080; text-decoration-color: #000080; font-weight: bold\">]</span> Downloading data from <span style=\"color: #0000ff; text-decoration-color: #0000ff; text-decoration: underline\">https://www.fmrib.ox.ac.uk/datasets/brainmap+rsns/bm70.nii.gz</span> <span style=\"color: #808000; text-decoration-color: #808000\">...</span>\n",
              "</pre>\n"
            ]
          },
          "metadata": {}
        },
        {
          "output_type": "display_data",
          "data": {
            "text/plain": [
              "\u001b[1;34m[\u001b[0m\u001b[34m_chunk_report_\u001b[0m\u001b[1;34m]\u001b[0m Downloaded \u001b[1;36m19660800\u001b[0m of \u001b[1;36m67017538\u001b[0m bytes \u001b[1m(\u001b[0m\u001b[1;36m29.3\u001b[0m%%,    \u001b[1;36m3.\u001b[0m1s remaining\u001b[1m)\u001b[0m\n"
            ],
            "text/html": [
              "<pre style=\"white-space:pre;overflow-x:auto;line-height:normal;font-family:Menlo,'DejaVu Sans Mono',consolas,'Courier New',monospace\"><span style=\"color: #000080; text-decoration-color: #000080; font-weight: bold\">[</span><span style=\"color: #000080; text-decoration-color: #000080\">_chunk_report_</span><span style=\"color: #000080; text-decoration-color: #000080; font-weight: bold\">]</span> Downloaded <span style=\"color: #008080; text-decoration-color: #008080; font-weight: bold\">19660800</span> of <span style=\"color: #008080; text-decoration-color: #008080; font-weight: bold\">67017538</span> bytes <span style=\"font-weight: bold\">(</span><span style=\"color: #008080; text-decoration-color: #008080; font-weight: bold\">29.3</span>%%,    <span style=\"color: #008080; text-decoration-color: #008080; font-weight: bold\">3.</span>1s remaining<span style=\"font-weight: bold\">)</span>\n",
              "</pre>\n"
            ]
          },
          "metadata": {}
        },
        {
          "output_type": "display_data",
          "data": {
            "text/plain": [
              "\u001b[1;34m[\u001b[0m\u001b[34m_chunk_report_\u001b[0m\u001b[1;34m]\u001b[0m Downloaded \u001b[1;36m40460288\u001b[0m of \u001b[1;36m67017538\u001b[0m bytes \u001b[1m(\u001b[0m\u001b[1;36m60.4\u001b[0m%%,    \u001b[1;36m1.\u001b[0m5s remaining\u001b[1m)\u001b[0m\n"
            ],
            "text/html": [
              "<pre style=\"white-space:pre;overflow-x:auto;line-height:normal;font-family:Menlo,'DejaVu Sans Mono',consolas,'Courier New',monospace\"><span style=\"color: #000080; text-decoration-color: #000080; font-weight: bold\">[</span><span style=\"color: #000080; text-decoration-color: #000080\">_chunk_report_</span><span style=\"color: #000080; text-decoration-color: #000080; font-weight: bold\">]</span> Downloaded <span style=\"color: #008080; text-decoration-color: #008080; font-weight: bold\">40460288</span> of <span style=\"color: #008080; text-decoration-color: #008080; font-weight: bold\">67017538</span> bytes <span style=\"font-weight: bold\">(</span><span style=\"color: #008080; text-decoration-color: #008080; font-weight: bold\">60.4</span>%%,    <span style=\"color: #008080; text-decoration-color: #008080; font-weight: bold\">1.</span>5s remaining<span style=\"font-weight: bold\">)</span>\n",
              "</pre>\n"
            ]
          },
          "metadata": {}
        },
        {
          "output_type": "display_data",
          "data": {
            "text/plain": [
              "\u001b[1;34m[\u001b[0m\u001b[34m_chunk_report_\u001b[0m\u001b[1;34m]\u001b[0m Downloaded \u001b[1;36m52682752\u001b[0m of \u001b[1;36m67017538\u001b[0m bytes \u001b[1m(\u001b[0m\u001b[1;36m78.6\u001b[0m%%,    \u001b[1;36m0.\u001b[0m9s remaining\u001b[1m)\u001b[0m\n"
            ],
            "text/html": [
              "<pre style=\"white-space:pre;overflow-x:auto;line-height:normal;font-family:Menlo,'DejaVu Sans Mono',consolas,'Courier New',monospace\"><span style=\"color: #000080; text-decoration-color: #000080; font-weight: bold\">[</span><span style=\"color: #000080; text-decoration-color: #000080\">_chunk_report_</span><span style=\"color: #000080; text-decoration-color: #000080; font-weight: bold\">]</span> Downloaded <span style=\"color: #008080; text-decoration-color: #008080; font-weight: bold\">52682752</span> of <span style=\"color: #008080; text-decoration-color: #008080; font-weight: bold\">67017538</span> bytes <span style=\"font-weight: bold\">(</span><span style=\"color: #008080; text-decoration-color: #008080; font-weight: bold\">78.6</span>%%,    <span style=\"color: #008080; text-decoration-color: #008080; font-weight: bold\">0.</span>9s remaining<span style=\"font-weight: bold\">)</span>\n",
              "</pre>\n"
            ]
          },
          "metadata": {}
        },
        {
          "output_type": "display_data",
          "data": {
            "text/plain": [
              "\u001b[1;34m[\u001b[0m\u001b[34mfetch_single_file\u001b[0m\u001b[1;34m]\u001b[0m  \u001b[33m...\u001b[0mdone. \u001b[1m(\u001b[0m\u001b[1;36m4\u001b[0m seconds, \u001b[1;36m0\u001b[0m min\u001b[1m)\u001b[0m\n",
              "\n"
            ],
            "text/html": [
              "<pre style=\"white-space:pre;overflow-x:auto;line-height:normal;font-family:Menlo,'DejaVu Sans Mono',consolas,'Courier New',monospace\"><span style=\"color: #000080; text-decoration-color: #000080; font-weight: bold\">[</span><span style=\"color: #000080; text-decoration-color: #000080\">fetch_single_file</span><span style=\"color: #000080; text-decoration-color: #000080; font-weight: bold\">]</span>  <span style=\"color: #808000; text-decoration-color: #808000\">...</span>done. <span style=\"font-weight: bold\">(</span><span style=\"color: #008080; text-decoration-color: #008080; font-weight: bold\">4</span> seconds, <span style=\"color: #008080; text-decoration-color: #008080; font-weight: bold\">0</span> min<span style=\"font-weight: bold\">)</span>\n",
              "\n",
              "</pre>\n"
            ]
          },
          "metadata": {}
        }
      ]
    },
    {
      "cell_type": "code",
      "metadata": {
        "id": "J0A7-wIQS8qP",
        "outputId": "c3630365-e22d-46e5-8701-22df32f36c7e",
        "colab": {
          "base_uri": "https://localhost:8080/",
          "height": 239
        }
      },
      "source": [
        "plotting.plot_prob_atlas(smith_atlas_rs_networks,\n",
        "                         title='Smith atlas',\n",
        "                         colorbar=True)\n",
        "plotting.show()"
      ],
      "execution_count": null,
      "outputs": [
        {
          "output_type": "display_data",
          "data": {
            "text/plain": [
              "<Figure size 475.2x187.2 with 5 Axes>"
            ],
            "image/png": "[encoded data removed]"
          },
          "metadata": {
            "tags": []
          }
        }
      ]
    },
    {
      "cell_type": "code",
      "metadata": {
        "id": "4N5e6WYipDDZ",
        "outputId": "20f1c81d-1e64-4e39-e15a-cd4021ec0076",
        "colab": {
          "base_uri": "https://localhost:8080/",
          "height": 5393
        }
      },
      "source": [
        "# Import preprocessed, ready-to-go, datasets\n",
        "adhd_data=datasets.fetch_adhd(n_subjects=50)"
      ],
      "execution_count": 5,
      "outputs": [
        {
          "output_type": "display_data",
          "data": {
            "text/plain": [
              "\u001b[1;34m[\u001b[0m\u001b[34mget_dataset_dir\u001b[0m\u001b[1;34m]\u001b[0m Dataset created in \u001b[35m/root/nilearn_data/\u001b[0m\u001b[95madhd\u001b[0m\n"
            ],
            "text/html": [
              "<pre style=\"white-space:pre;overflow-x:auto;line-height:normal;font-family:Menlo,'DejaVu Sans Mono',consolas,'Courier New',monospace\"><span style=\"color: #000080; text-decoration-color: #000080; font-weight: bold\">[</span><span style=\"color: #000080; text-decoration-color: #000080\">get_dataset_dir</span><span style=\"color: #000080; text-decoration-color: #000080; font-weight: bold\">]</span> Dataset created in <span style=\"color: #800080; text-decoration-color: #800080\">/root/nilearn_data/</span><span style=\"color: #ff00ff; text-decoration-color: #ff00ff\">adhd</span>\n",
              "</pre>\n"
            ]
          },
          "metadata": {}
        },
        {
          "output_type": "display_data",
          "data": {
            "text/plain": [
              "\u001b[1;34m[\u001b[0m\u001b[34mfetch_single_file\u001b[0m\u001b[1;34m]\u001b[0m Downloading data from \u001b[4;94mhttps://www.nitrc.org/frs/download.php/7781/adhd40_metadata.tgz\u001b[0m \u001b[33m...\u001b[0m\n"
            ],
            "text/html": [
              "<pre style=\"white-space:pre;overflow-x:auto;line-height:normal;font-family:Menlo,'DejaVu Sans Mono',consolas,'Courier New',monospace\"><span style=\"color: #000080; text-decoration-color: #000080; font-weight: bold\">[</span><span style=\"color: #000080; text-decoration-color: #000080\">fetch_single_file</span><span style=\"color: #000080; text-decoration-color: #000080; font-weight: bold\">]</span> Downloading data from <span style=\"color: #0000ff; text-decoration-color: #0000ff; text-decoration: underline\">https://www.nitrc.org/frs/download.php/7781/adhd40_metadata.tgz</span> <span style=\"color: #808000; text-decoration-color: #808000\">...</span>\n",
              "</pre>\n"
            ]
          },
          "metadata": {}
        },
        {
          "output_type": "display_data",
          "data": {
            "text/plain": [
              "\u001b[1;34m[\u001b[0m\u001b[34mfetch_single_file\u001b[0m\u001b[1;34m]\u001b[0m  \u001b[33m...\u001b[0mdone. \u001b[1m(\u001b[0m\u001b[1;36m0\u001b[0m seconds, \u001b[1;36m0\u001b[0m min\u001b[1m)\u001b[0m\n",
              "\n"
            ],
            "text/html": [
              "<pre style=\"white-space:pre;overflow-x:auto;line-height:normal;font-family:Menlo,'DejaVu Sans Mono',consolas,'Courier New',monospace\"><span style=\"color: #000080; text-decoration-color: #000080; font-weight: bold\">[</span><span style=\"color: #000080; text-decoration-color: #000080\">fetch_single_file</span><span style=\"color: #000080; text-decoration-color: #000080; font-weight: bold\">]</span>  <span style=\"color: #808000; text-decoration-color: #808000\">...</span>done. <span style=\"font-weight: bold\">(</span><span style=\"color: #008080; text-decoration-color: #008080; font-weight: bold\">0</span> seconds, <span style=\"color: #008080; text-decoration-color: #008080; font-weight: bold\">0</span> min<span style=\"font-weight: bold\">)</span>\n",
              "\n",
              "</pre>\n"
            ]
          },
          "metadata": {}
        },
        {
          "output_type": "display_data",
          "data": {
            "text/plain": [
              "\u001b[1;34m[\u001b[0m\u001b[34muncompress_file\u001b[0m\u001b[1;34m]\u001b[0m Extracting data from \n",
              "\u001b[35m/root/nilearn_data/adhd/fbef5baff0b388a8c913a08e1d84e059/\u001b[0m\u001b[95madhd40_metadata.tgz...\u001b[0m\n"
            ],
            "text/html": [
              "<pre style=\"white-space:pre;overflow-x:auto;line-height:normal;font-family:Menlo,'DejaVu Sans Mono',consolas,'Courier New',monospace\"><span style=\"color: #000080; text-decoration-color: #000080; font-weight: bold\">[</span><span style=\"color: #000080; text-decoration-color: #000080\">uncompress_file</span><span style=\"color: #000080; text-decoration-color: #000080; font-weight: bold\">]</span> Extracting data from \n",
              "<span style=\"color: #800080; text-decoration-color: #800080\">/root/nilearn_data/adhd/fbef5baff0b388a8c913a08e1d84e059/</span><span style=\"color: #ff00ff; text-decoration-color: #ff00ff\">adhd40_metadata.tgz...</span>\n",
              "</pre>\n"
            ]
          },
          "metadata": {}
        },
        {
          "output_type": "display_data",
          "data": {
            "text/plain": [
              "\u001b[1;34m[\u001b[0m\u001b[34muncompress_file\u001b[0m\u001b[1;34m]\u001b[0m .. done.\n",
              "\n"
            ],
            "text/html": [
              "<pre style=\"white-space:pre;overflow-x:auto;line-height:normal;font-family:Menlo,'DejaVu Sans Mono',consolas,'Courier New',monospace\"><span style=\"color: #000080; text-decoration-color: #000080; font-weight: bold\">[</span><span style=\"color: #000080; text-decoration-color: #000080\">uncompress_file</span><span style=\"color: #000080; text-decoration-color: #000080; font-weight: bold\">]</span> .. done.\n",
              "\n",
              "</pre>\n"
            ]
          },
          "metadata": {}
        },
        {
          "output_type": "display_data",
          "data": {
            "text/plain": [
              "\u001b[1;34m[\u001b[0m\u001b[34mfetch_single_file\u001b[0m\u001b[1;34m]\u001b[0m Downloading data from \u001b[4;94mhttps://www.nitrc.org/frs/download.php/7782/adhd40_0010042.tgz\u001b[0m \u001b[33m...\u001b[0m\n"
            ],
            "text/html": [
              "<pre style=\"white-space:pre;overflow-x:auto;line-height:normal;font-family:Menlo,'DejaVu Sans Mono',consolas,'Courier New',monospace\"><span style=\"color: #000080; text-decoration-color: #000080; font-weight: bold\">[</span><span style=\"color: #000080; text-decoration-color: #000080\">fetch_single_file</span><span style=\"color: #000080; text-decoration-color: #000080; font-weight: bold\">]</span> Downloading data from <span style=\"color: #0000ff; text-decoration-color: #0000ff; text-decoration: underline\">https://www.nitrc.org/frs/download.php/7782/adhd40_0010042.tgz</span> <span style=\"color: #808000; text-decoration-color: #808000\">...</span>\n",
              "</pre>\n"
            ]
          },
          "metadata": {}
        },
        {
          "output_type": "display_data",
          "data": {
            "text/plain": [
              "\u001b[1;34m[\u001b[0m\u001b[34m_chunk_report_\u001b[0m\u001b[1;34m]\u001b[0m Downloaded \u001b[1;36m20299776\u001b[0m of \u001b[1;36m44414948\u001b[0m bytes \u001b[1m(\u001b[0m\u001b[1;36m45.7\u001b[0m%%,    \u001b[1;36m1.\u001b[0m2s remaining\u001b[1m)\u001b[0m\n"
            ],
            "text/html": [
              "<pre style=\"white-space:pre;overflow-x:auto;line-height:normal;font-family:Menlo,'DejaVu Sans Mono',consolas,'Courier New',monospace\"><span style=\"color: #000080; text-decoration-color: #000080; font-weight: bold\">[</span><span style=\"color: #000080; text-decoration-color: #000080\">_chunk_report_</span><span style=\"color: #000080; text-decoration-color: #000080; font-weight: bold\">]</span> Downloaded <span style=\"color: #008080; text-decoration-color: #008080; font-weight: bold\">20299776</span> of <span style=\"color: #008080; text-decoration-color: #008080; font-weight: bold\">44414948</span> bytes <span style=\"font-weight: bold\">(</span><span style=\"color: #008080; text-decoration-color: #008080; font-weight: bold\">45.7</span>%%,    <span style=\"color: #008080; text-decoration-color: #008080; font-weight: bold\">1.</span>2s remaining<span style=\"font-weight: bold\">)</span>\n",
              "</pre>\n"
            ]
          },
          "metadata": {}
        },
        {
          "output_type": "display_data",
          "data": {
            "text/plain": [
              "\u001b[1;34m[\u001b[0m\u001b[34mfetch_single_file\u001b[0m\u001b[1;34m]\u001b[0m  \u001b[33m...\u001b[0mdone. \u001b[1m(\u001b[0m\u001b[1;36m2\u001b[0m seconds, \u001b[1;36m0\u001b[0m min\u001b[1m)\u001b[0m\n",
              "\n"
            ],
            "text/html": [
              "<pre style=\"white-space:pre;overflow-x:auto;line-height:normal;font-family:Menlo,'DejaVu Sans Mono',consolas,'Courier New',monospace\"><span style=\"color: #000080; text-decoration-color: #000080; font-weight: bold\">[</span><span style=\"color: #000080; text-decoration-color: #000080\">fetch_single_file</span><span style=\"color: #000080; text-decoration-color: #000080; font-weight: bold\">]</span>  <span style=\"color: #808000; text-decoration-color: #808000\">...</span>done. <span style=\"font-weight: bold\">(</span><span style=\"color: #008080; text-decoration-color: #008080; font-weight: bold\">2</span> seconds, <span style=\"color: #008080; text-decoration-color: #008080; font-weight: bold\">0</span> min<span style=\"font-weight: bold\">)</span>\n",
              "\n",
              "</pre>\n"
            ]
          },
          "metadata": {}
        },
        {
          "output_type": "display_data",
          "data": {
            "text/plain": [
              "\u001b[1;34m[\u001b[0m\u001b[34muncompress_file\u001b[0m\u001b[1;34m]\u001b[0m Extracting data from \n",
              "\u001b[35m/root/nilearn_data/adhd/49718167d83b032094ad6d17e64b4e49/\u001b[0m\u001b[95madhd40_0010042.tgz...\u001b[0m\n"
            ],
            "text/html": [
              "<pre style=\"white-space:pre;overflow-x:auto;line-height:normal;font-family:Menlo,'DejaVu Sans Mono',consolas,'Courier New',monospace\"><span style=\"color: #000080; text-decoration-color: #000080; font-weight: bold\">[</span><span style=\"color: #000080; text-decoration-color: #000080\">uncompress_file</span><span style=\"color: #000080; text-decoration-color: #000080; font-weight: bold\">]</span> Extracting data from \n",
              "<span style=\"color: #800080; text-decoration-color: #800080\">/root/nilearn_data/adhd/49718167d83b032094ad6d17e64b4e49/</span><span style=\"color: #ff00ff; text-decoration-color: #ff00ff\">adhd40_0010042.tgz...</span>\n",
              "</pre>\n"
            ]
          },
          "metadata": {}
        },
        {
          "output_type": "display_data",
          "data": {
            "text/plain": [
              "\u001b[1;34m[\u001b[0m\u001b[34muncompress_file\u001b[0m\u001b[1;34m]\u001b[0m .. done.\n",
              "\n"
            ],
            "text/html": [
              "<pre style=\"white-space:pre;overflow-x:auto;line-height:normal;font-family:Menlo,'DejaVu Sans Mono',consolas,'Courier New',monospace\"><span style=\"color: #000080; text-decoration-color: #000080; font-weight: bold\">[</span><span style=\"color: #000080; text-decoration-color: #000080\">uncompress_file</span><span style=\"color: #000080; text-decoration-color: #000080; font-weight: bold\">]</span> .. done.\n",
              "\n",
              "</pre>\n"
            ]
          },
          "metadata": {}
        },
        {
          "output_type": "display_data",
          "data": {
            "text/plain": [
              "\u001b[1;34m[\u001b[0m\u001b[34mfetch_single_file\u001b[0m\u001b[1;34m]\u001b[0m Downloading data from \u001b[4;94mhttps://www.nitrc.org/frs/download.php/7783/adhd40_0010064.tgz\u001b[0m \u001b[33m...\u001b[0m\n"
            ],
            "text/html": [
              "<pre style=\"white-space:pre;overflow-x:auto;line-height:normal;font-family:Menlo,'DejaVu Sans Mono',consolas,'Courier New',monospace\"><span style=\"color: #000080; text-decoration-color: #000080; font-weight: bold\">[</span><span style=\"color: #000080; text-decoration-color: #000080\">fetch_single_file</span><span style=\"color: #000080; text-decoration-color: #000080; font-weight: bold\">]</span> Downloading data from <span style=\"color: #0000ff; text-decoration-color: #0000ff; text-decoration: underline\">https://www.nitrc.org/frs/download.php/7783/adhd40_0010064.tgz</span> <span style=\"color: #808000; text-decoration-color: #808000\">...</span>\n",
              "</pre>\n"
            ]
          },
          "metadata": {}
        },
        {
          "output_type": "display_data",
          "data": {
            "text/plain": [
              "\u001b[1;34m[\u001b[0m\u001b[34m_chunk_report_\u001b[0m\u001b[1;34m]\u001b[0m Downloaded \u001b[1;36m26116096\u001b[0m of \u001b[1;36m45583539\u001b[0m bytes \u001b[1m(\u001b[0m\u001b[1;36m57.3\u001b[0m%%,    \u001b[1;36m0.\u001b[0m7s remaining\u001b[1m)\u001b[0m\n"
            ],
            "text/html": [
              "<pre style=\"white-space:pre;overflow-x:auto;line-height:normal;font-family:Menlo,'DejaVu Sans Mono',consolas,'Courier New',monospace\"><span style=\"color: #000080; text-decoration-color: #000080; font-weight: bold\">[</span><span style=\"color: #000080; text-decoration-color: #000080\">_chunk_report_</span><span style=\"color: #000080; text-decoration-color: #000080; font-weight: bold\">]</span> Downloaded <span style=\"color: #008080; text-decoration-color: #008080; font-weight: bold\">26116096</span> of <span style=\"color: #008080; text-decoration-color: #008080; font-weight: bold\">45583539</span> bytes <span style=\"font-weight: bold\">(</span><span style=\"color: #008080; text-decoration-color: #008080; font-weight: bold\">57.3</span>%%,    <span style=\"color: #008080; text-decoration-color: #008080; font-weight: bold\">0.</span>7s remaining<span style=\"font-weight: bold\">)</span>\n",
              "</pre>\n"
            ]
          },
          "metadata": {}
        },
        {
          "output_type": "display_data",
          "data": {
            "text/plain": [
              "\u001b[1;34m[\u001b[0m\u001b[34mfetch_single_file\u001b[0m\u001b[1;34m]\u001b[0m  \u001b[33m...\u001b[0mdone. \u001b[1m(\u001b[0m\u001b[1;36m2\u001b[0m seconds, \u001b[1;36m0\u001b[0m min\u001b[1m)\u001b[0m\n",
              "\n"
            ],
            "text/html": [
              "<pre style=\"white-space:pre;overflow-x:auto;line-height:normal;font-family:Menlo,'DejaVu Sans Mono',consolas,'Courier New',monospace\"><span style=\"color: #000080; text-decoration-color: #000080; font-weight: bold\">[</span><span style=\"color: #000080; text-decoration-color: #000080\">fetch_single_file</span><span style=\"color: #000080; text-decoration-color: #000080; font-weight: bold\">]</span>  <span style=\"color: #808000; text-decoration-color: #808000\">...</span>done. <span style=\"font-weight: bold\">(</span><span style=\"color: #008080; text-decoration-color: #008080; font-weight: bold\">2</span> seconds, <span style=\"color: #008080; text-decoration-color: #008080; font-weight: bold\">0</span> min<span style=\"font-weight: bold\">)</span>\n",
              "\n",
              "</pre>\n"
            ]
          },
          "metadata": {}
        },
        {
          "output_type": "display_data",
          "data": {
            "text/plain": [
              "\u001b[1;34m[\u001b[0m\u001b[34muncompress_file\u001b[0m\u001b[1;34m]\u001b[0m Extracting data from \n",
              "\u001b[35m/root/nilearn_data/adhd/49718167d83b032094ad6d17e64b4e49/\u001b[0m\u001b[95madhd40_0010064.tgz...\u001b[0m\n"
            ],
            "text/html": [
              "<pre style=\"white-space:pre;overflow-x:auto;line-height:normal;font-family:Menlo,'DejaVu Sans Mono',consolas,'Courier New',monospace\"><span style=\"color: #000080; text-decoration-color: #000080; font-weight: bold\">[</span><span style=\"color: #000080; text-decoration-color: #000080\">uncompress_file</span><span style=\"color: #000080; text-decoration-color: #000080; font-weight: bold\">]</span> Extracting data from \n",
              "<span style=\"color: #800080; text-decoration-color: #800080\">/root/nilearn_data/adhd/49718167d83b032094ad6d17e64b4e49/</span><span style=\"color: #ff00ff; text-decoration-color: #ff00ff\">adhd40_0010064.tgz...</span>\n",
              "</pre>\n"
            ]
          },
          "metadata": {}
        },
        {
          "output_type": "display_data",
          "data": {
            "text/plain": [
              "\u001b[1;34m[\u001b[0m\u001b[34muncompress_file\u001b[0m\u001b[1;34m]\u001b[0m .. done.\n",
              "\n"
            ],
            "text/html": [
              "<pre style=\"white-space:pre;overflow-x:auto;line-height:normal;font-family:Menlo,'DejaVu Sans Mono',consolas,'Courier New',monospace\"><span style=\"color: #000080; text-decoration-color: #000080; font-weight: bold\">[</span><span style=\"color: #000080; text-decoration-color: #000080\">uncompress_file</span><span style=\"color: #000080; text-decoration-color: #000080; font-weight: bold\">]</span> .. done.\n",
              "\n",
              "</pre>\n"
            ]
          },
          "metadata": {}
        },
        {
          "output_type": "display_data",
          "data": {
            "text/plain": [
              "\u001b[1;34m[\u001b[0m\u001b[34mfetch_single_file\u001b[0m\u001b[1;34m]\u001b[0m Downloading data from \u001b[4;94mhttps://www.nitrc.org/frs/download.php/7784/adhd40_0010128.tgz\u001b[0m \u001b[33m...\u001b[0m\n"
            ],
            "text/html": [
              "<pre style=\"white-space:pre;overflow-x:auto;line-height:normal;font-family:Menlo,'DejaVu Sans Mono',consolas,'Courier New',monospace\"><span style=\"color: #000080; text-decoration-color: #000080; font-weight: bold\">[</span><span style=\"color: #000080; text-decoration-color: #000080\">fetch_single_file</span><span style=\"color: #000080; text-decoration-color: #000080; font-weight: bold\">]</span> Downloading data from <span style=\"color: #0000ff; text-decoration-color: #0000ff; text-decoration: underline\">https://www.nitrc.org/frs/download.php/7784/adhd40_0010128.tgz</span> <span style=\"color: #808000; text-decoration-color: #808000\">...</span>\n",
              "</pre>\n"
            ]
          },
          "metadata": {}
        },
        {
          "output_type": "display_data",
          "data": {
            "text/plain": [
              "\u001b[1;34m[\u001b[0m\u001b[34m_chunk_report_\u001b[0m\u001b[1;34m]\u001b[0m Downloaded \u001b[1;36m28164096\u001b[0m of \u001b[1;36m45461055\u001b[0m bytes \u001b[1m(\u001b[0m\u001b[1;36m62.0\u001b[0m%%,    \u001b[1;36m0.\u001b[0m6s remaining\u001b[1m)\u001b[0m\n"
            ],
            "text/html": [
              "<pre style=\"white-space:pre;overflow-x:auto;line-height:normal;font-family:Menlo,'DejaVu Sans Mono',consolas,'Courier New',monospace\"><span style=\"color: #000080; text-decoration-color: #000080; font-weight: bold\">[</span><span style=\"color: #000080; text-decoration-color: #000080\">_chunk_report_</span><span style=\"color: #000080; text-decoration-color: #000080; font-weight: bold\">]</span> Downloaded <span style=\"color: #008080; text-decoration-color: #008080; font-weight: bold\">28164096</span> of <span style=\"color: #008080; text-decoration-color: #008080; font-weight: bold\">45461055</span> bytes <span style=\"font-weight: bold\">(</span><span style=\"color: #008080; text-decoration-color: #008080; font-weight: bold\">62.0</span>%%,    <span style=\"color: #008080; text-decoration-color: #008080; font-weight: bold\">0.</span>6s remaining<span style=\"font-weight: bold\">)</span>\n",
              "</pre>\n"
            ]
          },
          "metadata": {}
        },
        {
          "output_type": "display_data",
          "data": {
            "text/plain": [
              "\u001b[1;34m[\u001b[0m\u001b[34mfetch_single_file\u001b[0m\u001b[1;34m]\u001b[0m  \u001b[33m...\u001b[0mdone. \u001b[1m(\u001b[0m\u001b[1;36m2\u001b[0m seconds, \u001b[1;36m0\u001b[0m min\u001b[1m)\u001b[0m\n",
              "\n"
            ],
            "text/html": [
              "<pre style=\"white-space:pre;overflow-x:auto;line-height:normal;font-family:Menlo,'DejaVu Sans Mono',consolas,'Courier New',monospace\"><span style=\"color: #000080; text-decoration-color: #000080; font-weight: bold\">[</span><span style=\"color: #000080; text-decoration-color: #000080\">fetch_single_file</span><span style=\"color: #000080; text-decoration-color: #000080; font-weight: bold\">]</span>  <span style=\"color: #808000; text-decoration-color: #808000\">...</span>done. <span style=\"font-weight: bold\">(</span><span style=\"color: #008080; text-decoration-color: #008080; font-weight: bold\">2</span> seconds, <span style=\"color: #008080; text-decoration-color: #008080; font-weight: bold\">0</span> min<span style=\"font-weight: bold\">)</span>\n",
              "\n",
              "</pre>\n"
            ]
          },
          "metadata": {}
        },
        {
          "output_type": "display_data",
          "data": {
            "text/plain": [
              "\u001b[1;34m[\u001b[0m\u001b[34muncompress_file\u001b[0m\u001b[1;34m]\u001b[0m Extracting data from \n",
              "\u001b[35m/root/nilearn_data/adhd/49718167d83b032094ad6d17e64b4e49/\u001b[0m\u001b[95madhd40_0010128.tgz...\u001b[0m\n"
            ],
            "text/html": [
              "<pre style=\"white-space:pre;overflow-x:auto;line-height:normal;font-family:Menlo,'DejaVu Sans Mono',consolas,'Courier New',monospace\"><span style=\"color: #000080; text-decoration-color: #000080; font-weight: bold\">[</span><span style=\"color: #000080; text-decoration-color: #000080\">uncompress_file</span><span style=\"color: #000080; text-decoration-color: #000080; font-weight: bold\">]</span> Extracting data from \n",
              "<span style=\"color: #800080; text-decoration-color: #800080\">/root/nilearn_data/adhd/49718167d83b032094ad6d17e64b4e49/</span><span style=\"color: #ff00ff; text-decoration-color: #ff00ff\">adhd40_0010128.tgz...</span>\n",
              "</pre>\n"
            ]
          },
          "metadata": {}
        },
        {
          "output_type": "display_data",
          "data": {
            "text/plain": [
              "\u001b[1;34m[\u001b[0m\u001b[34muncompress_file\u001b[0m\u001b[1;34m]\u001b[0m .. done.\n",
              "\n"
            ],
            "text/html": [
              "<pre style=\"white-space:pre;overflow-x:auto;line-height:normal;font-family:Menlo,'DejaVu Sans Mono',consolas,'Courier New',monospace\"><span style=\"color: #000080; text-decoration-color: #000080; font-weight: bold\">[</span><span style=\"color: #000080; text-decoration-color: #000080\">uncompress_file</span><span style=\"color: #000080; text-decoration-color: #000080; font-weight: bold\">]</span> .. done.\n",
              "\n",
              "</pre>\n"
            ]
          },
          "metadata": {}
        },
        {
          "output_type": "display_data",
          "data": {
            "text/plain": [
              "\u001b[1;34m[\u001b[0m\u001b[34mfetch_single_file\u001b[0m\u001b[1;34m]\u001b[0m Downloading data from \u001b[4;94mhttps://www.nitrc.org/frs/download.php/7785/adhd40_0021019.tgz\u001b[0m \u001b[33m...\u001b[0m\n"
            ],
            "text/html": [
              "<pre style=\"white-space:pre;overflow-x:auto;line-height:normal;font-family:Menlo,'DejaVu Sans Mono',consolas,'Courier New',monospace\"><span style=\"color: #000080; text-decoration-color: #000080; font-weight: bold\">[</span><span style=\"color: #000080; text-decoration-color: #000080\">fetch_single_file</span><span style=\"color: #000080; text-decoration-color: #000080; font-weight: bold\">]</span> Downloading data from <span style=\"color: #0000ff; text-decoration-color: #0000ff; text-decoration: underline\">https://www.nitrc.org/frs/download.php/7785/adhd40_0021019.tgz</span> <span style=\"color: #808000; text-decoration-color: #808000\">...</span>\n",
              "</pre>\n"
            ]
          },
          "metadata": {}
        },
        {
          "output_type": "display_data",
          "data": {
            "text/plain": [
              "\u001b[1;34m[\u001b[0m\u001b[34m_chunk_report_\u001b[0m\u001b[1;34m]\u001b[0m Downloaded \u001b[1;36m28033024\u001b[0m of \u001b[1;36m46216320\u001b[0m bytes \u001b[1m(\u001b[0m\u001b[1;36m60.7\u001b[0m%%,    \u001b[1;36m0.\u001b[0m7s remaining\u001b[1m)\u001b[0m\n"
            ],
            "text/html": [
              "<pre style=\"white-space:pre;overflow-x:auto;line-height:normal;font-family:Menlo,'DejaVu Sans Mono',consolas,'Courier New',monospace\"><span style=\"color: #000080; text-decoration-color: #000080; font-weight: bold\">[</span><span style=\"color: #000080; text-decoration-color: #000080\">_chunk_report_</span><span style=\"color: #000080; text-decoration-color: #000080; font-weight: bold\">]</span> Downloaded <span style=\"color: #008080; text-decoration-color: #008080; font-weight: bold\">28033024</span> of <span style=\"color: #008080; text-decoration-color: #008080; font-weight: bold\">46216320</span> bytes <span style=\"font-weight: bold\">(</span><span style=\"color: #008080; text-decoration-color: #008080; font-weight: bold\">60.7</span>%%,    <span style=\"color: #008080; text-decoration-color: #008080; font-weight: bold\">0.</span>7s remaining<span style=\"font-weight: bold\">)</span>\n",
              "</pre>\n"
            ]
          },
          "metadata": {}
        },
        {
          "output_type": "display_data",
          "data": {
            "text/plain": [
              "\u001b[1;34m[\u001b[0m\u001b[34mfetch_single_file\u001b[0m\u001b[1;34m]\u001b[0m  \u001b[33m...\u001b[0mdone. \u001b[1m(\u001b[0m\u001b[1;36m2\u001b[0m seconds, \u001b[1;36m0\u001b[0m min\u001b[1m)\u001b[0m\n",
              "\n"
            ],
            "text/html": [
              "<pre style=\"white-space:pre;overflow-x:auto;line-height:normal;font-family:Menlo,'DejaVu Sans Mono',consolas,'Courier New',monospace\"><span style=\"color: #000080; text-decoration-color: #000080; font-weight: bold\">[</span><span style=\"color: #000080; text-decoration-color: #000080\">fetch_single_file</span><span style=\"color: #000080; text-decoration-color: #000080; font-weight: bold\">]</span>  <span style=\"color: #808000; text-decoration-color: #808000\">...</span>done. <span style=\"font-weight: bold\">(</span><span style=\"color: #008080; text-decoration-color: #008080; font-weight: bold\">2</span> seconds, <span style=\"color: #008080; text-decoration-color: #008080; font-weight: bold\">0</span> min<span style=\"font-weight: bold\">)</span>\n",
              "\n",
              "</pre>\n"
            ]
          },
          "metadata": {}
        },
        {
          "output_type": "display_data",
          "data": {
            "text/plain": [
              "\u001b[1;34m[\u001b[0m\u001b[34muncompress_file\u001b[0m\u001b[1;34m]\u001b[0m Extracting data from \n",
              "\u001b[35m/root/nilearn_data/adhd/49718167d83b032094ad6d17e64b4e49/\u001b[0m\u001b[95madhd40_0021019.tgz...\u001b[0m\n"
            ],
            "text/html": [
              "<pre style=\"white-space:pre;overflow-x:auto;line-height:normal;font-family:Menlo,'DejaVu Sans Mono',consolas,'Courier New',monospace\"><span style=\"color: #000080; text-decoration-color: #000080; font-weight: bold\">[</span><span style=\"color: #000080; text-decoration-color: #000080\">uncompress_file</span><span style=\"color: #000080; text-decoration-color: #000080; font-weight: bold\">]</span> Extracting data from \n",
              "<span style=\"color: #800080; text-decoration-color: #800080\">/root/nilearn_data/adhd/49718167d83b032094ad6d17e64b4e49/</span><span style=\"color: #ff00ff; text-decoration-color: #ff00ff\">adhd40_0021019.tgz...</span>\n",
              "</pre>\n"
            ]
          },
          "metadata": {}
        },
        {
          "output_type": "display_data",
          "data": {
            "text/plain": [
              "\u001b[1;34m[\u001b[0m\u001b[34muncompress_file\u001b[0m\u001b[1;34m]\u001b[0m .. done.\n",
              "\n"
            ],
            "text/html": [
              "<pre style=\"white-space:pre;overflow-x:auto;line-height:normal;font-family:Menlo,'DejaVu Sans Mono',consolas,'Courier New',monospace\"><span style=\"color: #000080; text-decoration-color: #000080; font-weight: bold\">[</span><span style=\"color: #000080; text-decoration-color: #000080\">uncompress_file</span><span style=\"color: #000080; text-decoration-color: #000080; font-weight: bold\">]</span> .. done.\n",
              "\n",
              "</pre>\n"
            ]
          },
          "metadata": {}
        },
        {
          "output_type": "display_data",
          "data": {
            "text/plain": [
              "\u001b[1;34m[\u001b[0m\u001b[34mfetch_single_file\u001b[0m\u001b[1;34m]\u001b[0m Downloading data from \u001b[4;94mhttps://www.nitrc.org/frs/download.php/7786/adhd40_0023008.tgz\u001b[0m \u001b[33m...\u001b[0m\n"
            ],
            "text/html": [
              "<pre style=\"white-space:pre;overflow-x:auto;line-height:normal;font-family:Menlo,'DejaVu Sans Mono',consolas,'Courier New',monospace\"><span style=\"color: #000080; text-decoration-color: #000080; font-weight: bold\">[</span><span style=\"color: #000080; text-decoration-color: #000080\">fetch_single_file</span><span style=\"color: #000080; text-decoration-color: #000080; font-weight: bold\">]</span> Downloading data from <span style=\"color: #0000ff; text-decoration-color: #0000ff; text-decoration: underline\">https://www.nitrc.org/frs/download.php/7786/adhd40_0023008.tgz</span> <span style=\"color: #808000; text-decoration-color: #808000\">...</span>\n",
              "</pre>\n"
            ]
          },
          "metadata": {}
        },
        {
          "output_type": "display_data",
          "data": {
            "text/plain": [
              "\u001b[1;34m[\u001b[0m\u001b[34mfetch_single_file\u001b[0m\u001b[1;34m]\u001b[0m  \u001b[33m...\u001b[0mdone. \u001b[1m(\u001b[0m\u001b[1;36m1\u001b[0m seconds, \u001b[1;36m0\u001b[0m min\u001b[1m)\u001b[0m\n",
              "\n"
            ],
            "text/html": [
              "<pre style=\"white-space:pre;overflow-x:auto;line-height:normal;font-family:Menlo,'DejaVu Sans Mono',consolas,'Courier New',monospace\"><span style=\"color: #000080; text-decoration-color: #000080; font-weight: bold\">[</span><span style=\"color: #000080; text-decoration-color: #000080\">fetch_single_file</span><span style=\"color: #000080; text-decoration-color: #000080; font-weight: bold\">]</span>  <span style=\"color: #808000; text-decoration-color: #808000\">...</span>done. <span style=\"font-weight: bold\">(</span><span style=\"color: #008080; text-decoration-color: #008080; font-weight: bold\">1</span> seconds, <span style=\"color: #008080; text-decoration-color: #008080; font-weight: bold\">0</span> min<span style=\"font-weight: bold\">)</span>\n",
              "\n",
              "</pre>\n"
            ]
          },
          "metadata": {}
        },
        {
          "output_type": "display_data",
          "data": {
            "text/plain": [
              "\u001b[1;34m[\u001b[0m\u001b[34muncompress_file\u001b[0m\u001b[1;34m]\u001b[0m Extracting data from \n",
              "\u001b[35m/root/nilearn_data/adhd/49718167d83b032094ad6d17e64b4e49/\u001b[0m\u001b[95madhd40_0023008.tgz...\u001b[0m\n"
            ],
            "text/html": [
              "<pre style=\"white-space:pre;overflow-x:auto;line-height:normal;font-family:Menlo,'DejaVu Sans Mono',consolas,'Courier New',monospace\"><span style=\"color: #000080; text-decoration-color: #000080; font-weight: bold\">[</span><span style=\"color: #000080; text-decoration-color: #000080\">uncompress_file</span><span style=\"color: #000080; text-decoration-color: #000080; font-weight: bold\">]</span> Extracting data from \n",
              "<span style=\"color: #800080; text-decoration-color: #800080\">/root/nilearn_data/adhd/49718167d83b032094ad6d17e64b4e49/</span><span style=\"color: #ff00ff; text-decoration-color: #ff00ff\">adhd40_0023008.tgz...</span>\n",
              "</pre>\n"
            ]
          },
          "metadata": {}
        },
        {
          "output_type": "display_data",
          "data": {
            "text/plain": [
              "\u001b[1;34m[\u001b[0m\u001b[34muncompress_file\u001b[0m\u001b[1;34m]\u001b[0m .. done.\n",
              "\n"
            ],
            "text/html": [
              "<pre style=\"white-space:pre;overflow-x:auto;line-height:normal;font-family:Menlo,'DejaVu Sans Mono',consolas,'Courier New',monospace\"><span style=\"color: #000080; text-decoration-color: #000080; font-weight: bold\">[</span><span style=\"color: #000080; text-decoration-color: #000080\">uncompress_file</span><span style=\"color: #000080; text-decoration-color: #000080; font-weight: bold\">]</span> .. done.\n",
              "\n",
              "</pre>\n"
            ]
          },
          "metadata": {}
        },
        {
          "output_type": "display_data",
          "data": {
            "text/plain": [
              "\u001b[1;34m[\u001b[0m\u001b[34mfetch_single_file\u001b[0m\u001b[1;34m]\u001b[0m Downloading data from \u001b[4;94mhttps://www.nitrc.org/frs/download.php/7787/adhd40_0023012.tgz\u001b[0m \u001b[33m...\u001b[0m\n"
            ],
            "text/html": [
              "<pre style=\"white-space:pre;overflow-x:auto;line-height:normal;font-family:Menlo,'DejaVu Sans Mono',consolas,'Courier New',monospace\"><span style=\"color: #000080; text-decoration-color: #000080; font-weight: bold\">[</span><span style=\"color: #000080; text-decoration-color: #000080\">fetch_single_file</span><span style=\"color: #000080; text-decoration-color: #000080; font-weight: bold\">]</span> Downloading data from <span style=\"color: #0000ff; text-decoration-color: #0000ff; text-decoration: underline\">https://www.nitrc.org/frs/download.php/7787/adhd40_0023012.tgz</span> <span style=\"color: #808000; text-decoration-color: #808000\">...</span>\n",
              "</pre>\n"
            ]
          },
          "metadata": {}
        },
        {
          "output_type": "display_data",
          "data": {
            "text/plain": [
              "\u001b[1;34m[\u001b[0m\u001b[34mfetch_single_file\u001b[0m\u001b[1;34m]\u001b[0m  \u001b[33m...\u001b[0mdone. \u001b[1m(\u001b[0m\u001b[1;36m1\u001b[0m seconds, \u001b[1;36m0\u001b[0m min\u001b[1m)\u001b[0m\n",
              "\n"
            ],
            "text/html": [
              "<pre style=\"white-space:pre;overflow-x:auto;line-height:normal;font-family:Menlo,'DejaVu Sans Mono',consolas,'Courier New',monospace\"><span style=\"color: #000080; text-decoration-color: #000080; font-weight: bold\">[</span><span style=\"color: #000080; text-decoration-color: #000080\">fetch_single_file</span><span style=\"color: #000080; text-decoration-color: #000080; font-weight: bold\">]</span>  <span style=\"color: #808000; text-decoration-color: #808000\">...</span>done. <span style=\"font-weight: bold\">(</span><span style=\"color: #008080; text-decoration-color: #008080; font-weight: bold\">1</span> seconds, <span style=\"color: #008080; text-decoration-color: #008080; font-weight: bold\">0</span> min<span style=\"font-weight: bold\">)</span>\n",
              "\n",
              "</pre>\n"
            ]
          },
          "metadata": {}
        },
        {
          "output_type": "display_data",
          "data": {
            "text/plain": [
              "\u001b[1;34m[\u001b[0m\u001b[34muncompress_file\u001b[0m\u001b[1;34m]\u001b[0m Extracting data from \n",
              "\u001b[35m/root/nilearn_data/adhd/49718167d83b032094ad6d17e64b4e49/\u001b[0m\u001b[95madhd40_0023012.tgz...\u001b[0m\n"
            ],
            "text/html": [
              "<pre style=\"white-space:pre;overflow-x:auto;line-height:normal;font-family:Menlo,'DejaVu Sans Mono',consolas,'Courier New',monospace\"><span style=\"color: #000080; text-decoration-color: #000080; font-weight: bold\">[</span><span style=\"color: #000080; text-decoration-color: #000080\">uncompress_file</span><span style=\"color: #000080; text-decoration-color: #000080; font-weight: bold\">]</span> Extracting data from \n",
              "<span style=\"color: #800080; text-decoration-color: #800080\">/root/nilearn_data/adhd/49718167d83b032094ad6d17e64b4e49/</span><span style=\"color: #ff00ff; text-decoration-color: #ff00ff\">adhd40_0023012.tgz...</span>\n",
              "</pre>\n"
            ]
          },
          "metadata": {}
        },
        {
          "output_type": "display_data",
          "data": {
            "text/plain": [
              "\u001b[1;34m[\u001b[0m\u001b[34muncompress_file\u001b[0m\u001b[1;34m]\u001b[0m .. done.\n",
              "\n"
            ],
            "text/html": [
              "<pre style=\"white-space:pre;overflow-x:auto;line-height:normal;font-family:Menlo,'DejaVu Sans Mono',consolas,'Courier New',monospace\"><span style=\"color: #000080; text-decoration-color: #000080; font-weight: bold\">[</span><span style=\"color: #000080; text-decoration-color: #000080\">uncompress_file</span><span style=\"color: #000080; text-decoration-color: #000080; font-weight: bold\">]</span> .. done.\n",
              "\n",
              "</pre>\n"
            ]
          },
          "metadata": {}
        },
        {
          "output_type": "display_data",
          "data": {
            "text/plain": [
              "\u001b[1;34m[\u001b[0m\u001b[34mfetch_single_file\u001b[0m\u001b[1;34m]\u001b[0m Downloading data from \u001b[4;94mhttps://www.nitrc.org/frs/download.php/7788/adhd40_0027011.tgz\u001b[0m \u001b[33m...\u001b[0m\n"
            ],
            "text/html": [
              "<pre style=\"white-space:pre;overflow-x:auto;line-height:normal;font-family:Menlo,'DejaVu Sans Mono',consolas,'Courier New',monospace\"><span style=\"color: #000080; text-decoration-color: #000080; font-weight: bold\">[</span><span style=\"color: #000080; text-decoration-color: #000080\">fetch_single_file</span><span style=\"color: #000080; text-decoration-color: #000080; font-weight: bold\">]</span> Downloading data from <span style=\"color: #0000ff; text-decoration-color: #0000ff; text-decoration: underline\">https://www.nitrc.org/frs/download.php/7788/adhd40_0027011.tgz</span> <span style=\"color: #808000; text-decoration-color: #808000\">...</span>\n",
              "</pre>\n"
            ]
          },
          "metadata": {}
        },
        {
          "output_type": "display_data",
          "data": {
            "text/plain": [
              "\u001b[1;34m[\u001b[0m\u001b[34m_chunk_report_\u001b[0m\u001b[1;34m]\u001b[0m Downloaded \u001b[1;36m28803072\u001b[0m of \u001b[1;36m72402326\u001b[0m bytes \u001b[1m(\u001b[0m\u001b[1;36m39.8\u001b[0m%%,    \u001b[1;36m1.\u001b[0m5s remaining\u001b[1m)\u001b[0m\n"
            ],
            "text/html": [
              "<pre style=\"white-space:pre;overflow-x:auto;line-height:normal;font-family:Menlo,'DejaVu Sans Mono',consolas,'Courier New',monospace\"><span style=\"color: #000080; text-decoration-color: #000080; font-weight: bold\">[</span><span style=\"color: #000080; text-decoration-color: #000080\">_chunk_report_</span><span style=\"color: #000080; text-decoration-color: #000080; font-weight: bold\">]</span> Downloaded <span style=\"color: #008080; text-decoration-color: #008080; font-weight: bold\">28803072</span> of <span style=\"color: #008080; text-decoration-color: #008080; font-weight: bold\">72402326</span> bytes <span style=\"font-weight: bold\">(</span><span style=\"color: #008080; text-decoration-color: #008080; font-weight: bold\">39.8</span>%%,    <span style=\"color: #008080; text-decoration-color: #008080; font-weight: bold\">1.</span>5s remaining<span style=\"font-weight: bold\">)</span>\n",
              "</pre>\n"
            ]
          },
          "metadata": {}
        },
        {
          "output_type": "display_data",
          "data": {
            "text/plain": [
              "\u001b[1;34m[\u001b[0m\u001b[34m_chunk_report_\u001b[0m\u001b[1;34m]\u001b[0m Downloaded \u001b[1;36m57655296\u001b[0m of \u001b[1;36m72402326\u001b[0m bytes \u001b[1m(\u001b[0m\u001b[1;36m79.6\u001b[0m%%,    \u001b[1;36m0.\u001b[0m5s remaining\u001b[1m)\u001b[0m\n"
            ],
            "text/html": [
              "<pre style=\"white-space:pre;overflow-x:auto;line-height:normal;font-family:Menlo,'DejaVu Sans Mono',consolas,'Courier New',monospace\"><span style=\"color: #000080; text-decoration-color: #000080; font-weight: bold\">[</span><span style=\"color: #000080; text-decoration-color: #000080\">_chunk_report_</span><span style=\"color: #000080; text-decoration-color: #000080; font-weight: bold\">]</span> Downloaded <span style=\"color: #008080; text-decoration-color: #008080; font-weight: bold\">57655296</span> of <span style=\"color: #008080; text-decoration-color: #008080; font-weight: bold\">72402326</span> bytes <span style=\"font-weight: bold\">(</span><span style=\"color: #008080; text-decoration-color: #008080; font-weight: bold\">79.6</span>%%,    <span style=\"color: #008080; text-decoration-color: #008080; font-weight: bold\">0.</span>5s remaining<span style=\"font-weight: bold\">)</span>\n",
              "</pre>\n"
            ]
          },
          "metadata": {}
        },
        {
          "output_type": "display_data",
          "data": {
            "text/plain": [
              "\u001b[1;34m[\u001b[0m\u001b[34mfetch_single_file\u001b[0m\u001b[1;34m]\u001b[0m  \u001b[33m...\u001b[0mdone. \u001b[1m(\u001b[0m\u001b[1;36m3\u001b[0m seconds, \u001b[1;36m0\u001b[0m min\u001b[1m)\u001b[0m\n",
              "\n"
            ],
            "text/html": [
              "<pre style=\"white-space:pre;overflow-x:auto;line-height:normal;font-family:Menlo,'DejaVu Sans Mono',consolas,'Courier New',monospace\"><span style=\"color: #000080; text-decoration-color: #000080; font-weight: bold\">[</span><span style=\"color: #000080; text-decoration-color: #000080\">fetch_single_file</span><span style=\"color: #000080; text-decoration-color: #000080; font-weight: bold\">]</span>  <span style=\"color: #808000; text-decoration-color: #808000\">...</span>done. <span style=\"font-weight: bold\">(</span><span style=\"color: #008080; text-decoration-color: #008080; font-weight: bold\">3</span> seconds, <span style=\"color: #008080; text-decoration-color: #008080; font-weight: bold\">0</span> min<span style=\"font-weight: bold\">)</span>\n",
              "\n",
              "</pre>\n"
            ]
          },
          "metadata": {}
        },
        {
          "output_type": "display_data",
          "data": {
            "text/plain": [
              "\u001b[1;34m[\u001b[0m\u001b[34muncompress_file\u001b[0m\u001b[1;34m]\u001b[0m Extracting data from \n",
              "\u001b[35m/root/nilearn_data/adhd/49718167d83b032094ad6d17e64b4e49/\u001b[0m\u001b[95madhd40_0027011.tgz...\u001b[0m\n"
            ],
            "text/html": [
              "<pre style=\"white-space:pre;overflow-x:auto;line-height:normal;font-family:Menlo,'DejaVu Sans Mono',consolas,'Courier New',monospace\"><span style=\"color: #000080; text-decoration-color: #000080; font-weight: bold\">[</span><span style=\"color: #000080; text-decoration-color: #000080\">uncompress_file</span><span style=\"color: #000080; text-decoration-color: #000080; font-weight: bold\">]</span> Extracting data from \n",
              "<span style=\"color: #800080; text-decoration-color: #800080\">/root/nilearn_data/adhd/49718167d83b032094ad6d17e64b4e49/</span><span style=\"color: #ff00ff; text-decoration-color: #ff00ff\">adhd40_0027011.tgz...</span>\n",
              "</pre>\n"
            ]
          },
          "metadata": {}
        },
        {
          "output_type": "display_data",
          "data": {
            "text/plain": [
              "\u001b[1;34m[\u001b[0m\u001b[34muncompress_file\u001b[0m\u001b[1;34m]\u001b[0m .. done.\n",
              "\n"
            ],
            "text/html": [
              "<pre style=\"white-space:pre;overflow-x:auto;line-height:normal;font-family:Menlo,'DejaVu Sans Mono',consolas,'Courier New',monospace\"><span style=\"color: #000080; text-decoration-color: #000080; font-weight: bold\">[</span><span style=\"color: #000080; text-decoration-color: #000080\">uncompress_file</span><span style=\"color: #000080; text-decoration-color: #000080; font-weight: bold\">]</span> .. done.\n",
              "\n",
              "</pre>\n"
            ]
          },
          "metadata": {}
        },
        {
          "output_type": "display_data",
          "data": {
            "text/plain": [
              "\u001b[1;34m[\u001b[0m\u001b[34mfetch_single_file\u001b[0m\u001b[1;34m]\u001b[0m Downloading data from \u001b[4;94mhttps://www.nitrc.org/frs/download.php/7789/adhd40_0027018.tgz\u001b[0m \u001b[33m...\u001b[0m\n"
            ],
            "text/html": [
              "<pre style=\"white-space:pre;overflow-x:auto;line-height:normal;font-family:Menlo,'DejaVu Sans Mono',consolas,'Courier New',monospace\"><span style=\"color: #000080; text-decoration-color: #000080; font-weight: bold\">[</span><span style=\"color: #000080; text-decoration-color: #000080\">fetch_single_file</span><span style=\"color: #000080; text-decoration-color: #000080; font-weight: bold\">]</span> Downloading data from <span style=\"color: #0000ff; text-decoration-color: #0000ff; text-decoration: underline\">https://www.nitrc.org/frs/download.php/7789/adhd40_0027018.tgz</span> <span style=\"color: #808000; text-decoration-color: #808000\">...</span>\n",
              "</pre>\n"
            ]
          },
          "metadata": {}
        },
        {
          "output_type": "display_data",
          "data": {
            "text/plain": [
              "\u001b[1;34m[\u001b[0m\u001b[34m_chunk_report_\u001b[0m\u001b[1;34m]\u001b[0m Downloaded \u001b[1;36m28426240\u001b[0m of \u001b[1;36m76184603\u001b[0m bytes \u001b[1m(\u001b[0m\u001b[1;36m37.3\u001b[0m%%,    \u001b[1;36m1.\u001b[0m7s remaining\u001b[1m)\u001b[0m\n"
            ],
            "text/html": [
              "<pre style=\"white-space:pre;overflow-x:auto;line-height:normal;font-family:Menlo,'DejaVu Sans Mono',consolas,'Courier New',monospace\"><span style=\"color: #000080; text-decoration-color: #000080; font-weight: bold\">[</span><span style=\"color: #000080; text-decoration-color: #000080\">_chunk_report_</span><span style=\"color: #000080; text-decoration-color: #000080; font-weight: bold\">]</span> Downloaded <span style=\"color: #008080; text-decoration-color: #008080; font-weight: bold\">28426240</span> of <span style=\"color: #008080; text-decoration-color: #008080; font-weight: bold\">76184603</span> bytes <span style=\"font-weight: bold\">(</span><span style=\"color: #008080; text-decoration-color: #008080; font-weight: bold\">37.3</span>%%,    <span style=\"color: #008080; text-decoration-color: #008080; font-weight: bold\">1.</span>7s remaining<span style=\"font-weight: bold\">)</span>\n",
              "</pre>\n"
            ]
          },
          "metadata": {}
        },
        {
          "output_type": "display_data",
          "data": {
            "text/plain": [
              "\u001b[1;34m[\u001b[0m\u001b[34m_chunk_report_\u001b[0m\u001b[1;34m]\u001b[0m Downloaded \u001b[1;36m57384960\u001b[0m of \u001b[1;36m76184603\u001b[0m bytes \u001b[1m(\u001b[0m\u001b[1;36m75.3\u001b[0m%%,    \u001b[1;36m0.\u001b[0m7s remaining\u001b[1m)\u001b[0m\n"
            ],
            "text/html": [
              "<pre style=\"white-space:pre;overflow-x:auto;line-height:normal;font-family:Menlo,'DejaVu Sans Mono',consolas,'Courier New',monospace\"><span style=\"color: #000080; text-decoration-color: #000080; font-weight: bold\">[</span><span style=\"color: #000080; text-decoration-color: #000080\">_chunk_report_</span><span style=\"color: #000080; text-decoration-color: #000080; font-weight: bold\">]</span> Downloaded <span style=\"color: #008080; text-decoration-color: #008080; font-weight: bold\">57384960</span> of <span style=\"color: #008080; text-decoration-color: #008080; font-weight: bold\">76184603</span> bytes <span style=\"font-weight: bold\">(</span><span style=\"color: #008080; text-decoration-color: #008080; font-weight: bold\">75.3</span>%%,    <span style=\"color: #008080; text-decoration-color: #008080; font-weight: bold\">0.</span>7s remaining<span style=\"font-weight: bold\">)</span>\n",
              "</pre>\n"
            ]
          },
          "metadata": {}
        },
        {
          "output_type": "display_data",
          "data": {
            "text/plain": [
              "\u001b[1;34m[\u001b[0m\u001b[34mfetch_single_file\u001b[0m\u001b[1;34m]\u001b[0m  \u001b[33m...\u001b[0mdone. \u001b[1m(\u001b[0m\u001b[1;36m3\u001b[0m seconds, \u001b[1;36m0\u001b[0m min\u001b[1m)\u001b[0m\n",
              "\n"
            ],
            "text/html": [
              "<pre style=\"white-space:pre;overflow-x:auto;line-height:normal;font-family:Menlo,'DejaVu Sans Mono',consolas,'Courier New',monospace\"><span style=\"color: #000080; text-decoration-color: #000080; font-weight: bold\">[</span><span style=\"color: #000080; text-decoration-color: #000080\">fetch_single_file</span><span style=\"color: #000080; text-decoration-color: #000080; font-weight: bold\">]</span>  <span style=\"color: #808000; text-decoration-color: #808000\">...</span>done. <span style=\"font-weight: bold\">(</span><span style=\"color: #008080; text-decoration-color: #008080; font-weight: bold\">3</span> seconds, <span style=\"color: #008080; text-decoration-color: #008080; font-weight: bold\">0</span> min<span style=\"font-weight: bold\">)</span>\n",
              "\n",
              "</pre>\n"
            ]
          },
          "metadata": {}
        },
        {
          "output_type": "display_data",
          "data": {
            "text/plain": [
              "\u001b[1;34m[\u001b[0m\u001b[34muncompress_file\u001b[0m\u001b[1;34m]\u001b[0m Extracting data from \n",
              "\u001b[35m/root/nilearn_data/adhd/49718167d83b032094ad6d17e64b4e49/\u001b[0m\u001b[95madhd40_0027018.tgz...\u001b[0m\n"
            ],
            "text/html": [
              "<pre style=\"white-space:pre;overflow-x:auto;line-height:normal;font-family:Menlo,'DejaVu Sans Mono',consolas,'Courier New',monospace\"><span style=\"color: #000080; text-decoration-color: #000080; font-weight: bold\">[</span><span style=\"color: #000080; text-decoration-color: #000080\">uncompress_file</span><span style=\"color: #000080; text-decoration-color: #000080; font-weight: bold\">]</span> Extracting data from \n",
              "<span style=\"color: #800080; text-decoration-color: #800080\">/root/nilearn_data/adhd/49718167d83b032094ad6d17e64b4e49/</span><span style=\"color: #ff00ff; text-decoration-color: #ff00ff\">adhd40_0027018.tgz...</span>\n",
              "</pre>\n"
            ]
          },
          "metadata": {}
        },
        {
          "output_type": "display_data",
          "data": {
            "text/plain": [
              "\u001b[1;34m[\u001b[0m\u001b[34muncompress_file\u001b[0m\u001b[1;34m]\u001b[0m .. done.\n",
              "\n"
            ],
            "text/html": [
              "<pre style=\"white-space:pre;overflow-x:auto;line-height:normal;font-family:Menlo,'DejaVu Sans Mono',consolas,'Courier New',monospace\"><span style=\"color: #000080; text-decoration-color: #000080; font-weight: bold\">[</span><span style=\"color: #000080; text-decoration-color: #000080\">uncompress_file</span><span style=\"color: #000080; text-decoration-color: #000080; font-weight: bold\">]</span> .. done.\n",
              "\n",
              "</pre>\n"
            ]
          },
          "metadata": {}
        },
        {
          "output_type": "display_data",
          "data": {
            "text/plain": [
              "\u001b[1;34m[\u001b[0m\u001b[34mfetch_single_file\u001b[0m\u001b[1;34m]\u001b[0m Downloading data from \u001b[4;94mhttps://www.nitrc.org/frs/download.php/7790/adhd40_0027034.tgz\u001b[0m \u001b[33m...\u001b[0m\n"
            ],
            "text/html": [
              "<pre style=\"white-space:pre;overflow-x:auto;line-height:normal;font-family:Menlo,'DejaVu Sans Mono',consolas,'Courier New',monospace\"><span style=\"color: #000080; text-decoration-color: #000080; font-weight: bold\">[</span><span style=\"color: #000080; text-decoration-color: #000080\">fetch_single_file</span><span style=\"color: #000080; text-decoration-color: #000080; font-weight: bold\">]</span> Downloading data from <span style=\"color: #0000ff; text-decoration-color: #0000ff; text-decoration: underline\">https://www.nitrc.org/frs/download.php/7790/adhd40_0027034.tgz</span> <span style=\"color: #808000; text-decoration-color: #808000\">...</span>\n",
              "</pre>\n"
            ]
          },
          "metadata": {}
        },
        {
          "output_type": "display_data",
          "data": {
            "text/plain": [
              "\u001b[1;34m[\u001b[0m\u001b[34m_chunk_report_\u001b[0m\u001b[1;34m]\u001b[0m Downloaded \u001b[1;36m28680192\u001b[0m of \u001b[1;36m70074120\u001b[0m bytes \u001b[1m(\u001b[0m\u001b[1;36m40.9\u001b[0m%%,    \u001b[1;36m1.\u001b[0m5s remaining\u001b[1m)\u001b[0m\n"
            ],
            "text/html": [
              "<pre style=\"white-space:pre;overflow-x:auto;line-height:normal;font-family:Menlo,'DejaVu Sans Mono',consolas,'Courier New',monospace\"><span style=\"color: #000080; text-decoration-color: #000080; font-weight: bold\">[</span><span style=\"color: #000080; text-decoration-color: #000080\">_chunk_report_</span><span style=\"color: #000080; text-decoration-color: #000080; font-weight: bold\">]</span> Downloaded <span style=\"color: #008080; text-decoration-color: #008080; font-weight: bold\">28680192</span> of <span style=\"color: #008080; text-decoration-color: #008080; font-weight: bold\">70074120</span> bytes <span style=\"font-weight: bold\">(</span><span style=\"color: #008080; text-decoration-color: #008080; font-weight: bold\">40.9</span>%%,    <span style=\"color: #008080; text-decoration-color: #008080; font-weight: bold\">1.</span>5s remaining<span style=\"font-weight: bold\">)</span>\n",
              "</pre>\n"
            ]
          },
          "metadata": {}
        },
        {
          "output_type": "display_data",
          "data": {
            "text/plain": [
              "\u001b[1;34m[\u001b[0m\u001b[34m_chunk_report_\u001b[0m\u001b[1;34m]\u001b[0m Downloaded \u001b[1;36m57532416\u001b[0m of \u001b[1;36m70074120\u001b[0m bytes \u001b[1m(\u001b[0m\u001b[1;36m82.1\u001b[0m%%,    \u001b[1;36m0.\u001b[0m4s remaining\u001b[1m)\u001b[0m\n"
            ],
            "text/html": [
              "<pre style=\"white-space:pre;overflow-x:auto;line-height:normal;font-family:Menlo,'DejaVu Sans Mono',consolas,'Courier New',monospace\"><span style=\"color: #000080; text-decoration-color: #000080; font-weight: bold\">[</span><span style=\"color: #000080; text-decoration-color: #000080\">_chunk_report_</span><span style=\"color: #000080; text-decoration-color: #000080; font-weight: bold\">]</span> Downloaded <span style=\"color: #008080; text-decoration-color: #008080; font-weight: bold\">57532416</span> of <span style=\"color: #008080; text-decoration-color: #008080; font-weight: bold\">70074120</span> bytes <span style=\"font-weight: bold\">(</span><span style=\"color: #008080; text-decoration-color: #008080; font-weight: bold\">82.1</span>%%,    <span style=\"color: #008080; text-decoration-color: #008080; font-weight: bold\">0.</span>4s remaining<span style=\"font-weight: bold\">)</span>\n",
              "</pre>\n"
            ]
          },
          "metadata": {}
        },
        {
          "output_type": "display_data",
          "data": {
            "text/plain": [
              "\u001b[1;34m[\u001b[0m\u001b[34mfetch_single_file\u001b[0m\u001b[1;34m]\u001b[0m  \u001b[33m...\u001b[0mdone. \u001b[1m(\u001b[0m\u001b[1;36m3\u001b[0m seconds, \u001b[1;36m0\u001b[0m min\u001b[1m)\u001b[0m\n",
              "\n"
            ],
            "text/html": [
              "<pre style=\"white-space:pre;overflow-x:auto;line-height:normal;font-family:Menlo,'DejaVu Sans Mono',consolas,'Courier New',monospace\"><span style=\"color: #000080; text-decoration-color: #000080; font-weight: bold\">[</span><span style=\"color: #000080; text-decoration-color: #000080\">fetch_single_file</span><span style=\"color: #000080; text-decoration-color: #000080; font-weight: bold\">]</span>  <span style=\"color: #808000; text-decoration-color: #808000\">...</span>done. <span style=\"font-weight: bold\">(</span><span style=\"color: #008080; text-decoration-color: #008080; font-weight: bold\">3</span> seconds, <span style=\"color: #008080; text-decoration-color: #008080; font-weight: bold\">0</span> min<span style=\"font-weight: bold\">)</span>\n",
              "\n",
              "</pre>\n"
            ]
          },
          "metadata": {}
        },
        {
          "output_type": "display_data",
          "data": {
            "text/plain": [
              "\u001b[1;34m[\u001b[0m\u001b[34muncompress_file\u001b[0m\u001b[1;34m]\u001b[0m Extracting data from \n",
              "\u001b[35m/root/nilearn_data/adhd/49718167d83b032094ad6d17e64b4e49/\u001b[0m\u001b[95madhd40_0027034.tgz...\u001b[0m\n"
            ],
            "text/html": [
              "<pre style=\"white-space:pre;overflow-x:auto;line-height:normal;font-family:Menlo,'DejaVu Sans Mono',consolas,'Courier New',monospace\"><span style=\"color: #000080; text-decoration-color: #000080; font-weight: bold\">[</span><span style=\"color: #000080; text-decoration-color: #000080\">uncompress_file</span><span style=\"color: #000080; text-decoration-color: #000080; font-weight: bold\">]</span> Extracting data from \n",
              "<span style=\"color: #800080; text-decoration-color: #800080\">/root/nilearn_data/adhd/49718167d83b032094ad6d17e64b4e49/</span><span style=\"color: #ff00ff; text-decoration-color: #ff00ff\">adhd40_0027034.tgz...</span>\n",
              "</pre>\n"
            ]
          },
          "metadata": {}
        },
        {
          "output_type": "display_data",
          "data": {
            "text/plain": [
              "\u001b[1;34m[\u001b[0m\u001b[34muncompress_file\u001b[0m\u001b[1;34m]\u001b[0m .. done.\n",
              "\n"
            ],
            "text/html": [
              "<pre style=\"white-space:pre;overflow-x:auto;line-height:normal;font-family:Menlo,'DejaVu Sans Mono',consolas,'Courier New',monospace\"><span style=\"color: #000080; text-decoration-color: #000080; font-weight: bold\">[</span><span style=\"color: #000080; text-decoration-color: #000080\">uncompress_file</span><span style=\"color: #000080; text-decoration-color: #000080; font-weight: bold\">]</span> .. done.\n",
              "\n",
              "</pre>\n"
            ]
          },
          "metadata": {}
        },
        {
          "output_type": "display_data",
          "data": {
            "text/plain": [
              "\u001b[1;34m[\u001b[0m\u001b[34mfetch_single_file\u001b[0m\u001b[1;34m]\u001b[0m Downloading data from \u001b[4;94mhttps://www.nitrc.org/frs/download.php/7791/adhd40_0027037.tgz\u001b[0m \u001b[33m...\u001b[0m\n"
            ],
            "text/html": [
              "<pre style=\"white-space:pre;overflow-x:auto;line-height:normal;font-family:Menlo,'DejaVu Sans Mono',consolas,'Courier New',monospace\"><span style=\"color: #000080; text-decoration-color: #000080; font-weight: bold\">[</span><span style=\"color: #000080; text-decoration-color: #000080\">fetch_single_file</span><span style=\"color: #000080; text-decoration-color: #000080; font-weight: bold\">]</span> Downloading data from <span style=\"color: #0000ff; text-decoration-color: #0000ff; text-decoration: underline\">https://www.nitrc.org/frs/download.php/7791/adhd40_0027037.tgz</span> <span style=\"color: #808000; text-decoration-color: #808000\">...</span>\n",
              "</pre>\n"
            ]
          },
          "metadata": {}
        },
        {
          "output_type": "display_data",
          "data": {
            "text/plain": [
              "\u001b[1;34m[\u001b[0m\u001b[34m_chunk_report_\u001b[0m\u001b[1;34m]\u001b[0m Downloaded \u001b[1;36m26714112\u001b[0m of \u001b[1;36m69291635\u001b[0m bytes \u001b[1m(\u001b[0m\u001b[1;36m38.6\u001b[0m%%,    \u001b[1;36m1.\u001b[0m6s remaining\u001b[1m)\u001b[0m\n"
            ],
            "text/html": [
              "<pre style=\"white-space:pre;overflow-x:auto;line-height:normal;font-family:Menlo,'DejaVu Sans Mono',consolas,'Courier New',monospace\"><span style=\"color: #000080; text-decoration-color: #000080; font-weight: bold\">[</span><span style=\"color: #000080; text-decoration-color: #000080\">_chunk_report_</span><span style=\"color: #000080; text-decoration-color: #000080; font-weight: bold\">]</span> Downloaded <span style=\"color: #008080; text-decoration-color: #008080; font-weight: bold\">26714112</span> of <span style=\"color: #008080; text-decoration-color: #008080; font-weight: bold\">69291635</span> bytes <span style=\"font-weight: bold\">(</span><span style=\"color: #008080; text-decoration-color: #008080; font-weight: bold\">38.6</span>%%,    <span style=\"color: #008080; text-decoration-color: #008080; font-weight: bold\">1.</span>6s remaining<span style=\"font-weight: bold\">)</span>\n",
              "</pre>\n"
            ]
          },
          "metadata": {}
        },
        {
          "output_type": "display_data",
          "data": {
            "text/plain": [
              "\u001b[1;34m[\u001b[0m\u001b[34m_chunk_report_\u001b[0m\u001b[1;34m]\u001b[0m Downloaded \u001b[1;36m55418880\u001b[0m of \u001b[1;36m69291635\u001b[0m bytes \u001b[1m(\u001b[0m\u001b[1;36m80.0\u001b[0m%%,    \u001b[1;36m0.\u001b[0m5s remaining\u001b[1m)\u001b[0m\n"
            ],
            "text/html": [
              "<pre style=\"white-space:pre;overflow-x:auto;line-height:normal;font-family:Menlo,'DejaVu Sans Mono',consolas,'Courier New',monospace\"><span style=\"color: #000080; text-decoration-color: #000080; font-weight: bold\">[</span><span style=\"color: #000080; text-decoration-color: #000080\">_chunk_report_</span><span style=\"color: #000080; text-decoration-color: #000080; font-weight: bold\">]</span> Downloaded <span style=\"color: #008080; text-decoration-color: #008080; font-weight: bold\">55418880</span> of <span style=\"color: #008080; text-decoration-color: #008080; font-weight: bold\">69291635</span> bytes <span style=\"font-weight: bold\">(</span><span style=\"color: #008080; text-decoration-color: #008080; font-weight: bold\">80.0</span>%%,    <span style=\"color: #008080; text-decoration-color: #008080; font-weight: bold\">0.</span>5s remaining<span style=\"font-weight: bold\">)</span>\n",
              "</pre>\n"
            ]
          },
          "metadata": {}
        },
        {
          "output_type": "display_data",
          "data": {
            "text/plain": [
              "\u001b[1;34m[\u001b[0m\u001b[34mfetch_single_file\u001b[0m\u001b[1;34m]\u001b[0m  \u001b[33m...\u001b[0mdone. \u001b[1m(\u001b[0m\u001b[1;36m3\u001b[0m seconds, \u001b[1;36m0\u001b[0m min\u001b[1m)\u001b[0m\n",
              "\n"
            ],
            "text/html": [
              "<pre style=\"white-space:pre;overflow-x:auto;line-height:normal;font-family:Menlo,'DejaVu Sans Mono',consolas,'Courier New',monospace\"><span style=\"color: #000080; text-decoration-color: #000080; font-weight: bold\">[</span><span style=\"color: #000080; text-decoration-color: #000080\">fetch_single_file</span><span style=\"color: #000080; text-decoration-color: #000080; font-weight: bold\">]</span>  <span style=\"color: #808000; text-decoration-color: #808000\">...</span>done. <span style=\"font-weight: bold\">(</span><span style=\"color: #008080; text-decoration-color: #008080; font-weight: bold\">3</span> seconds, <span style=\"color: #008080; text-decoration-color: #008080; font-weight: bold\">0</span> min<span style=\"font-weight: bold\">)</span>\n",
              "\n",
              "</pre>\n"
            ]
          },
          "metadata": {}
        },
        {
          "output_type": "display_data",
          "data": {
            "text/plain": [
              "\u001b[1;34m[\u001b[0m\u001b[34muncompress_file\u001b[0m\u001b[1;34m]\u001b[0m Extracting data from \n",
              "\u001b[35m/root/nilearn_data/adhd/49718167d83b032094ad6d17e64b4e49/\u001b[0m\u001b[95madhd40_0027037.tgz...\u001b[0m\n"
            ],
            "text/html": [
              "<pre style=\"white-space:pre;overflow-x:auto;line-height:normal;font-family:Menlo,'DejaVu Sans Mono',consolas,'Courier New',monospace\"><span style=\"color: #000080; text-decoration-color: #000080; font-weight: bold\">[</span><span style=\"color: #000080; text-decoration-color: #000080\">uncompress_file</span><span style=\"color: #000080; text-decoration-color: #000080; font-weight: bold\">]</span> Extracting data from \n",
              "<span style=\"color: #800080; text-decoration-color: #800080\">/root/nilearn_data/adhd/49718167d83b032094ad6d17e64b4e49/</span><span style=\"color: #ff00ff; text-decoration-color: #ff00ff\">adhd40_0027037.tgz...</span>\n",
              "</pre>\n"
            ]
          },
          "metadata": {}
        },
        {
          "output_type": "display_data",
          "data": {
            "text/plain": [
              "\u001b[1;34m[\u001b[0m\u001b[34muncompress_file\u001b[0m\u001b[1;34m]\u001b[0m .. done.\n",
              "\n"
            ],
            "text/html": [
              "<pre style=\"white-space:pre;overflow-x:auto;line-height:normal;font-family:Menlo,'DejaVu Sans Mono',consolas,'Courier New',monospace\"><span style=\"color: #000080; text-decoration-color: #000080; font-weight: bold\">[</span><span style=\"color: #000080; text-decoration-color: #000080\">uncompress_file</span><span style=\"color: #000080; text-decoration-color: #000080; font-weight: bold\">]</span> .. done.\n",
              "\n",
              "</pre>\n"
            ]
          },
          "metadata": {}
        },
        {
          "output_type": "display_data",
          "data": {
            "text/plain": [
              "\u001b[1;34m[\u001b[0m\u001b[34mfetch_single_file\u001b[0m\u001b[1;34m]\u001b[0m Downloading data from \u001b[4;94mhttps://www.nitrc.org/frs/download.php/7792/adhd40_1019436.tgz\u001b[0m \u001b[33m...\u001b[0m\n"
            ],
            "text/html": [
              "<pre style=\"white-space:pre;overflow-x:auto;line-height:normal;font-family:Menlo,'DejaVu Sans Mono',consolas,'Courier New',monospace\"><span style=\"color: #000080; text-decoration-color: #000080; font-weight: bold\">[</span><span style=\"color: #000080; text-decoration-color: #000080\">fetch_single_file</span><span style=\"color: #000080; text-decoration-color: #000080; font-weight: bold\">]</span> Downloading data from <span style=\"color: #0000ff; text-decoration-color: #0000ff; text-decoration: underline\">https://www.nitrc.org/frs/download.php/7792/adhd40_1019436.tgz</span> <span style=\"color: #808000; text-decoration-color: #808000\">...</span>\n",
              "</pre>\n"
            ]
          },
          "metadata": {}
        },
        {
          "output_type": "display_data",
          "data": {
            "text/plain": [
              "\u001b[1;34m[\u001b[0m\u001b[34m_chunk_report_\u001b[0m\u001b[1;34m]\u001b[0m Downloaded \u001b[1;36m27893760\u001b[0m of \u001b[1;36m41803342\u001b[0m bytes \u001b[1m(\u001b[0m\u001b[1;36m66.7\u001b[0m%%,    \u001b[1;36m0.\u001b[0m5s remaining\u001b[1m)\u001b[0m\n"
            ],
            "text/html": [
              "<pre style=\"white-space:pre;overflow-x:auto;line-height:normal;font-family:Menlo,'DejaVu Sans Mono',consolas,'Courier New',monospace\"><span style=\"color: #000080; text-decoration-color: #000080; font-weight: bold\">[</span><span style=\"color: #000080; text-decoration-color: #000080\">_chunk_report_</span><span style=\"color: #000080; text-decoration-color: #000080; font-weight: bold\">]</span> Downloaded <span style=\"color: #008080; text-decoration-color: #008080; font-weight: bold\">27893760</span> of <span style=\"color: #008080; text-decoration-color: #008080; font-weight: bold\">41803342</span> bytes <span style=\"font-weight: bold\">(</span><span style=\"color: #008080; text-decoration-color: #008080; font-weight: bold\">66.7</span>%%,    <span style=\"color: #008080; text-decoration-color: #008080; font-weight: bold\">0.</span>5s remaining<span style=\"font-weight: bold\">)</span>\n",
              "</pre>\n"
            ]
          },
          "metadata": {}
        },
        {
          "output_type": "display_data",
          "data": {
            "text/plain": [
              "\u001b[1;34m[\u001b[0m\u001b[34mfetch_single_file\u001b[0m\u001b[1;34m]\u001b[0m  \u001b[33m...\u001b[0mdone. \u001b[1m(\u001b[0m\u001b[1;36m2\u001b[0m seconds, \u001b[1;36m0\u001b[0m min\u001b[1m)\u001b[0m\n",
              "\n"
            ],
            "text/html": [
              "<pre style=\"white-space:pre;overflow-x:auto;line-height:normal;font-family:Menlo,'DejaVu Sans Mono',consolas,'Courier New',monospace\"><span style=\"color: #000080; text-decoration-color: #000080; font-weight: bold\">[</span><span style=\"color: #000080; text-decoration-color: #000080\">fetch_single_file</span><span style=\"color: #000080; text-decoration-color: #000080; font-weight: bold\">]</span>  <span style=\"color: #808000; text-decoration-color: #808000\">...</span>done. <span style=\"font-weight: bold\">(</span><span style=\"color: #008080; text-decoration-color: #008080; font-weight: bold\">2</span> seconds, <span style=\"color: #008080; text-decoration-color: #008080; font-weight: bold\">0</span> min<span style=\"font-weight: bold\">)</span>\n",
              "\n",
              "</pre>\n"
            ]
          },
          "metadata": {}
        },
        {
          "output_type": "display_data",
          "data": {
            "text/plain": [
              "\u001b[1;34m[\u001b[0m\u001b[34muncompress_file\u001b[0m\u001b[1;34m]\u001b[0m Extracting data from \n",
              "\u001b[35m/root/nilearn_data/adhd/49718167d83b032094ad6d17e64b4e49/\u001b[0m\u001b[95madhd40_1019436.tgz...\u001b[0m\n"
            ],
            "text/html": [
              "<pre style=\"white-space:pre;overflow-x:auto;line-height:normal;font-family:Menlo,'DejaVu Sans Mono',consolas,'Courier New',monospace\"><span style=\"color: #000080; text-decoration-color: #000080; font-weight: bold\">[</span><span style=\"color: #000080; text-decoration-color: #000080\">uncompress_file</span><span style=\"color: #000080; text-decoration-color: #000080; font-weight: bold\">]</span> Extracting data from \n",
              "<span style=\"color: #800080; text-decoration-color: #800080\">/root/nilearn_data/adhd/49718167d83b032094ad6d17e64b4e49/</span><span style=\"color: #ff00ff; text-decoration-color: #ff00ff\">adhd40_1019436.tgz...</span>\n",
              "</pre>\n"
            ]
          },
          "metadata": {}
        },
        {
          "output_type": "display_data",
          "data": {
            "text/plain": [
              "\u001b[1;34m[\u001b[0m\u001b[34muncompress_file\u001b[0m\u001b[1;34m]\u001b[0m .. done.\n",
              "\n"
            ],
            "text/html": [
              "<pre style=\"white-space:pre;overflow-x:auto;line-height:normal;font-family:Menlo,'DejaVu Sans Mono',consolas,'Courier New',monospace\"><span style=\"color: #000080; text-decoration-color: #000080; font-weight: bold\">[</span><span style=\"color: #000080; text-decoration-color: #000080\">uncompress_file</span><span style=\"color: #000080; text-decoration-color: #000080; font-weight: bold\">]</span> .. done.\n",
              "\n",
              "</pre>\n"
            ]
          },
          "metadata": {}
        },
        {
          "output_type": "display_data",
          "data": {
            "text/plain": [
              "\u001b[1;34m[\u001b[0m\u001b[34mfetch_single_file\u001b[0m\u001b[1;34m]\u001b[0m Downloading data from \u001b[4;94mhttps://www.nitrc.org/frs/download.php/7793/adhd40_1206380.tgz\u001b[0m \u001b[33m...\u001b[0m\n"
            ],
            "text/html": [
              "<pre style=\"white-space:pre;overflow-x:auto;line-height:normal;font-family:Menlo,'DejaVu Sans Mono',consolas,'Courier New',monospace\"><span style=\"color: #000080; text-decoration-color: #000080; font-weight: bold\">[</span><span style=\"color: #000080; text-decoration-color: #000080\">fetch_single_file</span><span style=\"color: #000080; text-decoration-color: #000080; font-weight: bold\">]</span> Downloading data from <span style=\"color: #0000ff; text-decoration-color: #0000ff; text-decoration: underline\">https://www.nitrc.org/frs/download.php/7793/adhd40_1206380.tgz</span> <span style=\"color: #808000; text-decoration-color: #808000\">...</span>\n",
              "</pre>\n"
            ]
          },
          "metadata": {}
        },
        {
          "output_type": "display_data",
          "data": {
            "text/plain": [
              "\u001b[1;34m[\u001b[0m\u001b[34mfetch_single_file\u001b[0m\u001b[1;34m]\u001b[0m  \u001b[33m...\u001b[0mdone. \u001b[1m(\u001b[0m\u001b[1;36m1\u001b[0m seconds, \u001b[1;36m0\u001b[0m min\u001b[1m)\u001b[0m\n",
              "\n"
            ],
            "text/html": [
              "<pre style=\"white-space:pre;overflow-x:auto;line-height:normal;font-family:Menlo,'DejaVu Sans Mono',consolas,'Courier New',monospace\"><span style=\"color: #000080; text-decoration-color: #000080; font-weight: bold\">[</span><span style=\"color: #000080; text-decoration-color: #000080\">fetch_single_file</span><span style=\"color: #000080; text-decoration-color: #000080; font-weight: bold\">]</span>  <span style=\"color: #808000; text-decoration-color: #808000\">...</span>done. <span style=\"font-weight: bold\">(</span><span style=\"color: #008080; text-decoration-color: #008080; font-weight: bold\">1</span> seconds, <span style=\"color: #008080; text-decoration-color: #008080; font-weight: bold\">0</span> min<span style=\"font-weight: bold\">)</span>\n",
              "\n",
              "</pre>\n"
            ]
          },
          "metadata": {}
        },
        {
          "output_type": "display_data",
          "data": {
            "text/plain": [
              "\u001b[1;34m[\u001b[0m\u001b[34muncompress_file\u001b[0m\u001b[1;34m]\u001b[0m Extracting data from \n",
              "\u001b[35m/root/nilearn_data/adhd/49718167d83b032094ad6d17e64b4e49/\u001b[0m\u001b[95madhd40_1206380.tgz...\u001b[0m\n"
            ],
            "text/html": [
              "<pre style=\"white-space:pre;overflow-x:auto;line-height:normal;font-family:Menlo,'DejaVu Sans Mono',consolas,'Courier New',monospace\"><span style=\"color: #000080; text-decoration-color: #000080; font-weight: bold\">[</span><span style=\"color: #000080; text-decoration-color: #000080\">uncompress_file</span><span style=\"color: #000080; text-decoration-color: #000080; font-weight: bold\">]</span> Extracting data from \n",
              "<span style=\"color: #800080; text-decoration-color: #800080\">/root/nilearn_data/adhd/49718167d83b032094ad6d17e64b4e49/</span><span style=\"color: #ff00ff; text-decoration-color: #ff00ff\">adhd40_1206380.tgz...</span>\n",
              "</pre>\n"
            ]
          },
          "metadata": {}
        },
        {
          "output_type": "display_data",
          "data": {
            "text/plain": [
              "\u001b[1;34m[\u001b[0m\u001b[34muncompress_file\u001b[0m\u001b[1;34m]\u001b[0m .. done.\n",
              "\n"
            ],
            "text/html": [
              "<pre style=\"white-space:pre;overflow-x:auto;line-height:normal;font-family:Menlo,'DejaVu Sans Mono',consolas,'Courier New',monospace\"><span style=\"color: #000080; text-decoration-color: #000080; font-weight: bold\">[</span><span style=\"color: #000080; text-decoration-color: #000080\">uncompress_file</span><span style=\"color: #000080; text-decoration-color: #000080; font-weight: bold\">]</span> .. done.\n",
              "\n",
              "</pre>\n"
            ]
          },
          "metadata": {}
        },
        {
          "output_type": "display_data",
          "data": {
            "text/plain": [
              "\u001b[1;34m[\u001b[0m\u001b[34mfetch_single_file\u001b[0m\u001b[1;34m]\u001b[0m Downloading data from \u001b[4;94mhttps://www.nitrc.org/frs/download.php/7794/adhd40_1418396.tgz\u001b[0m \u001b[33m...\u001b[0m\n"
            ],
            "text/html": [
              "<pre style=\"white-space:pre;overflow-x:auto;line-height:normal;font-family:Menlo,'DejaVu Sans Mono',consolas,'Courier New',monospace\"><span style=\"color: #000080; text-decoration-color: #000080; font-weight: bold\">[</span><span style=\"color: #000080; text-decoration-color: #000080\">fetch_single_file</span><span style=\"color: #000080; text-decoration-color: #000080; font-weight: bold\">]</span> Downloading data from <span style=\"color: #0000ff; text-decoration-color: #0000ff; text-decoration: underline\">https://www.nitrc.org/frs/download.php/7794/adhd40_1418396.tgz</span> <span style=\"color: #808000; text-decoration-color: #808000\">...</span>\n",
              "</pre>\n"
            ]
          },
          "metadata": {}
        },
        {
          "output_type": "display_data",
          "data": {
            "text/plain": [
              "\u001b[1;34m[\u001b[0m\u001b[34mfetch_single_file\u001b[0m\u001b[1;34m]\u001b[0m  \u001b[33m...\u001b[0mdone. \u001b[1m(\u001b[0m\u001b[1;36m1\u001b[0m seconds, \u001b[1;36m0\u001b[0m min\u001b[1m)\u001b[0m\n",
              "\n"
            ],
            "text/html": [
              "<pre style=\"white-space:pre;overflow-x:auto;line-height:normal;font-family:Menlo,'DejaVu Sans Mono',consolas,'Courier New',monospace\"><span style=\"color: #000080; text-decoration-color: #000080; font-weight: bold\">[</span><span style=\"color: #000080; text-decoration-color: #000080\">fetch_single_file</span><span style=\"color: #000080; text-decoration-color: #000080; font-weight: bold\">]</span>  <span style=\"color: #808000; text-decoration-color: #808000\">...</span>done. <span style=\"font-weight: bold\">(</span><span style=\"color: #008080; text-decoration-color: #008080; font-weight: bold\">1</span> seconds, <span style=\"color: #008080; text-decoration-color: #008080; font-weight: bold\">0</span> min<span style=\"font-weight: bold\">)</span>\n",
              "\n",
              "</pre>\n"
            ]
          },
          "metadata": {}
        },
        {
          "output_type": "display_data",
          "data": {
            "text/plain": [
              "\u001b[1;34m[\u001b[0m\u001b[34muncompress_file\u001b[0m\u001b[1;34m]\u001b[0m Extracting data from \n",
              "\u001b[35m/root/nilearn_data/adhd/49718167d83b032094ad6d17e64b4e49/\u001b[0m\u001b[95madhd40_1418396.tgz...\u001b[0m\n"
            ],
            "text/html": [
              "<pre style=\"white-space:pre;overflow-x:auto;line-height:normal;font-family:Menlo,'DejaVu Sans Mono',consolas,'Courier New',monospace\"><span style=\"color: #000080; text-decoration-color: #000080; font-weight: bold\">[</span><span style=\"color: #000080; text-decoration-color: #000080\">uncompress_file</span><span style=\"color: #000080; text-decoration-color: #000080; font-weight: bold\">]</span> Extracting data from \n",
              "<span style=\"color: #800080; text-decoration-color: #800080\">/root/nilearn_data/adhd/49718167d83b032094ad6d17e64b4e49/</span><span style=\"color: #ff00ff; text-decoration-color: #ff00ff\">adhd40_1418396.tgz...</span>\n",
              "</pre>\n"
            ]
          },
          "metadata": {}
        },
        {
          "output_type": "display_data",
          "data": {
            "text/plain": [
              "\u001b[1;34m[\u001b[0m\u001b[34muncompress_file\u001b[0m\u001b[1;34m]\u001b[0m .. done.\n",
              "\n"
            ],
            "text/html": [
              "<pre style=\"white-space:pre;overflow-x:auto;line-height:normal;font-family:Menlo,'DejaVu Sans Mono',consolas,'Courier New',monospace\"><span style=\"color: #000080; text-decoration-color: #000080; font-weight: bold\">[</span><span style=\"color: #000080; text-decoration-color: #000080\">uncompress_file</span><span style=\"color: #000080; text-decoration-color: #000080; font-weight: bold\">]</span> .. done.\n",
              "\n",
              "</pre>\n"
            ]
          },
          "metadata": {}
        },
        {
          "output_type": "display_data",
          "data": {
            "text/plain": [
              "\u001b[1;34m[\u001b[0m\u001b[34mfetch_single_file\u001b[0m\u001b[1;34m]\u001b[0m Downloading data from \u001b[4;94mhttps://www.nitrc.org/frs/download.php/7795/adhd40_1517058.tgz\u001b[0m \u001b[33m...\u001b[0m\n"
            ],
            "text/html": [
              "<pre style=\"white-space:pre;overflow-x:auto;line-height:normal;font-family:Menlo,'DejaVu Sans Mono',consolas,'Courier New',monospace\"><span style=\"color: #000080; text-decoration-color: #000080; font-weight: bold\">[</span><span style=\"color: #000080; text-decoration-color: #000080\">fetch_single_file</span><span style=\"color: #000080; text-decoration-color: #000080; font-weight: bold\">]</span> Downloading data from <span style=\"color: #0000ff; text-decoration-color: #0000ff; text-decoration: underline\">https://www.nitrc.org/frs/download.php/7795/adhd40_1517058.tgz</span> <span style=\"color: #808000; text-decoration-color: #808000\">...</span>\n",
              "</pre>\n"
            ]
          },
          "metadata": {}
        },
        {
          "output_type": "display_data",
          "data": {
            "text/plain": [
              "\u001b[1;34m[\u001b[0m\u001b[34m_chunk_report_\u001b[0m\u001b[1;34m]\u001b[0m Downloaded \u001b[1;36m23961600\u001b[0m of \u001b[1;36m62682233\u001b[0m bytes \u001b[1m(\u001b[0m\u001b[1;36m38.2\u001b[0m%%,    \u001b[1;36m1.\u001b[0m6s remaining\u001b[1m)\u001b[0m\n"
            ],
            "text/html": [
              "<pre style=\"white-space:pre;overflow-x:auto;line-height:normal;font-family:Menlo,'DejaVu Sans Mono',consolas,'Courier New',monospace\"><span style=\"color: #000080; text-decoration-color: #000080; font-weight: bold\">[</span><span style=\"color: #000080; text-decoration-color: #000080\">_chunk_report_</span><span style=\"color: #000080; text-decoration-color: #000080; font-weight: bold\">]</span> Downloaded <span style=\"color: #008080; text-decoration-color: #008080; font-weight: bold\">23961600</span> of <span style=\"color: #008080; text-decoration-color: #008080; font-weight: bold\">62682233</span> bytes <span style=\"font-weight: bold\">(</span><span style=\"color: #008080; text-decoration-color: #008080; font-weight: bold\">38.2</span>%%,    <span style=\"color: #008080; text-decoration-color: #008080; font-weight: bold\">1.</span>6s remaining<span style=\"font-weight: bold\">)</span>\n",
              "</pre>\n"
            ]
          },
          "metadata": {}
        },
        {
          "output_type": "display_data",
          "data": {
            "text/plain": [
              "\u001b[1;34m[\u001b[0m\u001b[34m_chunk_report_\u001b[0m\u001b[1;34m]\u001b[0m Downloaded \u001b[1;36m52830208\u001b[0m of \u001b[1;36m62682233\u001b[0m bytes \u001b[1m(\u001b[0m\u001b[1;36m84.3\u001b[0m%%,    \u001b[1;36m0.\u001b[0m4s remaining\u001b[1m)\u001b[0m\n"
            ],
            "text/html": [
              "<pre style=\"white-space:pre;overflow-x:auto;line-height:normal;font-family:Menlo,'DejaVu Sans Mono',consolas,'Courier New',monospace\"><span style=\"color: #000080; text-decoration-color: #000080; font-weight: bold\">[</span><span style=\"color: #000080; text-decoration-color: #000080\">_chunk_report_</span><span style=\"color: #000080; text-decoration-color: #000080; font-weight: bold\">]</span> Downloaded <span style=\"color: #008080; text-decoration-color: #008080; font-weight: bold\">52830208</span> of <span style=\"color: #008080; text-decoration-color: #008080; font-weight: bold\">62682233</span> bytes <span style=\"font-weight: bold\">(</span><span style=\"color: #008080; text-decoration-color: #008080; font-weight: bold\">84.3</span>%%,    <span style=\"color: #008080; text-decoration-color: #008080; font-weight: bold\">0.</span>4s remaining<span style=\"font-weight: bold\">)</span>\n",
              "</pre>\n"
            ]
          },
          "metadata": {}
        },
        {
          "output_type": "display_data",
          "data": {
            "text/plain": [
              "\u001b[1;34m[\u001b[0m\u001b[34mfetch_single_file\u001b[0m\u001b[1;34m]\u001b[0m  \u001b[33m...\u001b[0mdone. \u001b[1m(\u001b[0m\u001b[1;36m2\u001b[0m seconds, \u001b[1;36m0\u001b[0m min\u001b[1m)\u001b[0m\n",
              "\n"
            ],
            "text/html": [
              "<pre style=\"white-space:pre;overflow-x:auto;line-height:normal;font-family:Menlo,'DejaVu Sans Mono',consolas,'Courier New',monospace\"><span style=\"color: #000080; text-decoration-color: #000080; font-weight: bold\">[</span><span style=\"color: #000080; text-decoration-color: #000080\">fetch_single_file</span><span style=\"color: #000080; text-decoration-color: #000080; font-weight: bold\">]</span>  <span style=\"color: #808000; text-decoration-color: #808000\">...</span>done. <span style=\"font-weight: bold\">(</span><span style=\"color: #008080; text-decoration-color: #008080; font-weight: bold\">2</span> seconds, <span style=\"color: #008080; text-decoration-color: #008080; font-weight: bold\">0</span> min<span style=\"font-weight: bold\">)</span>\n",
              "\n",
              "</pre>\n"
            ]
          },
          "metadata": {}
        },
        {
          "output_type": "display_data",
          "data": {
            "text/plain": [
              "\u001b[1;34m[\u001b[0m\u001b[34muncompress_file\u001b[0m\u001b[1;34m]\u001b[0m Extracting data from \n",
              "\u001b[35m/root/nilearn_data/adhd/49718167d83b032094ad6d17e64b4e49/\u001b[0m\u001b[95madhd40_1517058.tgz...\u001b[0m\n"
            ],
            "text/html": [
              "<pre style=\"white-space:pre;overflow-x:auto;line-height:normal;font-family:Menlo,'DejaVu Sans Mono',consolas,'Courier New',monospace\"><span style=\"color: #000080; text-decoration-color: #000080; font-weight: bold\">[</span><span style=\"color: #000080; text-decoration-color: #000080\">uncompress_file</span><span style=\"color: #000080; text-decoration-color: #000080; font-weight: bold\">]</span> Extracting data from \n",
              "<span style=\"color: #800080; text-decoration-color: #800080\">/root/nilearn_data/adhd/49718167d83b032094ad6d17e64b4e49/</span><span style=\"color: #ff00ff; text-decoration-color: #ff00ff\">adhd40_1517058.tgz...</span>\n",
              "</pre>\n"
            ]
          },
          "metadata": {}
        },
        {
          "output_type": "display_data",
          "data": {
            "text/plain": [
              "\u001b[1;34m[\u001b[0m\u001b[34muncompress_file\u001b[0m\u001b[1;34m]\u001b[0m .. done.\n",
              "\n"
            ],
            "text/html": [
              "<pre style=\"white-space:pre;overflow-x:auto;line-height:normal;font-family:Menlo,'DejaVu Sans Mono',consolas,'Courier New',monospace\"><span style=\"color: #000080; text-decoration-color: #000080; font-weight: bold\">[</span><span style=\"color: #000080; text-decoration-color: #000080\">uncompress_file</span><span style=\"color: #000080; text-decoration-color: #000080; font-weight: bold\">]</span> .. done.\n",
              "\n",
              "</pre>\n"
            ]
          },
          "metadata": {}
        },
        {
          "output_type": "display_data",
          "data": {
            "text/plain": [
              "\u001b[1;34m[\u001b[0m\u001b[34mfetch_single_file\u001b[0m\u001b[1;34m]\u001b[0m Downloading data from \u001b[4;94mhttps://www.nitrc.org/frs/download.php/7796/adhd40_1552181.tgz\u001b[0m \u001b[33m...\u001b[0m\n"
            ],
            "text/html": [
              "<pre style=\"white-space:pre;overflow-x:auto;line-height:normal;font-family:Menlo,'DejaVu Sans Mono',consolas,'Courier New',monospace\"><span style=\"color: #000080; text-decoration-color: #000080; font-weight: bold\">[</span><span style=\"color: #000080; text-decoration-color: #000080\">fetch_single_file</span><span style=\"color: #000080; text-decoration-color: #000080; font-weight: bold\">]</span> Downloading data from <span style=\"color: #0000ff; text-decoration-color: #0000ff; text-decoration: underline\">https://www.nitrc.org/frs/download.php/7796/adhd40_1552181.tgz</span> <span style=\"color: #808000; text-decoration-color: #808000\">...</span>\n",
              "</pre>\n"
            ]
          },
          "metadata": {}
        },
        {
          "output_type": "display_data",
          "data": {
            "text/plain": [
              "\u001b[1;34m[\u001b[0m\u001b[34mfetch_single_file\u001b[0m\u001b[1;34m]\u001b[0m  \u001b[33m...\u001b[0mdone. \u001b[1m(\u001b[0m\u001b[1;36m1\u001b[0m seconds, \u001b[1;36m0\u001b[0m min\u001b[1m)\u001b[0m\n",
              "\n"
            ],
            "text/html": [
              "<pre style=\"white-space:pre;overflow-x:auto;line-height:normal;font-family:Menlo,'DejaVu Sans Mono',consolas,'Courier New',monospace\"><span style=\"color: #000080; text-decoration-color: #000080; font-weight: bold\">[</span><span style=\"color: #000080; text-decoration-color: #000080\">fetch_single_file</span><span style=\"color: #000080; text-decoration-color: #000080; font-weight: bold\">]</span>  <span style=\"color: #808000; text-decoration-color: #808000\">...</span>done. <span style=\"font-weight: bold\">(</span><span style=\"color: #008080; text-decoration-color: #008080; font-weight: bold\">1</span> seconds, <span style=\"color: #008080; text-decoration-color: #008080; font-weight: bold\">0</span> min<span style=\"font-weight: bold\">)</span>\n",
              "\n",
              "</pre>\n"
            ]
          },
          "metadata": {}
        },
        {
          "output_type": "display_data",
          "data": {
            "text/plain": [
              "\u001b[1;34m[\u001b[0m\u001b[34muncompress_file\u001b[0m\u001b[1;34m]\u001b[0m Extracting data from \n",
              "\u001b[35m/root/nilearn_data/adhd/49718167d83b032094ad6d17e64b4e49/\u001b[0m\u001b[95madhd40_1552181.tgz...\u001b[0m\n"
            ],
            "text/html": [
              "<pre style=\"white-space:pre;overflow-x:auto;line-height:normal;font-family:Menlo,'DejaVu Sans Mono',consolas,'Courier New',monospace\"><span style=\"color: #000080; text-decoration-color: #000080; font-weight: bold\">[</span><span style=\"color: #000080; text-decoration-color: #000080\">uncompress_file</span><span style=\"color: #000080; text-decoration-color: #000080; font-weight: bold\">]</span> Extracting data from \n",
              "<span style=\"color: #800080; text-decoration-color: #800080\">/root/nilearn_data/adhd/49718167d83b032094ad6d17e64b4e49/</span><span style=\"color: #ff00ff; text-decoration-color: #ff00ff\">adhd40_1552181.tgz...</span>\n",
              "</pre>\n"
            ]
          },
          "metadata": {}
        },
        {
          "output_type": "display_data",
          "data": {
            "text/plain": [
              "\u001b[1;34m[\u001b[0m\u001b[34muncompress_file\u001b[0m\u001b[1;34m]\u001b[0m .. done.\n",
              "\n"
            ],
            "text/html": [
              "<pre style=\"white-space:pre;overflow-x:auto;line-height:normal;font-family:Menlo,'DejaVu Sans Mono',consolas,'Courier New',monospace\"><span style=\"color: #000080; text-decoration-color: #000080; font-weight: bold\">[</span><span style=\"color: #000080; text-decoration-color: #000080\">uncompress_file</span><span style=\"color: #000080; text-decoration-color: #000080; font-weight: bold\">]</span> .. done.\n",
              "\n",
              "</pre>\n"
            ]
          },
          "metadata": {}
        },
        {
          "output_type": "display_data",
          "data": {
            "text/plain": [
              "\u001b[1;34m[\u001b[0m\u001b[34mfetch_single_file\u001b[0m\u001b[1;34m]\u001b[0m Downloading data from \u001b[4;94mhttps://www.nitrc.org/frs/download.php/7797/adhd40_1562298.tgz\u001b[0m \u001b[33m...\u001b[0m\n"
            ],
            "text/html": [
              "<pre style=\"white-space:pre;overflow-x:auto;line-height:normal;font-family:Menlo,'DejaVu Sans Mono',consolas,'Courier New',monospace\"><span style=\"color: #000080; text-decoration-color: #000080; font-weight: bold\">[</span><span style=\"color: #000080; text-decoration-color: #000080\">fetch_single_file</span><span style=\"color: #000080; text-decoration-color: #000080; font-weight: bold\">]</span> Downloading data from <span style=\"color: #0000ff; text-decoration-color: #0000ff; text-decoration: underline\">https://www.nitrc.org/frs/download.php/7797/adhd40_1562298.tgz</span> <span style=\"color: #808000; text-decoration-color: #808000\">...</span>\n",
              "</pre>\n"
            ]
          },
          "metadata": {}
        },
        {
          "output_type": "display_data",
          "data": {
            "text/plain": [
              "\u001b[1;34m[\u001b[0m\u001b[34m_chunk_report_\u001b[0m\u001b[1;34m]\u001b[0m Downloaded \u001b[1;36m28680192\u001b[0m of \u001b[1;36m60663491\u001b[0m bytes \u001b[1m(\u001b[0m\u001b[1;36m47.3\u001b[0m%%,    \u001b[1;36m1.\u001b[0m1s remaining\u001b[1m)\u001b[0m\n"
            ],
            "text/html": [
              "<pre style=\"white-space:pre;overflow-x:auto;line-height:normal;font-family:Menlo,'DejaVu Sans Mono',consolas,'Courier New',monospace\"><span style=\"color: #000080; text-decoration-color: #000080; font-weight: bold\">[</span><span style=\"color: #000080; text-decoration-color: #000080\">_chunk_report_</span><span style=\"color: #000080; text-decoration-color: #000080; font-weight: bold\">]</span> Downloaded <span style=\"color: #008080; text-decoration-color: #008080; font-weight: bold\">28680192</span> of <span style=\"color: #008080; text-decoration-color: #008080; font-weight: bold\">60663491</span> bytes <span style=\"font-weight: bold\">(</span><span style=\"color: #008080; text-decoration-color: #008080; font-weight: bold\">47.3</span>%%,    <span style=\"color: #008080; text-decoration-color: #008080; font-weight: bold\">1.</span>1s remaining<span style=\"font-weight: bold\">)</span>\n",
              "</pre>\n"
            ]
          },
          "metadata": {}
        },
        {
          "output_type": "display_data",
          "data": {
            "text/plain": [
              "\u001b[1;34m[\u001b[0m\u001b[34m_chunk_report_\u001b[0m\u001b[1;34m]\u001b[0m Downloaded \u001b[1;36m57655296\u001b[0m of \u001b[1;36m60663491\u001b[0m bytes \u001b[1m(\u001b[0m\u001b[1;36m95.0\u001b[0m%%,    \u001b[1;36m0.\u001b[0m1s remaining\u001b[1m)\u001b[0m\n"
            ],
            "text/html": [
              "<pre style=\"white-space:pre;overflow-x:auto;line-height:normal;font-family:Menlo,'DejaVu Sans Mono',consolas,'Courier New',monospace\"><span style=\"color: #000080; text-decoration-color: #000080; font-weight: bold\">[</span><span style=\"color: #000080; text-decoration-color: #000080\">_chunk_report_</span><span style=\"color: #000080; text-decoration-color: #000080; font-weight: bold\">]</span> Downloaded <span style=\"color: #008080; text-decoration-color: #008080; font-weight: bold\">57655296</span> of <span style=\"color: #008080; text-decoration-color: #008080; font-weight: bold\">60663491</span> bytes <span style=\"font-weight: bold\">(</span><span style=\"color: #008080; text-decoration-color: #008080; font-weight: bold\">95.0</span>%%,    <span style=\"color: #008080; text-decoration-color: #008080; font-weight: bold\">0.</span>1s remaining<span style=\"font-weight: bold\">)</span>\n",
              "</pre>\n"
            ]
          },
          "metadata": {}
        },
        {
          "output_type": "display_data",
          "data": {
            "text/plain": [
              "\u001b[1;34m[\u001b[0m\u001b[34mfetch_single_file\u001b[0m\u001b[1;34m]\u001b[0m  \u001b[33m...\u001b[0mdone. \u001b[1m(\u001b[0m\u001b[1;36m2\u001b[0m seconds, \u001b[1;36m0\u001b[0m min\u001b[1m)\u001b[0m\n",
              "\n"
            ],
            "text/html": [
              "<pre style=\"white-space:pre;overflow-x:auto;line-height:normal;font-family:Menlo,'DejaVu Sans Mono',consolas,'Courier New',monospace\"><span style=\"color: #000080; text-decoration-color: #000080; font-weight: bold\">[</span><span style=\"color: #000080; text-decoration-color: #000080\">fetch_single_file</span><span style=\"color: #000080; text-decoration-color: #000080; font-weight: bold\">]</span>  <span style=\"color: #808000; text-decoration-color: #808000\">...</span>done. <span style=\"font-weight: bold\">(</span><span style=\"color: #008080; text-decoration-color: #008080; font-weight: bold\">2</span> seconds, <span style=\"color: #008080; text-decoration-color: #008080; font-weight: bold\">0</span> min<span style=\"font-weight: bold\">)</span>\n",
              "\n",
              "</pre>\n"
            ]
          },
          "metadata": {}
        },
        {
          "output_type": "display_data",
          "data": {
            "text/plain": [
              "\u001b[1;34m[\u001b[0m\u001b[34muncompress_file\u001b[0m\u001b[1;34m]\u001b[0m Extracting data from \n",
              "\u001b[35m/root/nilearn_data/adhd/49718167d83b032094ad6d17e64b4e49/\u001b[0m\u001b[95madhd40_1562298.tgz...\u001b[0m\n"
            ],
            "text/html": [
              "<pre style=\"white-space:pre;overflow-x:auto;line-height:normal;font-family:Menlo,'DejaVu Sans Mono',consolas,'Courier New',monospace\"><span style=\"color: #000080; text-decoration-color: #000080; font-weight: bold\">[</span><span style=\"color: #000080; text-decoration-color: #000080\">uncompress_file</span><span style=\"color: #000080; text-decoration-color: #000080; font-weight: bold\">]</span> Extracting data from \n",
              "<span style=\"color: #800080; text-decoration-color: #800080\">/root/nilearn_data/adhd/49718167d83b032094ad6d17e64b4e49/</span><span style=\"color: #ff00ff; text-decoration-color: #ff00ff\">adhd40_1562298.tgz...</span>\n",
              "</pre>\n"
            ]
          },
          "metadata": {}
        },
        {
          "output_type": "display_data",
          "data": {
            "text/plain": [
              "\u001b[1;34m[\u001b[0m\u001b[34muncompress_file\u001b[0m\u001b[1;34m]\u001b[0m .. done.\n",
              "\n"
            ],
            "text/html": [
              "<pre style=\"white-space:pre;overflow-x:auto;line-height:normal;font-family:Menlo,'DejaVu Sans Mono',consolas,'Courier New',monospace\"><span style=\"color: #000080; text-decoration-color: #000080; font-weight: bold\">[</span><span style=\"color: #000080; text-decoration-color: #000080\">uncompress_file</span><span style=\"color: #000080; text-decoration-color: #000080; font-weight: bold\">]</span> .. done.\n",
              "\n",
              "</pre>\n"
            ]
          },
          "metadata": {}
        },
        {
          "output_type": "display_data",
          "data": {
            "text/plain": [
              "\u001b[1;34m[\u001b[0m\u001b[34mfetch_single_file\u001b[0m\u001b[1;34m]\u001b[0m Downloading data from \u001b[4;94mhttps://www.nitrc.org/frs/download.php/7798/adhd40_1679142.tgz\u001b[0m \u001b[33m...\u001b[0m\n"
            ],
            "text/html": [
              "<pre style=\"white-space:pre;overflow-x:auto;line-height:normal;font-family:Menlo,'DejaVu Sans Mono',consolas,'Courier New',monospace\"><span style=\"color: #000080; text-decoration-color: #000080; font-weight: bold\">[</span><span style=\"color: #000080; text-decoration-color: #000080\">fetch_single_file</span><span style=\"color: #000080; text-decoration-color: #000080; font-weight: bold\">]</span> Downloading data from <span style=\"color: #0000ff; text-decoration-color: #0000ff; text-decoration: underline\">https://www.nitrc.org/frs/download.php/7798/adhd40_1679142.tgz</span> <span style=\"color: #808000; text-decoration-color: #808000\">...</span>\n",
              "</pre>\n"
            ]
          },
          "metadata": {}
        },
        {
          "output_type": "display_data",
          "data": {
            "text/plain": [
              "\u001b[1;34m[\u001b[0m\u001b[34mfetch_single_file\u001b[0m\u001b[1;34m]\u001b[0m  \u001b[33m...\u001b[0mdone. \u001b[1m(\u001b[0m\u001b[1;36m1\u001b[0m seconds, \u001b[1;36m0\u001b[0m min\u001b[1m)\u001b[0m\n",
              "\n"
            ],
            "text/html": [
              "<pre style=\"white-space:pre;overflow-x:auto;line-height:normal;font-family:Menlo,'DejaVu Sans Mono',consolas,'Courier New',monospace\"><span style=\"color: #000080; text-decoration-color: #000080; font-weight: bold\">[</span><span style=\"color: #000080; text-decoration-color: #000080\">fetch_single_file</span><span style=\"color: #000080; text-decoration-color: #000080; font-weight: bold\">]</span>  <span style=\"color: #808000; text-decoration-color: #808000\">...</span>done. <span style=\"font-weight: bold\">(</span><span style=\"color: #008080; text-decoration-color: #008080; font-weight: bold\">1</span> seconds, <span style=\"color: #008080; text-decoration-color: #008080; font-weight: bold\">0</span> min<span style=\"font-weight: bold\">)</span>\n",
              "\n",
              "</pre>\n"
            ]
          },
          "metadata": {}
        },
        {
          "output_type": "display_data",
          "data": {
            "text/plain": [
              "\u001b[1;34m[\u001b[0m\u001b[34muncompress_file\u001b[0m\u001b[1;34m]\u001b[0m Extracting data from \n",
              "\u001b[35m/root/nilearn_data/adhd/49718167d83b032094ad6d17e64b4e49/\u001b[0m\u001b[95madhd40_1679142.tgz...\u001b[0m\n"
            ],
            "text/html": [
              "<pre style=\"white-space:pre;overflow-x:auto;line-height:normal;font-family:Menlo,'DejaVu Sans Mono',consolas,'Courier New',monospace\"><span style=\"color: #000080; text-decoration-color: #000080; font-weight: bold\">[</span><span style=\"color: #000080; text-decoration-color: #000080\">uncompress_file</span><span style=\"color: #000080; text-decoration-color: #000080; font-weight: bold\">]</span> Extracting data from \n",
              "<span style=\"color: #800080; text-decoration-color: #800080\">/root/nilearn_data/adhd/49718167d83b032094ad6d17e64b4e49/</span><span style=\"color: #ff00ff; text-decoration-color: #ff00ff\">adhd40_1679142.tgz...</span>\n",
              "</pre>\n"
            ]
          },
          "metadata": {}
        },
        {
          "output_type": "display_data",
          "data": {
            "text/plain": [
              "\u001b[1;34m[\u001b[0m\u001b[34muncompress_file\u001b[0m\u001b[1;34m]\u001b[0m .. done.\n",
              "\n"
            ],
            "text/html": [
              "<pre style=\"white-space:pre;overflow-x:auto;line-height:normal;font-family:Menlo,'DejaVu Sans Mono',consolas,'Courier New',monospace\"><span style=\"color: #000080; text-decoration-color: #000080; font-weight: bold\">[</span><span style=\"color: #000080; text-decoration-color: #000080\">uncompress_file</span><span style=\"color: #000080; text-decoration-color: #000080; font-weight: bold\">]</span> .. done.\n",
              "\n",
              "</pre>\n"
            ]
          },
          "metadata": {}
        },
        {
          "output_type": "display_data",
          "data": {
            "text/plain": [
              "\u001b[1;34m[\u001b[0m\u001b[34mfetch_single_file\u001b[0m\u001b[1;34m]\u001b[0m Downloading data from \u001b[4;94mhttps://www.nitrc.org/frs/download.php/7799/adhd40_2014113.tgz\u001b[0m \u001b[33m...\u001b[0m\n"
            ],
            "text/html": [
              "<pre style=\"white-space:pre;overflow-x:auto;line-height:normal;font-family:Menlo,'DejaVu Sans Mono',consolas,'Courier New',monospace\"><span style=\"color: #000080; text-decoration-color: #000080; font-weight: bold\">[</span><span style=\"color: #000080; text-decoration-color: #000080\">fetch_single_file</span><span style=\"color: #000080; text-decoration-color: #000080; font-weight: bold\">]</span> Downloading data from <span style=\"color: #0000ff; text-decoration-color: #0000ff; text-decoration: underline\">https://www.nitrc.org/frs/download.php/7799/adhd40_2014113.tgz</span> <span style=\"color: #808000; text-decoration-color: #808000\">...</span>\n",
              "</pre>\n"
            ]
          },
          "metadata": {}
        },
        {
          "output_type": "display_data",
          "data": {
            "text/plain": [
              "\u001b[1;34m[\u001b[0m\u001b[34m_chunk_report_\u001b[0m\u001b[1;34m]\u001b[0m Downloaded \u001b[1;36m28164096\u001b[0m of \u001b[1;36m33119052\u001b[0m bytes \u001b[1m(\u001b[0m\u001b[1;36m85.0\u001b[0m%%,    \u001b[1;36m0.\u001b[0m2s remaining\u001b[1m)\u001b[0m\n"
            ],
            "text/html": [
              "<pre style=\"white-space:pre;overflow-x:auto;line-height:normal;font-family:Menlo,'DejaVu Sans Mono',consolas,'Courier New',monospace\"><span style=\"color: #000080; text-decoration-color: #000080; font-weight: bold\">[</span><span style=\"color: #000080; text-decoration-color: #000080\">_chunk_report_</span><span style=\"color: #000080; text-decoration-color: #000080; font-weight: bold\">]</span> Downloaded <span style=\"color: #008080; text-decoration-color: #008080; font-weight: bold\">28164096</span> of <span style=\"color: #008080; text-decoration-color: #008080; font-weight: bold\">33119052</span> bytes <span style=\"font-weight: bold\">(</span><span style=\"color: #008080; text-decoration-color: #008080; font-weight: bold\">85.0</span>%%,    <span style=\"color: #008080; text-decoration-color: #008080; font-weight: bold\">0.</span>2s remaining<span style=\"font-weight: bold\">)</span>\n",
              "</pre>\n"
            ]
          },
          "metadata": {}
        },
        {
          "output_type": "display_data",
          "data": {
            "text/plain": [
              "\u001b[1;34m[\u001b[0m\u001b[34mfetch_single_file\u001b[0m\u001b[1;34m]\u001b[0m  \u001b[33m...\u001b[0mdone. \u001b[1m(\u001b[0m\u001b[1;36m1\u001b[0m seconds, \u001b[1;36m0\u001b[0m min\u001b[1m)\u001b[0m\n",
              "\n"
            ],
            "text/html": [
              "<pre style=\"white-space:pre;overflow-x:auto;line-height:normal;font-family:Menlo,'DejaVu Sans Mono',consolas,'Courier New',monospace\"><span style=\"color: #000080; text-decoration-color: #000080; font-weight: bold\">[</span><span style=\"color: #000080; text-decoration-color: #000080\">fetch_single_file</span><span style=\"color: #000080; text-decoration-color: #000080; font-weight: bold\">]</span>  <span style=\"color: #808000; text-decoration-color: #808000\">...</span>done. <span style=\"font-weight: bold\">(</span><span style=\"color: #008080; text-decoration-color: #008080; font-weight: bold\">1</span> seconds, <span style=\"color: #008080; text-decoration-color: #008080; font-weight: bold\">0</span> min<span style=\"font-weight: bold\">)</span>\n",
              "\n",
              "</pre>\n"
            ]
          },
          "metadata": {}
        },
        {
          "output_type": "display_data",
          "data": {
            "text/plain": [
              "\u001b[1;34m[\u001b[0m\u001b[34muncompress_file\u001b[0m\u001b[1;34m]\u001b[0m Extracting data from \n",
              "\u001b[35m/root/nilearn_data/adhd/49718167d83b032094ad6d17e64b4e49/\u001b[0m\u001b[95madhd40_2014113.tgz...\u001b[0m\n"
            ],
            "text/html": [
              "<pre style=\"white-space:pre;overflow-x:auto;line-height:normal;font-family:Menlo,'DejaVu Sans Mono',consolas,'Courier New',monospace\"><span style=\"color: #000080; text-decoration-color: #000080; font-weight: bold\">[</span><span style=\"color: #000080; text-decoration-color: #000080\">uncompress_file</span><span style=\"color: #000080; text-decoration-color: #000080; font-weight: bold\">]</span> Extracting data from \n",
              "<span style=\"color: #800080; text-decoration-color: #800080\">/root/nilearn_data/adhd/49718167d83b032094ad6d17e64b4e49/</span><span style=\"color: #ff00ff; text-decoration-color: #ff00ff\">adhd40_2014113.tgz...</span>\n",
              "</pre>\n"
            ]
          },
          "metadata": {}
        },
        {
          "output_type": "display_data",
          "data": {
            "text/plain": [
              "\u001b[1;34m[\u001b[0m\u001b[34muncompress_file\u001b[0m\u001b[1;34m]\u001b[0m .. done.\n",
              "\n"
            ],
            "text/html": [
              "<pre style=\"white-space:pre;overflow-x:auto;line-height:normal;font-family:Menlo,'DejaVu Sans Mono',consolas,'Courier New',monospace\"><span style=\"color: #000080; text-decoration-color: #000080; font-weight: bold\">[</span><span style=\"color: #000080; text-decoration-color: #000080\">uncompress_file</span><span style=\"color: #000080; text-decoration-color: #000080; font-weight: bold\">]</span> .. done.\n",
              "\n",
              "</pre>\n"
            ]
          },
          "metadata": {}
        },
        {
          "output_type": "display_data",
          "data": {
            "text/plain": [
              "\u001b[1;34m[\u001b[0m\u001b[34mfetch_single_file\u001b[0m\u001b[1;34m]\u001b[0m Downloading data from \u001b[4;94mhttps://www.nitrc.org/frs/download.php/7800/adhd40_2497695.tgz\u001b[0m \u001b[33m...\u001b[0m\n"
            ],
            "text/html": [
              "<pre style=\"white-space:pre;overflow-x:auto;line-height:normal;font-family:Menlo,'DejaVu Sans Mono',consolas,'Courier New',monospace\"><span style=\"color: #000080; text-decoration-color: #000080; font-weight: bold\">[</span><span style=\"color: #000080; text-decoration-color: #000080\">fetch_single_file</span><span style=\"color: #000080; text-decoration-color: #000080; font-weight: bold\">]</span> Downloading data from <span style=\"color: #0000ff; text-decoration-color: #0000ff; text-decoration: underline\">https://www.nitrc.org/frs/download.php/7800/adhd40_2497695.tgz</span> <span style=\"color: #808000; text-decoration-color: #808000\">...</span>\n",
              "</pre>\n"
            ]
          },
          "metadata": {}
        },
        {
          "output_type": "display_data",
          "data": {
            "text/plain": [
              "\u001b[1;34m[\u001b[0m\u001b[34m_chunk_report_\u001b[0m\u001b[1;34m]\u001b[0m Downloaded \u001b[1;36m28557312\u001b[0m of \u001b[1;36m45455025\u001b[0m bytes \u001b[1m(\u001b[0m\u001b[1;36m62.8\u001b[0m%%,    \u001b[1;36m0.\u001b[0m6s remaining\u001b[1m)\u001b[0m\n"
            ],
            "text/html": [
              "<pre style=\"white-space:pre;overflow-x:auto;line-height:normal;font-family:Menlo,'DejaVu Sans Mono',consolas,'Courier New',monospace\"><span style=\"color: #000080; text-decoration-color: #000080; font-weight: bold\">[</span><span style=\"color: #000080; text-decoration-color: #000080\">_chunk_report_</span><span style=\"color: #000080; text-decoration-color: #000080; font-weight: bold\">]</span> Downloaded <span style=\"color: #008080; text-decoration-color: #008080; font-weight: bold\">28557312</span> of <span style=\"color: #008080; text-decoration-color: #008080; font-weight: bold\">45455025</span> bytes <span style=\"font-weight: bold\">(</span><span style=\"color: #008080; text-decoration-color: #008080; font-weight: bold\">62.8</span>%%,    <span style=\"color: #008080; text-decoration-color: #008080; font-weight: bold\">0.</span>6s remaining<span style=\"font-weight: bold\">)</span>\n",
              "</pre>\n"
            ]
          },
          "metadata": {}
        },
        {
          "output_type": "display_data",
          "data": {
            "text/plain": [
              "\u001b[1;34m[\u001b[0m\u001b[34mfetch_single_file\u001b[0m\u001b[1;34m]\u001b[0m  \u001b[33m...\u001b[0mdone. \u001b[1m(\u001b[0m\u001b[1;36m2\u001b[0m seconds, \u001b[1;36m0\u001b[0m min\u001b[1m)\u001b[0m\n",
              "\n"
            ],
            "text/html": [
              "<pre style=\"white-space:pre;overflow-x:auto;line-height:normal;font-family:Menlo,'DejaVu Sans Mono',consolas,'Courier New',monospace\"><span style=\"color: #000080; text-decoration-color: #000080; font-weight: bold\">[</span><span style=\"color: #000080; text-decoration-color: #000080\">fetch_single_file</span><span style=\"color: #000080; text-decoration-color: #000080; font-weight: bold\">]</span>  <span style=\"color: #808000; text-decoration-color: #808000\">...</span>done. <span style=\"font-weight: bold\">(</span><span style=\"color: #008080; text-decoration-color: #008080; font-weight: bold\">2</span> seconds, <span style=\"color: #008080; text-decoration-color: #008080; font-weight: bold\">0</span> min<span style=\"font-weight: bold\">)</span>\n",
              "\n",
              "</pre>\n"
            ]
          },
          "metadata": {}
        },
        {
          "output_type": "display_data",
          "data": {
            "text/plain": [
              "\u001b[1;34m[\u001b[0m\u001b[34muncompress_file\u001b[0m\u001b[1;34m]\u001b[0m Extracting data from \n",
              "\u001b[35m/root/nilearn_data/adhd/49718167d83b032094ad6d17e64b4e49/\u001b[0m\u001b[95madhd40_2497695.tgz...\u001b[0m\n"
            ],
            "text/html": [
              "<pre style=\"white-space:pre;overflow-x:auto;line-height:normal;font-family:Menlo,'DejaVu Sans Mono',consolas,'Courier New',monospace\"><span style=\"color: #000080; text-decoration-color: #000080; font-weight: bold\">[</span><span style=\"color: #000080; text-decoration-color: #000080\">uncompress_file</span><span style=\"color: #000080; text-decoration-color: #000080; font-weight: bold\">]</span> Extracting data from \n",
              "<span style=\"color: #800080; text-decoration-color: #800080\">/root/nilearn_data/adhd/49718167d83b032094ad6d17e64b4e49/</span><span style=\"color: #ff00ff; text-decoration-color: #ff00ff\">adhd40_2497695.tgz...</span>\n",
              "</pre>\n"
            ]
          },
          "metadata": {}
        },
        {
          "output_type": "display_data",
          "data": {
            "text/plain": [
              "\u001b[1;34m[\u001b[0m\u001b[34muncompress_file\u001b[0m\u001b[1;34m]\u001b[0m .. done.\n",
              "\n"
            ],
            "text/html": [
              "<pre style=\"white-space:pre;overflow-x:auto;line-height:normal;font-family:Menlo,'DejaVu Sans Mono',consolas,'Courier New',monospace\"><span style=\"color: #000080; text-decoration-color: #000080; font-weight: bold\">[</span><span style=\"color: #000080; text-decoration-color: #000080\">uncompress_file</span><span style=\"color: #000080; text-decoration-color: #000080; font-weight: bold\">]</span> .. done.\n",
              "\n",
              "</pre>\n"
            ]
          },
          "metadata": {}
        },
        {
          "output_type": "display_data",
          "data": {
            "text/plain": [
              "\u001b[1;34m[\u001b[0m\u001b[34mfetch_single_file\u001b[0m\u001b[1;34m]\u001b[0m Downloading data from \u001b[4;94mhttps://www.nitrc.org/frs/download.php/7801/adhd40_2950754.tgz\u001b[0m \u001b[33m...\u001b[0m\n"
            ],
            "text/html": [
              "<pre style=\"white-space:pre;overflow-x:auto;line-height:normal;font-family:Menlo,'DejaVu Sans Mono',consolas,'Courier New',monospace\"><span style=\"color: #000080; text-decoration-color: #000080; font-weight: bold\">[</span><span style=\"color: #000080; text-decoration-color: #000080\">fetch_single_file</span><span style=\"color: #000080; text-decoration-color: #000080; font-weight: bold\">]</span> Downloading data from <span style=\"color: #0000ff; text-decoration-color: #0000ff; text-decoration: underline\">https://www.nitrc.org/frs/download.php/7801/adhd40_2950754.tgz</span> <span style=\"color: #808000; text-decoration-color: #808000\">...</span>\n",
              "</pre>\n"
            ]
          },
          "metadata": {}
        },
        {
          "output_type": "display_data",
          "data": {
            "text/plain": [
              "\u001b[1;34m[\u001b[0m\u001b[34m_chunk_report_\u001b[0m\u001b[1;34m]\u001b[0m Downloaded \u001b[1;36m28680192\u001b[0m of \u001b[1;36m57992968\u001b[0m bytes \u001b[1m(\u001b[0m\u001b[1;36m49.5\u001b[0m%%,    \u001b[1;36m1.\u001b[0m0s remaining\u001b[1m)\u001b[0m\n"
            ],
            "text/html": [
              "<pre style=\"white-space:pre;overflow-x:auto;line-height:normal;font-family:Menlo,'DejaVu Sans Mono',consolas,'Courier New',monospace\"><span style=\"color: #000080; text-decoration-color: #000080; font-weight: bold\">[</span><span style=\"color: #000080; text-decoration-color: #000080\">_chunk_report_</span><span style=\"color: #000080; text-decoration-color: #000080; font-weight: bold\">]</span> Downloaded <span style=\"color: #008080; text-decoration-color: #008080; font-weight: bold\">28680192</span> of <span style=\"color: #008080; text-decoration-color: #008080; font-weight: bold\">57992968</span> bytes <span style=\"font-weight: bold\">(</span><span style=\"color: #008080; text-decoration-color: #008080; font-weight: bold\">49.5</span>%%,    <span style=\"color: #008080; text-decoration-color: #008080; font-weight: bold\">1.</span>0s remaining<span style=\"font-weight: bold\">)</span>\n",
              "</pre>\n"
            ]
          },
          "metadata": {}
        },
        {
          "output_type": "display_data",
          "data": {
            "text/plain": [
              "\u001b[1;34m[\u001b[0m\u001b[34m_chunk_report_\u001b[0m\u001b[1;34m]\u001b[0m Downloaded \u001b[1;36m57532416\u001b[0m of \u001b[1;36m57992968\u001b[0m bytes \u001b[1m(\u001b[0m\u001b[1;36m99.2\u001b[0m%%,    \u001b[1;36m0.\u001b[0m0s remaining\u001b[1m)\u001b[0m\n"
            ],
            "text/html": [
              "<pre style=\"white-space:pre;overflow-x:auto;line-height:normal;font-family:Menlo,'DejaVu Sans Mono',consolas,'Courier New',monospace\"><span style=\"color: #000080; text-decoration-color: #000080; font-weight: bold\">[</span><span style=\"color: #000080; text-decoration-color: #000080\">_chunk_report_</span><span style=\"color: #000080; text-decoration-color: #000080; font-weight: bold\">]</span> Downloaded <span style=\"color: #008080; text-decoration-color: #008080; font-weight: bold\">57532416</span> of <span style=\"color: #008080; text-decoration-color: #008080; font-weight: bold\">57992968</span> bytes <span style=\"font-weight: bold\">(</span><span style=\"color: #008080; text-decoration-color: #008080; font-weight: bold\">99.2</span>%%,    <span style=\"color: #008080; text-decoration-color: #008080; font-weight: bold\">0.</span>0s remaining<span style=\"font-weight: bold\">)</span>\n",
              "</pre>\n"
            ]
          },
          "metadata": {}
        },
        {
          "output_type": "display_data",
          "data": {
            "text/plain": [
              "\u001b[1;34m[\u001b[0m\u001b[34mfetch_single_file\u001b[0m\u001b[1;34m]\u001b[0m  \u001b[33m...\u001b[0mdone. \u001b[1m(\u001b[0m\u001b[1;36m2\u001b[0m seconds, \u001b[1;36m0\u001b[0m min\u001b[1m)\u001b[0m\n",
              "\n"
            ],
            "text/html": [
              "<pre style=\"white-space:pre;overflow-x:auto;line-height:normal;font-family:Menlo,'DejaVu Sans Mono',consolas,'Courier New',monospace\"><span style=\"color: #000080; text-decoration-color: #000080; font-weight: bold\">[</span><span style=\"color: #000080; text-decoration-color: #000080\">fetch_single_file</span><span style=\"color: #000080; text-decoration-color: #000080; font-weight: bold\">]</span>  <span style=\"color: #808000; text-decoration-color: #808000\">...</span>done. <span style=\"font-weight: bold\">(</span><span style=\"color: #008080; text-decoration-color: #008080; font-weight: bold\">2</span> seconds, <span style=\"color: #008080; text-decoration-color: #008080; font-weight: bold\">0</span> min<span style=\"font-weight: bold\">)</span>\n",
              "\n",
              "</pre>\n"
            ]
          },
          "metadata": {}
        },
        {
          "output_type": "display_data",
          "data": {
            "text/plain": [
              "\u001b[1;34m[\u001b[0m\u001b[34muncompress_file\u001b[0m\u001b[1;34m]\u001b[0m Extracting data from \n",
              "\u001b[35m/root/nilearn_data/adhd/49718167d83b032094ad6d17e64b4e49/\u001b[0m\u001b[95madhd40_2950754.tgz...\u001b[0m\n"
            ],
            "text/html": [
              "<pre style=\"white-space:pre;overflow-x:auto;line-height:normal;font-family:Menlo,'DejaVu Sans Mono',consolas,'Courier New',monospace\"><span style=\"color: #000080; text-decoration-color: #000080; font-weight: bold\">[</span><span style=\"color: #000080; text-decoration-color: #000080\">uncompress_file</span><span style=\"color: #000080; text-decoration-color: #000080; font-weight: bold\">]</span> Extracting data from \n",
              "<span style=\"color: #800080; text-decoration-color: #800080\">/root/nilearn_data/adhd/49718167d83b032094ad6d17e64b4e49/</span><span style=\"color: #ff00ff; text-decoration-color: #ff00ff\">adhd40_2950754.tgz...</span>\n",
              "</pre>\n"
            ]
          },
          "metadata": {}
        },
        {
          "output_type": "display_data",
          "data": {
            "text/plain": [
              "\u001b[1;34m[\u001b[0m\u001b[34muncompress_file\u001b[0m\u001b[1;34m]\u001b[0m .. done.\n",
              "\n"
            ],
            "text/html": [
              "<pre style=\"white-space:pre;overflow-x:auto;line-height:normal;font-family:Menlo,'DejaVu Sans Mono',consolas,'Courier New',monospace\"><span style=\"color: #000080; text-decoration-color: #000080; font-weight: bold\">[</span><span style=\"color: #000080; text-decoration-color: #000080\">uncompress_file</span><span style=\"color: #000080; text-decoration-color: #000080; font-weight: bold\">]</span> .. done.\n",
              "\n",
              "</pre>\n"
            ]
          },
          "metadata": {}
        },
        {
          "output_type": "display_data",
          "data": {
            "text/plain": [
              "\u001b[1;34m[\u001b[0m\u001b[34mfetch_single_file\u001b[0m\u001b[1;34m]\u001b[0m Downloading data from \u001b[4;94mhttps://www.nitrc.org/frs/download.php/7802/adhd40_3007585.tgz\u001b[0m \u001b[33m...\u001b[0m\n"
            ],
            "text/html": [
              "<pre style=\"white-space:pre;overflow-x:auto;line-height:normal;font-family:Menlo,'DejaVu Sans Mono',consolas,'Courier New',monospace\"><span style=\"color: #000080; text-decoration-color: #000080; font-weight: bold\">[</span><span style=\"color: #000080; text-decoration-color: #000080\">fetch_single_file</span><span style=\"color: #000080; text-decoration-color: #000080; font-weight: bold\">]</span> Downloading data from <span style=\"color: #0000ff; text-decoration-color: #0000ff; text-decoration: underline\">https://www.nitrc.org/frs/download.php/7802/adhd40_3007585.tgz</span> <span style=\"color: #808000; text-decoration-color: #808000\">...</span>\n",
              "</pre>\n"
            ]
          },
          "metadata": {}
        },
        {
          "output_type": "display_data",
          "data": {
            "text/plain": [
              "\u001b[1;34m[\u001b[0m\u001b[34m_chunk_report_\u001b[0m\u001b[1;34m]\u001b[0m Downloaded \u001b[1;36m28950528\u001b[0m of \u001b[1;36m67925261\u001b[0m bytes \u001b[1m(\u001b[0m\u001b[1;36m42.6\u001b[0m%%,    \u001b[1;36m1.\u001b[0m4s remaining\u001b[1m)\u001b[0m\n"
            ],
            "text/html": [
              "<pre style=\"white-space:pre;overflow-x:auto;line-height:normal;font-family:Menlo,'DejaVu Sans Mono',consolas,'Courier New',monospace\"><span style=\"color: #000080; text-decoration-color: #000080; font-weight: bold\">[</span><span style=\"color: #000080; text-decoration-color: #000080\">_chunk_report_</span><span style=\"color: #000080; text-decoration-color: #000080; font-weight: bold\">]</span> Downloaded <span style=\"color: #008080; text-decoration-color: #008080; font-weight: bold\">28950528</span> of <span style=\"color: #008080; text-decoration-color: #008080; font-weight: bold\">67925261</span> bytes <span style=\"font-weight: bold\">(</span><span style=\"color: #008080; text-decoration-color: #008080; font-weight: bold\">42.6</span>%%,    <span style=\"color: #008080; text-decoration-color: #008080; font-weight: bold\">1.</span>4s remaining<span style=\"font-weight: bold\">)</span>\n",
              "</pre>\n"
            ]
          },
          "metadata": {}
        },
        {
          "output_type": "display_data",
          "data": {
            "text/plain": [
              "\u001b[1;34m[\u001b[0m\u001b[34m_chunk_report_\u001b[0m\u001b[1;34m]\u001b[0m Downloaded \u001b[1;36m58310656\u001b[0m of \u001b[1;36m67925261\u001b[0m bytes \u001b[1m(\u001b[0m\u001b[1;36m85.8\u001b[0m%%,    \u001b[1;36m0.\u001b[0m3s remaining\u001b[1m)\u001b[0m\n"
            ],
            "text/html": [
              "<pre style=\"white-space:pre;overflow-x:auto;line-height:normal;font-family:Menlo,'DejaVu Sans Mono',consolas,'Courier New',monospace\"><span style=\"color: #000080; text-decoration-color: #000080; font-weight: bold\">[</span><span style=\"color: #000080; text-decoration-color: #000080\">_chunk_report_</span><span style=\"color: #000080; text-decoration-color: #000080; font-weight: bold\">]</span> Downloaded <span style=\"color: #008080; text-decoration-color: #008080; font-weight: bold\">58310656</span> of <span style=\"color: #008080; text-decoration-color: #008080; font-weight: bold\">67925261</span> bytes <span style=\"font-weight: bold\">(</span><span style=\"color: #008080; text-decoration-color: #008080; font-weight: bold\">85.8</span>%%,    <span style=\"color: #008080; text-decoration-color: #008080; font-weight: bold\">0.</span>3s remaining<span style=\"font-weight: bold\">)</span>\n",
              "</pre>\n"
            ]
          },
          "metadata": {}
        },
        {
          "output_type": "display_data",
          "data": {
            "text/plain": [
              "\u001b[1;34m[\u001b[0m\u001b[34mfetch_single_file\u001b[0m\u001b[1;34m]\u001b[0m  \u001b[33m...\u001b[0mdone. \u001b[1m(\u001b[0m\u001b[1;36m3\u001b[0m seconds, \u001b[1;36m0\u001b[0m min\u001b[1m)\u001b[0m\n",
              "\n"
            ],
            "text/html": [
              "<pre style=\"white-space:pre;overflow-x:auto;line-height:normal;font-family:Menlo,'DejaVu Sans Mono',consolas,'Courier New',monospace\"><span style=\"color: #000080; text-decoration-color: #000080; font-weight: bold\">[</span><span style=\"color: #000080; text-decoration-color: #000080\">fetch_single_file</span><span style=\"color: #000080; text-decoration-color: #000080; font-weight: bold\">]</span>  <span style=\"color: #808000; text-decoration-color: #808000\">...</span>done. <span style=\"font-weight: bold\">(</span><span style=\"color: #008080; text-decoration-color: #008080; font-weight: bold\">3</span> seconds, <span style=\"color: #008080; text-decoration-color: #008080; font-weight: bold\">0</span> min<span style=\"font-weight: bold\">)</span>\n",
              "\n",
              "</pre>\n"
            ]
          },
          "metadata": {}
        },
        {
          "output_type": "display_data",
          "data": {
            "text/plain": [
              "\u001b[1;34m[\u001b[0m\u001b[34muncompress_file\u001b[0m\u001b[1;34m]\u001b[0m Extracting data from \n",
              "\u001b[35m/root/nilearn_data/adhd/49718167d83b032094ad6d17e64b4e49/\u001b[0m\u001b[95madhd40_3007585.tgz...\u001b[0m\n"
            ],
            "text/html": [
              "<pre style=\"white-space:pre;overflow-x:auto;line-height:normal;font-family:Menlo,'DejaVu Sans Mono',consolas,'Courier New',monospace\"><span style=\"color: #000080; text-decoration-color: #000080; font-weight: bold\">[</span><span style=\"color: #000080; text-decoration-color: #000080\">uncompress_file</span><span style=\"color: #000080; text-decoration-color: #000080; font-weight: bold\">]</span> Extracting data from \n",
              "<span style=\"color: #800080; text-decoration-color: #800080\">/root/nilearn_data/adhd/49718167d83b032094ad6d17e64b4e49/</span><span style=\"color: #ff00ff; text-decoration-color: #ff00ff\">adhd40_3007585.tgz...</span>\n",
              "</pre>\n"
            ]
          },
          "metadata": {}
        },
        {
          "output_type": "display_data",
          "data": {
            "text/plain": [
              "\u001b[1;34m[\u001b[0m\u001b[34muncompress_file\u001b[0m\u001b[1;34m]\u001b[0m .. done.\n",
              "\n"
            ],
            "text/html": [
              "<pre style=\"white-space:pre;overflow-x:auto;line-height:normal;font-family:Menlo,'DejaVu Sans Mono',consolas,'Courier New',monospace\"><span style=\"color: #000080; text-decoration-color: #000080; font-weight: bold\">[</span><span style=\"color: #000080; text-decoration-color: #000080\">uncompress_file</span><span style=\"color: #000080; text-decoration-color: #000080; font-weight: bold\">]</span> .. done.\n",
              "\n",
              "</pre>\n"
            ]
          },
          "metadata": {}
        },
        {
          "output_type": "display_data",
          "data": {
            "text/plain": [
              "\u001b[1;34m[\u001b[0m\u001b[34mfetch_single_file\u001b[0m\u001b[1;34m]\u001b[0m Downloading data from \u001b[4;94mhttps://www.nitrc.org/frs/download.php/7803/adhd40_3154996.tgz\u001b[0m \u001b[33m...\u001b[0m\n"
            ],
            "text/html": [
              "<pre style=\"white-space:pre;overflow-x:auto;line-height:normal;font-family:Menlo,'DejaVu Sans Mono',consolas,'Courier New',monospace\"><span style=\"color: #000080; text-decoration-color: #000080; font-weight: bold\">[</span><span style=\"color: #000080; text-decoration-color: #000080\">fetch_single_file</span><span style=\"color: #000080; text-decoration-color: #000080; font-weight: bold\">]</span> Downloading data from <span style=\"color: #0000ff; text-decoration-color: #0000ff; text-decoration: underline\">https://www.nitrc.org/frs/download.php/7803/adhd40_3154996.tgz</span> <span style=\"color: #808000; text-decoration-color: #808000\">...</span>\n",
              "</pre>\n"
            ]
          },
          "metadata": {}
        },
        {
          "output_type": "display_data",
          "data": {
            "text/plain": [
              "\u001b[1;34m[\u001b[0m\u001b[34m_chunk_report_\u001b[0m\u001b[1;34m]\u001b[0m Downloaded \u001b[1;36m28557312\u001b[0m of \u001b[1;36m32919780\u001b[0m bytes \u001b[1m(\u001b[0m\u001b[1;36m86.7\u001b[0m%%,    \u001b[1;36m0.\u001b[0m2s remaining\u001b[1m)\u001b[0m\n"
            ],
            "text/html": [
              "<pre style=\"white-space:pre;overflow-x:auto;line-height:normal;font-family:Menlo,'DejaVu Sans Mono',consolas,'Courier New',monospace\"><span style=\"color: #000080; text-decoration-color: #000080; font-weight: bold\">[</span><span style=\"color: #000080; text-decoration-color: #000080\">_chunk_report_</span><span style=\"color: #000080; text-decoration-color: #000080; font-weight: bold\">]</span> Downloaded <span style=\"color: #008080; text-decoration-color: #008080; font-weight: bold\">28557312</span> of <span style=\"color: #008080; text-decoration-color: #008080; font-weight: bold\">32919780</span> bytes <span style=\"font-weight: bold\">(</span><span style=\"color: #008080; text-decoration-color: #008080; font-weight: bold\">86.7</span>%%,    <span style=\"color: #008080; text-decoration-color: #008080; font-weight: bold\">0.</span>2s remaining<span style=\"font-weight: bold\">)</span>\n",
              "</pre>\n"
            ]
          },
          "metadata": {}
        },
        {
          "output_type": "display_data",
          "data": {
            "text/plain": [
              "\u001b[1;34m[\u001b[0m\u001b[34mfetch_single_file\u001b[0m\u001b[1;34m]\u001b[0m  \u001b[33m...\u001b[0mdone. \u001b[1m(\u001b[0m\u001b[1;36m1\u001b[0m seconds, \u001b[1;36m0\u001b[0m min\u001b[1m)\u001b[0m\n",
              "\n"
            ],
            "text/html": [
              "<pre style=\"white-space:pre;overflow-x:auto;line-height:normal;font-family:Menlo,'DejaVu Sans Mono',consolas,'Courier New',monospace\"><span style=\"color: #000080; text-decoration-color: #000080; font-weight: bold\">[</span><span style=\"color: #000080; text-decoration-color: #000080\">fetch_single_file</span><span style=\"color: #000080; text-decoration-color: #000080; font-weight: bold\">]</span>  <span style=\"color: #808000; text-decoration-color: #808000\">...</span>done. <span style=\"font-weight: bold\">(</span><span style=\"color: #008080; text-decoration-color: #008080; font-weight: bold\">1</span> seconds, <span style=\"color: #008080; text-decoration-color: #008080; font-weight: bold\">0</span> min<span style=\"font-weight: bold\">)</span>\n",
              "\n",
              "</pre>\n"
            ]
          },
          "metadata": {}
        },
        {
          "output_type": "display_data",
          "data": {
            "text/plain": [
              "\u001b[1;34m[\u001b[0m\u001b[34muncompress_file\u001b[0m\u001b[1;34m]\u001b[0m Extracting data from \n",
              "\u001b[35m/root/nilearn_data/adhd/49718167d83b032094ad6d17e64b4e49/\u001b[0m\u001b[95madhd40_3154996.tgz...\u001b[0m\n"
            ],
            "text/html": [
              "<pre style=\"white-space:pre;overflow-x:auto;line-height:normal;font-family:Menlo,'DejaVu Sans Mono',consolas,'Courier New',monospace\"><span style=\"color: #000080; text-decoration-color: #000080; font-weight: bold\">[</span><span style=\"color: #000080; text-decoration-color: #000080\">uncompress_file</span><span style=\"color: #000080; text-decoration-color: #000080; font-weight: bold\">]</span> Extracting data from \n",
              "<span style=\"color: #800080; text-decoration-color: #800080\">/root/nilearn_data/adhd/49718167d83b032094ad6d17e64b4e49/</span><span style=\"color: #ff00ff; text-decoration-color: #ff00ff\">adhd40_3154996.tgz...</span>\n",
              "</pre>\n"
            ]
          },
          "metadata": {}
        },
        {
          "output_type": "display_data",
          "data": {
            "text/plain": [
              "\u001b[1;34m[\u001b[0m\u001b[34muncompress_file\u001b[0m\u001b[1;34m]\u001b[0m .. done.\n",
              "\n"
            ],
            "text/html": [
              "<pre style=\"white-space:pre;overflow-x:auto;line-height:normal;font-family:Menlo,'DejaVu Sans Mono',consolas,'Courier New',monospace\"><span style=\"color: #000080; text-decoration-color: #000080; font-weight: bold\">[</span><span style=\"color: #000080; text-decoration-color: #000080\">uncompress_file</span><span style=\"color: #000080; text-decoration-color: #000080; font-weight: bold\">]</span> .. done.\n",
              "\n",
              "</pre>\n"
            ]
          },
          "metadata": {}
        },
        {
          "output_type": "display_data",
          "data": {
            "text/plain": [
              "\u001b[1;34m[\u001b[0m\u001b[34mfetch_single_file\u001b[0m\u001b[1;34m]\u001b[0m Downloading data from \u001b[4;94mhttps://www.nitrc.org/frs/download.php/7804/adhd40_3205761.tgz\u001b[0m \u001b[33m...\u001b[0m\n"
            ],
            "text/html": [
              "<pre style=\"white-space:pre;overflow-x:auto;line-height:normal;font-family:Menlo,'DejaVu Sans Mono',consolas,'Courier New',monospace\"><span style=\"color: #000080; text-decoration-color: #000080; font-weight: bold\">[</span><span style=\"color: #000080; text-decoration-color: #000080\">fetch_single_file</span><span style=\"color: #000080; text-decoration-color: #000080; font-weight: bold\">]</span> Downloading data from <span style=\"color: #0000ff; text-decoration-color: #0000ff; text-decoration: underline\">https://www.nitrc.org/frs/download.php/7804/adhd40_3205761.tgz</span> <span style=\"color: #808000; text-decoration-color: #808000\">...</span>\n",
              "</pre>\n"
            ]
          },
          "metadata": {}
        },
        {
          "output_type": "display_data",
          "data": {
            "text/plain": [
              "\u001b[1;34m[\u001b[0m\u001b[34m_chunk_report_\u001b[0m\u001b[1;34m]\u001b[0m Downloaded \u001b[1;36m28557312\u001b[0m of \u001b[1;36m59835286\u001b[0m bytes \u001b[1m(\u001b[0m\u001b[1;36m47.7\u001b[0m%%,    \u001b[1;36m1.\u001b[0m1s remaining\u001b[1m)\u001b[0m\n"
            ],
            "text/html": [
              "<pre style=\"white-space:pre;overflow-x:auto;line-height:normal;font-family:Menlo,'DejaVu Sans Mono',consolas,'Courier New',monospace\"><span style=\"color: #000080; text-decoration-color: #000080; font-weight: bold\">[</span><span style=\"color: #000080; text-decoration-color: #000080\">_chunk_report_</span><span style=\"color: #000080; text-decoration-color: #000080; font-weight: bold\">]</span> Downloaded <span style=\"color: #008080; text-decoration-color: #008080; font-weight: bold\">28557312</span> of <span style=\"color: #008080; text-decoration-color: #008080; font-weight: bold\">59835286</span> bytes <span style=\"font-weight: bold\">(</span><span style=\"color: #008080; text-decoration-color: #008080; font-weight: bold\">47.7</span>%%,    <span style=\"color: #008080; text-decoration-color: #008080; font-weight: bold\">1.</span>1s remaining<span style=\"font-weight: bold\">)</span>\n",
              "</pre>\n"
            ]
          },
          "metadata": {}
        },
        {
          "output_type": "display_data",
          "data": {
            "text/plain": [
              "\u001b[1;34m[\u001b[0m\u001b[34m_chunk_report_\u001b[0m\u001b[1;34m]\u001b[0m Downloaded \u001b[1;36m57630720\u001b[0m of \u001b[1;36m59835286\u001b[0m bytes \u001b[1m(\u001b[0m\u001b[1;36m96.3\u001b[0m%%,    \u001b[1;36m0.\u001b[0m1s remaining\u001b[1m)\u001b[0m\n"
            ],
            "text/html": [
              "<pre style=\"white-space:pre;overflow-x:auto;line-height:normal;font-family:Menlo,'DejaVu Sans Mono',consolas,'Courier New',monospace\"><span style=\"color: #000080; text-decoration-color: #000080; font-weight: bold\">[</span><span style=\"color: #000080; text-decoration-color: #000080\">_chunk_report_</span><span style=\"color: #000080; text-decoration-color: #000080; font-weight: bold\">]</span> Downloaded <span style=\"color: #008080; text-decoration-color: #008080; font-weight: bold\">57630720</span> of <span style=\"color: #008080; text-decoration-color: #008080; font-weight: bold\">59835286</span> bytes <span style=\"font-weight: bold\">(</span><span style=\"color: #008080; text-decoration-color: #008080; font-weight: bold\">96.3</span>%%,    <span style=\"color: #008080; text-decoration-color: #008080; font-weight: bold\">0.</span>1s remaining<span style=\"font-weight: bold\">)</span>\n",
              "</pre>\n"
            ]
          },
          "metadata": {}
        },
        {
          "output_type": "display_data",
          "data": {
            "text/plain": [
              "\u001b[1;34m[\u001b[0m\u001b[34mfetch_single_file\u001b[0m\u001b[1;34m]\u001b[0m  \u001b[33m...\u001b[0mdone. \u001b[1m(\u001b[0m\u001b[1;36m2\u001b[0m seconds, \u001b[1;36m0\u001b[0m min\u001b[1m)\u001b[0m\n",
              "\n"
            ],
            "text/html": [
              "<pre style=\"white-space:pre;overflow-x:auto;line-height:normal;font-family:Menlo,'DejaVu Sans Mono',consolas,'Courier New',monospace\"><span style=\"color: #000080; text-decoration-color: #000080; font-weight: bold\">[</span><span style=\"color: #000080; text-decoration-color: #000080\">fetch_single_file</span><span style=\"color: #000080; text-decoration-color: #000080; font-weight: bold\">]</span>  <span style=\"color: #808000; text-decoration-color: #808000\">...</span>done. <span style=\"font-weight: bold\">(</span><span style=\"color: #008080; text-decoration-color: #008080; font-weight: bold\">2</span> seconds, <span style=\"color: #008080; text-decoration-color: #008080; font-weight: bold\">0</span> min<span style=\"font-weight: bold\">)</span>\n",
              "\n",
              "</pre>\n"
            ]
          },
          "metadata": {}
        },
        {
          "output_type": "display_data",
          "data": {
            "text/plain": [
              "\u001b[1;34m[\u001b[0m\u001b[34muncompress_file\u001b[0m\u001b[1;34m]\u001b[0m Extracting data from \n",
              "\u001b[35m/root/nilearn_data/adhd/49718167d83b032094ad6d17e64b4e49/\u001b[0m\u001b[95madhd40_3205761.tgz...\u001b[0m\n"
            ],
            "text/html": [
              "<pre style=\"white-space:pre;overflow-x:auto;line-height:normal;font-family:Menlo,'DejaVu Sans Mono',consolas,'Courier New',monospace\"><span style=\"color: #000080; text-decoration-color: #000080; font-weight: bold\">[</span><span style=\"color: #000080; text-decoration-color: #000080\">uncompress_file</span><span style=\"color: #000080; text-decoration-color: #000080; font-weight: bold\">]</span> Extracting data from \n",
              "<span style=\"color: #800080; text-decoration-color: #800080\">/root/nilearn_data/adhd/49718167d83b032094ad6d17e64b4e49/</span><span style=\"color: #ff00ff; text-decoration-color: #ff00ff\">adhd40_3205761.tgz...</span>\n",
              "</pre>\n"
            ]
          },
          "metadata": {}
        },
        {
          "output_type": "display_data",
          "data": {
            "text/plain": [
              "\u001b[1;34m[\u001b[0m\u001b[34muncompress_file\u001b[0m\u001b[1;34m]\u001b[0m .. done.\n",
              "\n"
            ],
            "text/html": [
              "<pre style=\"white-space:pre;overflow-x:auto;line-height:normal;font-family:Menlo,'DejaVu Sans Mono',consolas,'Courier New',monospace\"><span style=\"color: #000080; text-decoration-color: #000080; font-weight: bold\">[</span><span style=\"color: #000080; text-decoration-color: #000080\">uncompress_file</span><span style=\"color: #000080; text-decoration-color: #000080; font-weight: bold\">]</span> .. done.\n",
              "\n",
              "</pre>\n"
            ]
          },
          "metadata": {}
        },
        {
          "output_type": "display_data",
          "data": {
            "text/plain": [
              "\u001b[1;34m[\u001b[0m\u001b[34mfetch_single_file\u001b[0m\u001b[1;34m]\u001b[0m Downloading data from \u001b[4;94mhttps://www.nitrc.org/frs/download.php/7805/adhd40_3520880.tgz\u001b[0m \u001b[33m...\u001b[0m\n"
            ],
            "text/html": [
              "<pre style=\"white-space:pre;overflow-x:auto;line-height:normal;font-family:Menlo,'DejaVu Sans Mono',consolas,'Courier New',monospace\"><span style=\"color: #000080; text-decoration-color: #000080; font-weight: bold\">[</span><span style=\"color: #000080; text-decoration-color: #000080\">fetch_single_file</span><span style=\"color: #000080; text-decoration-color: #000080; font-weight: bold\">]</span> Downloading data from <span style=\"color: #0000ff; text-decoration-color: #0000ff; text-decoration: underline\">https://www.nitrc.org/frs/download.php/7805/adhd40_3520880.tgz</span> <span style=\"color: #808000; text-decoration-color: #808000\">...</span>\n",
              "</pre>\n"
            ]
          },
          "metadata": {}
        },
        {
          "output_type": "display_data",
          "data": {
            "text/plain": [
              "\u001b[1;34m[\u001b[0m\u001b[34m_chunk_report_\u001b[0m\u001b[1;34m]\u001b[0m Downloaded \u001b[1;36m28557312\u001b[0m of \u001b[1;36m61857076\u001b[0m bytes \u001b[1m(\u001b[0m\u001b[1;36m46.2\u001b[0m%%,    \u001b[1;36m1.\u001b[0m2s remaining\u001b[1m)\u001b[0m\n"
            ],
            "text/html": [
              "<pre style=\"white-space:pre;overflow-x:auto;line-height:normal;font-family:Menlo,'DejaVu Sans Mono',consolas,'Courier New',monospace\"><span style=\"color: #000080; text-decoration-color: #000080; font-weight: bold\">[</span><span style=\"color: #000080; text-decoration-color: #000080\">_chunk_report_</span><span style=\"color: #000080; text-decoration-color: #000080; font-weight: bold\">]</span> Downloaded <span style=\"color: #008080; text-decoration-color: #008080; font-weight: bold\">28557312</span> of <span style=\"color: #008080; text-decoration-color: #008080; font-weight: bold\">61857076</span> bytes <span style=\"font-weight: bold\">(</span><span style=\"color: #008080; text-decoration-color: #008080; font-weight: bold\">46.2</span>%%,    <span style=\"color: #008080; text-decoration-color: #008080; font-weight: bold\">1.</span>2s remaining<span style=\"font-weight: bold\">)</span>\n",
              "</pre>\n"
            ]
          },
          "metadata": {}
        },
        {
          "output_type": "display_data",
          "data": {
            "text/plain": [
              "\u001b[1;34m[\u001b[0m\u001b[34m_chunk_report_\u001b[0m\u001b[1;34m]\u001b[0m Downloaded \u001b[1;36m57384960\u001b[0m of \u001b[1;36m61857076\u001b[0m bytes \u001b[1m(\u001b[0m\u001b[1;36m92.8\u001b[0m%%,    \u001b[1;36m0.\u001b[0m2s remaining\u001b[1m)\u001b[0m\n"
            ],
            "text/html": [
              "<pre style=\"white-space:pre;overflow-x:auto;line-height:normal;font-family:Menlo,'DejaVu Sans Mono',consolas,'Courier New',monospace\"><span style=\"color: #000080; text-decoration-color: #000080; font-weight: bold\">[</span><span style=\"color: #000080; text-decoration-color: #000080\">_chunk_report_</span><span style=\"color: #000080; text-decoration-color: #000080; font-weight: bold\">]</span> Downloaded <span style=\"color: #008080; text-decoration-color: #008080; font-weight: bold\">57384960</span> of <span style=\"color: #008080; text-decoration-color: #008080; font-weight: bold\">61857076</span> bytes <span style=\"font-weight: bold\">(</span><span style=\"color: #008080; text-decoration-color: #008080; font-weight: bold\">92.8</span>%%,    <span style=\"color: #008080; text-decoration-color: #008080; font-weight: bold\">0.</span>2s remaining<span style=\"font-weight: bold\">)</span>\n",
              "</pre>\n"
            ]
          },
          "metadata": {}
        },
        {
          "output_type": "display_data",
          "data": {
            "text/plain": [
              "\u001b[1;34m[\u001b[0m\u001b[34mfetch_single_file\u001b[0m\u001b[1;34m]\u001b[0m  \u001b[33m...\u001b[0mdone. \u001b[1m(\u001b[0m\u001b[1;36m2\u001b[0m seconds, \u001b[1;36m0\u001b[0m min\u001b[1m)\u001b[0m\n",
              "\n"
            ],
            "text/html": [
              "<pre style=\"white-space:pre;overflow-x:auto;line-height:normal;font-family:Menlo,'DejaVu Sans Mono',consolas,'Courier New',monospace\"><span style=\"color: #000080; text-decoration-color: #000080; font-weight: bold\">[</span><span style=\"color: #000080; text-decoration-color: #000080\">fetch_single_file</span><span style=\"color: #000080; text-decoration-color: #000080; font-weight: bold\">]</span>  <span style=\"color: #808000; text-decoration-color: #808000\">...</span>done. <span style=\"font-weight: bold\">(</span><span style=\"color: #008080; text-decoration-color: #008080; font-weight: bold\">2</span> seconds, <span style=\"color: #008080; text-decoration-color: #008080; font-weight: bold\">0</span> min<span style=\"font-weight: bold\">)</span>\n",
              "\n",
              "</pre>\n"
            ]
          },
          "metadata": {}
        },
        {
          "output_type": "display_data",
          "data": {
            "text/plain": [
              "\u001b[1;34m[\u001b[0m\u001b[34muncompress_file\u001b[0m\u001b[1;34m]\u001b[0m Extracting data from \n",
              "\u001b[35m/root/nilearn_data/adhd/49718167d83b032094ad6d17e64b4e49/\u001b[0m\u001b[95madhd40_3520880.tgz...\u001b[0m\n"
            ],
            "text/html": [
              "<pre style=\"white-space:pre;overflow-x:auto;line-height:normal;font-family:Menlo,'DejaVu Sans Mono',consolas,'Courier New',monospace\"><span style=\"color: #000080; text-decoration-color: #000080; font-weight: bold\">[</span><span style=\"color: #000080; text-decoration-color: #000080\">uncompress_file</span><span style=\"color: #000080; text-decoration-color: #000080; font-weight: bold\">]</span> Extracting data from \n",
              "<span style=\"color: #800080; text-decoration-color: #800080\">/root/nilearn_data/adhd/49718167d83b032094ad6d17e64b4e49/</span><span style=\"color: #ff00ff; text-decoration-color: #ff00ff\">adhd40_3520880.tgz...</span>\n",
              "</pre>\n"
            ]
          },
          "metadata": {}
        },
        {
          "output_type": "display_data",
          "data": {
            "text/plain": [
              "\u001b[1;34m[\u001b[0m\u001b[34muncompress_file\u001b[0m\u001b[1;34m]\u001b[0m .. done.\n",
              "\n"
            ],
            "text/html": [
              "<pre style=\"white-space:pre;overflow-x:auto;line-height:normal;font-family:Menlo,'DejaVu Sans Mono',consolas,'Courier New',monospace\"><span style=\"color: #000080; text-decoration-color: #000080; font-weight: bold\">[</span><span style=\"color: #000080; text-decoration-color: #000080\">uncompress_file</span><span style=\"color: #000080; text-decoration-color: #000080; font-weight: bold\">]</span> .. done.\n",
              "\n",
              "</pre>\n"
            ]
          },
          "metadata": {}
        },
        {
          "output_type": "display_data",
          "data": {
            "text/plain": [
              "\u001b[1;34m[\u001b[0m\u001b[34mfetch_single_file\u001b[0m\u001b[1;34m]\u001b[0m Downloading data from \u001b[4;94mhttps://www.nitrc.org/frs/download.php/7806/adhd40_3624598.tgz\u001b[0m \u001b[33m...\u001b[0m\n"
            ],
            "text/html": [
              "<pre style=\"white-space:pre;overflow-x:auto;line-height:normal;font-family:Menlo,'DejaVu Sans Mono',consolas,'Courier New',monospace\"><span style=\"color: #000080; text-decoration-color: #000080; font-weight: bold\">[</span><span style=\"color: #000080; text-decoration-color: #000080\">fetch_single_file</span><span style=\"color: #000080; text-decoration-color: #000080; font-weight: bold\">]</span> Downloading data from <span style=\"color: #0000ff; text-decoration-color: #0000ff; text-decoration: underline\">https://www.nitrc.org/frs/download.php/7806/adhd40_3624598.tgz</span> <span style=\"color: #808000; text-decoration-color: #808000\">...</span>\n",
              "</pre>\n"
            ]
          },
          "metadata": {}
        },
        {
          "output_type": "display_data",
          "data": {
            "text/plain": [
              "\u001b[1;34m[\u001b[0m\u001b[34m_chunk_report_\u001b[0m\u001b[1;34m]\u001b[0m Downloaded \u001b[1;36m28778496\u001b[0m of \u001b[1;36m59385206\u001b[0m bytes \u001b[1m(\u001b[0m\u001b[1;36m48.5\u001b[0m%%,    \u001b[1;36m1.\u001b[0m1s remaining\u001b[1m)\u001b[0m\n"
            ],
            "text/html": [
              "<pre style=\"white-space:pre;overflow-x:auto;line-height:normal;font-family:Menlo,'DejaVu Sans Mono',consolas,'Courier New',monospace\"><span style=\"color: #000080; text-decoration-color: #000080; font-weight: bold\">[</span><span style=\"color: #000080; text-decoration-color: #000080\">_chunk_report_</span><span style=\"color: #000080; text-decoration-color: #000080; font-weight: bold\">]</span> Downloaded <span style=\"color: #008080; text-decoration-color: #008080; font-weight: bold\">28778496</span> of <span style=\"color: #008080; text-decoration-color: #008080; font-weight: bold\">59385206</span> bytes <span style=\"font-weight: bold\">(</span><span style=\"color: #008080; text-decoration-color: #008080; font-weight: bold\">48.5</span>%%,    <span style=\"color: #008080; text-decoration-color: #008080; font-weight: bold\">1.</span>1s remaining<span style=\"font-weight: bold\">)</span>\n",
              "</pre>\n"
            ]
          },
          "metadata": {}
        },
        {
          "output_type": "display_data",
          "data": {
            "text/plain": [
              "\u001b[1;34m[\u001b[0m\u001b[34m_chunk_report_\u001b[0m\u001b[1;34m]\u001b[0m Downloaded \u001b[1;36m57262080\u001b[0m of \u001b[1;36m59385206\u001b[0m bytes \u001b[1m(\u001b[0m\u001b[1;36m96.4\u001b[0m%%,    \u001b[1;36m0.\u001b[0m1s remaining\u001b[1m)\u001b[0m\n"
            ],
            "text/html": [
              "<pre style=\"white-space:pre;overflow-x:auto;line-height:normal;font-family:Menlo,'DejaVu Sans Mono',consolas,'Courier New',monospace\"><span style=\"color: #000080; text-decoration-color: #000080; font-weight: bold\">[</span><span style=\"color: #000080; text-decoration-color: #000080\">_chunk_report_</span><span style=\"color: #000080; text-decoration-color: #000080; font-weight: bold\">]</span> Downloaded <span style=\"color: #008080; text-decoration-color: #008080; font-weight: bold\">57262080</span> of <span style=\"color: #008080; text-decoration-color: #008080; font-weight: bold\">59385206</span> bytes <span style=\"font-weight: bold\">(</span><span style=\"color: #008080; text-decoration-color: #008080; font-weight: bold\">96.4</span>%%,    <span style=\"color: #008080; text-decoration-color: #008080; font-weight: bold\">0.</span>1s remaining<span style=\"font-weight: bold\">)</span>\n",
              "</pre>\n"
            ]
          },
          "metadata": {}
        },
        {
          "output_type": "display_data",
          "data": {
            "text/plain": [
              "\u001b[1;34m[\u001b[0m\u001b[34mfetch_single_file\u001b[0m\u001b[1;34m]\u001b[0m  \u001b[33m...\u001b[0mdone. \u001b[1m(\u001b[0m\u001b[1;36m2\u001b[0m seconds, \u001b[1;36m0\u001b[0m min\u001b[1m)\u001b[0m\n",
              "\n"
            ],
            "text/html": [
              "<pre style=\"white-space:pre;overflow-x:auto;line-height:normal;font-family:Menlo,'DejaVu Sans Mono',consolas,'Courier New',monospace\"><span style=\"color: #000080; text-decoration-color: #000080; font-weight: bold\">[</span><span style=\"color: #000080; text-decoration-color: #000080\">fetch_single_file</span><span style=\"color: #000080; text-decoration-color: #000080; font-weight: bold\">]</span>  <span style=\"color: #808000; text-decoration-color: #808000\">...</span>done. <span style=\"font-weight: bold\">(</span><span style=\"color: #008080; text-decoration-color: #008080; font-weight: bold\">2</span> seconds, <span style=\"color: #008080; text-decoration-color: #008080; font-weight: bold\">0</span> min<span style=\"font-weight: bold\">)</span>\n",
              "\n",
              "</pre>\n"
            ]
          },
          "metadata": {}
        },
        {
          "output_type": "display_data",
          "data": {
            "text/plain": [
              "\u001b[1;34m[\u001b[0m\u001b[34muncompress_file\u001b[0m\u001b[1;34m]\u001b[0m Extracting data from \n",
              "\u001b[35m/root/nilearn_data/adhd/49718167d83b032094ad6d17e64b4e49/\u001b[0m\u001b[95madhd40_3624598.tgz...\u001b[0m\n"
            ],
            "text/html": [
              "<pre style=\"white-space:pre;overflow-x:auto;line-height:normal;font-family:Menlo,'DejaVu Sans Mono',consolas,'Courier New',monospace\"><span style=\"color: #000080; text-decoration-color: #000080; font-weight: bold\">[</span><span style=\"color: #000080; text-decoration-color: #000080\">uncompress_file</span><span style=\"color: #000080; text-decoration-color: #000080; font-weight: bold\">]</span> Extracting data from \n",
              "<span style=\"color: #800080; text-decoration-color: #800080\">/root/nilearn_data/adhd/49718167d83b032094ad6d17e64b4e49/</span><span style=\"color: #ff00ff; text-decoration-color: #ff00ff\">adhd40_3624598.tgz...</span>\n",
              "</pre>\n"
            ]
          },
          "metadata": {}
        },
        {
          "output_type": "display_data",
          "data": {
            "text/plain": [
              "\u001b[1;34m[\u001b[0m\u001b[34muncompress_file\u001b[0m\u001b[1;34m]\u001b[0m .. done.\n",
              "\n"
            ],
            "text/html": [
              "<pre style=\"white-space:pre;overflow-x:auto;line-height:normal;font-family:Menlo,'DejaVu Sans Mono',consolas,'Courier New',monospace\"><span style=\"color: #000080; text-decoration-color: #000080; font-weight: bold\">[</span><span style=\"color: #000080; text-decoration-color: #000080\">uncompress_file</span><span style=\"color: #000080; text-decoration-color: #000080; font-weight: bold\">]</span> .. done.\n",
              "\n",
              "</pre>\n"
            ]
          },
          "metadata": {}
        },
        {
          "output_type": "display_data",
          "data": {
            "text/plain": [
              "\u001b[1;34m[\u001b[0m\u001b[34mfetch_single_file\u001b[0m\u001b[1;34m]\u001b[0m Downloading data from \u001b[4;94mhttps://www.nitrc.org/frs/download.php/7807/adhd40_3699991.tgz\u001b[0m \u001b[33m...\u001b[0m\n"
            ],
            "text/html": [
              "<pre style=\"white-space:pre;overflow-x:auto;line-height:normal;font-family:Menlo,'DejaVu Sans Mono',consolas,'Courier New',monospace\"><span style=\"color: #000080; text-decoration-color: #000080; font-weight: bold\">[</span><span style=\"color: #000080; text-decoration-color: #000080\">fetch_single_file</span><span style=\"color: #000080; text-decoration-color: #000080; font-weight: bold\">]</span> Downloading data from <span style=\"color: #0000ff; text-decoration-color: #0000ff; text-decoration: underline\">https://www.nitrc.org/frs/download.php/7807/adhd40_3699991.tgz</span> <span style=\"color: #808000; text-decoration-color: #808000\">...</span>\n",
              "</pre>\n"
            ]
          },
          "metadata": {}
        },
        {
          "output_type": "display_data",
          "data": {
            "text/plain": [
              "\u001b[1;34m[\u001b[0m\u001b[34m_chunk_report_\u001b[0m\u001b[1;34m]\u001b[0m Downloaded \u001b[1;36m28426240\u001b[0m of \u001b[1;36m41518251\u001b[0m bytes \u001b[1m(\u001b[0m\u001b[1;36m68.5\u001b[0m%%,    \u001b[1;36m0.\u001b[0m5s remaining\u001b[1m)\u001b[0m\n"
            ],
            "text/html": [
              "<pre style=\"white-space:pre;overflow-x:auto;line-height:normal;font-family:Menlo,'DejaVu Sans Mono',consolas,'Courier New',monospace\"><span style=\"color: #000080; text-decoration-color: #000080; font-weight: bold\">[</span><span style=\"color: #000080; text-decoration-color: #000080\">_chunk_report_</span><span style=\"color: #000080; text-decoration-color: #000080; font-weight: bold\">]</span> Downloaded <span style=\"color: #008080; text-decoration-color: #008080; font-weight: bold\">28426240</span> of <span style=\"color: #008080; text-decoration-color: #008080; font-weight: bold\">41518251</span> bytes <span style=\"font-weight: bold\">(</span><span style=\"color: #008080; text-decoration-color: #008080; font-weight: bold\">68.5</span>%%,    <span style=\"color: #008080; text-decoration-color: #008080; font-weight: bold\">0.</span>5s remaining<span style=\"font-weight: bold\">)</span>\n",
              "</pre>\n"
            ]
          },
          "metadata": {}
        },
        {
          "output_type": "display_data",
          "data": {
            "text/plain": [
              "\u001b[1;34m[\u001b[0m\u001b[34mfetch_single_file\u001b[0m\u001b[1;34m]\u001b[0m  \u001b[33m...\u001b[0mdone. \u001b[1m(\u001b[0m\u001b[1;36m2\u001b[0m seconds, \u001b[1;36m0\u001b[0m min\u001b[1m)\u001b[0m\n",
              "\n"
            ],
            "text/html": [
              "<pre style=\"white-space:pre;overflow-x:auto;line-height:normal;font-family:Menlo,'DejaVu Sans Mono',consolas,'Courier New',monospace\"><span style=\"color: #000080; text-decoration-color: #000080; font-weight: bold\">[</span><span style=\"color: #000080; text-decoration-color: #000080\">fetch_single_file</span><span style=\"color: #000080; text-decoration-color: #000080; font-weight: bold\">]</span>  <span style=\"color: #808000; text-decoration-color: #808000\">...</span>done. <span style=\"font-weight: bold\">(</span><span style=\"color: #008080; text-decoration-color: #008080; font-weight: bold\">2</span> seconds, <span style=\"color: #008080; text-decoration-color: #008080; font-weight: bold\">0</span> min<span style=\"font-weight: bold\">)</span>\n",
              "\n",
              "</pre>\n"
            ]
          },
          "metadata": {}
        },
        {
          "output_type": "display_data",
          "data": {
            "text/plain": [
              "\u001b[1;34m[\u001b[0m\u001b[34muncompress_file\u001b[0m\u001b[1;34m]\u001b[0m Extracting data from \n",
              "\u001b[35m/root/nilearn_data/adhd/49718167d83b032094ad6d17e64b4e49/\u001b[0m\u001b[95madhd40_3699991.tgz...\u001b[0m\n"
            ],
            "text/html": [
              "<pre style=\"white-space:pre;overflow-x:auto;line-height:normal;font-family:Menlo,'DejaVu Sans Mono',consolas,'Courier New',monospace\"><span style=\"color: #000080; text-decoration-color: #000080; font-weight: bold\">[</span><span style=\"color: #000080; text-decoration-color: #000080\">uncompress_file</span><span style=\"color: #000080; text-decoration-color: #000080; font-weight: bold\">]</span> Extracting data from \n",
              "<span style=\"color: #800080; text-decoration-color: #800080\">/root/nilearn_data/adhd/49718167d83b032094ad6d17e64b4e49/</span><span style=\"color: #ff00ff; text-decoration-color: #ff00ff\">adhd40_3699991.tgz...</span>\n",
              "</pre>\n"
            ]
          },
          "metadata": {}
        },
        {
          "output_type": "display_data",
          "data": {
            "text/plain": [
              "\u001b[1;34m[\u001b[0m\u001b[34muncompress_file\u001b[0m\u001b[1;34m]\u001b[0m .. done.\n",
              "\n"
            ],
            "text/html": [
              "<pre style=\"white-space:pre;overflow-x:auto;line-height:normal;font-family:Menlo,'DejaVu Sans Mono',consolas,'Courier New',monospace\"><span style=\"color: #000080; text-decoration-color: #000080; font-weight: bold\">[</span><span style=\"color: #000080; text-decoration-color: #000080\">uncompress_file</span><span style=\"color: #000080; text-decoration-color: #000080; font-weight: bold\">]</span> .. done.\n",
              "\n",
              "</pre>\n"
            ]
          },
          "metadata": {}
        },
        {
          "output_type": "display_data",
          "data": {
            "text/plain": [
              "\u001b[1;34m[\u001b[0m\u001b[34mfetch_single_file\u001b[0m\u001b[1;34m]\u001b[0m Downloading data from \u001b[4;94mhttps://www.nitrc.org/frs/download.php/7808/adhd40_3884955.tgz\u001b[0m \u001b[33m...\u001b[0m\n"
            ],
            "text/html": [
              "<pre style=\"white-space:pre;overflow-x:auto;line-height:normal;font-family:Menlo,'DejaVu Sans Mono',consolas,'Courier New',monospace\"><span style=\"color: #000080; text-decoration-color: #000080; font-weight: bold\">[</span><span style=\"color: #000080; text-decoration-color: #000080\">fetch_single_file</span><span style=\"color: #000080; text-decoration-color: #000080; font-weight: bold\">]</span> Downloading data from <span style=\"color: #0000ff; text-decoration-color: #0000ff; text-decoration: underline\">https://www.nitrc.org/frs/download.php/7808/adhd40_3884955.tgz</span> <span style=\"color: #808000; text-decoration-color: #808000\">...</span>\n",
              "</pre>\n"
            ]
          },
          "metadata": {}
        },
        {
          "output_type": "display_data",
          "data": {
            "text/plain": [
              "\u001b[1;34m[\u001b[0m\u001b[34m_chunk_report_\u001b[0m\u001b[1;34m]\u001b[0m Downloaded \u001b[1;36m28033024\u001b[0m of \u001b[1;36m32108848\u001b[0m bytes \u001b[1m(\u001b[0m\u001b[1;36m87.3\u001b[0m%%,    \u001b[1;36m0.\u001b[0m1s remaining\u001b[1m)\u001b[0m\n"
            ],
            "text/html": [
              "<pre style=\"white-space:pre;overflow-x:auto;line-height:normal;font-family:Menlo,'DejaVu Sans Mono',consolas,'Courier New',monospace\"><span style=\"color: #000080; text-decoration-color: #000080; font-weight: bold\">[</span><span style=\"color: #000080; text-decoration-color: #000080\">_chunk_report_</span><span style=\"color: #000080; text-decoration-color: #000080; font-weight: bold\">]</span> Downloaded <span style=\"color: #008080; text-decoration-color: #008080; font-weight: bold\">28033024</span> of <span style=\"color: #008080; text-decoration-color: #008080; font-weight: bold\">32108848</span> bytes <span style=\"font-weight: bold\">(</span><span style=\"color: #008080; text-decoration-color: #008080; font-weight: bold\">87.3</span>%%,    <span style=\"color: #008080; text-decoration-color: #008080; font-weight: bold\">0.</span>1s remaining<span style=\"font-weight: bold\">)</span>\n",
              "</pre>\n"
            ]
          },
          "metadata": {}
        },
        {
          "output_type": "display_data",
          "data": {
            "text/plain": [
              "\u001b[1;34m[\u001b[0m\u001b[34mfetch_single_file\u001b[0m\u001b[1;34m]\u001b[0m  \u001b[33m...\u001b[0mdone. \u001b[1m(\u001b[0m\u001b[1;36m1\u001b[0m seconds, \u001b[1;36m0\u001b[0m min\u001b[1m)\u001b[0m\n",
              "\n"
            ],
            "text/html": [
              "<pre style=\"white-space:pre;overflow-x:auto;line-height:normal;font-family:Menlo,'DejaVu Sans Mono',consolas,'Courier New',monospace\"><span style=\"color: #000080; text-decoration-color: #000080; font-weight: bold\">[</span><span style=\"color: #000080; text-decoration-color: #000080\">fetch_single_file</span><span style=\"color: #000080; text-decoration-color: #000080; font-weight: bold\">]</span>  <span style=\"color: #808000; text-decoration-color: #808000\">...</span>done. <span style=\"font-weight: bold\">(</span><span style=\"color: #008080; text-decoration-color: #008080; font-weight: bold\">1</span> seconds, <span style=\"color: #008080; text-decoration-color: #008080; font-weight: bold\">0</span> min<span style=\"font-weight: bold\">)</span>\n",
              "\n",
              "</pre>\n"
            ]
          },
          "metadata": {}
        },
        {
          "output_type": "display_data",
          "data": {
            "text/plain": [
              "\u001b[1;34m[\u001b[0m\u001b[34muncompress_file\u001b[0m\u001b[1;34m]\u001b[0m Extracting data from \n",
              "\u001b[35m/root/nilearn_data/adhd/49718167d83b032094ad6d17e64b4e49/\u001b[0m\u001b[95madhd40_3884955.tgz...\u001b[0m\n"
            ],
            "text/html": [
              "<pre style=\"white-space:pre;overflow-x:auto;line-height:normal;font-family:Menlo,'DejaVu Sans Mono',consolas,'Courier New',monospace\"><span style=\"color: #000080; text-decoration-color: #000080; font-weight: bold\">[</span><span style=\"color: #000080; text-decoration-color: #000080\">uncompress_file</span><span style=\"color: #000080; text-decoration-color: #000080; font-weight: bold\">]</span> Extracting data from \n",
              "<span style=\"color: #800080; text-decoration-color: #800080\">/root/nilearn_data/adhd/49718167d83b032094ad6d17e64b4e49/</span><span style=\"color: #ff00ff; text-decoration-color: #ff00ff\">adhd40_3884955.tgz...</span>\n",
              "</pre>\n"
            ]
          },
          "metadata": {}
        },
        {
          "output_type": "display_data",
          "data": {
            "text/plain": [
              "\u001b[1;34m[\u001b[0m\u001b[34muncompress_file\u001b[0m\u001b[1;34m]\u001b[0m .. done.\n",
              "\n"
            ],
            "text/html": [
              "<pre style=\"white-space:pre;overflow-x:auto;line-height:normal;font-family:Menlo,'DejaVu Sans Mono',consolas,'Courier New',monospace\"><span style=\"color: #000080; text-decoration-color: #000080; font-weight: bold\">[</span><span style=\"color: #000080; text-decoration-color: #000080\">uncompress_file</span><span style=\"color: #000080; text-decoration-color: #000080; font-weight: bold\">]</span> .. done.\n",
              "\n",
              "</pre>\n"
            ]
          },
          "metadata": {}
        },
        {
          "output_type": "display_data",
          "data": {
            "text/plain": [
              "\u001b[1;34m[\u001b[0m\u001b[34mfetch_single_file\u001b[0m\u001b[1;34m]\u001b[0m Downloading data from \u001b[4;94mhttps://www.nitrc.org/frs/download.php/7809/adhd40_3902469.tgz\u001b[0m \u001b[33m...\u001b[0m\n"
            ],
            "text/html": [
              "<pre style=\"white-space:pre;overflow-x:auto;line-height:normal;font-family:Menlo,'DejaVu Sans Mono',consolas,'Courier New',monospace\"><span style=\"color: #000080; text-decoration-color: #000080; font-weight: bold\">[</span><span style=\"color: #000080; text-decoration-color: #000080\">fetch_single_file</span><span style=\"color: #000080; text-decoration-color: #000080; font-weight: bold\">]</span> Downloading data from <span style=\"color: #0000ff; text-decoration-color: #0000ff; text-decoration: underline\">https://www.nitrc.org/frs/download.php/7809/adhd40_3902469.tgz</span> <span style=\"color: #808000; text-decoration-color: #808000\">...</span>\n",
              "</pre>\n"
            ]
          },
          "metadata": {}
        },
        {
          "output_type": "display_data",
          "data": {
            "text/plain": [
              "\u001b[1;34m[\u001b[0m\u001b[34m_chunk_report_\u001b[0m\u001b[1;34m]\u001b[0m Downloaded \u001b[1;36m28286976\u001b[0m of \u001b[1;36m39415752\u001b[0m bytes \u001b[1m(\u001b[0m\u001b[1;36m71.8\u001b[0m%%,    \u001b[1;36m0.\u001b[0m4s remaining\u001b[1m)\u001b[0m\n"
            ],
            "text/html": [
              "<pre style=\"white-space:pre;overflow-x:auto;line-height:normal;font-family:Menlo,'DejaVu Sans Mono',consolas,'Courier New',monospace\"><span style=\"color: #000080; text-decoration-color: #000080; font-weight: bold\">[</span><span style=\"color: #000080; text-decoration-color: #000080\">_chunk_report_</span><span style=\"color: #000080; text-decoration-color: #000080; font-weight: bold\">]</span> Downloaded <span style=\"color: #008080; text-decoration-color: #008080; font-weight: bold\">28286976</span> of <span style=\"color: #008080; text-decoration-color: #008080; font-weight: bold\">39415752</span> bytes <span style=\"font-weight: bold\">(</span><span style=\"color: #008080; text-decoration-color: #008080; font-weight: bold\">71.8</span>%%,    <span style=\"color: #008080; text-decoration-color: #008080; font-weight: bold\">0.</span>4s remaining<span style=\"font-weight: bold\">)</span>\n",
              "</pre>\n"
            ]
          },
          "metadata": {}
        },
        {
          "output_type": "display_data",
          "data": {
            "text/plain": [
              "\u001b[1;34m[\u001b[0m\u001b[34mfetch_single_file\u001b[0m\u001b[1;34m]\u001b[0m  \u001b[33m...\u001b[0mdone. \u001b[1m(\u001b[0m\u001b[1;36m2\u001b[0m seconds, \u001b[1;36m0\u001b[0m min\u001b[1m)\u001b[0m\n",
              "\n"
            ],
            "text/html": [
              "<pre style=\"white-space:pre;overflow-x:auto;line-height:normal;font-family:Menlo,'DejaVu Sans Mono',consolas,'Courier New',monospace\"><span style=\"color: #000080; text-decoration-color: #000080; font-weight: bold\">[</span><span style=\"color: #000080; text-decoration-color: #000080\">fetch_single_file</span><span style=\"color: #000080; text-decoration-color: #000080; font-weight: bold\">]</span>  <span style=\"color: #808000; text-decoration-color: #808000\">...</span>done. <span style=\"font-weight: bold\">(</span><span style=\"color: #008080; text-decoration-color: #008080; font-weight: bold\">2</span> seconds, <span style=\"color: #008080; text-decoration-color: #008080; font-weight: bold\">0</span> min<span style=\"font-weight: bold\">)</span>\n",
              "\n",
              "</pre>\n"
            ]
          },
          "metadata": {}
        },
        {
          "output_type": "display_data",
          "data": {
            "text/plain": [
              "\u001b[1;34m[\u001b[0m\u001b[34muncompress_file\u001b[0m\u001b[1;34m]\u001b[0m Extracting data from \n",
              "\u001b[35m/root/nilearn_data/adhd/49718167d83b032094ad6d17e64b4e49/\u001b[0m\u001b[95madhd40_3902469.tgz...\u001b[0m\n"
            ],
            "text/html": [
              "<pre style=\"white-space:pre;overflow-x:auto;line-height:normal;font-family:Menlo,'DejaVu Sans Mono',consolas,'Courier New',monospace\"><span style=\"color: #000080; text-decoration-color: #000080; font-weight: bold\">[</span><span style=\"color: #000080; text-decoration-color: #000080\">uncompress_file</span><span style=\"color: #000080; text-decoration-color: #000080; font-weight: bold\">]</span> Extracting data from \n",
              "<span style=\"color: #800080; text-decoration-color: #800080\">/root/nilearn_data/adhd/49718167d83b032094ad6d17e64b4e49/</span><span style=\"color: #ff00ff; text-decoration-color: #ff00ff\">adhd40_3902469.tgz...</span>\n",
              "</pre>\n"
            ]
          },
          "metadata": {}
        },
        {
          "output_type": "display_data",
          "data": {
            "text/plain": [
              "\u001b[1;34m[\u001b[0m\u001b[34muncompress_file\u001b[0m\u001b[1;34m]\u001b[0m .. done.\n",
              "\n"
            ],
            "text/html": [
              "<pre style=\"white-space:pre;overflow-x:auto;line-height:normal;font-family:Menlo,'DejaVu Sans Mono',consolas,'Courier New',monospace\"><span style=\"color: #000080; text-decoration-color: #000080; font-weight: bold\">[</span><span style=\"color: #000080; text-decoration-color: #000080\">uncompress_file</span><span style=\"color: #000080; text-decoration-color: #000080; font-weight: bold\">]</span> .. done.\n",
              "\n",
              "</pre>\n"
            ]
          },
          "metadata": {}
        },
        {
          "output_type": "display_data",
          "data": {
            "text/plain": [
              "\u001b[1;34m[\u001b[0m\u001b[34mfetch_single_file\u001b[0m\u001b[1;34m]\u001b[0m Downloading data from \u001b[4;94mhttps://www.nitrc.org/frs/download.php/7810/adhd40_3994098.tgz\u001b[0m \u001b[33m...\u001b[0m\n"
            ],
            "text/html": [
              "<pre style=\"white-space:pre;overflow-x:auto;line-height:normal;font-family:Menlo,'DejaVu Sans Mono',consolas,'Courier New',monospace\"><span style=\"color: #000080; text-decoration-color: #000080; font-weight: bold\">[</span><span style=\"color: #000080; text-decoration-color: #000080\">fetch_single_file</span><span style=\"color: #000080; text-decoration-color: #000080; font-weight: bold\">]</span> Downloading data from <span style=\"color: #0000ff; text-decoration-color: #0000ff; text-decoration: underline\">https://www.nitrc.org/frs/download.php/7810/adhd40_3994098.tgz</span> <span style=\"color: #808000; text-decoration-color: #808000\">...</span>\n",
              "</pre>\n"
            ]
          },
          "metadata": {}
        },
        {
          "output_type": "display_data",
          "data": {
            "text/plain": [
              "\u001b[1;34m[\u001b[0m\u001b[34m_chunk_report_\u001b[0m\u001b[1;34m]\u001b[0m Downloaded \u001b[1;36m28680192\u001b[0m of \u001b[1;36m59297020\u001b[0m bytes \u001b[1m(\u001b[0m\u001b[1;36m48.4\u001b[0m%%,    \u001b[1;36m1.\u001b[0m1s remaining\u001b[1m)\u001b[0m\n"
            ],
            "text/html": [
              "<pre style=\"white-space:pre;overflow-x:auto;line-height:normal;font-family:Menlo,'DejaVu Sans Mono',consolas,'Courier New',monospace\"><span style=\"color: #000080; text-decoration-color: #000080; font-weight: bold\">[</span><span style=\"color: #000080; text-decoration-color: #000080\">_chunk_report_</span><span style=\"color: #000080; text-decoration-color: #000080; font-weight: bold\">]</span> Downloaded <span style=\"color: #008080; text-decoration-color: #008080; font-weight: bold\">28680192</span> of <span style=\"color: #008080; text-decoration-color: #008080; font-weight: bold\">59297020</span> bytes <span style=\"font-weight: bold\">(</span><span style=\"color: #008080; text-decoration-color: #008080; font-weight: bold\">48.4</span>%%,    <span style=\"color: #008080; text-decoration-color: #008080; font-weight: bold\">1.</span>1s remaining<span style=\"font-weight: bold\">)</span>\n",
              "</pre>\n"
            ]
          },
          "metadata": {}
        },
        {
          "output_type": "display_data",
          "data": {
            "text/plain": [
              "\u001b[1;34m[\u001b[0m\u001b[34m_chunk_report_\u001b[0m\u001b[1;34m]\u001b[0m Downloaded \u001b[1;36m57679872\u001b[0m of \u001b[1;36m59297020\u001b[0m bytes \u001b[1m(\u001b[0m\u001b[1;36m97.3\u001b[0m%%,    \u001b[1;36m0.\u001b[0m1s remaining\u001b[1m)\u001b[0m\n"
            ],
            "text/html": [
              "<pre style=\"white-space:pre;overflow-x:auto;line-height:normal;font-family:Menlo,'DejaVu Sans Mono',consolas,'Courier New',monospace\"><span style=\"color: #000080; text-decoration-color: #000080; font-weight: bold\">[</span><span style=\"color: #000080; text-decoration-color: #000080\">_chunk_report_</span><span style=\"color: #000080; text-decoration-color: #000080; font-weight: bold\">]</span> Downloaded <span style=\"color: #008080; text-decoration-color: #008080; font-weight: bold\">57679872</span> of <span style=\"color: #008080; text-decoration-color: #008080; font-weight: bold\">59297020</span> bytes <span style=\"font-weight: bold\">(</span><span style=\"color: #008080; text-decoration-color: #008080; font-weight: bold\">97.3</span>%%,    <span style=\"color: #008080; text-decoration-color: #008080; font-weight: bold\">0.</span>1s remaining<span style=\"font-weight: bold\">)</span>\n",
              "</pre>\n"
            ]
          },
          "metadata": {}
        },
        {
          "output_type": "display_data",
          "data": {
            "text/plain": [
              "\u001b[1;34m[\u001b[0m\u001b[34mfetch_single_file\u001b[0m\u001b[1;34m]\u001b[0m  \u001b[33m...\u001b[0mdone. \u001b[1m(\u001b[0m\u001b[1;36m2\u001b[0m seconds, \u001b[1;36m0\u001b[0m min\u001b[1m)\u001b[0m\n",
              "\n"
            ],
            "text/html": [
              "<pre style=\"white-space:pre;overflow-x:auto;line-height:normal;font-family:Menlo,'DejaVu Sans Mono',consolas,'Courier New',monospace\"><span style=\"color: #000080; text-decoration-color: #000080; font-weight: bold\">[</span><span style=\"color: #000080; text-decoration-color: #000080\">fetch_single_file</span><span style=\"color: #000080; text-decoration-color: #000080; font-weight: bold\">]</span>  <span style=\"color: #808000; text-decoration-color: #808000\">...</span>done. <span style=\"font-weight: bold\">(</span><span style=\"color: #008080; text-decoration-color: #008080; font-weight: bold\">2</span> seconds, <span style=\"color: #008080; text-decoration-color: #008080; font-weight: bold\">0</span> min<span style=\"font-weight: bold\">)</span>\n",
              "\n",
              "</pre>\n"
            ]
          },
          "metadata": {}
        },
        {
          "output_type": "display_data",
          "data": {
            "text/plain": [
              "\u001b[1;34m[\u001b[0m\u001b[34muncompress_file\u001b[0m\u001b[1;34m]\u001b[0m Extracting data from \n",
              "\u001b[35m/root/nilearn_data/adhd/49718167d83b032094ad6d17e64b4e49/\u001b[0m\u001b[95madhd40_3994098.tgz...\u001b[0m\n"
            ],
            "text/html": [
              "<pre style=\"white-space:pre;overflow-x:auto;line-height:normal;font-family:Menlo,'DejaVu Sans Mono',consolas,'Courier New',monospace\"><span style=\"color: #000080; text-decoration-color: #000080; font-weight: bold\">[</span><span style=\"color: #000080; text-decoration-color: #000080\">uncompress_file</span><span style=\"color: #000080; text-decoration-color: #000080; font-weight: bold\">]</span> Extracting data from \n",
              "<span style=\"color: #800080; text-decoration-color: #800080\">/root/nilearn_data/adhd/49718167d83b032094ad6d17e64b4e49/</span><span style=\"color: #ff00ff; text-decoration-color: #ff00ff\">adhd40_3994098.tgz...</span>\n",
              "</pre>\n"
            ]
          },
          "metadata": {}
        },
        {
          "output_type": "display_data",
          "data": {
            "text/plain": [
              "\u001b[1;34m[\u001b[0m\u001b[34muncompress_file\u001b[0m\u001b[1;34m]\u001b[0m .. done.\n",
              "\n"
            ],
            "text/html": [
              "<pre style=\"white-space:pre;overflow-x:auto;line-height:normal;font-family:Menlo,'DejaVu Sans Mono',consolas,'Courier New',monospace\"><span style=\"color: #000080; text-decoration-color: #000080; font-weight: bold\">[</span><span style=\"color: #000080; text-decoration-color: #000080\">uncompress_file</span><span style=\"color: #000080; text-decoration-color: #000080; font-weight: bold\">]</span> .. done.\n",
              "\n",
              "</pre>\n"
            ]
          },
          "metadata": {}
        },
        {
          "output_type": "display_data",
          "data": {
            "text/plain": [
              "\u001b[1;34m[\u001b[0m\u001b[34mfetch_single_file\u001b[0m\u001b[1;34m]\u001b[0m Downloading data from \u001b[4;94mhttps://www.nitrc.org/frs/download.php/7811/adhd40_4016887.tgz\u001b[0m \u001b[33m...\u001b[0m\n"
            ],
            "text/html": [
              "<pre style=\"white-space:pre;overflow-x:auto;line-height:normal;font-family:Menlo,'DejaVu Sans Mono',consolas,'Courier New',monospace\"><span style=\"color: #000080; text-decoration-color: #000080; font-weight: bold\">[</span><span style=\"color: #000080; text-decoration-color: #000080\">fetch_single_file</span><span style=\"color: #000080; text-decoration-color: #000080; font-weight: bold\">]</span> Downloading data from <span style=\"color: #0000ff; text-decoration-color: #0000ff; text-decoration: underline\">https://www.nitrc.org/frs/download.php/7811/adhd40_4016887.tgz</span> <span style=\"color: #808000; text-decoration-color: #808000\">...</span>\n",
              "</pre>\n"
            ]
          },
          "metadata": {}
        },
        {
          "output_type": "display_data",
          "data": {
            "text/plain": [
              "\u001b[1;34m[\u001b[0m\u001b[34mfetch_single_file\u001b[0m\u001b[1;34m]\u001b[0m  \u001b[33m...\u001b[0mdone. \u001b[1m(\u001b[0m\u001b[1;36m1\u001b[0m seconds, \u001b[1;36m0\u001b[0m min\u001b[1m)\u001b[0m\n",
              "\n"
            ],
            "text/html": [
              "<pre style=\"white-space:pre;overflow-x:auto;line-height:normal;font-family:Menlo,'DejaVu Sans Mono',consolas,'Courier New',monospace\"><span style=\"color: #000080; text-decoration-color: #000080; font-weight: bold\">[</span><span style=\"color: #000080; text-decoration-color: #000080\">fetch_single_file</span><span style=\"color: #000080; text-decoration-color: #000080; font-weight: bold\">]</span>  <span style=\"color: #808000; text-decoration-color: #808000\">...</span>done. <span style=\"font-weight: bold\">(</span><span style=\"color: #008080; text-decoration-color: #008080; font-weight: bold\">1</span> seconds, <span style=\"color: #008080; text-decoration-color: #008080; font-weight: bold\">0</span> min<span style=\"font-weight: bold\">)</span>\n",
              "\n",
              "</pre>\n"
            ]
          },
          "metadata": {}
        },
        {
          "output_type": "display_data",
          "data": {
            "text/plain": [
              "\u001b[1;34m[\u001b[0m\u001b[34muncompress_file\u001b[0m\u001b[1;34m]\u001b[0m Extracting data from \n",
              "\u001b[35m/root/nilearn_data/adhd/49718167d83b032094ad6d17e64b4e49/\u001b[0m\u001b[95madhd40_4016887.tgz...\u001b[0m\n"
            ],
            "text/html": [
              "<pre style=\"white-space:pre;overflow-x:auto;line-height:normal;font-family:Menlo,'DejaVu Sans Mono',consolas,'Courier New',monospace\"><span style=\"color: #000080; text-decoration-color: #000080; font-weight: bold\">[</span><span style=\"color: #000080; text-decoration-color: #000080\">uncompress_file</span><span style=\"color: #000080; text-decoration-color: #000080; font-weight: bold\">]</span> Extracting data from \n",
              "<span style=\"color: #800080; text-decoration-color: #800080\">/root/nilearn_data/adhd/49718167d83b032094ad6d17e64b4e49/</span><span style=\"color: #ff00ff; text-decoration-color: #ff00ff\">adhd40_4016887.tgz...</span>\n",
              "</pre>\n"
            ]
          },
          "metadata": {}
        },
        {
          "output_type": "display_data",
          "data": {
            "text/plain": [
              "\u001b[1;34m[\u001b[0m\u001b[34muncompress_file\u001b[0m\u001b[1;34m]\u001b[0m .. done.\n",
              "\n"
            ],
            "text/html": [
              "<pre style=\"white-space:pre;overflow-x:auto;line-height:normal;font-family:Menlo,'DejaVu Sans Mono',consolas,'Courier New',monospace\"><span style=\"color: #000080; text-decoration-color: #000080; font-weight: bold\">[</span><span style=\"color: #000080; text-decoration-color: #000080\">uncompress_file</span><span style=\"color: #000080; text-decoration-color: #000080; font-weight: bold\">]</span> .. done.\n",
              "\n",
              "</pre>\n"
            ]
          },
          "metadata": {}
        },
        {
          "output_type": "display_data",
          "data": {
            "text/plain": [
              "\u001b[1;34m[\u001b[0m\u001b[34mfetch_single_file\u001b[0m\u001b[1;34m]\u001b[0m Downloading data from \u001b[4;94mhttps://www.nitrc.org/frs/download.php/7812/adhd40_4046678.tgz\u001b[0m \u001b[33m...\u001b[0m\n"
            ],
            "text/html": [
              "<pre style=\"white-space:pre;overflow-x:auto;line-height:normal;font-family:Menlo,'DejaVu Sans Mono',consolas,'Courier New',monospace\"><span style=\"color: #000080; text-decoration-color: #000080; font-weight: bold\">[</span><span style=\"color: #000080; text-decoration-color: #000080\">fetch_single_file</span><span style=\"color: #000080; text-decoration-color: #000080; font-weight: bold\">]</span> Downloading data from <span style=\"color: #0000ff; text-decoration-color: #0000ff; text-decoration: underline\">https://www.nitrc.org/frs/download.php/7812/adhd40_4046678.tgz</span> <span style=\"color: #808000; text-decoration-color: #808000\">...</span>\n",
              "</pre>\n"
            ]
          },
          "metadata": {}
        },
        {
          "output_type": "display_data",
          "data": {
            "text/plain": [
              "\u001b[1;34m[\u001b[0m\u001b[34mfetch_single_file\u001b[0m\u001b[1;34m]\u001b[0m  \u001b[33m...\u001b[0mdone. \u001b[1m(\u001b[0m\u001b[1;36m1\u001b[0m seconds, \u001b[1;36m0\u001b[0m min\u001b[1m)\u001b[0m\n",
              "\n"
            ],
            "text/html": [
              "<pre style=\"white-space:pre;overflow-x:auto;line-height:normal;font-family:Menlo,'DejaVu Sans Mono',consolas,'Courier New',monospace\"><span style=\"color: #000080; text-decoration-color: #000080; font-weight: bold\">[</span><span style=\"color: #000080; text-decoration-color: #000080\">fetch_single_file</span><span style=\"color: #000080; text-decoration-color: #000080; font-weight: bold\">]</span>  <span style=\"color: #808000; text-decoration-color: #808000\">...</span>done. <span style=\"font-weight: bold\">(</span><span style=\"color: #008080; text-decoration-color: #008080; font-weight: bold\">1</span> seconds, <span style=\"color: #008080; text-decoration-color: #008080; font-weight: bold\">0</span> min<span style=\"font-weight: bold\">)</span>\n",
              "\n",
              "</pre>\n"
            ]
          },
          "metadata": {}
        },
        {
          "output_type": "display_data",
          "data": {
            "text/plain": [
              "\u001b[1;34m[\u001b[0m\u001b[34muncompress_file\u001b[0m\u001b[1;34m]\u001b[0m Extracting data from \n",
              "\u001b[35m/root/nilearn_data/adhd/49718167d83b032094ad6d17e64b4e49/\u001b[0m\u001b[95madhd40_4046678.tgz...\u001b[0m\n"
            ],
            "text/html": [
              "<pre style=\"white-space:pre;overflow-x:auto;line-height:normal;font-family:Menlo,'DejaVu Sans Mono',consolas,'Courier New',monospace\"><span style=\"color: #000080; text-decoration-color: #000080; font-weight: bold\">[</span><span style=\"color: #000080; text-decoration-color: #000080\">uncompress_file</span><span style=\"color: #000080; text-decoration-color: #000080; font-weight: bold\">]</span> Extracting data from \n",
              "<span style=\"color: #800080; text-decoration-color: #800080\">/root/nilearn_data/adhd/49718167d83b032094ad6d17e64b4e49/</span><span style=\"color: #ff00ff; text-decoration-color: #ff00ff\">adhd40_4046678.tgz...</span>\n",
              "</pre>\n"
            ]
          },
          "metadata": {}
        },
        {
          "output_type": "display_data",
          "data": {
            "text/plain": [
              "\u001b[1;34m[\u001b[0m\u001b[34muncompress_file\u001b[0m\u001b[1;34m]\u001b[0m .. done.\n",
              "\n"
            ],
            "text/html": [
              "<pre style=\"white-space:pre;overflow-x:auto;line-height:normal;font-family:Menlo,'DejaVu Sans Mono',consolas,'Courier New',monospace\"><span style=\"color: #000080; text-decoration-color: #000080; font-weight: bold\">[</span><span style=\"color: #000080; text-decoration-color: #000080\">uncompress_file</span><span style=\"color: #000080; text-decoration-color: #000080; font-weight: bold\">]</span> .. done.\n",
              "\n",
              "</pre>\n"
            ]
          },
          "metadata": {}
        },
        {
          "output_type": "display_data",
          "data": {
            "text/plain": [
              "\u001b[1;34m[\u001b[0m\u001b[34mfetch_single_file\u001b[0m\u001b[1;34m]\u001b[0m Downloading data from \u001b[4;94mhttps://www.nitrc.org/frs/download.php/7813/adhd40_4134561.tgz\u001b[0m \u001b[33m...\u001b[0m\n"
            ],
            "text/html": [
              "<pre style=\"white-space:pre;overflow-x:auto;line-height:normal;font-family:Menlo,'DejaVu Sans Mono',consolas,'Courier New',monospace\"><span style=\"color: #000080; text-decoration-color: #000080; font-weight: bold\">[</span><span style=\"color: #000080; text-decoration-color: #000080\">fetch_single_file</span><span style=\"color: #000080; text-decoration-color: #000080; font-weight: bold\">]</span> Downloading data from <span style=\"color: #0000ff; text-decoration-color: #0000ff; text-decoration: underline\">https://www.nitrc.org/frs/download.php/7813/adhd40_4134561.tgz</span> <span style=\"color: #808000; text-decoration-color: #808000\">...</span>\n",
              "</pre>\n"
            ]
          },
          "metadata": {}
        },
        {
          "output_type": "display_data",
          "data": {
            "text/plain": [
              "\u001b[1;34m[\u001b[0m\u001b[34m_chunk_report_\u001b[0m\u001b[1;34m]\u001b[0m Downloaded \u001b[1;36m28426240\u001b[0m of \u001b[1;36m69914913\u001b[0m bytes \u001b[1m(\u001b[0m\u001b[1;36m40.7\u001b[0m%%,    \u001b[1;36m1.\u001b[0m5s remaining\u001b[1m)\u001b[0m\n"
            ],
            "text/html": [
              "<pre style=\"white-space:pre;overflow-x:auto;line-height:normal;font-family:Menlo,'DejaVu Sans Mono',consolas,'Courier New',monospace\"><span style=\"color: #000080; text-decoration-color: #000080; font-weight: bold\">[</span><span style=\"color: #000080; text-decoration-color: #000080\">_chunk_report_</span><span style=\"color: #000080; text-decoration-color: #000080; font-weight: bold\">]</span> Downloaded <span style=\"color: #008080; text-decoration-color: #008080; font-weight: bold\">28426240</span> of <span style=\"color: #008080; text-decoration-color: #008080; font-weight: bold\">69914913</span> bytes <span style=\"font-weight: bold\">(</span><span style=\"color: #008080; text-decoration-color: #008080; font-weight: bold\">40.7</span>%%,    <span style=\"color: #008080; text-decoration-color: #008080; font-weight: bold\">1.</span>5s remaining<span style=\"font-weight: bold\">)</span>\n",
              "</pre>\n"
            ]
          },
          "metadata": {}
        },
        {
          "output_type": "display_data",
          "data": {
            "text/plain": [
              "\u001b[1;34m[\u001b[0m\u001b[34m_chunk_report_\u001b[0m\u001b[1;34m]\u001b[0m Downloaded \u001b[1;36m57384960\u001b[0m of \u001b[1;36m69914913\u001b[0m bytes \u001b[1m(\u001b[0m\u001b[1;36m82.1\u001b[0m%%,    \u001b[1;36m0.\u001b[0m4s remaining\u001b[1m)\u001b[0m\n"
            ],
            "text/html": [
              "<pre style=\"white-space:pre;overflow-x:auto;line-height:normal;font-family:Menlo,'DejaVu Sans Mono',consolas,'Courier New',monospace\"><span style=\"color: #000080; text-decoration-color: #000080; font-weight: bold\">[</span><span style=\"color: #000080; text-decoration-color: #000080\">_chunk_report_</span><span style=\"color: #000080; text-decoration-color: #000080; font-weight: bold\">]</span> Downloaded <span style=\"color: #008080; text-decoration-color: #008080; font-weight: bold\">57384960</span> of <span style=\"color: #008080; text-decoration-color: #008080; font-weight: bold\">69914913</span> bytes <span style=\"font-weight: bold\">(</span><span style=\"color: #008080; text-decoration-color: #008080; font-weight: bold\">82.1</span>%%,    <span style=\"color: #008080; text-decoration-color: #008080; font-weight: bold\">0.</span>4s remaining<span style=\"font-weight: bold\">)</span>\n",
              "</pre>\n"
            ]
          },
          "metadata": {}
        },
        {
          "output_type": "display_data",
          "data": {
            "text/plain": [
              "\u001b[1;34m[\u001b[0m\u001b[34mfetch_single_file\u001b[0m\u001b[1;34m]\u001b[0m  \u001b[33m...\u001b[0mdone. \u001b[1m(\u001b[0m\u001b[1;36m3\u001b[0m seconds, \u001b[1;36m0\u001b[0m min\u001b[1m)\u001b[0m\n",
              "\n"
            ],
            "text/html": [
              "<pre style=\"white-space:pre;overflow-x:auto;line-height:normal;font-family:Menlo,'DejaVu Sans Mono',consolas,'Courier New',monospace\"><span style=\"color: #000080; text-decoration-color: #000080; font-weight: bold\">[</span><span style=\"color: #000080; text-decoration-color: #000080\">fetch_single_file</span><span style=\"color: #000080; text-decoration-color: #000080; font-weight: bold\">]</span>  <span style=\"color: #808000; text-decoration-color: #808000\">...</span>done. <span style=\"font-weight: bold\">(</span><span style=\"color: #008080; text-decoration-color: #008080; font-weight: bold\">3</span> seconds, <span style=\"color: #008080; text-decoration-color: #008080; font-weight: bold\">0</span> min<span style=\"font-weight: bold\">)</span>\n",
              "\n",
              "</pre>\n"
            ]
          },
          "metadata": {}
        },
        {
          "output_type": "display_data",
          "data": {
            "text/plain": [
              "\u001b[1;34m[\u001b[0m\u001b[34muncompress_file\u001b[0m\u001b[1;34m]\u001b[0m Extracting data from \n",
              "\u001b[35m/root/nilearn_data/adhd/49718167d83b032094ad6d17e64b4e49/\u001b[0m\u001b[95madhd40_4134561.tgz...\u001b[0m\n"
            ],
            "text/html": [
              "<pre style=\"white-space:pre;overflow-x:auto;line-height:normal;font-family:Menlo,'DejaVu Sans Mono',consolas,'Courier New',monospace\"><span style=\"color: #000080; text-decoration-color: #000080; font-weight: bold\">[</span><span style=\"color: #000080; text-decoration-color: #000080\">uncompress_file</span><span style=\"color: #000080; text-decoration-color: #000080; font-weight: bold\">]</span> Extracting data from \n",
              "<span style=\"color: #800080; text-decoration-color: #800080\">/root/nilearn_data/adhd/49718167d83b032094ad6d17e64b4e49/</span><span style=\"color: #ff00ff; text-decoration-color: #ff00ff\">adhd40_4134561.tgz...</span>\n",
              "</pre>\n"
            ]
          },
          "metadata": {}
        },
        {
          "output_type": "display_data",
          "data": {
            "text/plain": [
              "\u001b[1;34m[\u001b[0m\u001b[34muncompress_file\u001b[0m\u001b[1;34m]\u001b[0m .. done.\n",
              "\n"
            ],
            "text/html": [
              "<pre style=\"white-space:pre;overflow-x:auto;line-height:normal;font-family:Menlo,'DejaVu Sans Mono',consolas,'Courier New',monospace\"><span style=\"color: #000080; text-decoration-color: #000080; font-weight: bold\">[</span><span style=\"color: #000080; text-decoration-color: #000080\">uncompress_file</span><span style=\"color: #000080; text-decoration-color: #000080; font-weight: bold\">]</span> .. done.\n",
              "\n",
              "</pre>\n"
            ]
          },
          "metadata": {}
        },
        {
          "output_type": "display_data",
          "data": {
            "text/plain": [
              "\u001b[1;34m[\u001b[0m\u001b[34mfetch_single_file\u001b[0m\u001b[1;34m]\u001b[0m Downloading data from \u001b[4;94mhttps://www.nitrc.org/frs/download.php/7814/adhd40_4164316.tgz\u001b[0m \u001b[33m...\u001b[0m\n"
            ],
            "text/html": [
              "<pre style=\"white-space:pre;overflow-x:auto;line-height:normal;font-family:Menlo,'DejaVu Sans Mono',consolas,'Courier New',monospace\"><span style=\"color: #000080; text-decoration-color: #000080; font-weight: bold\">[</span><span style=\"color: #000080; text-decoration-color: #000080\">fetch_single_file</span><span style=\"color: #000080; text-decoration-color: #000080; font-weight: bold\">]</span> Downloading data from <span style=\"color: #0000ff; text-decoration-color: #0000ff; text-decoration: underline\">https://www.nitrc.org/frs/download.php/7814/adhd40_4164316.tgz</span> <span style=\"color: #808000; text-decoration-color: #808000\">...</span>\n",
              "</pre>\n"
            ]
          },
          "metadata": {}
        },
        {
          "output_type": "display_data",
          "data": {
            "text/plain": [
              "\u001b[1;34m[\u001b[0m\u001b[34m_chunk_report_\u001b[0m\u001b[1;34m]\u001b[0m Downloaded \u001b[1;36m28680192\u001b[0m of \u001b[1;36m45506732\u001b[0m bytes \u001b[1m(\u001b[0m\u001b[1;36m63.0\u001b[0m%%,    \u001b[1;36m0.\u001b[0m6s remaining\u001b[1m)\u001b[0m\n"
            ],
            "text/html": [
              "<pre style=\"white-space:pre;overflow-x:auto;line-height:normal;font-family:Menlo,'DejaVu Sans Mono',consolas,'Courier New',monospace\"><span style=\"color: #000080; text-decoration-color: #000080; font-weight: bold\">[</span><span style=\"color: #000080; text-decoration-color: #000080\">_chunk_report_</span><span style=\"color: #000080; text-decoration-color: #000080; font-weight: bold\">]</span> Downloaded <span style=\"color: #008080; text-decoration-color: #008080; font-weight: bold\">28680192</span> of <span style=\"color: #008080; text-decoration-color: #008080; font-weight: bold\">45506732</span> bytes <span style=\"font-weight: bold\">(</span><span style=\"color: #008080; text-decoration-color: #008080; font-weight: bold\">63.0</span>%%,    <span style=\"color: #008080; text-decoration-color: #008080; font-weight: bold\">0.</span>6s remaining<span style=\"font-weight: bold\">)</span>\n",
              "</pre>\n"
            ]
          },
          "metadata": {}
        },
        {
          "output_type": "display_data",
          "data": {
            "text/plain": [
              "\u001b[1;34m[\u001b[0m\u001b[34mfetch_single_file\u001b[0m\u001b[1;34m]\u001b[0m  \u001b[33m...\u001b[0mdone. \u001b[1m(\u001b[0m\u001b[1;36m2\u001b[0m seconds, \u001b[1;36m0\u001b[0m min\u001b[1m)\u001b[0m\n",
              "\n"
            ],
            "text/html": [
              "<pre style=\"white-space:pre;overflow-x:auto;line-height:normal;font-family:Menlo,'DejaVu Sans Mono',consolas,'Courier New',monospace\"><span style=\"color: #000080; text-decoration-color: #000080; font-weight: bold\">[</span><span style=\"color: #000080; text-decoration-color: #000080\">fetch_single_file</span><span style=\"color: #000080; text-decoration-color: #000080; font-weight: bold\">]</span>  <span style=\"color: #808000; text-decoration-color: #808000\">...</span>done. <span style=\"font-weight: bold\">(</span><span style=\"color: #008080; text-decoration-color: #008080; font-weight: bold\">2</span> seconds, <span style=\"color: #008080; text-decoration-color: #008080; font-weight: bold\">0</span> min<span style=\"font-weight: bold\">)</span>\n",
              "\n",
              "</pre>\n"
            ]
          },
          "metadata": {}
        },
        {
          "output_type": "display_data",
          "data": {
            "text/plain": [
              "\u001b[1;34m[\u001b[0m\u001b[34muncompress_file\u001b[0m\u001b[1;34m]\u001b[0m Extracting data from \n",
              "\u001b[35m/root/nilearn_data/adhd/49718167d83b032094ad6d17e64b4e49/\u001b[0m\u001b[95madhd40_4164316.tgz...\u001b[0m\n"
            ],
            "text/html": [
              "<pre style=\"white-space:pre;overflow-x:auto;line-height:normal;font-family:Menlo,'DejaVu Sans Mono',consolas,'Courier New',monospace\"><span style=\"color: #000080; text-decoration-color: #000080; font-weight: bold\">[</span><span style=\"color: #000080; text-decoration-color: #000080\">uncompress_file</span><span style=\"color: #000080; text-decoration-color: #000080; font-weight: bold\">]</span> Extracting data from \n",
              "<span style=\"color: #800080; text-decoration-color: #800080\">/root/nilearn_data/adhd/49718167d83b032094ad6d17e64b4e49/</span><span style=\"color: #ff00ff; text-decoration-color: #ff00ff\">adhd40_4164316.tgz...</span>\n",
              "</pre>\n"
            ]
          },
          "metadata": {}
        },
        {
          "output_type": "display_data",
          "data": {
            "text/plain": [
              "\u001b[1;34m[\u001b[0m\u001b[34muncompress_file\u001b[0m\u001b[1;34m]\u001b[0m .. done.\n",
              "\n"
            ],
            "text/html": [
              "<pre style=\"white-space:pre;overflow-x:auto;line-height:normal;font-family:Menlo,'DejaVu Sans Mono',consolas,'Courier New',monospace\"><span style=\"color: #000080; text-decoration-color: #000080; font-weight: bold\">[</span><span style=\"color: #000080; text-decoration-color: #000080\">uncompress_file</span><span style=\"color: #000080; text-decoration-color: #000080; font-weight: bold\">]</span> .. done.\n",
              "\n",
              "</pre>\n"
            ]
          },
          "metadata": {}
        },
        {
          "output_type": "display_data",
          "data": {
            "text/plain": [
              "\u001b[1;34m[\u001b[0m\u001b[34mfetch_single_file\u001b[0m\u001b[1;34m]\u001b[0m Downloading data from \u001b[4;94mhttps://www.nitrc.org/frs/download.php/7815/adhd40_4275075.tgz\u001b[0m \u001b[33m...\u001b[0m\n"
            ],
            "text/html": [
              "<pre style=\"white-space:pre;overflow-x:auto;line-height:normal;font-family:Menlo,'DejaVu Sans Mono',consolas,'Courier New',monospace\"><span style=\"color: #000080; text-decoration-color: #000080; font-weight: bold\">[</span><span style=\"color: #000080; text-decoration-color: #000080\">fetch_single_file</span><span style=\"color: #000080; text-decoration-color: #000080; font-weight: bold\">]</span> Downloading data from <span style=\"color: #0000ff; text-decoration-color: #0000ff; text-decoration: underline\">https://www.nitrc.org/frs/download.php/7815/adhd40_4275075.tgz</span> <span style=\"color: #808000; text-decoration-color: #808000\">...</span>\n",
              "</pre>\n"
            ]
          },
          "metadata": {}
        },
        {
          "output_type": "display_data",
          "data": {
            "text/plain": [
              "\u001b[1;34m[\u001b[0m\u001b[34m_chunk_report_\u001b[0m\u001b[1;34m]\u001b[0m Downloaded \u001b[1;36m28819456\u001b[0m of \u001b[1;36m32363673\u001b[0m bytes \u001b[1m(\u001b[0m\u001b[1;36m89.0\u001b[0m%%,    \u001b[1;36m0.\u001b[0m1s remaining\u001b[1m)\u001b[0m\n"
            ],
            "text/html": [
              "<pre style=\"white-space:pre;overflow-x:auto;line-height:normal;font-family:Menlo,'DejaVu Sans Mono',consolas,'Courier New',monospace\"><span style=\"color: #000080; text-decoration-color: #000080; font-weight: bold\">[</span><span style=\"color: #000080; text-decoration-color: #000080\">_chunk_report_</span><span style=\"color: #000080; text-decoration-color: #000080; font-weight: bold\">]</span> Downloaded <span style=\"color: #008080; text-decoration-color: #008080; font-weight: bold\">28819456</span> of <span style=\"color: #008080; text-decoration-color: #008080; font-weight: bold\">32363673</span> bytes <span style=\"font-weight: bold\">(</span><span style=\"color: #008080; text-decoration-color: #008080; font-weight: bold\">89.0</span>%%,    <span style=\"color: #008080; text-decoration-color: #008080; font-weight: bold\">0.</span>1s remaining<span style=\"font-weight: bold\">)</span>\n",
              "</pre>\n"
            ]
          },
          "metadata": {}
        },
        {
          "output_type": "display_data",
          "data": {
            "text/plain": [
              "\u001b[1;34m[\u001b[0m\u001b[34mfetch_single_file\u001b[0m\u001b[1;34m]\u001b[0m  \u001b[33m...\u001b[0mdone. \u001b[1m(\u001b[0m\u001b[1;36m1\u001b[0m seconds, \u001b[1;36m0\u001b[0m min\u001b[1m)\u001b[0m\n",
              "\n"
            ],
            "text/html": [
              "<pre style=\"white-space:pre;overflow-x:auto;line-height:normal;font-family:Menlo,'DejaVu Sans Mono',consolas,'Courier New',monospace\"><span style=\"color: #000080; text-decoration-color: #000080; font-weight: bold\">[</span><span style=\"color: #000080; text-decoration-color: #000080\">fetch_single_file</span><span style=\"color: #000080; text-decoration-color: #000080; font-weight: bold\">]</span>  <span style=\"color: #808000; text-decoration-color: #808000\">...</span>done. <span style=\"font-weight: bold\">(</span><span style=\"color: #008080; text-decoration-color: #008080; font-weight: bold\">1</span> seconds, <span style=\"color: #008080; text-decoration-color: #008080; font-weight: bold\">0</span> min<span style=\"font-weight: bold\">)</span>\n",
              "\n",
              "</pre>\n"
            ]
          },
          "metadata": {}
        },
        {
          "output_type": "display_data",
          "data": {
            "text/plain": [
              "\u001b[1;34m[\u001b[0m\u001b[34muncompress_file\u001b[0m\u001b[1;34m]\u001b[0m Extracting data from \n",
              "\u001b[35m/root/nilearn_data/adhd/49718167d83b032094ad6d17e64b4e49/\u001b[0m\u001b[95madhd40_4275075.tgz...\u001b[0m\n"
            ],
            "text/html": [
              "<pre style=\"white-space:pre;overflow-x:auto;line-height:normal;font-family:Menlo,'DejaVu Sans Mono',consolas,'Courier New',monospace\"><span style=\"color: #000080; text-decoration-color: #000080; font-weight: bold\">[</span><span style=\"color: #000080; text-decoration-color: #000080\">uncompress_file</span><span style=\"color: #000080; text-decoration-color: #000080; font-weight: bold\">]</span> Extracting data from \n",
              "<span style=\"color: #800080; text-decoration-color: #800080\">/root/nilearn_data/adhd/49718167d83b032094ad6d17e64b4e49/</span><span style=\"color: #ff00ff; text-decoration-color: #ff00ff\">adhd40_4275075.tgz...</span>\n",
              "</pre>\n"
            ]
          },
          "metadata": {}
        },
        {
          "output_type": "display_data",
          "data": {
            "text/plain": [
              "\u001b[1;34m[\u001b[0m\u001b[34muncompress_file\u001b[0m\u001b[1;34m]\u001b[0m .. done.\n",
              "\n"
            ],
            "text/html": [
              "<pre style=\"white-space:pre;overflow-x:auto;line-height:normal;font-family:Menlo,'DejaVu Sans Mono',consolas,'Courier New',monospace\"><span style=\"color: #000080; text-decoration-color: #000080; font-weight: bold\">[</span><span style=\"color: #000080; text-decoration-color: #000080\">uncompress_file</span><span style=\"color: #000080; text-decoration-color: #000080; font-weight: bold\">]</span> .. done.\n",
              "\n",
              "</pre>\n"
            ]
          },
          "metadata": {}
        },
        {
          "output_type": "display_data",
          "data": {
            "text/plain": [
              "\u001b[1;34m[\u001b[0m\u001b[34mfetch_single_file\u001b[0m\u001b[1;34m]\u001b[0m Downloading data from \u001b[4;94mhttps://www.nitrc.org/frs/download.php/7816/adhd40_6115230.tgz\u001b[0m \u001b[33m...\u001b[0m\n"
            ],
            "text/html": [
              "<pre style=\"white-space:pre;overflow-x:auto;line-height:normal;font-family:Menlo,'DejaVu Sans Mono',consolas,'Courier New',monospace\"><span style=\"color: #000080; text-decoration-color: #000080; font-weight: bold\">[</span><span style=\"color: #000080; text-decoration-color: #000080\">fetch_single_file</span><span style=\"color: #000080; text-decoration-color: #000080; font-weight: bold\">]</span> Downloading data from <span style=\"color: #0000ff; text-decoration-color: #0000ff; text-decoration: underline\">https://www.nitrc.org/frs/download.php/7816/adhd40_6115230.tgz</span> <span style=\"color: #808000; text-decoration-color: #808000\">...</span>\n",
              "</pre>\n"
            ]
          },
          "metadata": {}
        },
        {
          "output_type": "display_data",
          "data": {
            "text/plain": [
              "\u001b[1;34m[\u001b[0m\u001b[34m_chunk_report_\u001b[0m\u001b[1;34m]\u001b[0m Downloaded \u001b[1;36m28819456\u001b[0m of \u001b[1;36m73484949\u001b[0m bytes \u001b[1m(\u001b[0m\u001b[1;36m39.2\u001b[0m%%,    \u001b[1;36m1.\u001b[0m6s remaining\u001b[1m)\u001b[0m\n"
            ],
            "text/html": [
              "<pre style=\"white-space:pre;overflow-x:auto;line-height:normal;font-family:Menlo,'DejaVu Sans Mono',consolas,'Courier New',monospace\"><span style=\"color: #000080; text-decoration-color: #000080; font-weight: bold\">[</span><span style=\"color: #000080; text-decoration-color: #000080\">_chunk_report_</span><span style=\"color: #000080; text-decoration-color: #000080; font-weight: bold\">]</span> Downloaded <span style=\"color: #008080; text-decoration-color: #008080; font-weight: bold\">28819456</span> of <span style=\"color: #008080; text-decoration-color: #008080; font-weight: bold\">73484949</span> bytes <span style=\"font-weight: bold\">(</span><span style=\"color: #008080; text-decoration-color: #008080; font-weight: bold\">39.2</span>%%,    <span style=\"color: #008080; text-decoration-color: #008080; font-weight: bold\">1.</span>6s remaining<span style=\"font-weight: bold\">)</span>\n",
              "</pre>\n"
            ]
          },
          "metadata": {}
        },
        {
          "output_type": "display_data",
          "data": {
            "text/plain": [
              "\u001b[1;34m[\u001b[0m\u001b[34m_chunk_report_\u001b[0m\u001b[1;34m]\u001b[0m Downloaded \u001b[1;36m57778176\u001b[0m of \u001b[1;36m73484949\u001b[0m bytes \u001b[1m(\u001b[0m\u001b[1;36m78.6\u001b[0m%%,    \u001b[1;36m0.\u001b[0m5s remaining\u001b[1m)\u001b[0m\n"
            ],
            "text/html": [
              "<pre style=\"white-space:pre;overflow-x:auto;line-height:normal;font-family:Menlo,'DejaVu Sans Mono',consolas,'Courier New',monospace\"><span style=\"color: #000080; text-decoration-color: #000080; font-weight: bold\">[</span><span style=\"color: #000080; text-decoration-color: #000080\">_chunk_report_</span><span style=\"color: #000080; text-decoration-color: #000080; font-weight: bold\">]</span> Downloaded <span style=\"color: #008080; text-decoration-color: #008080; font-weight: bold\">57778176</span> of <span style=\"color: #008080; text-decoration-color: #008080; font-weight: bold\">73484949</span> bytes <span style=\"font-weight: bold\">(</span><span style=\"color: #008080; text-decoration-color: #008080; font-weight: bold\">78.6</span>%%,    <span style=\"color: #008080; text-decoration-color: #008080; font-weight: bold\">0.</span>5s remaining<span style=\"font-weight: bold\">)</span>\n",
              "</pre>\n"
            ]
          },
          "metadata": {}
        },
        {
          "output_type": "display_data",
          "data": {
            "text/plain": [
              "\u001b[1;34m[\u001b[0m\u001b[34mfetch_single_file\u001b[0m\u001b[1;34m]\u001b[0m  \u001b[33m...\u001b[0mdone. \u001b[1m(\u001b[0m\u001b[1;36m3\u001b[0m seconds, \u001b[1;36m0\u001b[0m min\u001b[1m)\u001b[0m\n",
              "\n"
            ],
            "text/html": [
              "<pre style=\"white-space:pre;overflow-x:auto;line-height:normal;font-family:Menlo,'DejaVu Sans Mono',consolas,'Courier New',monospace\"><span style=\"color: #000080; text-decoration-color: #000080; font-weight: bold\">[</span><span style=\"color: #000080; text-decoration-color: #000080\">fetch_single_file</span><span style=\"color: #000080; text-decoration-color: #000080; font-weight: bold\">]</span>  <span style=\"color: #808000; text-decoration-color: #808000\">...</span>done. <span style=\"font-weight: bold\">(</span><span style=\"color: #008080; text-decoration-color: #008080; font-weight: bold\">3</span> seconds, <span style=\"color: #008080; text-decoration-color: #008080; font-weight: bold\">0</span> min<span style=\"font-weight: bold\">)</span>\n",
              "\n",
              "</pre>\n"
            ]
          },
          "metadata": {}
        },
        {
          "output_type": "display_data",
          "data": {
            "text/plain": [
              "\u001b[1;34m[\u001b[0m\u001b[34muncompress_file\u001b[0m\u001b[1;34m]\u001b[0m Extracting data from \n",
              "\u001b[35m/root/nilearn_data/adhd/49718167d83b032094ad6d17e64b4e49/\u001b[0m\u001b[95madhd40_6115230.tgz...\u001b[0m\n"
            ],
            "text/html": [
              "<pre style=\"white-space:pre;overflow-x:auto;line-height:normal;font-family:Menlo,'DejaVu Sans Mono',consolas,'Courier New',monospace\"><span style=\"color: #000080; text-decoration-color: #000080; font-weight: bold\">[</span><span style=\"color: #000080; text-decoration-color: #000080\">uncompress_file</span><span style=\"color: #000080; text-decoration-color: #000080; font-weight: bold\">]</span> Extracting data from \n",
              "<span style=\"color: #800080; text-decoration-color: #800080\">/root/nilearn_data/adhd/49718167d83b032094ad6d17e64b4e49/</span><span style=\"color: #ff00ff; text-decoration-color: #ff00ff\">adhd40_6115230.tgz...</span>\n",
              "</pre>\n"
            ]
          },
          "metadata": {}
        },
        {
          "output_type": "display_data",
          "data": {
            "text/plain": [
              "\u001b[1;34m[\u001b[0m\u001b[34muncompress_file\u001b[0m\u001b[1;34m]\u001b[0m .. done.\n",
              "\n"
            ],
            "text/html": [
              "<pre style=\"white-space:pre;overflow-x:auto;line-height:normal;font-family:Menlo,'DejaVu Sans Mono',consolas,'Courier New',monospace\"><span style=\"color: #000080; text-decoration-color: #000080; font-weight: bold\">[</span><span style=\"color: #000080; text-decoration-color: #000080\">uncompress_file</span><span style=\"color: #000080; text-decoration-color: #000080; font-weight: bold\">]</span> .. done.\n",
              "\n",
              "</pre>\n"
            ]
          },
          "metadata": {}
        },
        {
          "output_type": "display_data",
          "data": {
            "text/plain": [
              "\u001b[1;34m[\u001b[0m\u001b[34mfetch_single_file\u001b[0m\u001b[1;34m]\u001b[0m Downloading data from \u001b[4;94mhttps://www.nitrc.org/frs/download.php/7817/adhd40_7774305.tgz\u001b[0m \u001b[33m...\u001b[0m\n"
            ],
            "text/html": [
              "<pre style=\"white-space:pre;overflow-x:auto;line-height:normal;font-family:Menlo,'DejaVu Sans Mono',consolas,'Courier New',monospace\"><span style=\"color: #000080; text-decoration-color: #000080; font-weight: bold\">[</span><span style=\"color: #000080; text-decoration-color: #000080\">fetch_single_file</span><span style=\"color: #000080; text-decoration-color: #000080; font-weight: bold\">]</span> Downloading data from <span style=\"color: #0000ff; text-decoration-color: #0000ff; text-decoration: underline\">https://www.nitrc.org/frs/download.php/7817/adhd40_7774305.tgz</span> <span style=\"color: #808000; text-decoration-color: #808000\">...</span>\n",
              "</pre>\n"
            ]
          },
          "metadata": {}
        },
        {
          "output_type": "display_data",
          "data": {
            "text/plain": [
              "\u001b[1;34m[\u001b[0m\u001b[34m_chunk_report_\u001b[0m\u001b[1;34m]\u001b[0m Downloaded \u001b[1;36m27107328\u001b[0m of \u001b[1;36m42188959\u001b[0m bytes \u001b[1m(\u001b[0m\u001b[1;36m64.3\u001b[0m%%,    \u001b[1;36m0.\u001b[0m6s remaining\u001b[1m)\u001b[0m\n"
            ],
            "text/html": [
              "<pre style=\"white-space:pre;overflow-x:auto;line-height:normal;font-family:Menlo,'DejaVu Sans Mono',consolas,'Courier New',monospace\"><span style=\"color: #000080; text-decoration-color: #000080; font-weight: bold\">[</span><span style=\"color: #000080; text-decoration-color: #000080\">_chunk_report_</span><span style=\"color: #000080; text-decoration-color: #000080; font-weight: bold\">]</span> Downloaded <span style=\"color: #008080; text-decoration-color: #008080; font-weight: bold\">27107328</span> of <span style=\"color: #008080; text-decoration-color: #008080; font-weight: bold\">42188959</span> bytes <span style=\"font-weight: bold\">(</span><span style=\"color: #008080; text-decoration-color: #008080; font-weight: bold\">64.3</span>%%,    <span style=\"color: #008080; text-decoration-color: #008080; font-weight: bold\">0.</span>6s remaining<span style=\"font-weight: bold\">)</span>\n",
              "</pre>\n"
            ]
          },
          "metadata": {}
        },
        {
          "output_type": "display_data",
          "data": {
            "text/plain": [
              "\u001b[1;34m[\u001b[0m\u001b[34mfetch_single_file\u001b[0m\u001b[1;34m]\u001b[0m  \u001b[33m...\u001b[0mdone. \u001b[1m(\u001b[0m\u001b[1;36m2\u001b[0m seconds, \u001b[1;36m0\u001b[0m min\u001b[1m)\u001b[0m\n",
              "\n"
            ],
            "text/html": [
              "<pre style=\"white-space:pre;overflow-x:auto;line-height:normal;font-family:Menlo,'DejaVu Sans Mono',consolas,'Courier New',monospace\"><span style=\"color: #000080; text-decoration-color: #000080; font-weight: bold\">[</span><span style=\"color: #000080; text-decoration-color: #000080\">fetch_single_file</span><span style=\"color: #000080; text-decoration-color: #000080; font-weight: bold\">]</span>  <span style=\"color: #808000; text-decoration-color: #808000\">...</span>done. <span style=\"font-weight: bold\">(</span><span style=\"color: #008080; text-decoration-color: #008080; font-weight: bold\">2</span> seconds, <span style=\"color: #008080; text-decoration-color: #008080; font-weight: bold\">0</span> min<span style=\"font-weight: bold\">)</span>\n",
              "\n",
              "</pre>\n"
            ]
          },
          "metadata": {}
        },
        {
          "output_type": "display_data",
          "data": {
            "text/plain": [
              "\u001b[1;34m[\u001b[0m\u001b[34muncompress_file\u001b[0m\u001b[1;34m]\u001b[0m Extracting data from \n",
              "\u001b[35m/root/nilearn_data/adhd/49718167d83b032094ad6d17e64b4e49/\u001b[0m\u001b[95madhd40_7774305.tgz...\u001b[0m\n"
            ],
            "text/html": [
              "<pre style=\"white-space:pre;overflow-x:auto;line-height:normal;font-family:Menlo,'DejaVu Sans Mono',consolas,'Courier New',monospace\"><span style=\"color: #000080; text-decoration-color: #000080; font-weight: bold\">[</span><span style=\"color: #000080; text-decoration-color: #000080\">uncompress_file</span><span style=\"color: #000080; text-decoration-color: #000080; font-weight: bold\">]</span> Extracting data from \n",
              "<span style=\"color: #800080; text-decoration-color: #800080\">/root/nilearn_data/adhd/49718167d83b032094ad6d17e64b4e49/</span><span style=\"color: #ff00ff; text-decoration-color: #ff00ff\">adhd40_7774305.tgz...</span>\n",
              "</pre>\n"
            ]
          },
          "metadata": {}
        },
        {
          "output_type": "display_data",
          "data": {
            "text/plain": [
              "\u001b[1;34m[\u001b[0m\u001b[34muncompress_file\u001b[0m\u001b[1;34m]\u001b[0m .. done.\n",
              "\n"
            ],
            "text/html": [
              "<pre style=\"white-space:pre;overflow-x:auto;line-height:normal;font-family:Menlo,'DejaVu Sans Mono',consolas,'Courier New',monospace\"><span style=\"color: #000080; text-decoration-color: #000080; font-weight: bold\">[</span><span style=\"color: #000080; text-decoration-color: #000080\">uncompress_file</span><span style=\"color: #000080; text-decoration-color: #000080; font-weight: bold\">]</span> .. done.\n",
              "\n",
              "</pre>\n"
            ]
          },
          "metadata": {}
        },
        {
          "output_type": "display_data",
          "data": {
            "text/plain": [
              "\u001b[1;34m[\u001b[0m\u001b[34mfetch_single_file\u001b[0m\u001b[1;34m]\u001b[0m Downloading data from \u001b[4;94mhttps://www.nitrc.org/frs/download.php/7818/adhd40_8409791.tgz\u001b[0m \u001b[33m...\u001b[0m\n"
            ],
            "text/html": [
              "<pre style=\"white-space:pre;overflow-x:auto;line-height:normal;font-family:Menlo,'DejaVu Sans Mono',consolas,'Courier New',monospace\"><span style=\"color: #000080; text-decoration-color: #000080; font-weight: bold\">[</span><span style=\"color: #000080; text-decoration-color: #000080\">fetch_single_file</span><span style=\"color: #000080; text-decoration-color: #000080; font-weight: bold\">]</span> Downloading data from <span style=\"color: #0000ff; text-decoration-color: #0000ff; text-decoration: underline\">https://www.nitrc.org/frs/download.php/7818/adhd40_8409791.tgz</span> <span style=\"color: #808000; text-decoration-color: #808000\">...</span>\n",
              "</pre>\n"
            ]
          },
          "metadata": {}
        },
        {
          "output_type": "display_data",
          "data": {
            "text/plain": [
              "\u001b[1;34m[\u001b[0m\u001b[34m_chunk_report_\u001b[0m\u001b[1;34m]\u001b[0m Downloaded \u001b[1;36m28450816\u001b[0m of \u001b[1;36m70396354\u001b[0m bytes \u001b[1m(\u001b[0m\u001b[1;36m40.4\u001b[0m%%,    \u001b[1;36m1.\u001b[0m5s remaining\u001b[1m)\u001b[0m\n"
            ],
            "text/html": [
              "<pre style=\"white-space:pre;overflow-x:auto;line-height:normal;font-family:Menlo,'DejaVu Sans Mono',consolas,'Courier New',monospace\"><span style=\"color: #000080; text-decoration-color: #000080; font-weight: bold\">[</span><span style=\"color: #000080; text-decoration-color: #000080\">_chunk_report_</span><span style=\"color: #000080; text-decoration-color: #000080; font-weight: bold\">]</span> Downloaded <span style=\"color: #008080; text-decoration-color: #008080; font-weight: bold\">28450816</span> of <span style=\"color: #008080; text-decoration-color: #008080; font-weight: bold\">70396354</span> bytes <span style=\"font-weight: bold\">(</span><span style=\"color: #008080; text-decoration-color: #008080; font-weight: bold\">40.4</span>%%,    <span style=\"color: #008080; text-decoration-color: #008080; font-weight: bold\">1.</span>5s remaining<span style=\"font-weight: bold\">)</span>\n",
              "</pre>\n"
            ]
          },
          "metadata": {}
        },
        {
          "output_type": "display_data",
          "data": {
            "text/plain": [
              "\u001b[1;34m[\u001b[0m\u001b[34m_chunk_report_\u001b[0m\u001b[1;34m]\u001b[0m Downloaded \u001b[1;36m54902784\u001b[0m of \u001b[1;36m70396354\u001b[0m bytes \u001b[1m(\u001b[0m\u001b[1;36m78.0\u001b[0m%%,    \u001b[1;36m0.\u001b[0m6s remaining\u001b[1m)\u001b[0m\n"
            ],
            "text/html": [
              "<pre style=\"white-space:pre;overflow-x:auto;line-height:normal;font-family:Menlo,'DejaVu Sans Mono',consolas,'Courier New',monospace\"><span style=\"color: #000080; text-decoration-color: #000080; font-weight: bold\">[</span><span style=\"color: #000080; text-decoration-color: #000080\">_chunk_report_</span><span style=\"color: #000080; text-decoration-color: #000080; font-weight: bold\">]</span> Downloaded <span style=\"color: #008080; text-decoration-color: #008080; font-weight: bold\">54902784</span> of <span style=\"color: #008080; text-decoration-color: #008080; font-weight: bold\">70396354</span> bytes <span style=\"font-weight: bold\">(</span><span style=\"color: #008080; text-decoration-color: #008080; font-weight: bold\">78.0</span>%%,    <span style=\"color: #008080; text-decoration-color: #008080; font-weight: bold\">0.</span>6s remaining<span style=\"font-weight: bold\">)</span>\n",
              "</pre>\n"
            ]
          },
          "metadata": {}
        },
        {
          "output_type": "display_data",
          "data": {
            "text/plain": [
              "\u001b[1;34m[\u001b[0m\u001b[34mfetch_single_file\u001b[0m\u001b[1;34m]\u001b[0m  \u001b[33m...\u001b[0mdone. \u001b[1m(\u001b[0m\u001b[1;36m3\u001b[0m seconds, \u001b[1;36m0\u001b[0m min\u001b[1m)\u001b[0m\n",
              "\n"
            ],
            "text/html": [
              "<pre style=\"white-space:pre;overflow-x:auto;line-height:normal;font-family:Menlo,'DejaVu Sans Mono',consolas,'Courier New',monospace\"><span style=\"color: #000080; text-decoration-color: #000080; font-weight: bold\">[</span><span style=\"color: #000080; text-decoration-color: #000080\">fetch_single_file</span><span style=\"color: #000080; text-decoration-color: #000080; font-weight: bold\">]</span>  <span style=\"color: #808000; text-decoration-color: #808000\">...</span>done. <span style=\"font-weight: bold\">(</span><span style=\"color: #008080; text-decoration-color: #008080; font-weight: bold\">3</span> seconds, <span style=\"color: #008080; text-decoration-color: #008080; font-weight: bold\">0</span> min<span style=\"font-weight: bold\">)</span>\n",
              "\n",
              "</pre>\n"
            ]
          },
          "metadata": {}
        },
        {
          "output_type": "display_data",
          "data": {
            "text/plain": [
              "\u001b[1;34m[\u001b[0m\u001b[34muncompress_file\u001b[0m\u001b[1;34m]\u001b[0m Extracting data from \n",
              "\u001b[35m/root/nilearn_data/adhd/49718167d83b032094ad6d17e64b4e49/\u001b[0m\u001b[95madhd40_8409791.tgz...\u001b[0m\n"
            ],
            "text/html": [
              "<pre style=\"white-space:pre;overflow-x:auto;line-height:normal;font-family:Menlo,'DejaVu Sans Mono',consolas,'Courier New',monospace\"><span style=\"color: #000080; text-decoration-color: #000080; font-weight: bold\">[</span><span style=\"color: #000080; text-decoration-color: #000080\">uncompress_file</span><span style=\"color: #000080; text-decoration-color: #000080; font-weight: bold\">]</span> Extracting data from \n",
              "<span style=\"color: #800080; text-decoration-color: #800080\">/root/nilearn_data/adhd/49718167d83b032094ad6d17e64b4e49/</span><span style=\"color: #ff00ff; text-decoration-color: #ff00ff\">adhd40_8409791.tgz...</span>\n",
              "</pre>\n"
            ]
          },
          "metadata": {}
        },
        {
          "output_type": "display_data",
          "data": {
            "text/plain": [
              "\u001b[1;34m[\u001b[0m\u001b[34muncompress_file\u001b[0m\u001b[1;34m]\u001b[0m .. done.\n",
              "\n"
            ],
            "text/html": [
              "<pre style=\"white-space:pre;overflow-x:auto;line-height:normal;font-family:Menlo,'DejaVu Sans Mono',consolas,'Courier New',monospace\"><span style=\"color: #000080; text-decoration-color: #000080; font-weight: bold\">[</span><span style=\"color: #000080; text-decoration-color: #000080\">uncompress_file</span><span style=\"color: #000080; text-decoration-color: #000080; font-weight: bold\">]</span> .. done.\n",
              "\n",
              "</pre>\n"
            ]
          },
          "metadata": {}
        },
        {
          "output_type": "display_data",
          "data": {
            "text/plain": [
              "\u001b[1;34m[\u001b[0m\u001b[34mfetch_single_file\u001b[0m\u001b[1;34m]\u001b[0m Downloading data from \u001b[4;94mhttps://www.nitrc.org/frs/download.php/7819/adhd40_8697774.tgz\u001b[0m \u001b[33m...\u001b[0m\n"
            ],
            "text/html": [
              "<pre style=\"white-space:pre;overflow-x:auto;line-height:normal;font-family:Menlo,'DejaVu Sans Mono',consolas,'Courier New',monospace\"><span style=\"color: #000080; text-decoration-color: #000080; font-weight: bold\">[</span><span style=\"color: #000080; text-decoration-color: #000080\">fetch_single_file</span><span style=\"color: #000080; text-decoration-color: #000080; font-weight: bold\">]</span> Downloading data from <span style=\"color: #0000ff; text-decoration-color: #0000ff; text-decoration: underline\">https://www.nitrc.org/frs/download.php/7819/adhd40_8697774.tgz</span> <span style=\"color: #808000; text-decoration-color: #808000\">...</span>\n",
              "</pre>\n"
            ]
          },
          "metadata": {}
        },
        {
          "output_type": "display_data",
          "data": {
            "text/plain": [
              "\u001b[1;34m[\u001b[0m\u001b[34m_chunk_report_\u001b[0m\u001b[1;34m]\u001b[0m Downloaded \u001b[1;36m28557312\u001b[0m of \u001b[1;36m45075978\u001b[0m bytes \u001b[1m(\u001b[0m\u001b[1;36m63.4\u001b[0m%%,    \u001b[1;36m0.\u001b[0m6s remaining\u001b[1m)\u001b[0m\n"
            ],
            "text/html": [
              "<pre style=\"white-space:pre;overflow-x:auto;line-height:normal;font-family:Menlo,'DejaVu Sans Mono',consolas,'Courier New',monospace\"><span style=\"color: #000080; text-decoration-color: #000080; font-weight: bold\">[</span><span style=\"color: #000080; text-decoration-color: #000080\">_chunk_report_</span><span style=\"color: #000080; text-decoration-color: #000080; font-weight: bold\">]</span> Downloaded <span style=\"color: #008080; text-decoration-color: #008080; font-weight: bold\">28557312</span> of <span style=\"color: #008080; text-decoration-color: #008080; font-weight: bold\">45075978</span> bytes <span style=\"font-weight: bold\">(</span><span style=\"color: #008080; text-decoration-color: #008080; font-weight: bold\">63.4</span>%%,    <span style=\"color: #008080; text-decoration-color: #008080; font-weight: bold\">0.</span>6s remaining<span style=\"font-weight: bold\">)</span>\n",
              "</pre>\n"
            ]
          },
          "metadata": {}
        },
        {
          "output_type": "display_data",
          "data": {
            "text/plain": [
              "\u001b[1;34m[\u001b[0m\u001b[34mfetch_single_file\u001b[0m\u001b[1;34m]\u001b[0m  \u001b[33m...\u001b[0mdone. \u001b[1m(\u001b[0m\u001b[1;36m2\u001b[0m seconds, \u001b[1;36m0\u001b[0m min\u001b[1m)\u001b[0m\n",
              "\n"
            ],
            "text/html": [
              "<pre style=\"white-space:pre;overflow-x:auto;line-height:normal;font-family:Menlo,'DejaVu Sans Mono',consolas,'Courier New',monospace\"><span style=\"color: #000080; text-decoration-color: #000080; font-weight: bold\">[</span><span style=\"color: #000080; text-decoration-color: #000080\">fetch_single_file</span><span style=\"color: #000080; text-decoration-color: #000080; font-weight: bold\">]</span>  <span style=\"color: #808000; text-decoration-color: #808000\">...</span>done. <span style=\"font-weight: bold\">(</span><span style=\"color: #008080; text-decoration-color: #008080; font-weight: bold\">2</span> seconds, <span style=\"color: #008080; text-decoration-color: #008080; font-weight: bold\">0</span> min<span style=\"font-weight: bold\">)</span>\n",
              "\n",
              "</pre>\n"
            ]
          },
          "metadata": {}
        },
        {
          "output_type": "display_data",
          "data": {
            "text/plain": [
              "\u001b[1;34m[\u001b[0m\u001b[34muncompress_file\u001b[0m\u001b[1;34m]\u001b[0m Extracting data from \n",
              "\u001b[35m/root/nilearn_data/adhd/49718167d83b032094ad6d17e64b4e49/\u001b[0m\u001b[95madhd40_8697774.tgz...\u001b[0m\n"
            ],
            "text/html": [
              "<pre style=\"white-space:pre;overflow-x:auto;line-height:normal;font-family:Menlo,'DejaVu Sans Mono',consolas,'Courier New',monospace\"><span style=\"color: #000080; text-decoration-color: #000080; font-weight: bold\">[</span><span style=\"color: #000080; text-decoration-color: #000080\">uncompress_file</span><span style=\"color: #000080; text-decoration-color: #000080; font-weight: bold\">]</span> Extracting data from \n",
              "<span style=\"color: #800080; text-decoration-color: #800080\">/root/nilearn_data/adhd/49718167d83b032094ad6d17e64b4e49/</span><span style=\"color: #ff00ff; text-decoration-color: #ff00ff\">adhd40_8697774.tgz...</span>\n",
              "</pre>\n"
            ]
          },
          "metadata": {}
        },
        {
          "output_type": "display_data",
          "data": {
            "text/plain": [
              "\u001b[1;34m[\u001b[0m\u001b[34muncompress_file\u001b[0m\u001b[1;34m]\u001b[0m .. done.\n",
              "\n"
            ],
            "text/html": [
              "<pre style=\"white-space:pre;overflow-x:auto;line-height:normal;font-family:Menlo,'DejaVu Sans Mono',consolas,'Courier New',monospace\"><span style=\"color: #000080; text-decoration-color: #000080; font-weight: bold\">[</span><span style=\"color: #000080; text-decoration-color: #000080\">uncompress_file</span><span style=\"color: #000080; text-decoration-color: #000080; font-weight: bold\">]</span> .. done.\n",
              "\n",
              "</pre>\n"
            ]
          },
          "metadata": {}
        },
        {
          "output_type": "display_data",
          "data": {
            "text/plain": [
              "\u001b[1;34m[\u001b[0m\u001b[34mfetch_single_file\u001b[0m\u001b[1;34m]\u001b[0m Downloading data from \u001b[4;94mhttps://www.nitrc.org/frs/download.php/7820/adhd40_9744150.tgz\u001b[0m \u001b[33m...\u001b[0m\n"
            ],
            "text/html": [
              "<pre style=\"white-space:pre;overflow-x:auto;line-height:normal;font-family:Menlo,'DejaVu Sans Mono',consolas,'Courier New',monospace\"><span style=\"color: #000080; text-decoration-color: #000080; font-weight: bold\">[</span><span style=\"color: #000080; text-decoration-color: #000080\">fetch_single_file</span><span style=\"color: #000080; text-decoration-color: #000080; font-weight: bold\">]</span> Downloading data from <span style=\"color: #0000ff; text-decoration-color: #0000ff; text-decoration: underline\">https://www.nitrc.org/frs/download.php/7820/adhd40_9744150.tgz</span> <span style=\"color: #808000; text-decoration-color: #808000\">...</span>\n",
              "</pre>\n"
            ]
          },
          "metadata": {}
        },
        {
          "output_type": "display_data",
          "data": {
            "text/plain": [
              "\u001b[1;34m[\u001b[0m\u001b[34m_chunk_report_\u001b[0m\u001b[1;34m]\u001b[0m Downloaded \u001b[1;36m28557312\u001b[0m of \u001b[1;36m63380505\u001b[0m bytes \u001b[1m(\u001b[0m\u001b[1;36m45.1\u001b[0m%%,    \u001b[1;36m1.\u001b[0m2s remaining\u001b[1m)\u001b[0m\n"
            ],
            "text/html": [
              "<pre style=\"white-space:pre;overflow-x:auto;line-height:normal;font-family:Menlo,'DejaVu Sans Mono',consolas,'Courier New',monospace\"><span style=\"color: #000080; text-decoration-color: #000080; font-weight: bold\">[</span><span style=\"color: #000080; text-decoration-color: #000080\">_chunk_report_</span><span style=\"color: #000080; text-decoration-color: #000080; font-weight: bold\">]</span> Downloaded <span style=\"color: #008080; text-decoration-color: #008080; font-weight: bold\">28557312</span> of <span style=\"color: #008080; text-decoration-color: #008080; font-weight: bold\">63380505</span> bytes <span style=\"font-weight: bold\">(</span><span style=\"color: #008080; text-decoration-color: #008080; font-weight: bold\">45.1</span>%%,    <span style=\"color: #008080; text-decoration-color: #008080; font-weight: bold\">1.</span>2s remaining<span style=\"font-weight: bold\">)</span>\n",
              "</pre>\n"
            ]
          },
          "metadata": {}
        },
        {
          "output_type": "display_data",
          "data": {
            "text/plain": [
              "\u001b[1;34m[\u001b[0m\u001b[34m_chunk_report_\u001b[0m\u001b[1;34m]\u001b[0m Downloaded \u001b[1;36m57434112\u001b[0m of \u001b[1;36m63380505\u001b[0m bytes \u001b[1m(\u001b[0m\u001b[1;36m90.6\u001b[0m%%,    \u001b[1;36m0.\u001b[0m2s remaining\u001b[1m)\u001b[0m\n"
            ],
            "text/html": [
              "<pre style=\"white-space:pre;overflow-x:auto;line-height:normal;font-family:Menlo,'DejaVu Sans Mono',consolas,'Courier New',monospace\"><span style=\"color: #000080; text-decoration-color: #000080; font-weight: bold\">[</span><span style=\"color: #000080; text-decoration-color: #000080\">_chunk_report_</span><span style=\"color: #000080; text-decoration-color: #000080; font-weight: bold\">]</span> Downloaded <span style=\"color: #008080; text-decoration-color: #008080; font-weight: bold\">57434112</span> of <span style=\"color: #008080; text-decoration-color: #008080; font-weight: bold\">63380505</span> bytes <span style=\"font-weight: bold\">(</span><span style=\"color: #008080; text-decoration-color: #008080; font-weight: bold\">90.6</span>%%,    <span style=\"color: #008080; text-decoration-color: #008080; font-weight: bold\">0.</span>2s remaining<span style=\"font-weight: bold\">)</span>\n",
              "</pre>\n"
            ]
          },
          "metadata": {}
        },
        {
          "output_type": "display_data",
          "data": {
            "text/plain": [
              "\u001b[1;34m[\u001b[0m\u001b[34mfetch_single_file\u001b[0m\u001b[1;34m]\u001b[0m  \u001b[33m...\u001b[0mdone. \u001b[1m(\u001b[0m\u001b[1;36m2\u001b[0m seconds, \u001b[1;36m0\u001b[0m min\u001b[1m)\u001b[0m\n",
              "\n"
            ],
            "text/html": [
              "<pre style=\"white-space:pre;overflow-x:auto;line-height:normal;font-family:Menlo,'DejaVu Sans Mono',consolas,'Courier New',monospace\"><span style=\"color: #000080; text-decoration-color: #000080; font-weight: bold\">[</span><span style=\"color: #000080; text-decoration-color: #000080\">fetch_single_file</span><span style=\"color: #000080; text-decoration-color: #000080; font-weight: bold\">]</span>  <span style=\"color: #808000; text-decoration-color: #808000\">...</span>done. <span style=\"font-weight: bold\">(</span><span style=\"color: #008080; text-decoration-color: #008080; font-weight: bold\">2</span> seconds, <span style=\"color: #008080; text-decoration-color: #008080; font-weight: bold\">0</span> min<span style=\"font-weight: bold\">)</span>\n",
              "\n",
              "</pre>\n"
            ]
          },
          "metadata": {}
        },
        {
          "output_type": "display_data",
          "data": {
            "text/plain": [
              "\u001b[1;34m[\u001b[0m\u001b[34muncompress_file\u001b[0m\u001b[1;34m]\u001b[0m Extracting data from \n",
              "\u001b[35m/root/nilearn_data/adhd/49718167d83b032094ad6d17e64b4e49/\u001b[0m\u001b[95madhd40_9744150.tgz...\u001b[0m\n"
            ],
            "text/html": [
              "<pre style=\"white-space:pre;overflow-x:auto;line-height:normal;font-family:Menlo,'DejaVu Sans Mono',consolas,'Courier New',monospace\"><span style=\"color: #000080; text-decoration-color: #000080; font-weight: bold\">[</span><span style=\"color: #000080; text-decoration-color: #000080\">uncompress_file</span><span style=\"color: #000080; text-decoration-color: #000080; font-weight: bold\">]</span> Extracting data from \n",
              "<span style=\"color: #800080; text-decoration-color: #800080\">/root/nilearn_data/adhd/49718167d83b032094ad6d17e64b4e49/</span><span style=\"color: #ff00ff; text-decoration-color: #ff00ff\">adhd40_9744150.tgz...</span>\n",
              "</pre>\n"
            ]
          },
          "metadata": {}
        },
        {
          "output_type": "display_data",
          "data": {
            "text/plain": [
              "\u001b[1;34m[\u001b[0m\u001b[34muncompress_file\u001b[0m\u001b[1;34m]\u001b[0m .. done.\n",
              "\n"
            ],
            "text/html": [
              "<pre style=\"white-space:pre;overflow-x:auto;line-height:normal;font-family:Menlo,'DejaVu Sans Mono',consolas,'Courier New',monospace\"><span style=\"color: #000080; text-decoration-color: #000080; font-weight: bold\">[</span><span style=\"color: #000080; text-decoration-color: #000080\">uncompress_file</span><span style=\"color: #000080; text-decoration-color: #000080; font-weight: bold\">]</span> .. done.\n",
              "\n",
              "</pre>\n"
            ]
          },
          "metadata": {}
        },
        {
          "output_type": "display_data",
          "data": {
            "text/plain": [
              "\u001b[1;34m[\u001b[0m\u001b[34mfetch_single_file\u001b[0m\u001b[1;34m]\u001b[0m Downloading data from \u001b[4;94mhttps://www.nitrc.org/frs/download.php/7821/adhd40_9750701.tgz\u001b[0m \u001b[33m...\u001b[0m\n"
            ],
            "text/html": [
              "<pre style=\"white-space:pre;overflow-x:auto;line-height:normal;font-family:Menlo,'DejaVu Sans Mono',consolas,'Courier New',monospace\"><span style=\"color: #000080; text-decoration-color: #000080; font-weight: bold\">[</span><span style=\"color: #000080; text-decoration-color: #000080\">fetch_single_file</span><span style=\"color: #000080; text-decoration-color: #000080; font-weight: bold\">]</span> Downloading data from <span style=\"color: #0000ff; text-decoration-color: #0000ff; text-decoration: underline\">https://www.nitrc.org/frs/download.php/7821/adhd40_9750701.tgz</span> <span style=\"color: #808000; text-decoration-color: #808000\">...</span>\n",
              "</pre>\n"
            ]
          },
          "metadata": {}
        },
        {
          "output_type": "display_data",
          "data": {
            "text/plain": [
              "\u001b[1;34m[\u001b[0m\u001b[34m_chunk_report_\u001b[0m\u001b[1;34m]\u001b[0m Downloaded \u001b[1;36m28688384\u001b[0m of \u001b[1;36m46607053\u001b[0m bytes \u001b[1m(\u001b[0m\u001b[1;36m61.6\u001b[0m%%,    \u001b[1;36m0.\u001b[0m6s remaining\u001b[1m)\u001b[0m\n"
            ],
            "text/html": [
              "<pre style=\"white-space:pre;overflow-x:auto;line-height:normal;font-family:Menlo,'DejaVu Sans Mono',consolas,'Courier New',monospace\"><span style=\"color: #000080; text-decoration-color: #000080; font-weight: bold\">[</span><span style=\"color: #000080; text-decoration-color: #000080\">_chunk_report_</span><span style=\"color: #000080; text-decoration-color: #000080; font-weight: bold\">]</span> Downloaded <span style=\"color: #008080; text-decoration-color: #008080; font-weight: bold\">28688384</span> of <span style=\"color: #008080; text-decoration-color: #008080; font-weight: bold\">46607053</span> bytes <span style=\"font-weight: bold\">(</span><span style=\"color: #008080; text-decoration-color: #008080; font-weight: bold\">61.6</span>%%,    <span style=\"color: #008080; text-decoration-color: #008080; font-weight: bold\">0.</span>6s remaining<span style=\"font-weight: bold\">)</span>\n",
              "</pre>\n"
            ]
          },
          "metadata": {}
        },
        {
          "output_type": "display_data",
          "data": {
            "text/plain": [
              "\u001b[1;34m[\u001b[0m\u001b[34mfetch_single_file\u001b[0m\u001b[1;34m]\u001b[0m  \u001b[33m...\u001b[0mdone. \u001b[1m(\u001b[0m\u001b[1;36m2\u001b[0m seconds, \u001b[1;36m0\u001b[0m min\u001b[1m)\u001b[0m\n",
              "\n"
            ],
            "text/html": [
              "<pre style=\"white-space:pre;overflow-x:auto;line-height:normal;font-family:Menlo,'DejaVu Sans Mono',consolas,'Courier New',monospace\"><span style=\"color: #000080; text-decoration-color: #000080; font-weight: bold\">[</span><span style=\"color: #000080; text-decoration-color: #000080\">fetch_single_file</span><span style=\"color: #000080; text-decoration-color: #000080; font-weight: bold\">]</span>  <span style=\"color: #808000; text-decoration-color: #808000\">...</span>done. <span style=\"font-weight: bold\">(</span><span style=\"color: #008080; text-decoration-color: #008080; font-weight: bold\">2</span> seconds, <span style=\"color: #008080; text-decoration-color: #008080; font-weight: bold\">0</span> min<span style=\"font-weight: bold\">)</span>\n",
              "\n",
              "</pre>\n"
            ]
          },
          "metadata": {}
        },
        {
          "output_type": "display_data",
          "data": {
            "text/plain": [
              "\u001b[1;34m[\u001b[0m\u001b[34muncompress_file\u001b[0m\u001b[1;34m]\u001b[0m Extracting data from \n",
              "\u001b[35m/root/nilearn_data/adhd/49718167d83b032094ad6d17e64b4e49/\u001b[0m\u001b[95madhd40_9750701.tgz...\u001b[0m\n"
            ],
            "text/html": [
              "<pre style=\"white-space:pre;overflow-x:auto;line-height:normal;font-family:Menlo,'DejaVu Sans Mono',consolas,'Courier New',monospace\"><span style=\"color: #000080; text-decoration-color: #000080; font-weight: bold\">[</span><span style=\"color: #000080; text-decoration-color: #000080\">uncompress_file</span><span style=\"color: #000080; text-decoration-color: #000080; font-weight: bold\">]</span> Extracting data from \n",
              "<span style=\"color: #800080; text-decoration-color: #800080\">/root/nilearn_data/adhd/49718167d83b032094ad6d17e64b4e49/</span><span style=\"color: #ff00ff; text-decoration-color: #ff00ff\">adhd40_9750701.tgz...</span>\n",
              "</pre>\n"
            ]
          },
          "metadata": {}
        },
        {
          "output_type": "display_data",
          "data": {
            "text/plain": [
              "\u001b[1;34m[\u001b[0m\u001b[34muncompress_file\u001b[0m\u001b[1;34m]\u001b[0m .. done.\n",
              "\n"
            ],
            "text/html": [
              "<pre style=\"white-space:pre;overflow-x:auto;line-height:normal;font-family:Menlo,'DejaVu Sans Mono',consolas,'Courier New',monospace\"><span style=\"color: #000080; text-decoration-color: #000080; font-weight: bold\">[</span><span style=\"color: #000080; text-decoration-color: #000080\">uncompress_file</span><span style=\"color: #000080; text-decoration-color: #000080; font-weight: bold\">]</span> .. done.\n",
              "\n",
              "</pre>\n"
            ]
          },
          "metadata": {}
        }
      ]
    },
    {
      "cell_type": "code",
      "metadata": {
        "id": "2WZbg1tmUR_z",
        "outputId": "5ad3667c-bcf1-42a4-dde4-698b2b2f9743",
        "colab": {
          "base_uri": "https://localhost:8080/",
          "height": 0
        }
      },
      "source": [
        "# exploring the header of one image\n",
        "import nibabel as nib\n",
        "img=nib.load(adhd_data['func'][0])\n",
        "\n",
        "print(img.header['dim'])\n",
        "print(img.header['pixdim'])\n"
      ],
      "execution_count": 6,
      "outputs": [
        {
          "output_type": "stream",
          "name": "stdout",
          "text": [
            "[  4  61  73  61 176   1   1   1]\n",
            "[-1.  3.  3.  3.  2.  0.  0.  0.]\n"
          ]
        }
      ]
    },
    {
      "cell_type": "code",
      "metadata": {
        "id": "Dxy2yGgtMzw5"
      },
      "source": [
        "# Region signals extraction- exctract the values of the ten networks\n",
        "\n",
        "masker = NiftiMapsMasker(maps_img=smith_atlas_rs_networks,  # Smith stals\n",
        "                         standardize=True, # centers and norms the time-series\n",
        "                         memory='nilearn_cache', # cache\n",
        "                         verbose=0) #do not print verbose"
      ],
      "execution_count": 7,
      "outputs": []
    },
    {
      "cell_type": "code",
      "metadata": {
        "id": "tvHHM3Y0MadA"
      },
      "source": [
        "all_subjects_data=[]\n",
        "labels=[]  # 1 if ADHD, 0 if control\n",
        "\n",
        "for func_file, confound_file, phenotypic in zip(\n",
        "        adhd_data.func, adhd_data.confounds, adhd_data.phenotypic):\n",
        "\n",
        "    time_series = masker.fit_transform(func_file, confounds=confound_file)\n",
        "\n",
        "    all_subjects_data.append(time_series)\n",
        "    labels.append(phenotypic['adhd'])\n"
      ],
      "execution_count": 8,
      "outputs": []
    },
    {
      "cell_type": "code",
      "metadata": {
        "id": "vdbQu633j_03",
        "outputId": "af9642b0-6106-46a9-f473-0490831a22ce",
        "colab": {
          "base_uri": "https://localhost:8080/",
          "height": 0
        }
      },
      "source": [
        "print('N control:' ,labels.count(0))\n",
        "print('N adhd:' ,labels.count(1))"
      ],
      "execution_count": 9,
      "outputs": [
        {
          "output_type": "stream",
          "name": "stdout",
          "text": [
            "N control: 20\n",
            "N adhd: 20\n"
          ]
        }
      ]
    },
    {
      "cell_type": "code",
      "metadata": {
        "id": "cSIt2fCZGvdv",
        "outputId": "a05a072c-0587-475b-9a4c-7ac013e539d8",
        "colab": {
          "base_uri": "https://localhost:8080/",
          "height": 477
        }
      },
      "source": [
        "plt.hist([len(i) for i in all_subjects_data])\n",
        "plt.title('fMRI dataset length variation')\n",
        "plt.xlabel('time stamps')\n",
        "plt.ylabel('#')\n",
        "plt.show()"
      ],
      "execution_count": 10,
      "outputs": [
        {
          "output_type": "display_data",
          "data": {
            "text/plain": [
              "<Figure size 640x480 with 1 Axes>"
            ],
            "image/png": "[encoded data removed]"
          },
          "metadata": {}
        }
      ]
    },
    {
      "cell_type": "code",
      "metadata": {
        "id": "Sv-I8iQRXbkX"
      },
      "source": [
        "# find the longest image\n",
        "max_len_image=np.max([len(i) for i in all_subjects_data])\n"
      ],
      "execution_count": 11,
      "outputs": []
    },
    {
      "cell_type": "code",
      "metadata": {
        "id": "aJkJCHfqKCXh"
      },
      "source": [
        "# reshape\n",
        "\n",
        "all_subjects_data_reshaped=[]\n",
        "for subject_data in all_subjects_data:\n",
        "  # Padding\n",
        "  N= max_len_image-len(subject_data)\n",
        "  padded_array=np.pad(subject_data, ((0, N), (0,0)),\n",
        "                      'constant', constant_values=(0))\n",
        "  subject_data=padded_array\n",
        "  subject_data=np.array(subject_data)\n",
        "  subject_data.reshape(subject_data.shape[0],subject_data.shape[1],1)\n",
        "  all_subjects_data_reshaped.append(subject_data)\n"
      ],
      "execution_count": 12,
      "outputs": []
    },
    {
      "cell_type": "code",
      "metadata": {
        "id": "7BY378hSXuUj",
        "outputId": "ed5128f7-61f9-4acc-d6c9-e69559fcaa72",
        "colab": {
          "base_uri": "https://localhost:8080/",
          "height": 0
        }
      },
      "source": [
        "# shape of data\n",
        "\n",
        "# 40 subjects\n",
        "# 261 time stamps\n",
        "# 10 netwroks values\n",
        "\n",
        "np.array(all_subjects_data_reshaped).shape"
      ],
      "execution_count": 13,
      "outputs": [
        {
          "output_type": "execute_result",
          "data": {
            "text/plain": [
              "(40, 261, 70)"
            ]
          },
          "metadata": {},
          "execution_count": 13
        }
      ]
    },
    {
      "cell_type": "code",
      "metadata": {
        "id": "XlrHkasdVz84"
      },
      "source": [
        "# The data, split between train and test sets.\n",
        "\n",
        "def get_train_test(X, y, i, verbrose=False):\n",
        "  '''\n",
        "  split to train and test and reshape data\n",
        "  X data\n",
        "  y labels\n",
        "  i random state\n",
        "  '''\n",
        "  X_train, X_test, y_train, y_test = train_test_split(X,\n",
        "                                        y, test_size=0.2, random_state=i)\n",
        "\n",
        "\n",
        "\n",
        "  # Reshapes data to 4D for Hierarchical RNN.\n",
        "  t_shape=np.array(all_subjects_data_reshaped).shape[1]\n",
        "  RSN_shape=np.array(all_subjects_data_reshaped).shape[2]\n",
        "\n",
        "  X_train = np.reshape(X_train, (len(X_train), t_shape, RSN_shape))\n",
        "  X_test = np.reshape(X_test, (len(X_test), t_shape, RSN_shape))\n",
        "\n",
        "  X_train = X_train.astype('float32')\n",
        "  X_test = X_test.astype('float32')\n",
        "\n",
        "  if verbrose:\n",
        "    print(X_train.shape[0], 'train samples')\n",
        "    print(X_test.shape[0], 'test samples')\n",
        "\n",
        "  # Converts class vectors to binary class matrices.\n",
        "  y_train = utils.to_categorical(y_train, 2)\n",
        "  y_test = utils.to_categorical(y_test, 2)\n",
        "\n",
        "  return X_train, X_test, y_train, y_test\n",
        "\n"
      ],
      "execution_count": 14,
      "outputs": []
    },
    {
      "cell_type": "markdown",
      "metadata": {
        "id": "J9_jktSjX0Gj"
      },
      "source": [
        "## Build the LSTM model"
      ]
    },
    {
      "cell_type": "code",
      "metadata": {
        "id": "sf_SWzIu8wxe",
        "outputId": "30a26607-49b7-49ac-da69-b5fb92f26b8e",
        "colab": {
          "base_uri": "https://localhost:8080/",
          "height": 319
        }
      },
      "source": [
        "# create the model\n",
        "\n",
        "model = Sequential()\n",
        "\n",
        "# LSTM layers -\n",
        "# Long Short-Term Memory layer - Hochreiter 1997.\n",
        "t_shape=np.array(all_subjects_data_reshaped).shape[1]\n",
        "RSN_shape=np.array(all_subjects_data_reshaped).shape[2]\n",
        "\n",
        "model.add(LSTM(units=70, # dimensionality of the output space\n",
        "               dropout=0.4, # Fraction of the units to drop (inputs)\n",
        "               recurrent_dropout=0.15, # Fraction of the units to drop (recurent state)\n",
        "               return_sequences=True, # return the last state in addition to the output\n",
        "               input_shape=(t_shape,RSN_shape)))\n",
        "\n",
        "model.add(LSTM(units=60,\n",
        "               dropout=0.4,\n",
        "               recurrent_dropout=0.15,\n",
        "               return_sequences=True))\n",
        "\n",
        "model.add(LSTM(units=50,\n",
        "               dropout=0.4,\n",
        "               recurrent_dropout=0.15,\n",
        "               return_sequences=True))\n",
        "\n",
        "model.add(LSTM(units=40,\n",
        "               dropout=0.4,\n",
        "               recurrent_dropout=0.15,\n",
        "               return_sequences=False))\n",
        "\n",
        "\n",
        "model.add(Dense(units=2,\n",
        "                activation=\"sigmoid\"))\n",
        "\n",
        "model.compile(loss='binary_crossentropy',\n",
        "                optimizer=optimizers.Adam(learning_rate=0.001),\n",
        "                metrics=['binary_accuracy'])\n",
        "\n",
        "print(model.summary())\n",
        "\n"
      ],
      "execution_count": 16,
      "outputs": [
        {
          "output_type": "display_data",
          "data": {
            "text/plain": [
              "\u001b[1mModel: \"sequential_1\"\u001b[0m\n"
            ],
            "text/html": [
              "<pre style=\"white-space:pre;overflow-x:auto;line-height:normal;font-family:Menlo,'DejaVu Sans Mono',consolas,'Courier New',monospace\"><span style=\"font-weight: bold\">Model: \"sequential_1\"</span>\n",
              "</pre>\n"
            ]
          },
          "metadata": {}
        },
        {
          "output_type": "display_data",
          "data": {
            "text/plain": [
              "┏━━━━━━━━━━━━━━━━━━━━━━━━━━━━━━━━━━━━━━┳━━━━━━━━━━━━━━━━━━━━━━━━━━━━━┳━━━━━━━━━━━━━━━━━┓\n",
              "┃\u001b[1m \u001b[0m\u001b[1mLayer (type)                        \u001b[0m\u001b[1m \u001b[0m┃\u001b[1m \u001b[0m\u001b[1mOutput Shape               \u001b[0m\u001b[1m \u001b[0m┃\u001b[1m \u001b[0m\u001b[1m        Param #\u001b[0m\u001b[1m \u001b[0m┃\n",
              "┡━━━━━━━━━━━━━━━━━━━━━━━━━━━━━━━━━━━━━━╇━━━━━━━━━━━━━━━━━━━━━━━━━━━━━╇━━━━━━━━━━━━━━━━━┩\n",
              "│ lstm_4 (\u001b[38;5;33mLSTM\u001b[0m)                        │ (\u001b[38;5;45mNone\u001b[0m, \u001b[38;5;34m261\u001b[0m, \u001b[38;5;34m70\u001b[0m)             │          \u001b[38;5;34m39,480\u001b[0m │\n",
              "├──────────────────────────────────────┼─────────────────────────────┼─────────────────┤\n",
              "│ lstm_5 (\u001b[38;5;33mLSTM\u001b[0m)                        │ (\u001b[38;5;45mNone\u001b[0m, \u001b[38;5;34m261\u001b[0m, \u001b[38;5;34m60\u001b[0m)             │          \u001b[38;5;34m31,440\u001b[0m │\n",
              "├──────────────────────────────────────┼─────────────────────────────┼─────────────────┤\n",
              "│ lstm_6 (\u001b[38;5;33mLSTM\u001b[0m)                        │ (\u001b[38;5;45mNone\u001b[0m, \u001b[38;5;34m261\u001b[0m, \u001b[38;5;34m50\u001b[0m)             │          \u001b[38;5;34m22,200\u001b[0m │\n",
              "├──────────────────────────────────────┼─────────────────────────────┼─────────────────┤\n",
              "│ lstm_7 (\u001b[38;5;33mLSTM\u001b[0m)                        │ (\u001b[38;5;45mNone\u001b[0m, \u001b[38;5;34m40\u001b[0m)                  │          \u001b[38;5;34m14,560\u001b[0m │\n",
              "├──────────────────────────────────────┼─────────────────────────────┼─────────────────┤\n",
              "│ dense_1 (\u001b[38;5;33mDense\u001b[0m)                      │ (\u001b[38;5;45mNone\u001b[0m, \u001b[38;5;34m2\u001b[0m)                   │              \u001b[38;5;34m82\u001b[0m │\n",
              "└──────────────────────────────────────┴─────────────────────────────┴─────────────────┘\n"
            ],
            "text/html": [
              "<pre style=\"white-space:pre;overflow-x:auto;line-height:normal;font-family:Menlo,'DejaVu Sans Mono',consolas,'Courier New',monospace\">┏━━━━━━━━━━━━━━━━━━━━━━━━━━━━━━━━━━━━━━┳━━━━━━━━━━━━━━━━━━━━━━━━━━━━━┳━━━━━━━━━━━━━━━━━┓\n",
              "┃<span style=\"font-weight: bold\"> Layer (type)                         </span>┃<span style=\"font-weight: bold\"> Output Shape                </span>┃<span style=\"font-weight: bold\">         Param # </span>┃\n",
              "┡━━━━━━━━━━━━━━━━━━━━━━━━━━━━━━━━━━━━━━╇━━━━━━━━━━━━━━━━━━━━━━━━━━━━━╇━━━━━━━━━━━━━━━━━┩\n",
              "│ lstm_4 (<span style=\"color: #0087ff; text-decoration-color: #0087ff\">LSTM</span>)                        │ (<span style=\"color: #00d7ff; text-decoration-color: #00d7ff\">None</span>, <span style=\"color: #00af00; text-decoration-color: #00af00\">261</span>, <span style=\"color: #00af00; text-decoration-color: #00af00\">70</span>)             │          <span style=\"color: #00af00; text-decoration-color: #00af00\">39,480</span> │\n",
              "├──────────────────────────────────────┼─────────────────────────────┼─────────────────┤\n",
              "│ lstm_5 (<span style=\"color: #0087ff; text-decoration-color: #0087ff\">LSTM</span>)                        │ (<span style=\"color: #00d7ff; text-decoration-color: #00d7ff\">None</span>, <span style=\"color: #00af00; text-decoration-color: #00af00\">261</span>, <span style=\"color: #00af00; text-decoration-color: #00af00\">60</span>)             │          <span style=\"color: #00af00; text-decoration-color: #00af00\">31,440</span> │\n",
              "├──────────────────────────────────────┼─────────────────────────────┼─────────────────┤\n",
              "│ lstm_6 (<span style=\"color: #0087ff; text-decoration-color: #0087ff\">LSTM</span>)                        │ (<span style=\"color: #00d7ff; text-decoration-color: #00d7ff\">None</span>, <span style=\"color: #00af00; text-decoration-color: #00af00\">261</span>, <span style=\"color: #00af00; text-decoration-color: #00af00\">50</span>)             │          <span style=\"color: #00af00; text-decoration-color: #00af00\">22,200</span> │\n",
              "├──────────────────────────────────────┼─────────────────────────────┼─────────────────┤\n",
              "│ lstm_7 (<span style=\"color: #0087ff; text-decoration-color: #0087ff\">LSTM</span>)                        │ (<span style=\"color: #00d7ff; text-decoration-color: #00d7ff\">None</span>, <span style=\"color: #00af00; text-decoration-color: #00af00\">40</span>)                  │          <span style=\"color: #00af00; text-decoration-color: #00af00\">14,560</span> │\n",
              "├──────────────────────────────────────┼─────────────────────────────┼─────────────────┤\n",
              "│ dense_1 (<span style=\"color: #0087ff; text-decoration-color: #0087ff\">Dense</span>)                      │ (<span style=\"color: #00d7ff; text-decoration-color: #00d7ff\">None</span>, <span style=\"color: #00af00; text-decoration-color: #00af00\">2</span>)                   │              <span style=\"color: #00af00; text-decoration-color: #00af00\">82</span> │\n",
              "└──────────────────────────────────────┴─────────────────────────────┴─────────────────┘\n",
              "</pre>\n"
            ]
          },
          "metadata": {}
        },
        {
          "output_type": "display_data",
          "data": {
            "text/plain": [
              "\u001b[1m Total params: \u001b[0m\u001b[38;5;34m107,762\u001b[0m (420.95 KB)\n"
            ],
            "text/html": [
              "<pre style=\"white-space:pre;overflow-x:auto;line-height:normal;font-family:Menlo,'DejaVu Sans Mono',consolas,'Courier New',monospace\"><span style=\"font-weight: bold\"> Total params: </span><span style=\"color: #00af00; text-decoration-color: #00af00\">107,762</span> (420.95 KB)\n",
              "</pre>\n"
            ]
          },
          "metadata": {}
        },
        {
          "output_type": "display_data",
          "data": {
            "text/plain": [
              "\u001b[1m Trainable params: \u001b[0m\u001b[38;5;34m107,762\u001b[0m (420.95 KB)\n"
            ],
            "text/html": [
              "<pre style=\"white-space:pre;overflow-x:auto;line-height:normal;font-family:Menlo,'DejaVu Sans Mono',consolas,'Courier New',monospace\"><span style=\"font-weight: bold\"> Trainable params: </span><span style=\"color: #00af00; text-decoration-color: #00af00\">107,762</span> (420.95 KB)\n",
              "</pre>\n"
            ]
          },
          "metadata": {}
        },
        {
          "output_type": "display_data",
          "data": {
            "text/plain": [
              "\u001b[1m Non-trainable params: \u001b[0m\u001b[38;5;34m0\u001b[0m (0.00 B)\n"
            ],
            "text/html": [
              "<pre style=\"white-space:pre;overflow-x:auto;line-height:normal;font-family:Menlo,'DejaVu Sans Mono',consolas,'Courier New',monospace\"><span style=\"font-weight: bold\"> Non-trainable params: </span><span style=\"color: #00af00; text-decoration-color: #00af00\">0</span> (0.00 B)\n",
              "</pre>\n"
            ]
          },
          "metadata": {}
        },
        {
          "output_type": "stream",
          "name": "stdout",
          "text": [
            "None\n"
          ]
        }
      ]
    },
    {
      "cell_type": "code",
      "metadata": {
        "id": "dCZjpi_mqN7w",
        "outputId": "871e1148-8f6c-4018-d7ee-9d732549ac5e",
        "colab": {
          "base_uri": "https://localhost:8080/",
          "height": 1000
        }
      },
      "source": [
        "plot_model(model, show_shapes=True, show_layer_names=True)\n"
      ],
      "execution_count": 17,
      "outputs": [
        {
          "output_type": "execute_result",
          "data": {
            "image/png": "[encoded data removed]",
            "text/plain": [
              "<IPython.core.display.Image object>"
            ]
          },
          "metadata": {},
          "execution_count": 17
        }
      ]
    },
    {
      "cell_type": "markdown",
      "metadata": {
        "id": "GjNaumJNX-YM"
      },
      "source": [
        "## Train the LSTM model"
      ]
    },
    {
      "cell_type": "code",
      "metadata": {
        "id": "iYKX_w9VdM01",
        "outputId": "b1a2a4c4-65d3-40cf-b07e-2c581f28b0de",
        "colab": {
          "base_uri": "https://localhost:8080/",
          "height": 2013
        }
      },
      "source": [
        "X_train, X_test, y_train, y_test = get_train_test(all_subjects_data_reshaped,\n",
        "                                                    labels, i=8, verbrose=True)\n",
        "\n",
        "history = model.fit(X_train, y_train, validation_split=0.2, epochs=30)\n",
        "\n",
        "# summarize history for accuracy\n",
        "plt.plot(history.history['binary_accuracy'])\n",
        "plt.plot(history.history['val_binary_accuracy'])\n",
        "plt.title('model accuracy')\n",
        "plt.ylabel('accuracy')\n",
        "plt.xlabel('epoch')\n",
        "plt.legend(['train', 'test'], loc='upper right')\n",
        "plt.show()\n",
        "\n",
        "# summarize history for loss\n",
        "plt.plot(history.history['loss'])\n",
        "plt.plot(history.history['val_loss'])\n",
        "plt.title('model loss')\n",
        "plt.ylabel('loss')\n",
        "plt.xlabel('epoch')\n",
        "plt.legend(['train', 'test'], loc='upper right')\n",
        "plt.show()\n"
      ],
      "execution_count": 18,
      "outputs": [
        {
          "output_type": "stream",
          "name": "stdout",
          "text": [
            "32 train samples\n",
            "8 test samples\n",
            "Epoch 1/30\n",
            "\u001b[1m1/1\u001b[0m \u001b[32m━━━━━━━━━━━━━━━━━━━━\u001b[0m\u001b[37m\u001b[0m \u001b[1m9s\u001b[0m 9s/step - binary_accuracy: 0.4000 - loss: 0.6966 - val_binary_accuracy: 0.5000 - val_loss: 0.6953\n",
            "Epoch 2/30\n",
            "\u001b[1m1/1\u001b[0m \u001b[32m━━━━━━━━━━━━━━━━━━━━\u001b[0m\u001b[37m\u001b[0m \u001b[1m1s\u001b[0m 571ms/step - binary_accuracy: 0.6200 - loss: 0.6867 - val_binary_accuracy: 0.5714 - val_loss: 0.6954\n",
            "Epoch 3/30\n",
            "\u001b[1m1/1\u001b[0m \u001b[32m━━━━━━━━━━━━━━━━━━━━\u001b[0m\u001b[37m\u001b[0m \u001b[1m1s\u001b[0m 578ms/step - binary_accuracy: 0.6400 - loss: 0.6842 - val_binary_accuracy: 0.5714 - val_loss: 0.6954\n",
            "Epoch 4/30\n",
            "\u001b[1m1/1\u001b[0m \u001b[32m━━━━━━━━━━━━━━━━━━━━\u001b[0m\u001b[37m\u001b[0m \u001b[1m1s\u001b[0m 625ms/step - binary_accuracy: 0.6000 - loss: 0.6915 - val_binary_accuracy: 0.5714 - val_loss: 0.6951\n",
            "Epoch 5/30\n",
            "\u001b[1m1/1\u001b[0m \u001b[32m━━━━━━━━━━━━━━━━━━━━\u001b[0m\u001b[37m\u001b[0m \u001b[1m1s\u001b[0m 590ms/step - binary_accuracy: 0.6000 - loss: 0.6904 - val_binary_accuracy: 0.5714 - val_loss: 0.6951\n",
            "Epoch 6/30\n",
            "\u001b[1m1/1\u001b[0m \u001b[32m━━━━━━━━━━━━━━━━━━━━\u001b[0m\u001b[37m\u001b[0m \u001b[1m1s\u001b[0m 538ms/step - binary_accuracy: 0.5200 - loss: 0.6911 - val_binary_accuracy: 0.5000 - val_loss: 0.6952\n",
            "Epoch 7/30\n",
            "\u001b[1m1/1\u001b[0m \u001b[32m━━━━━━━━━━━━━━━━━━━━\u001b[0m\u001b[37m\u001b[0m \u001b[1m1s\u001b[0m 549ms/step - binary_accuracy: 0.6800 - loss: 0.6822 - val_binary_accuracy: 0.5000 - val_loss: 0.6953\n",
            "Epoch 8/30\n",
            "\u001b[1m1/1\u001b[0m \u001b[32m━━━━━━━━━━━━━━━━━━━━\u001b[0m\u001b[37m\u001b[0m \u001b[1m1s\u001b[0m 527ms/step - binary_accuracy: 0.6000 - loss: 0.6809 - val_binary_accuracy: 0.5000 - val_loss: 0.6953\n",
            "Epoch 9/30\n",
            "\u001b[1m1/1\u001b[0m \u001b[32m━━━━━━━━━━━━━━━━━━━━\u001b[0m\u001b[37m\u001b[0m \u001b[1m1s\u001b[0m 647ms/step - binary_accuracy: 0.6000 - loss: 0.6845 - val_binary_accuracy: 0.5000 - val_loss: 0.6954\n",
            "Epoch 10/30\n",
            "\u001b[1m1/1\u001b[0m \u001b[32m━━━━━━━━━━━━━━━━━━━━\u001b[0m\u001b[37m\u001b[0m \u001b[1m1s\u001b[0m 605ms/step - binary_accuracy: 0.5800 - loss: 0.6803 - val_binary_accuracy: 0.5000 - val_loss: 0.6954\n",
            "Epoch 11/30\n",
            "\u001b[1m1/1\u001b[0m \u001b[32m━━━━━━━━━━━━━━━━━━━━\u001b[0m\u001b[37m\u001b[0m \u001b[1m1s\u001b[0m 553ms/step - binary_accuracy: 0.6200 - loss: 0.6752 - val_binary_accuracy: 0.5000 - val_loss: 0.6955\n",
            "Epoch 12/30\n",
            "\u001b[1m1/1\u001b[0m \u001b[32m━━━━━━━━━━━━━━━━━━━━\u001b[0m\u001b[37m\u001b[0m \u001b[1m1s\u001b[0m 588ms/step - binary_accuracy: 0.6000 - loss: 0.6802 - val_binary_accuracy: 0.5000 - val_loss: 0.6956\n",
            "Epoch 13/30\n",
            "\u001b[1m1/1\u001b[0m \u001b[32m━━━━━━━━━━━━━━━━━━━━\u001b[0m\u001b[37m\u001b[0m \u001b[1m1s\u001b[0m 566ms/step - binary_accuracy: 0.6600 - loss: 0.6692 - val_binary_accuracy: 0.5000 - val_loss: 0.6956\n",
            "Epoch 14/30\n",
            "\u001b[1m1/1\u001b[0m \u001b[32m━━━━━━━━━━━━━━━━━━━━\u001b[0m\u001b[37m\u001b[0m \u001b[1m1s\u001b[0m 644ms/step - binary_accuracy: 0.6200 - loss: 0.6689 - val_binary_accuracy: 0.5000 - val_loss: 0.6955\n",
            "Epoch 15/30\n",
            "\u001b[1m1/1\u001b[0m \u001b[32m━━━━━━━━━━━━━━━━━━━━\u001b[0m\u001b[37m\u001b[0m \u001b[1m1s\u001b[0m 533ms/step - binary_accuracy: 0.7400 - loss: 0.6566 - val_binary_accuracy: 0.5000 - val_loss: 0.6955\n",
            "Epoch 16/30\n",
            "\u001b[1m1/1\u001b[0m \u001b[32m━━━━━━━━━━━━━━━━━━━━\u001b[0m\u001b[37m\u001b[0m \u001b[1m1s\u001b[0m 901ms/step - binary_accuracy: 0.6800 - loss: 0.6464 - val_binary_accuracy: 0.5000 - val_loss: 0.6951\n",
            "Epoch 17/30\n",
            "\u001b[1m1/1\u001b[0m \u001b[32m━━━━━━━━━━━━━━━━━━━━\u001b[0m\u001b[37m\u001b[0m \u001b[1m1s\u001b[0m 1s/step - binary_accuracy: 0.6800 - loss: 0.6371 - val_binary_accuracy: 0.5714 - val_loss: 0.6943\n",
            "Epoch 18/30\n",
            "\u001b[1m1/1\u001b[0m \u001b[32m━━━━━━━━━━━━━━━━━━━━\u001b[0m\u001b[37m\u001b[0m \u001b[1m1s\u001b[0m 1s/step - binary_accuracy: 0.7200 - loss: 0.6400 - val_binary_accuracy: 0.5714 - val_loss: 0.6931\n",
            "Epoch 19/30\n",
            "\u001b[1m1/1\u001b[0m \u001b[32m━━━━━━━━━━━━━━━━━━━━\u001b[0m\u001b[37m\u001b[0m \u001b[1m1s\u001b[0m 1s/step - binary_accuracy: 0.6800 - loss: 0.6410 - val_binary_accuracy: 0.5714 - val_loss: 0.6916\n",
            "Epoch 20/30\n",
            "\u001b[1m1/1\u001b[0m \u001b[32m━━━━━━━━━━━━━━━━━━━━\u001b[0m\u001b[37m\u001b[0m \u001b[1m1s\u001b[0m 605ms/step - binary_accuracy: 0.7600 - loss: 0.6041 - val_binary_accuracy: 0.5714 - val_loss: 0.6898\n",
            "Epoch 21/30\n",
            "\u001b[1m1/1\u001b[0m \u001b[32m━━━━━━━━━━━━━━━━━━━━\u001b[0m\u001b[37m\u001b[0m \u001b[1m1s\u001b[0m 628ms/step - binary_accuracy: 0.7400 - loss: 0.6006 - val_binary_accuracy: 0.5714 - val_loss: 0.6867\n",
            "Epoch 22/30\n",
            "\u001b[1m1/1\u001b[0m \u001b[32m━━━━━━━━━━━━━━━━━━━━\u001b[0m\u001b[37m\u001b[0m \u001b[1m1s\u001b[0m 534ms/step - binary_accuracy: 0.7200 - loss: 0.5945 - val_binary_accuracy: 0.5714 - val_loss: 0.6817\n",
            "Epoch 23/30\n",
            "\u001b[1m1/1\u001b[0m \u001b[32m━━━━━━━━━━━━━━━━━━━━\u001b[0m\u001b[37m\u001b[0m \u001b[1m1s\u001b[0m 577ms/step - binary_accuracy: 0.7200 - loss: 0.5807 - val_binary_accuracy: 0.5714 - val_loss: 0.6745\n",
            "Epoch 24/30\n",
            "\u001b[1m1/1\u001b[0m \u001b[32m━━━━━━━━━━━━━━━━━━━━\u001b[0m\u001b[37m\u001b[0m \u001b[1m1s\u001b[0m 595ms/step - binary_accuracy: 0.7600 - loss: 0.5591 - val_binary_accuracy: 0.5714 - val_loss: 0.6653\n",
            "Epoch 25/30\n",
            "\u001b[1m1/1\u001b[0m \u001b[32m━━━━━━━━━━━━━━━━━━━━\u001b[0m\u001b[37m\u001b[0m \u001b[1m1s\u001b[0m 536ms/step - binary_accuracy: 0.7600 - loss: 0.5108 - val_binary_accuracy: 0.6429 - val_loss: 0.6523\n",
            "Epoch 26/30\n",
            "\u001b[1m1/1\u001b[0m \u001b[32m━━━━━━━━━━━━━━━━━━━━\u001b[0m\u001b[37m\u001b[0m \u001b[1m1s\u001b[0m 636ms/step - binary_accuracy: 0.7400 - loss: 0.5663 - val_binary_accuracy: 0.7143 - val_loss: 0.6382\n",
            "Epoch 27/30\n",
            "\u001b[1m1/1\u001b[0m \u001b[32m━━━━━━━━━━━━━━━━━━━━\u001b[0m\u001b[37m\u001b[0m \u001b[1m1s\u001b[0m 613ms/step - binary_accuracy: 0.8000 - loss: 0.4742 - val_binary_accuracy: 0.7143 - val_loss: 0.6182\n",
            "Epoch 28/30\n",
            "\u001b[1m1/1\u001b[0m \u001b[32m━━━━━━━━━━━━━━━━━━━━\u001b[0m\u001b[37m\u001b[0m \u001b[1m1s\u001b[0m 550ms/step - binary_accuracy: 0.8000 - loss: 0.4815 - val_binary_accuracy: 0.7143 - val_loss: 0.5981\n",
            "Epoch 29/30\n",
            "\u001b[1m1/1\u001b[0m \u001b[32m━━━━━━━━━━━━━━━━━━━━\u001b[0m\u001b[37m\u001b[0m \u001b[1m1s\u001b[0m 549ms/step - binary_accuracy: 0.7200 - loss: 0.5231 - val_binary_accuracy: 0.7143 - val_loss: 0.5814\n",
            "Epoch 30/30\n",
            "\u001b[1m1/1\u001b[0m \u001b[32m━━━━━━━━━━━━━━━━━━━━\u001b[0m\u001b[37m\u001b[0m \u001b[1m1s\u001b[0m 615ms/step - binary_accuracy: 0.7200 - loss: 0.4824 - val_binary_accuracy: 0.7143 - val_loss: 0.5713\n"
          ]
        },
        {
          "output_type": "display_data",
          "data": {
            "text/plain": [
              "<Figure size 640x480 with 1 Axes>"
            ],
            "image/png": "[encoded data removed]"
          },
          "metadata": {}
        },
        {
          "output_type": "display_data",
          "data": {
            "text/plain": [
              "<Figure size 640x480 with 1 Axes>"
            ],
            "image/png": "[encoded data removed]"
          },
          "metadata": {}
        }
      ]
    },
    {
      "cell_type": "markdown",
      "metadata": {
        "id": "n-_kO1GQKTc1"
      },
      "source": [
        "## Evaluate the LSTM model"
      ]
    },
    {
      "cell_type": "code",
      "metadata": {
        "id": "qAgjd-jxnOfb",
        "outputId": "9743f2f1-48b1-41d5-9c1a-9f95393b1258",
        "colab": {
          "base_uri": "https://localhost:8080/",
          "height": 0
        }
      },
      "source": [
        "from sklearn.metrics import accuracy_score\n",
        "\n",
        "def boostrapping_hypothesis_testing(X_train, y_train, X_test, y_test,\n",
        "                                    n_iterations=5, n_epochs=50):\n",
        "\n",
        "  '''\n",
        "  hypothesis testing function\n",
        "  X_train, y_train, X_test, y_test- the data\n",
        "  n_iterations- number of bootdtaping iterations\n",
        "  n_epochs - number of epochs for model's training\n",
        "  '''\n",
        "\n",
        "  accuracy=[] ## model accuracy\n",
        "  roc_msrmnts_fpr=[] ## false positive rate\n",
        "  roc_msrmnts_tpr=[] ## true positive rate\n",
        "\n",
        "  # run bootstrap\n",
        "  for i in range(n_iterations):\n",
        "    # prepare train and test sets\n",
        "    X_train, X_test, y_train, y_test=get_train_test(all_subjects_data_reshaped,\n",
        "                                              labels, i=i, verbrose=False)\n",
        "    # fit model\n",
        "    print('fitting..')\n",
        "    model.fit(X_train, y_train, validation_split=0.2, epochs=n_epochs)\n",
        "\n",
        "    # evaluate model\n",
        "    print('evaluating..')\n",
        "    y_pred=model.predict(X_test)\n",
        "    y_test_1d=[i[0] for i in y_test]\n",
        "    y_pred_1d=[1.0 if i[0]>.5 else 0.0 for i in y_pred]\n",
        "\n",
        "    fpr, tpr, _ = roc_curve(y_test_1d, y_pred_1d)\n",
        "\n",
        "    acc_score = accuracy_score(y_test_1d, y_pred_1d)\n",
        "\n",
        "    accuracy.append(acc_score)\n",
        "    roc_msrmnts_fpr.append(fpr)\n",
        "    roc_msrmnts_tpr.append(tpr)\n",
        "\n",
        "  return accuracy, roc_msrmnts_fpr, roc_msrmnts_tpr\n",
        "\n",
        "\n",
        "\n",
        "accuracy, roc_msrmnts_fpr, roc_msrmnts_tpr  = boostrapping_hypothesis_testing(X_train, y_train, X_test, y_test)"
      ],
      "execution_count": 19,
      "outputs": [
        {
          "output_type": "stream",
          "name": "stdout",
          "text": [
            "fitting..\n",
            "Epoch 1/50\n",
            "\u001b[1m1/1\u001b[0m \u001b[32m━━━━━━━━━━━━━━━━━━━━\u001b[0m\u001b[37m\u001b[0m \u001b[1m1s\u001b[0m 585ms/step - binary_accuracy: 0.4800 - loss: 0.6634 - val_binary_accuracy: 0.6429 - val_loss: 0.3710\n",
            "Epoch 2/50\n",
            "\u001b[1m1/1\u001b[0m \u001b[32m━━━━━━━━━━━━━━━━━━━━\u001b[0m\u001b[37m\u001b[0m \u001b[1m1s\u001b[0m 559ms/step - binary_accuracy: 0.6400 - loss: 0.5987 - val_binary_accuracy: 0.7143 - val_loss: 0.3818\n",
            "Epoch 3/50\n",
            "\u001b[1m1/1\u001b[0m \u001b[32m━━━━━━━━━━━━━━━━━━━━\u001b[0m\u001b[37m\u001b[0m \u001b[1m1s\u001b[0m 679ms/step - binary_accuracy: 0.6400 - loss: 0.5541 - val_binary_accuracy: 0.7143 - val_loss: 0.3905\n",
            "Epoch 4/50\n",
            "\u001b[1m1/1\u001b[0m \u001b[32m━━━━━━━━━━━━━━━━━━━━\u001b[0m\u001b[37m\u001b[0m \u001b[1m1s\u001b[0m 528ms/step - binary_accuracy: 0.6000 - loss: 0.5803 - val_binary_accuracy: 0.7143 - val_loss: 0.3918\n",
            "Epoch 5/50\n",
            "\u001b[1m1/1\u001b[0m \u001b[32m━━━━━━━━━━━━━━━━━━━━\u001b[0m\u001b[37m\u001b[0m \u001b[1m1s\u001b[0m 636ms/step - binary_accuracy: 0.6400 - loss: 0.6130 - val_binary_accuracy: 0.7143 - val_loss: 0.3864\n",
            "Epoch 6/50\n",
            "\u001b[1m1/1\u001b[0m \u001b[32m━━━━━━━━━━━━━━━━━━━━\u001b[0m\u001b[37m\u001b[0m \u001b[1m1s\u001b[0m 540ms/step - binary_accuracy: 0.5600 - loss: 0.5899 - val_binary_accuracy: 0.7143 - val_loss: 0.3639\n",
            "Epoch 7/50\n",
            "\u001b[1m1/1\u001b[0m \u001b[32m━━━━━━━━━━━━━━━━━━━━\u001b[0m\u001b[37m\u001b[0m \u001b[1m1s\u001b[0m 603ms/step - binary_accuracy: 0.6200 - loss: 0.5868 - val_binary_accuracy: 0.8571 - val_loss: 0.3526\n",
            "Epoch 8/50\n",
            "\u001b[1m1/1\u001b[0m \u001b[32m━━━━━━━━━━━━━━━━━━━━\u001b[0m\u001b[37m\u001b[0m \u001b[1m1s\u001b[0m 552ms/step - binary_accuracy: 0.7400 - loss: 0.4996 - val_binary_accuracy: 0.7857 - val_loss: 0.3541\n",
            "Epoch 9/50\n",
            "\u001b[1m1/1\u001b[0m \u001b[32m━━━━━━━━━━━━━━━━━━━━\u001b[0m\u001b[37m\u001b[0m \u001b[1m1s\u001b[0m 534ms/step - binary_accuracy: 0.6000 - loss: 0.5808 - val_binary_accuracy: 0.8571 - val_loss: 0.3522\n",
            "Epoch 10/50\n",
            "\u001b[1m1/1\u001b[0m \u001b[32m━━━━━━━━━━━━━━━━━━━━\u001b[0m\u001b[37m\u001b[0m \u001b[1m1s\u001b[0m 1s/step - binary_accuracy: 0.6000 - loss: 0.5305 - val_binary_accuracy: 0.8571 - val_loss: 0.3492\n",
            "Epoch 11/50\n",
            "\u001b[1m1/1\u001b[0m \u001b[32m━━━━━━━━━━━━━━━━━━━━\u001b[0m\u001b[37m\u001b[0m \u001b[1m1s\u001b[0m 1s/step - binary_accuracy: 0.5800 - loss: 0.5521 - val_binary_accuracy: 0.8571 - val_loss: 0.3488\n",
            "Epoch 12/50\n",
            "\u001b[1m1/1\u001b[0m \u001b[32m━━━━━━━━━━━━━━━━━━━━\u001b[0m\u001b[37m\u001b[0m \u001b[1m3s\u001b[0m 3s/step - binary_accuracy: 0.6200 - loss: 0.5125 - val_binary_accuracy: 0.7857 - val_loss: 0.3522\n",
            "Epoch 13/50\n",
            "\u001b[1m1/1\u001b[0m \u001b[32m━━━━━━━━━━━━━━━━━━━━\u001b[0m\u001b[37m\u001b[0m \u001b[1m3s\u001b[0m 3s/step - binary_accuracy: 0.6600 - loss: 0.5221 - val_binary_accuracy: 0.7143 - val_loss: 0.3542\n",
            "Epoch 14/50\n",
            "\u001b[1m1/1\u001b[0m \u001b[32m━━━━━━━━━━━━━━━━━━━━\u001b[0m\u001b[37m\u001b[0m \u001b[1m3s\u001b[0m 3s/step - binary_accuracy: 0.6800 - loss: 0.5146 - val_binary_accuracy: 0.7143 - val_loss: 0.3598\n",
            "Epoch 15/50\n",
            "\u001b[1m1/1\u001b[0m \u001b[32m━━━━━━━━━━━━━━━━━━━━\u001b[0m\u001b[37m\u001b[0m \u001b[1m2s\u001b[0m 2s/step - binary_accuracy: 0.4200 - loss: 0.5454 - val_binary_accuracy: 0.7143 - val_loss: 0.3623\n",
            "Epoch 16/50\n",
            "\u001b[1m1/1\u001b[0m \u001b[32m━━━━━━━━━━━━━━━━━━━━\u001b[0m\u001b[37m\u001b[0m \u001b[1m1s\u001b[0m 618ms/step - binary_accuracy: 0.6200 - loss: 0.5000 - val_binary_accuracy: 0.7143 - val_loss: 0.3653\n",
            "Epoch 17/50\n",
            "\u001b[1m1/1\u001b[0m \u001b[32m━━━━━━━━━━━━━━━━━━━━\u001b[0m\u001b[37m\u001b[0m \u001b[1m1s\u001b[0m 542ms/step - binary_accuracy: 0.6800 - loss: 0.4901 - val_binary_accuracy: 0.7143 - val_loss: 0.3657\n",
            "Epoch 18/50\n",
            "\u001b[1m1/1\u001b[0m \u001b[32m━━━━━━━━━━━━━━━━━━━━\u001b[0m\u001b[37m\u001b[0m \u001b[1m1s\u001b[0m 625ms/step - binary_accuracy: 0.6600 - loss: 0.5168 - val_binary_accuracy: 0.7143 - val_loss: 0.3609\n",
            "Epoch 19/50\n",
            "\u001b[1m1/1\u001b[0m \u001b[32m━━━━━━━━━━━━━━━━━━━━\u001b[0m\u001b[37m\u001b[0m \u001b[1m1s\u001b[0m 620ms/step - binary_accuracy: 0.6600 - loss: 0.5105 - val_binary_accuracy: 0.7143 - val_loss: 0.3513\n",
            "Epoch 20/50\n",
            "\u001b[1m1/1\u001b[0m \u001b[32m━━━━━━━━━━━━━━━━━━━━\u001b[0m\u001b[37m\u001b[0m \u001b[1m1s\u001b[0m 611ms/step - binary_accuracy: 0.5600 - loss: 0.5180 - val_binary_accuracy: 0.7857 - val_loss: 0.3454\n",
            "Epoch 21/50\n",
            "\u001b[1m1/1\u001b[0m \u001b[32m━━━━━━━━━━━━━━━━━━━━\u001b[0m\u001b[37m\u001b[0m \u001b[1m1s\u001b[0m 546ms/step - binary_accuracy: 0.7200 - loss: 0.4876 - val_binary_accuracy: 0.8571 - val_loss: 0.3416\n",
            "Epoch 22/50\n",
            "\u001b[1m1/1\u001b[0m \u001b[32m━━━━━━━━━━━━━━━━━━━━\u001b[0m\u001b[37m\u001b[0m \u001b[1m1s\u001b[0m 543ms/step - binary_accuracy: 0.5800 - loss: 0.5162 - val_binary_accuracy: 0.8571 - val_loss: 0.3384\n",
            "Epoch 23/50\n",
            "\u001b[1m1/1\u001b[0m \u001b[32m━━━━━━━━━━━━━━━━━━━━\u001b[0m\u001b[37m\u001b[0m \u001b[1m1s\u001b[0m 545ms/step - binary_accuracy: 0.6400 - loss: 0.5081 - val_binary_accuracy: 0.8571 - val_loss: 0.3358\n",
            "Epoch 24/50\n",
            "\u001b[1m1/1\u001b[0m \u001b[32m━━━━━━━━━━━━━━━━━━━━\u001b[0m\u001b[37m\u001b[0m \u001b[1m1s\u001b[0m 755ms/step - binary_accuracy: 0.6400 - loss: 0.4935 - val_binary_accuracy: 0.7143 - val_loss: 0.3433\n",
            "Epoch 25/50\n",
            "\u001b[1m1/1\u001b[0m \u001b[32m━━━━━━━━━━━━━━━━━━━━\u001b[0m\u001b[37m\u001b[0m \u001b[1m1s\u001b[0m 894ms/step - binary_accuracy: 0.6600 - loss: 0.4957 - val_binary_accuracy: 0.7143 - val_loss: 0.3559\n",
            "Epoch 26/50\n",
            "\u001b[1m1/1\u001b[0m \u001b[32m━━━━━━━━━━━━━━━━━━━━\u001b[0m\u001b[37m\u001b[0m \u001b[1m1s\u001b[0m 1s/step - binary_accuracy: 0.6400 - loss: 0.4847 - val_binary_accuracy: 0.7143 - val_loss: 0.3565\n",
            "Epoch 27/50\n",
            "\u001b[1m1/1\u001b[0m \u001b[32m━━━━━━━━━━━━━━━━━━━━\u001b[0m\u001b[37m\u001b[0m \u001b[1m1s\u001b[0m 853ms/step - binary_accuracy: 0.6800 - loss: 0.5022 - val_binary_accuracy: 0.7143 - val_loss: 0.3590\n",
            "Epoch 28/50\n",
            "\u001b[1m1/1\u001b[0m \u001b[32m━━━━━━━━━━━━━━━━━━━━\u001b[0m\u001b[37m\u001b[0m \u001b[1m1s\u001b[0m 741ms/step - binary_accuracy: 0.7400 - loss: 0.4845 - val_binary_accuracy: 0.7143 - val_loss: 0.3640\n",
            "Epoch 29/50\n",
            "\u001b[1m1/1\u001b[0m \u001b[32m━━━━━━━━━━━━━━━━━━━━\u001b[0m\u001b[37m\u001b[0m \u001b[1m1s\u001b[0m 1s/step - binary_accuracy: 0.6800 - loss: 0.5600 - val_binary_accuracy: 0.7143 - val_loss: 0.3395\n",
            "Epoch 30/50\n",
            "\u001b[1m1/1\u001b[0m \u001b[32m━━━━━━━━━━━━━━━━━━━━\u001b[0m\u001b[37m\u001b[0m \u001b[1m1s\u001b[0m 979ms/step - binary_accuracy: 0.7000 - loss: 0.4802 - val_binary_accuracy: 0.8571 - val_loss: 0.3252\n",
            "Epoch 31/50\n",
            "\u001b[1m1/1\u001b[0m \u001b[32m━━━━━━━━━━━━━━━━━━━━\u001b[0m\u001b[37m\u001b[0m \u001b[1m1s\u001b[0m 836ms/step - binary_accuracy: 0.6000 - loss: 0.5436 - val_binary_accuracy: 0.8571 - val_loss: 0.3264\n",
            "Epoch 32/50\n",
            "\u001b[1m1/1\u001b[0m \u001b[32m━━━━━━━━━━━━━━━━━━━━\u001b[0m\u001b[37m\u001b[0m \u001b[1m1s\u001b[0m 632ms/step - binary_accuracy: 0.6200 - loss: 0.5173 - val_binary_accuracy: 0.7857 - val_loss: 0.3325\n",
            "Epoch 33/50\n",
            "\u001b[1m1/1\u001b[0m \u001b[32m━━━━━━━━━━━━━━━━━━━━\u001b[0m\u001b[37m\u001b[0m \u001b[1m1s\u001b[0m 524ms/step - binary_accuracy: 0.7200 - loss: 0.4810 - val_binary_accuracy: 0.5714 - val_loss: 0.3444\n",
            "Epoch 34/50\n",
            "\u001b[1m1/1\u001b[0m \u001b[32m━━━━━━━━━━━━━━━━━━━━\u001b[0m\u001b[37m\u001b[0m \u001b[1m1s\u001b[0m 655ms/step - binary_accuracy: 0.7000 - loss: 0.4454 - val_binary_accuracy: 0.7143 - val_loss: 0.3560\n",
            "Epoch 35/50\n",
            "\u001b[1m1/1\u001b[0m \u001b[32m━━━━━━━━━━━━━━━━━━━━\u001b[0m\u001b[37m\u001b[0m \u001b[1m1s\u001b[0m 532ms/step - binary_accuracy: 0.7000 - loss: 0.4367 - val_binary_accuracy: 0.6429 - val_loss: 0.3649\n",
            "Epoch 36/50\n",
            "\u001b[1m1/1\u001b[0m \u001b[32m━━━━━━━━━━━━━━━━━━━━\u001b[0m\u001b[37m\u001b[0m \u001b[1m1s\u001b[0m 553ms/step - binary_accuracy: 0.7400 - loss: 0.4876 - val_binary_accuracy: 0.7143 - val_loss: 0.3557\n",
            "Epoch 37/50\n",
            "\u001b[1m1/1\u001b[0m \u001b[32m━━━━━━━━━━━━━━━━━━━━\u001b[0m\u001b[37m\u001b[0m \u001b[1m1s\u001b[0m 611ms/step - binary_accuracy: 0.6800 - loss: 0.4648 - val_binary_accuracy: 0.7143 - val_loss: 0.3678\n",
            "Epoch 38/50\n",
            "\u001b[1m1/1\u001b[0m \u001b[32m━━━━━━━━━━━━━━━━━━━━\u001b[0m\u001b[37m\u001b[0m \u001b[1m1s\u001b[0m 540ms/step - binary_accuracy: 0.5200 - loss: 0.5116 - val_binary_accuracy: 0.7143 - val_loss: 0.3731\n",
            "Epoch 39/50\n",
            "\u001b[1m1/1\u001b[0m \u001b[32m━━━━━━━━━━━━━━━━━━━━\u001b[0m\u001b[37m\u001b[0m \u001b[1m1s\u001b[0m 673ms/step - binary_accuracy: 0.6800 - loss: 0.4846 - val_binary_accuracy: 0.6429 - val_loss: 0.4051\n",
            "Epoch 40/50\n",
            "\u001b[1m1/1\u001b[0m \u001b[32m━━━━━━━━━━━━━━━━━━━━\u001b[0m\u001b[37m\u001b[0m \u001b[1m1s\u001b[0m 533ms/step - binary_accuracy: 0.7000 - loss: 0.4493 - val_binary_accuracy: 0.5714 - val_loss: 0.5507\n",
            "Epoch 41/50\n",
            "\u001b[1m1/1\u001b[0m \u001b[32m━━━━━━━━━━━━━━━━━━━━\u001b[0m\u001b[37m\u001b[0m \u001b[1m1s\u001b[0m 808ms/step - binary_accuracy: 0.6800 - loss: 0.4899 - val_binary_accuracy: 0.5714 - val_loss: 0.7227\n",
            "Epoch 42/50\n",
            "\u001b[1m1/1\u001b[0m \u001b[32m━━━━━━━━━━━━━━━━━━━━\u001b[0m\u001b[37m\u001b[0m \u001b[1m1s\u001b[0m 1s/step - binary_accuracy: 0.7200 - loss: 0.4591 - val_binary_accuracy: 0.7143 - val_loss: 0.6526\n",
            "Epoch 43/50\n",
            "\u001b[1m1/1\u001b[0m \u001b[32m━━━━━━━━━━━━━━━━━━━━\u001b[0m\u001b[37m\u001b[0m \u001b[1m1s\u001b[0m 1s/step - binary_accuracy: 0.8200 - loss: 0.4000 - val_binary_accuracy: 0.7143 - val_loss: 0.6885\n",
            "Epoch 44/50\n",
            "\u001b[1m1/1\u001b[0m \u001b[32m━━━━━━━━━━━━━━━━━━━━\u001b[0m\u001b[37m\u001b[0m \u001b[1m1s\u001b[0m 549ms/step - binary_accuracy: 0.7600 - loss: 0.4502 - val_binary_accuracy: 0.7143 - val_loss: 0.6462\n",
            "Epoch 45/50\n",
            "\u001b[1m1/1\u001b[0m \u001b[32m━━━━━━━━━━━━━━━━━━━━\u001b[0m\u001b[37m\u001b[0m \u001b[1m1s\u001b[0m 529ms/step - binary_accuracy: 0.7600 - loss: 0.4374 - val_binary_accuracy: 0.5714 - val_loss: 0.6799\n",
            "Epoch 46/50\n",
            "\u001b[1m1/1\u001b[0m \u001b[32m━━━━━━━━━━━━━━━━━━━━\u001b[0m\u001b[37m\u001b[0m \u001b[1m1s\u001b[0m 542ms/step - binary_accuracy: 0.7800 - loss: 0.3956 - val_binary_accuracy: 0.5714 - val_loss: 0.7860\n",
            "Epoch 47/50\n",
            "\u001b[1m1/1\u001b[0m \u001b[32m━━━━━━━━━━━━━━━━━━━━\u001b[0m\u001b[37m\u001b[0m \u001b[1m1s\u001b[0m 614ms/step - binary_accuracy: 0.8600 - loss: 0.3121 - val_binary_accuracy: 0.5714 - val_loss: 0.8082\n",
            "Epoch 48/50\n",
            "\u001b[1m1/1\u001b[0m \u001b[32m━━━━━━━━━━━━━━━━━━━━\u001b[0m\u001b[37m\u001b[0m \u001b[1m1s\u001b[0m 697ms/step - binary_accuracy: 0.8000 - loss: 0.3426 - val_binary_accuracy: 0.5714 - val_loss: 0.8580\n",
            "Epoch 49/50\n",
            "\u001b[1m1/1\u001b[0m \u001b[32m━━━━━━━━━━━━━━━━━━━━\u001b[0m\u001b[37m\u001b[0m \u001b[1m1s\u001b[0m 596ms/step - binary_accuracy: 0.8400 - loss: 0.3666 - val_binary_accuracy: 0.5714 - val_loss: 0.8160\n",
            "Epoch 50/50\n",
            "\u001b[1m1/1\u001b[0m \u001b[32m━━━━━━━━━━━━━━━━━━━━\u001b[0m\u001b[37m\u001b[0m \u001b[1m1s\u001b[0m 541ms/step - binary_accuracy: 0.8600 - loss: 0.4203 - val_binary_accuracy: 0.5714 - val_loss: 0.8286\n",
            "evaluating..\n",
            "\u001b[1m1/1\u001b[0m \u001b[32m━━━━━━━━━━━━━━━━━━━━\u001b[0m\u001b[37m\u001b[0m \u001b[1m1s\u001b[0m 656ms/step\n",
            "fitting..\n",
            "Epoch 1/50\n",
            "\u001b[1m1/1\u001b[0m \u001b[32m━━━━━━━━━━━━━━━━━━━━\u001b[0m\u001b[37m\u001b[0m \u001b[1m1s\u001b[0m 603ms/step - binary_accuracy: 0.7600 - loss: 0.4968 - val_binary_accuracy: 0.8571 - val_loss: 0.3003\n",
            "Epoch 2/50\n",
            "\u001b[1m1/1\u001b[0m \u001b[32m━━━━━━━━━━━━━━━━━━━━\u001b[0m\u001b[37m\u001b[0m \u001b[1m1s\u001b[0m 554ms/step - binary_accuracy: 0.7200 - loss: 0.4340 - val_binary_accuracy: 0.8571 - val_loss: 0.3058\n",
            "Epoch 3/50\n",
            "\u001b[1m1/1\u001b[0m \u001b[32m━━━━━━━━━━━━━━━━━━━━\u001b[0m\u001b[37m\u001b[0m \u001b[1m1s\u001b[0m 608ms/step - binary_accuracy: 0.7400 - loss: 0.5073 - val_binary_accuracy: 0.8571 - val_loss: 0.3361\n",
            "Epoch 4/50\n",
            "\u001b[1m1/1\u001b[0m \u001b[32m━━━━━━━━━━━━━━━━━━━━\u001b[0m\u001b[37m\u001b[0m \u001b[1m1s\u001b[0m 626ms/step - binary_accuracy: 0.7200 - loss: 0.4772 - val_binary_accuracy: 0.8571 - val_loss: 0.3691\n",
            "Epoch 5/50\n",
            "\u001b[1m1/1\u001b[0m \u001b[32m━━━━━━━━━━━━━━━━━━━━\u001b[0m\u001b[37m\u001b[0m \u001b[1m1s\u001b[0m 614ms/step - binary_accuracy: 0.7200 - loss: 0.4635 - val_binary_accuracy: 0.8571 - val_loss: 0.3934\n",
            "Epoch 6/50\n",
            "\u001b[1m1/1\u001b[0m \u001b[32m━━━━━━━━━━━━━━━━━━━━\u001b[0m\u001b[37m\u001b[0m \u001b[1m1s\u001b[0m 628ms/step - binary_accuracy: 0.7600 - loss: 0.3842 - val_binary_accuracy: 0.7143 - val_loss: 0.4038\n",
            "Epoch 7/50\n",
            "\u001b[1m1/1\u001b[0m \u001b[32m━━━━━━━━━━━━━━━━━━━━\u001b[0m\u001b[37m\u001b[0m \u001b[1m1s\u001b[0m 614ms/step - binary_accuracy: 0.7600 - loss: 0.4102 - val_binary_accuracy: 0.5714 - val_loss: 0.4103\n",
            "Epoch 8/50\n",
            "\u001b[1m1/1\u001b[0m \u001b[32m━━━━━━━━━━━━━━━━━━━━\u001b[0m\u001b[37m\u001b[0m \u001b[1m1s\u001b[0m 883ms/step - binary_accuracy: 0.8000 - loss: 0.4054 - val_binary_accuracy: 0.5714 - val_loss: 0.4126\n",
            "Epoch 9/50\n",
            "\u001b[1m1/1\u001b[0m \u001b[32m━━━━━━━━━━━━━━━━━━━━\u001b[0m\u001b[37m\u001b[0m \u001b[1m1s\u001b[0m 1s/step - binary_accuracy: 0.7600 - loss: 0.4112 - val_binary_accuracy: 0.5714 - val_loss: 0.4122\n",
            "Epoch 10/50\n",
            "\u001b[1m1/1\u001b[0m \u001b[32m━━━━━━━━━━━━━━━━━━━━\u001b[0m\u001b[37m\u001b[0m \u001b[1m1s\u001b[0m 993ms/step - binary_accuracy: 0.7400 - loss: 0.4034 - val_binary_accuracy: 0.5714 - val_loss: 0.4114\n",
            "Epoch 11/50\n",
            "\u001b[1m1/1\u001b[0m \u001b[32m━━━━━━━━━━━━━━━━━━━━\u001b[0m\u001b[37m\u001b[0m \u001b[1m1s\u001b[0m 821ms/step - binary_accuracy: 0.7400 - loss: 0.4221 - val_binary_accuracy: 0.5714 - val_loss: 0.4101\n",
            "Epoch 12/50\n",
            "\u001b[1m1/1\u001b[0m \u001b[32m━━━━━━━━━━━━━━━━━━━━\u001b[0m\u001b[37m\u001b[0m \u001b[1m1s\u001b[0m 629ms/step - binary_accuracy: 0.7200 - loss: 0.4539 - val_binary_accuracy: 0.7143 - val_loss: 0.4064\n",
            "Epoch 13/50\n",
            "\u001b[1m1/1\u001b[0m \u001b[32m━━━━━━━━━━━━━━━━━━━━\u001b[0m\u001b[37m\u001b[0m \u001b[1m1s\u001b[0m 541ms/step - binary_accuracy: 0.7400 - loss: 0.4268 - val_binary_accuracy: 0.8571 - val_loss: 0.4019\n",
            "Epoch 14/50\n",
            "\u001b[1m1/1\u001b[0m \u001b[32m━━━━━━━━━━━━━━━━━━━━\u001b[0m\u001b[37m\u001b[0m \u001b[1m1s\u001b[0m 540ms/step - binary_accuracy: 0.7800 - loss: 0.4278 - val_binary_accuracy: 0.8571 - val_loss: 0.3981\n",
            "Epoch 15/50\n",
            "\u001b[1m1/1\u001b[0m \u001b[32m━━━━━━━━━━━━━━━━━━━━\u001b[0m\u001b[37m\u001b[0m \u001b[1m1s\u001b[0m 610ms/step - binary_accuracy: 0.8000 - loss: 0.4201 - val_binary_accuracy: 0.8571 - val_loss: 0.3938\n",
            "Epoch 16/50\n",
            "\u001b[1m1/1\u001b[0m \u001b[32m━━━━━━━━━━━━━━━━━━━━\u001b[0m\u001b[37m\u001b[0m \u001b[1m1s\u001b[0m 604ms/step - binary_accuracy: 0.7600 - loss: 0.3964 - val_binary_accuracy: 0.8571 - val_loss: 0.3906\n",
            "Epoch 17/50\n",
            "\u001b[1m1/1\u001b[0m \u001b[32m━━━━━━━━━━━━━━━━━━━━\u001b[0m\u001b[37m\u001b[0m \u001b[1m1s\u001b[0m 556ms/step - binary_accuracy: 0.6800 - loss: 0.4146 - val_binary_accuracy: 0.8571 - val_loss: 0.3871\n",
            "Epoch 18/50\n",
            "\u001b[1m1/1\u001b[0m \u001b[32m━━━━━━━━━━━━━━━━━━━━\u001b[0m\u001b[37m\u001b[0m \u001b[1m1s\u001b[0m 534ms/step - binary_accuracy: 0.8200 - loss: 0.4100 - val_binary_accuracy: 0.8571 - val_loss: 0.3868\n",
            "Epoch 19/50\n",
            "\u001b[1m1/1\u001b[0m \u001b[32m━━━━━━━━━━━━━━━━━━━━\u001b[0m\u001b[37m\u001b[0m \u001b[1m1s\u001b[0m 544ms/step - binary_accuracy: 0.7600 - loss: 0.4104 - val_binary_accuracy: 0.8571 - val_loss: 0.3868\n",
            "Epoch 20/50\n",
            "\u001b[1m1/1\u001b[0m \u001b[32m━━━━━━━━━━━━━━━━━━━━\u001b[0m\u001b[37m\u001b[0m \u001b[1m1s\u001b[0m 610ms/step - binary_accuracy: 0.6800 - loss: 0.4256 - val_binary_accuracy: 0.8571 - val_loss: 0.3918\n",
            "Epoch 21/50\n",
            "\u001b[1m1/1\u001b[0m \u001b[32m━━━━━━━━━━━━━━━━━━━━\u001b[0m\u001b[37m\u001b[0m \u001b[1m1s\u001b[0m 546ms/step - binary_accuracy: 0.7800 - loss: 0.4094 - val_binary_accuracy: 0.7857 - val_loss: 0.3996\n",
            "Epoch 22/50\n",
            "\u001b[1m1/1\u001b[0m \u001b[32m━━━━━━━━━━━━━━━━━━━━\u001b[0m\u001b[37m\u001b[0m \u001b[1m1s\u001b[0m 533ms/step - binary_accuracy: 0.6400 - loss: 0.4289 - val_binary_accuracy: 0.5714 - val_loss: 0.4115\n",
            "Epoch 23/50\n",
            "\u001b[1m1/1\u001b[0m \u001b[32m━━━━━━━━━━━━━━━━━━━━\u001b[0m\u001b[37m\u001b[0m \u001b[1m1s\u001b[0m 624ms/step - binary_accuracy: 0.7400 - loss: 0.3998 - val_binary_accuracy: 0.5714 - val_loss: 0.4177\n",
            "Epoch 24/50\n",
            "\u001b[1m1/1\u001b[0m \u001b[32m━━━━━━━━━━━━━━━━━━━━\u001b[0m\u001b[37m\u001b[0m \u001b[1m1s\u001b[0m 527ms/step - binary_accuracy: 0.7400 - loss: 0.4008 - val_binary_accuracy: 0.5714 - val_loss: 0.4215\n",
            "Epoch 25/50\n",
            "\u001b[1m1/1\u001b[0m \u001b[32m━━━━━━━━━━━━━━━━━━━━\u001b[0m\u001b[37m\u001b[0m \u001b[1m1s\u001b[0m 639ms/step - binary_accuracy: 0.6800 - loss: 0.3890 - val_binary_accuracy: 0.5714 - val_loss: 0.4226\n",
            "Epoch 26/50\n",
            "\u001b[1m1/1\u001b[0m \u001b[32m━━━━━━━━━━━━━━━━━━━━\u001b[0m\u001b[37m\u001b[0m \u001b[1m1s\u001b[0m 612ms/step - binary_accuracy: 0.7200 - loss: 0.3955 - val_binary_accuracy: 0.5714 - val_loss: 0.4286\n",
            "Epoch 27/50\n",
            "\u001b[1m1/1\u001b[0m \u001b[32m━━━━━━━━━━━━━━━━━━━━\u001b[0m\u001b[37m\u001b[0m \u001b[1m1s\u001b[0m 529ms/step - binary_accuracy: 0.6800 - loss: 0.4074 - val_binary_accuracy: 0.5714 - val_loss: 0.4239\n",
            "Epoch 28/50\n",
            "\u001b[1m1/1\u001b[0m \u001b[32m━━━━━━━━━━━━━━━━━━━━\u001b[0m\u001b[37m\u001b[0m \u001b[1m1s\u001b[0m 1s/step - binary_accuracy: 0.6800 - loss: 0.4537 - val_binary_accuracy: 0.5714 - val_loss: 0.4207\n",
            "Epoch 29/50\n",
            "\u001b[1m1/1\u001b[0m \u001b[32m━━━━━━━━━━━━━━━━━━━━\u001b[0m\u001b[37m\u001b[0m \u001b[1m1s\u001b[0m 1s/step - binary_accuracy: 0.6600 - loss: 0.4108 - val_binary_accuracy: 0.5714 - val_loss: 0.4188\n",
            "Epoch 30/50\n",
            "\u001b[1m1/1\u001b[0m \u001b[32m━━━━━━━━━━━━━━━━━━━━\u001b[0m\u001b[37m\u001b[0m \u001b[1m1s\u001b[0m 1s/step - binary_accuracy: 0.7000 - loss: 0.4061 - val_binary_accuracy: 0.7143 - val_loss: 0.3863\n",
            "Epoch 31/50\n",
            "\u001b[1m1/1\u001b[0m \u001b[32m━━━━━━━━━━━━━━━━━━━━\u001b[0m\u001b[37m\u001b[0m \u001b[1m1s\u001b[0m 546ms/step - binary_accuracy: 0.6600 - loss: 0.4135 - val_binary_accuracy: 0.7857 - val_loss: 0.3481\n",
            "Epoch 32/50\n",
            "\u001b[1m1/1\u001b[0m \u001b[32m━━━━━━━━━━━━━━━━━━━━\u001b[0m\u001b[37m\u001b[0m \u001b[1m1s\u001b[0m 601ms/step - binary_accuracy: 0.7400 - loss: 0.3773 - val_binary_accuracy: 0.7857 - val_loss: 0.3205\n",
            "Epoch 33/50\n",
            "\u001b[1m1/1\u001b[0m \u001b[32m━━━━━━━━━━━━━━━━━━━━\u001b[0m\u001b[37m\u001b[0m \u001b[1m1s\u001b[0m 736ms/step - binary_accuracy: 0.7800 - loss: 0.3456 - val_binary_accuracy: 0.8571 - val_loss: 0.2873\n",
            "Epoch 34/50\n",
            "\u001b[1m1/1\u001b[0m \u001b[32m━━━━━━━━━━━━━━━━━━━━\u001b[0m\u001b[37m\u001b[0m \u001b[1m1s\u001b[0m 553ms/step - binary_accuracy: 0.8000 - loss: 0.3341 - val_binary_accuracy: 0.8571 - val_loss: 0.2216\n",
            "Epoch 35/50\n",
            "\u001b[1m1/1\u001b[0m \u001b[32m━━━━━━━━━━━━━━━━━━━━\u001b[0m\u001b[37m\u001b[0m \u001b[1m1s\u001b[0m 541ms/step - binary_accuracy: 0.7200 - loss: 0.6201 - val_binary_accuracy: 0.8571 - val_loss: 0.2230\n",
            "Epoch 36/50\n",
            "\u001b[1m1/1\u001b[0m \u001b[32m━━━━━━━━━━━━━━━━━━━━\u001b[0m\u001b[37m\u001b[0m \u001b[1m1s\u001b[0m 557ms/step - binary_accuracy: 0.7200 - loss: 0.6009 - val_binary_accuracy: 0.8571 - val_loss: 0.2069\n",
            "Epoch 37/50\n",
            "\u001b[1m1/1\u001b[0m \u001b[32m━━━━━━━━━━━━━━━━━━━━\u001b[0m\u001b[37m\u001b[0m \u001b[1m1s\u001b[0m 536ms/step - binary_accuracy: 0.8000 - loss: 0.5312 - val_binary_accuracy: 0.8571 - val_loss: 0.2079\n",
            "Epoch 38/50\n",
            "\u001b[1m1/1\u001b[0m \u001b[32m━━━━━━━━━━━━━━━━━━━━\u001b[0m\u001b[37m\u001b[0m \u001b[1m1s\u001b[0m 631ms/step - binary_accuracy: 0.8400 - loss: 0.5477 - val_binary_accuracy: 0.8571 - val_loss: 0.2114\n",
            "Epoch 39/50\n",
            "\u001b[1m1/1\u001b[0m \u001b[32m━━━━━━━━━━━━━━━━━━━━\u001b[0m\u001b[37m\u001b[0m \u001b[1m1s\u001b[0m 525ms/step - binary_accuracy: 0.9200 - loss: 0.3946 - val_binary_accuracy: 0.8571 - val_loss: 0.2169\n",
            "Epoch 40/50\n",
            "\u001b[1m1/1\u001b[0m \u001b[32m━━━━━━━━━━━━━━━━━━━━\u001b[0m\u001b[37m\u001b[0m \u001b[1m1s\u001b[0m 628ms/step - binary_accuracy: 0.8800 - loss: 0.3462 - val_binary_accuracy: 0.8571 - val_loss: 0.2251\n",
            "Epoch 41/50\n",
            "\u001b[1m1/1\u001b[0m \u001b[32m━━━━━━━━━━━━━━━━━━━━\u001b[0m\u001b[37m\u001b[0m \u001b[1m1s\u001b[0m 630ms/step - binary_accuracy: 0.8400 - loss: 0.4762 - val_binary_accuracy: 0.7143 - val_loss: 0.3910\n",
            "Epoch 42/50\n",
            "\u001b[1m1/1\u001b[0m \u001b[32m━━━━━━━━━━━━━━━━━━━━\u001b[0m\u001b[37m\u001b[0m \u001b[1m1s\u001b[0m 689ms/step - binary_accuracy: 0.8800 - loss: 0.2517 - val_binary_accuracy: 0.7143 - val_loss: 0.4456\n",
            "Epoch 43/50\n",
            "\u001b[1m1/1\u001b[0m \u001b[32m━━━━━━━━━━━━━━━━━━━━\u001b[0m\u001b[37m\u001b[0m \u001b[1m1s\u001b[0m 552ms/step - binary_accuracy: 0.8800 - loss: 0.3518 - val_binary_accuracy: 0.8571 - val_loss: 0.2575\n",
            "Epoch 44/50\n",
            "\u001b[1m1/1\u001b[0m \u001b[32m━━━━━━━━━━━━━━━━━━━━\u001b[0m\u001b[37m\u001b[0m \u001b[1m1s\u001b[0m 538ms/step - binary_accuracy: 0.8800 - loss: 0.3280 - val_binary_accuracy: 0.8571 - val_loss: 0.2750\n",
            "Epoch 45/50\n",
            "\u001b[1m1/1\u001b[0m \u001b[32m━━━━━━━━━━━━━━━━━━━━\u001b[0m\u001b[37m\u001b[0m \u001b[1m1s\u001b[0m 624ms/step - binary_accuracy: 0.8000 - loss: 0.4872 - val_binary_accuracy: 0.8571 - val_loss: 0.2959\n",
            "Epoch 46/50\n",
            "\u001b[1m1/1\u001b[0m \u001b[32m━━━━━━━━━━━━━━━━━━━━\u001b[0m\u001b[37m\u001b[0m \u001b[1m1s\u001b[0m 528ms/step - binary_accuracy: 0.7200 - loss: 0.7084 - val_binary_accuracy: 0.8571 - val_loss: 0.3101\n",
            "Epoch 47/50\n",
            "\u001b[1m1/1\u001b[0m \u001b[32m━━━━━━━━━━━━━━━━━━━━\u001b[0m\u001b[37m\u001b[0m \u001b[1m1s\u001b[0m 1s/step - binary_accuracy: 0.7600 - loss: 0.5257 - val_binary_accuracy: 0.8571 - val_loss: 0.3097\n",
            "Epoch 48/50\n",
            "\u001b[1m1/1\u001b[0m \u001b[32m━━━━━━━━━━━━━━━━━━━━\u001b[0m\u001b[37m\u001b[0m \u001b[1m1s\u001b[0m 934ms/step - binary_accuracy: 0.7200 - loss: 0.5693 - val_binary_accuracy: 0.8571 - val_loss: 0.2882\n",
            "Epoch 49/50\n",
            "\u001b[1m1/1\u001b[0m \u001b[32m━━━━━━━━━━━━━━━━━━━━\u001b[0m\u001b[37m\u001b[0m \u001b[1m1s\u001b[0m 910ms/step - binary_accuracy: 0.8400 - loss: 0.3727 - val_binary_accuracy: 0.8571 - val_loss: 0.2810\n",
            "Epoch 50/50\n",
            "\u001b[1m1/1\u001b[0m \u001b[32m━━━━━━━━━━━━━━━━━━━━\u001b[0m\u001b[37m\u001b[0m \u001b[1m1s\u001b[0m 897ms/step - binary_accuracy: 0.8800 - loss: 0.2879 - val_binary_accuracy: 0.8571 - val_loss: 0.2786\n",
            "evaluating..\n",
            "\u001b[1m1/1\u001b[0m \u001b[32m━━━━━━━━━━━━━━━━━━━━\u001b[0m\u001b[37m\u001b[0m \u001b[1m0s\u001b[0m 94ms/step\n",
            "fitting..\n",
            "Epoch 1/50\n",
            "\u001b[1m1/1\u001b[0m \u001b[32m━━━━━━━━━━━━━━━━━━━━\u001b[0m\u001b[37m\u001b[0m \u001b[1m1s\u001b[0m 590ms/step - binary_accuracy: 0.8400 - loss: 0.3886 - val_binary_accuracy: 0.8571 - val_loss: 0.2082\n",
            "Epoch 2/50\n",
            "\u001b[1m1/1\u001b[0m \u001b[32m━━━━━━━━━━━━━━━━━━━━\u001b[0m\u001b[37m\u001b[0m \u001b[1m1s\u001b[0m 537ms/step - binary_accuracy: 0.7600 - loss: 0.4581 - val_binary_accuracy: 0.8571 - val_loss: 0.2005\n",
            "Epoch 3/50\n",
            "\u001b[1m1/1\u001b[0m \u001b[32m━━━━━━━━━━━━━━━━━━━━\u001b[0m\u001b[37m\u001b[0m \u001b[1m1s\u001b[0m 534ms/step - binary_accuracy: 0.7600 - loss: 0.4642 - val_binary_accuracy: 0.8571 - val_loss: 0.1971\n",
            "Epoch 4/50\n",
            "\u001b[1m1/1\u001b[0m \u001b[32m━━━━━━━━━━━━━━━━━━━━\u001b[0m\u001b[37m\u001b[0m \u001b[1m1s\u001b[0m 546ms/step - binary_accuracy: 0.8000 - loss: 0.4033 - val_binary_accuracy: 0.8571 - val_loss: 0.1940\n",
            "Epoch 5/50\n",
            "\u001b[1m1/1\u001b[0m \u001b[32m━━━━━━━━━━━━━━━━━━━━\u001b[0m\u001b[37m\u001b[0m \u001b[1m1s\u001b[0m 628ms/step - binary_accuracy: 0.7600 - loss: 0.5094 - val_binary_accuracy: 0.8571 - val_loss: 0.1937\n",
            "Epoch 6/50\n",
            "\u001b[1m1/1\u001b[0m \u001b[32m━━━━━━━━━━━━━━━━━━━━\u001b[0m\u001b[37m\u001b[0m \u001b[1m1s\u001b[0m 633ms/step - binary_accuracy: 0.7200 - loss: 0.5114 - val_binary_accuracy: 0.8571 - val_loss: 0.1955\n",
            "Epoch 7/50\n",
            "\u001b[1m1/1\u001b[0m \u001b[32m━━━━━━━━━━━━━━━━━━━━\u001b[0m\u001b[37m\u001b[0m \u001b[1m1s\u001b[0m 596ms/step - binary_accuracy: 0.7800 - loss: 0.4452 - val_binary_accuracy: 0.8571 - val_loss: 0.2153\n",
            "Epoch 8/50\n",
            "\u001b[1m1/1\u001b[0m \u001b[32m━━━━━━━━━━━━━━━━━━━━\u001b[0m\u001b[37m\u001b[0m \u001b[1m1s\u001b[0m 615ms/step - binary_accuracy: 0.8000 - loss: 0.4205 - val_binary_accuracy: 0.8571 - val_loss: 0.2373\n",
            "Epoch 9/50\n",
            "\u001b[1m1/1\u001b[0m \u001b[32m━━━━━━━━━━━━━━━━━━━━\u001b[0m\u001b[37m\u001b[0m \u001b[1m1s\u001b[0m 611ms/step - binary_accuracy: 0.7200 - loss: 0.4773 - val_binary_accuracy: 0.8571 - val_loss: 0.2707\n",
            "Epoch 10/50\n",
            "\u001b[1m1/1\u001b[0m \u001b[32m━━━━━━━━━━━━━━━━━━━━\u001b[0m\u001b[37m\u001b[0m \u001b[1m1s\u001b[0m 610ms/step - binary_accuracy: 0.7200 - loss: 0.4943 - val_binary_accuracy: 0.8571 - val_loss: 0.2704\n",
            "Epoch 11/50\n",
            "\u001b[1m1/1\u001b[0m \u001b[32m━━━━━━━━━━━━━━━━━━━━\u001b[0m\u001b[37m\u001b[0m \u001b[1m1s\u001b[0m 543ms/step - binary_accuracy: 0.7200 - loss: 0.4693 - val_binary_accuracy: 0.8571 - val_loss: 0.2622\n",
            "Epoch 12/50\n",
            "\u001b[1m1/1\u001b[0m \u001b[32m━━━━━━━━━━━━━━━━━━━━\u001b[0m\u001b[37m\u001b[0m \u001b[1m1s\u001b[0m 614ms/step - binary_accuracy: 0.6400 - loss: 0.6038 - val_binary_accuracy: 0.8571 - val_loss: 0.2543\n",
            "Epoch 13/50\n",
            "\u001b[1m1/1\u001b[0m \u001b[32m━━━━━━━━━━━━━━━━━━━━\u001b[0m\u001b[37m\u001b[0m \u001b[1m1s\u001b[0m 618ms/step - binary_accuracy: 0.7200 - loss: 0.5123 - val_binary_accuracy: 0.8571 - val_loss: 0.2451\n",
            "Epoch 14/50\n",
            "\u001b[1m1/1\u001b[0m \u001b[32m━━━━━━━━━━━━━━━━━━━━\u001b[0m\u001b[37m\u001b[0m \u001b[1m1s\u001b[0m 629ms/step - binary_accuracy: 0.7600 - loss: 0.4973 - val_binary_accuracy: 0.8571 - val_loss: 0.2317\n",
            "Epoch 15/50\n",
            "\u001b[1m1/1\u001b[0m \u001b[32m━━━━━━━━━━━━━━━━━━━━\u001b[0m\u001b[37m\u001b[0m \u001b[1m1s\u001b[0m 597ms/step - binary_accuracy: 0.7200 - loss: 0.4574 - val_binary_accuracy: 0.8571 - val_loss: 0.2214\n",
            "Epoch 16/50\n",
            "\u001b[1m1/1\u001b[0m \u001b[32m━━━━━━━━━━━━━━━━━━━━\u001b[0m\u001b[37m\u001b[0m \u001b[1m1s\u001b[0m 654ms/step - binary_accuracy: 0.7000 - loss: 0.5022 - val_binary_accuracy: 0.8571 - val_loss: 0.2116\n",
            "Epoch 17/50\n",
            "\u001b[1m1/1\u001b[0m \u001b[32m━━━━━━━━━━━━━━━━━━━━\u001b[0m\u001b[37m\u001b[0m \u001b[1m2s\u001b[0m 2s/step - binary_accuracy: 0.7600 - loss: 0.4490 - val_binary_accuracy: 0.8571 - val_loss: 0.2028\n",
            "Epoch 18/50\n",
            "\u001b[1m1/1\u001b[0m \u001b[32m━━━━━━━━━━━━━━━━━━━━\u001b[0m\u001b[37m\u001b[0m \u001b[1m1s\u001b[0m 952ms/step - binary_accuracy: 0.7600 - loss: 0.4641 - val_binary_accuracy: 0.8571 - val_loss: 0.1947\n",
            "Epoch 19/50\n",
            "\u001b[1m1/1\u001b[0m \u001b[32m━━━━━━━━━━━━━━━━━━━━\u001b[0m\u001b[37m\u001b[0m \u001b[1m1s\u001b[0m 871ms/step - binary_accuracy: 0.8000 - loss: 0.4341 - val_binary_accuracy: 0.8571 - val_loss: 0.1873\n",
            "Epoch 20/50\n",
            "\u001b[1m1/1\u001b[0m \u001b[32m━━━━━━━━━━━━━━━━━━━━\u001b[0m\u001b[37m\u001b[0m \u001b[1m1s\u001b[0m 549ms/step - binary_accuracy: 0.8400 - loss: 0.3960 - val_binary_accuracy: 0.8571 - val_loss: 0.1806\n",
            "Epoch 21/50\n",
            "\u001b[1m1/1\u001b[0m \u001b[32m━━━━━━━━━━━━━━━━━━━━\u001b[0m\u001b[37m\u001b[0m \u001b[1m1s\u001b[0m 601ms/step - binary_accuracy: 0.7200 - loss: 0.4899 - val_binary_accuracy: 0.8571 - val_loss: 0.1747\n",
            "Epoch 22/50\n",
            "\u001b[1m1/1\u001b[0m \u001b[32m━━━━━━━━━━━━━━━━━━━━\u001b[0m\u001b[37m\u001b[0m \u001b[1m1s\u001b[0m 557ms/step - binary_accuracy: 0.7600 - loss: 0.4687 - val_binary_accuracy: 0.8571 - val_loss: 0.1700\n",
            "Epoch 23/50\n",
            "\u001b[1m1/1\u001b[0m \u001b[32m━━━━━━━━━━━━━━━━━━━━\u001b[0m\u001b[37m\u001b[0m \u001b[1m1s\u001b[0m 591ms/step - binary_accuracy: 0.7800 - loss: 0.4741 - val_binary_accuracy: 0.8571 - val_loss: 0.1655\n",
            "Epoch 24/50\n",
            "\u001b[1m1/1\u001b[0m \u001b[32m━━━━━━━━━━━━━━━━━━━━\u001b[0m\u001b[37m\u001b[0m \u001b[1m1s\u001b[0m 550ms/step - binary_accuracy: 0.7600 - loss: 0.4660 - val_binary_accuracy: 0.8571 - val_loss: 0.1619\n",
            "Epoch 25/50\n",
            "\u001b[1m1/1\u001b[0m \u001b[32m━━━━━━━━━━━━━━━━━━━━\u001b[0m\u001b[37m\u001b[0m \u001b[1m1s\u001b[0m 568ms/step - binary_accuracy: 0.6800 - loss: 0.5151 - val_binary_accuracy: 0.8571 - val_loss: 0.1583\n",
            "Epoch 26/50\n",
            "\u001b[1m1/1\u001b[0m \u001b[32m━━━━━━━━━━━━━━━━━━━━\u001b[0m\u001b[37m\u001b[0m \u001b[1m1s\u001b[0m 535ms/step - binary_accuracy: 0.7800 - loss: 0.4549 - val_binary_accuracy: 0.8571 - val_loss: 0.1554\n",
            "Epoch 27/50\n",
            "\u001b[1m1/1\u001b[0m \u001b[32m━━━━━━━━━━━━━━━━━━━━\u001b[0m\u001b[37m\u001b[0m \u001b[1m1s\u001b[0m 634ms/step - binary_accuracy: 0.8000 - loss: 0.4958 - val_binary_accuracy: 0.8571 - val_loss: 0.1530\n",
            "Epoch 28/50\n",
            "\u001b[1m1/1\u001b[0m \u001b[32m━━━━━━━━━━━━━━━━━━━━\u001b[0m\u001b[37m\u001b[0m \u001b[1m1s\u001b[0m 520ms/step - binary_accuracy: 0.7200 - loss: 0.5216 - val_binary_accuracy: 0.8571 - val_loss: 0.1513\n",
            "Epoch 29/50\n",
            "\u001b[1m1/1\u001b[0m \u001b[32m━━━━━━━━━━━━━━━━━━━━\u001b[0m\u001b[37m\u001b[0m \u001b[1m1s\u001b[0m 552ms/step - binary_accuracy: 0.8400 - loss: 0.3835 - val_binary_accuracy: 0.8571 - val_loss: 0.1498\n",
            "Epoch 30/50\n",
            "\u001b[1m1/1\u001b[0m \u001b[32m━━━━━━━━━━━━━━━━━━━━\u001b[0m\u001b[37m\u001b[0m \u001b[1m1s\u001b[0m 590ms/step - binary_accuracy: 0.6800 - loss: 0.6084 - val_binary_accuracy: 0.8571 - val_loss: 0.1503\n",
            "Epoch 31/50\n",
            "\u001b[1m1/1\u001b[0m \u001b[32m━━━━━━━━━━━━━━━━━━━━\u001b[0m\u001b[37m\u001b[0m \u001b[1m1s\u001b[0m 551ms/step - binary_accuracy: 0.7800 - loss: 0.4868 - val_binary_accuracy: 0.8571 - val_loss: 0.1505\n",
            "Epoch 32/50\n",
            "\u001b[1m1/1\u001b[0m \u001b[32m━━━━━━━━━━━━━━━━━━━━\u001b[0m\u001b[37m\u001b[0m \u001b[1m1s\u001b[0m 541ms/step - binary_accuracy: 0.8000 - loss: 0.4619 - val_binary_accuracy: 0.8571 - val_loss: 0.1519\n",
            "Epoch 33/50\n",
            "\u001b[1m1/1\u001b[0m \u001b[32m━━━━━━━━━━━━━━━━━━━━\u001b[0m\u001b[37m\u001b[0m \u001b[1m1s\u001b[0m 609ms/step - binary_accuracy: 0.7600 - loss: 0.4912 - val_binary_accuracy: 0.8571 - val_loss: 0.1534\n",
            "Epoch 34/50\n",
            "\u001b[1m1/1\u001b[0m \u001b[32m━━━━━━━━━━━━━━━━━━━━\u001b[0m\u001b[37m\u001b[0m \u001b[1m1s\u001b[0m 652ms/step - binary_accuracy: 0.6400 - loss: 0.5727 - val_binary_accuracy: 0.8571 - val_loss: 0.1575\n",
            "Epoch 35/50\n",
            "\u001b[1m1/1\u001b[0m \u001b[32m━━━━━━━━━━━━━━━━━━━━\u001b[0m\u001b[37m\u001b[0m \u001b[1m1s\u001b[0m 584ms/step - binary_accuracy: 0.6800 - loss: 0.5935 - val_binary_accuracy: 0.8571 - val_loss: 0.1645\n",
            "Epoch 36/50\n",
            "\u001b[1m1/1\u001b[0m \u001b[32m━━━━━━━━━━━━━━━━━━━━\u001b[0m\u001b[37m\u001b[0m \u001b[1m1s\u001b[0m 991ms/step - binary_accuracy: 0.7600 - loss: 0.4574 - val_binary_accuracy: 0.8571 - val_loss: 0.1728\n",
            "Epoch 37/50\n",
            "\u001b[1m1/1\u001b[0m \u001b[32m━━━━━━━━━━━━━━━━━━━━\u001b[0m\u001b[37m\u001b[0m \u001b[1m1s\u001b[0m 963ms/step - binary_accuracy: 0.8000 - loss: 0.3950 - val_binary_accuracy: 0.8571 - val_loss: 0.1805\n",
            "Epoch 38/50\n",
            "\u001b[1m1/1\u001b[0m \u001b[32m━━━━━━━━━━━━━━━━━━━━\u001b[0m\u001b[37m\u001b[0m \u001b[1m1s\u001b[0m 934ms/step - binary_accuracy: 0.7200 - loss: 0.4600 - val_binary_accuracy: 0.8571 - val_loss: 0.2016\n",
            "Epoch 39/50\n",
            "\u001b[1m1/1\u001b[0m \u001b[32m━━━━━━━━━━━━━━━━━━━━\u001b[0m\u001b[37m\u001b[0m \u001b[1m1s\u001b[0m 895ms/step - binary_accuracy: 0.8000 - loss: 0.5533 - val_binary_accuracy: 0.8571 - val_loss: 0.2185\n",
            "Epoch 40/50\n",
            "\u001b[1m1/1\u001b[0m \u001b[32m━━━━━━━━━━━━━━━━━━━━\u001b[0m\u001b[37m\u001b[0m \u001b[1m1s\u001b[0m 605ms/step - binary_accuracy: 0.8800 - loss: 0.3185 - val_binary_accuracy: 0.8571 - val_loss: 0.2348\n",
            "Epoch 41/50\n",
            "\u001b[1m1/1\u001b[0m \u001b[32m━━━━━━━━━━━━━━━━━━━━\u001b[0m\u001b[37m\u001b[0m \u001b[1m1s\u001b[0m 609ms/step - binary_accuracy: 0.8400 - loss: 0.3417 - val_binary_accuracy: 0.8571 - val_loss: 0.2511\n",
            "Epoch 42/50\n",
            "\u001b[1m1/1\u001b[0m \u001b[32m━━━━━━━━━━━━━━━━━━━━\u001b[0m\u001b[37m\u001b[0m \u001b[1m1s\u001b[0m 633ms/step - binary_accuracy: 0.8400 - loss: 0.4034 - val_binary_accuracy: 0.8571 - val_loss: 0.2517\n",
            "Epoch 43/50\n",
            "\u001b[1m1/1\u001b[0m \u001b[32m━━━━━━━━━━━━━━━━━━━━\u001b[0m\u001b[37m\u001b[0m \u001b[1m1s\u001b[0m 535ms/step - binary_accuracy: 0.7200 - loss: 0.4988 - val_binary_accuracy: 0.8571 - val_loss: 0.2501\n",
            "Epoch 44/50\n",
            "\u001b[1m1/1\u001b[0m \u001b[32m━━━━━━━━━━━━━━━━━━━━\u001b[0m\u001b[37m\u001b[0m \u001b[1m1s\u001b[0m 565ms/step - binary_accuracy: 0.7600 - loss: 0.4585 - val_binary_accuracy: 0.8571 - val_loss: 0.2448\n",
            "Epoch 45/50\n",
            "\u001b[1m1/1\u001b[0m \u001b[32m━━━━━━━━━━━━━━━━━━━━\u001b[0m\u001b[37m\u001b[0m \u001b[1m1s\u001b[0m 564ms/step - binary_accuracy: 0.8000 - loss: 0.4227 - val_binary_accuracy: 0.8571 - val_loss: 0.2386\n",
            "Epoch 46/50\n",
            "\u001b[1m1/1\u001b[0m \u001b[32m━━━━━━━━━━━━━━━━━━━━\u001b[0m\u001b[37m\u001b[0m \u001b[1m1s\u001b[0m 600ms/step - binary_accuracy: 0.8000 - loss: 0.4053 - val_binary_accuracy: 0.8571 - val_loss: 0.2334\n",
            "Epoch 47/50\n",
            "\u001b[1m1/1\u001b[0m \u001b[32m━━━━━━━━━━━━━━━━━━━━\u001b[0m\u001b[37m\u001b[0m \u001b[1m1s\u001b[0m 539ms/step - binary_accuracy: 0.8000 - loss: 0.4275 - val_binary_accuracy: 0.8571 - val_loss: 0.2266\n",
            "Epoch 48/50\n",
            "\u001b[1m1/1\u001b[0m \u001b[32m━━━━━━━━━━━━━━━━━━━━\u001b[0m\u001b[37m\u001b[0m \u001b[1m1s\u001b[0m 606ms/step - binary_accuracy: 0.7800 - loss: 0.4354 - val_binary_accuracy: 0.8571 - val_loss: 0.2199\n",
            "Epoch 49/50\n",
            "\u001b[1m1/1\u001b[0m \u001b[32m━━━━━━━━━━━━━━━━━━━━\u001b[0m\u001b[37m\u001b[0m \u001b[1m1s\u001b[0m 526ms/step - binary_accuracy: 0.7200 - loss: 0.4808 - val_binary_accuracy: 0.8571 - val_loss: 0.2138\n",
            "Epoch 50/50\n",
            "\u001b[1m1/1\u001b[0m \u001b[32m━━━━━━━━━━━━━━━━━━━━\u001b[0m\u001b[37m\u001b[0m \u001b[1m1s\u001b[0m 536ms/step - binary_accuracy: 0.8000 - loss: 0.4222 - val_binary_accuracy: 0.8571 - val_loss: 0.2086\n",
            "evaluating..\n",
            "\u001b[1m1/1\u001b[0m \u001b[32m━━━━━━━━━━━━━━━━━━━━\u001b[0m\u001b[37m\u001b[0m \u001b[1m0s\u001b[0m 86ms/step\n",
            "fitting..\n",
            "Epoch 1/50\n",
            "\u001b[1m1/1\u001b[0m \u001b[32m━━━━━━━━━━━━━━━━━━━━\u001b[0m\u001b[37m\u001b[0m \u001b[1m1s\u001b[0m 629ms/step - binary_accuracy: 0.8800 - loss: 0.3171 - val_binary_accuracy: 0.7143 - val_loss: 0.4053\n",
            "Epoch 2/50\n",
            "\u001b[1m1/1\u001b[0m \u001b[32m━━━━━━━━━━━━━━━━━━━━\u001b[0m\u001b[37m\u001b[0m \u001b[1m1s\u001b[0m 1s/step - binary_accuracy: 0.8000 - loss: 0.3552 - val_binary_accuracy: 0.7143 - val_loss: 0.4026\n",
            "Epoch 3/50\n",
            "\u001b[1m1/1\u001b[0m \u001b[32m━━━━━━━━━━━━━━━━━━━━\u001b[0m\u001b[37m\u001b[0m \u001b[1m1s\u001b[0m 550ms/step - binary_accuracy: 0.9200 - loss: 0.2758 - val_binary_accuracy: 0.7143 - val_loss: 0.4013\n",
            "Epoch 4/50\n",
            "\u001b[1m1/1\u001b[0m \u001b[32m━━━━━━━━━━━━━━━━━━━━\u001b[0m\u001b[37m\u001b[0m \u001b[1m1s\u001b[0m 797ms/step - binary_accuracy: 0.8400 - loss: 0.3913 - val_binary_accuracy: 0.7143 - val_loss: 0.4005\n",
            "Epoch 5/50\n",
            "\u001b[1m1/1\u001b[0m \u001b[32m━━━━━━━━━━━━━━━━━━━━\u001b[0m\u001b[37m\u001b[0m \u001b[1m1s\u001b[0m 879ms/step - binary_accuracy: 0.8400 - loss: 0.3696 - val_binary_accuracy: 0.7143 - val_loss: 0.4012\n",
            "Epoch 6/50\n",
            "\u001b[1m1/1\u001b[0m \u001b[32m━━━━━━━━━━━━━━━━━━━━\u001b[0m\u001b[37m\u001b[0m \u001b[1m1s\u001b[0m 898ms/step - binary_accuracy: 0.8400 - loss: 0.3454 - val_binary_accuracy: 0.7143 - val_loss: 0.4023\n",
            "Epoch 7/50\n",
            "\u001b[1m1/1\u001b[0m \u001b[32m━━━━━━━━━━━━━━━━━━━━\u001b[0m\u001b[37m\u001b[0m \u001b[1m1s\u001b[0m 955ms/step - binary_accuracy: 0.8000 - loss: 0.3820 - val_binary_accuracy: 0.7143 - val_loss: 0.4029\n",
            "Epoch 8/50\n",
            "\u001b[1m1/1\u001b[0m \u001b[32m━━━━━━━━━━━━━━━━━━━━\u001b[0m\u001b[37m\u001b[0m \u001b[1m1s\u001b[0m 672ms/step - binary_accuracy: 0.8800 - loss: 0.2960 - val_binary_accuracy: 0.7143 - val_loss: 0.4050\n",
            "Epoch 9/50\n",
            "\u001b[1m1/1\u001b[0m \u001b[32m━━━━━━━━━━━━━━━━━━━━\u001b[0m\u001b[37m\u001b[0m \u001b[1m1s\u001b[0m 1s/step - binary_accuracy: 0.8800 - loss: 0.2924 - val_binary_accuracy: 0.7143 - val_loss: 0.4081\n",
            "Epoch 10/50\n",
            "\u001b[1m1/1\u001b[0m \u001b[32m━━━━━━━━━━━━━━━━━━━━\u001b[0m\u001b[37m\u001b[0m \u001b[1m1s\u001b[0m 600ms/step - binary_accuracy: 0.7200 - loss: 0.4408 - val_binary_accuracy: 0.7143 - val_loss: 0.4088\n",
            "Epoch 11/50\n",
            "\u001b[1m1/1\u001b[0m \u001b[32m━━━━━━━━━━━━━━━━━━━━\u001b[0m\u001b[37m\u001b[0m \u001b[1m1s\u001b[0m 638ms/step - binary_accuracy: 0.8400 - loss: 0.3713 - val_binary_accuracy: 0.7143 - val_loss: 0.4078\n",
            "Epoch 12/50\n",
            "\u001b[1m1/1\u001b[0m \u001b[32m━━━━━━━━━━━━━━━━━━━━\u001b[0m\u001b[37m\u001b[0m \u001b[1m1s\u001b[0m 607ms/step - binary_accuracy: 0.8400 - loss: 0.3293 - val_binary_accuracy: 0.7143 - val_loss: 0.4056\n",
            "Epoch 13/50\n",
            "\u001b[1m1/1\u001b[0m \u001b[32m━━━━━━━━━━━━━━━━━━━━\u001b[0m\u001b[37m\u001b[0m \u001b[1m1s\u001b[0m 616ms/step - binary_accuracy: 0.8400 - loss: 0.3534 - val_binary_accuracy: 0.7143 - val_loss: 0.4056\n",
            "Epoch 14/50\n",
            "\u001b[1m1/1\u001b[0m \u001b[32m━━━━━━━━━━━━━━━━━━━━\u001b[0m\u001b[37m\u001b[0m \u001b[1m1s\u001b[0m 611ms/step - binary_accuracy: 0.9200 - loss: 0.2937 - val_binary_accuracy: 0.7143 - val_loss: 0.4084\n",
            "Epoch 15/50\n",
            "\u001b[1m1/1\u001b[0m \u001b[32m━━━━━━━━━━━━━━━━━━━━\u001b[0m\u001b[37m\u001b[0m \u001b[1m1s\u001b[0m 527ms/step - binary_accuracy: 0.7600 - loss: 0.4541 - val_binary_accuracy: 0.7143 - val_loss: 0.4110\n",
            "Epoch 16/50\n",
            "\u001b[1m1/1\u001b[0m \u001b[32m━━━━━━━━━━━━━━━━━━━━\u001b[0m\u001b[37m\u001b[0m \u001b[1m1s\u001b[0m 550ms/step - binary_accuracy: 0.8800 - loss: 0.3560 - val_binary_accuracy: 0.7143 - val_loss: 0.4133\n",
            "Epoch 17/50\n",
            "\u001b[1m1/1\u001b[0m \u001b[32m━━━━━━━━━━━━━━━━━━━━\u001b[0m\u001b[37m\u001b[0m \u001b[1m1s\u001b[0m 646ms/step - binary_accuracy: 0.7600 - loss: 0.4792 - val_binary_accuracy: 0.7143 - val_loss: 0.4118\n",
            "Epoch 18/50\n",
            "\u001b[1m1/1\u001b[0m \u001b[32m━━━━━━━━━━━━━━━━━━━━\u001b[0m\u001b[37m\u001b[0m \u001b[1m1s\u001b[0m 579ms/step - binary_accuracy: 0.9200 - loss: 0.2060 - val_binary_accuracy: 0.7143 - val_loss: 0.4148\n",
            "Epoch 19/50\n",
            "\u001b[1m1/1\u001b[0m \u001b[32m━━━━━━━━━━━━━━━━━━━━\u001b[0m\u001b[37m\u001b[0m \u001b[1m1s\u001b[0m 632ms/step - binary_accuracy: 0.8000 - loss: 0.3757 - val_binary_accuracy: 0.7143 - val_loss: 0.4148\n",
            "Epoch 20/50\n",
            "\u001b[1m1/1\u001b[0m \u001b[32m━━━━━━━━━━━━━━━━━━━━\u001b[0m\u001b[37m\u001b[0m \u001b[1m1s\u001b[0m 596ms/step - binary_accuracy: 0.8000 - loss: 0.3479 - val_binary_accuracy: 0.7143 - val_loss: 0.4120\n",
            "Epoch 21/50\n",
            "\u001b[1m1/1\u001b[0m \u001b[32m━━━━━━━━━━━━━━━━━━━━\u001b[0m\u001b[37m\u001b[0m \u001b[1m1s\u001b[0m 647ms/step - binary_accuracy: 0.8000 - loss: 0.4570 - val_binary_accuracy: 0.7143 - val_loss: 0.4093\n",
            "Epoch 22/50\n",
            "\u001b[1m1/1\u001b[0m \u001b[32m━━━━━━━━━━━━━━━━━━━━\u001b[0m\u001b[37m\u001b[0m \u001b[1m1s\u001b[0m 566ms/step - binary_accuracy: 0.8000 - loss: 0.3809 - val_binary_accuracy: 0.7143 - val_loss: 0.4030\n",
            "Epoch 23/50\n",
            "\u001b[1m1/1\u001b[0m \u001b[32m━━━━━━━━━━━━━━━━━━━━\u001b[0m\u001b[37m\u001b[0m \u001b[1m1s\u001b[0m 633ms/step - binary_accuracy: 0.8400 - loss: 0.3940 - val_binary_accuracy: 0.7143 - val_loss: 0.3956\n",
            "Epoch 24/50\n",
            "\u001b[1m1/1\u001b[0m \u001b[32m━━━━━━━━━━━━━━━━━━━━\u001b[0m\u001b[37m\u001b[0m \u001b[1m2s\u001b[0m 2s/step - binary_accuracy: 0.8400 - loss: 0.4124 - val_binary_accuracy: 0.7143 - val_loss: 0.3929\n",
            "Epoch 25/50\n",
            "\u001b[1m1/1\u001b[0m \u001b[32m━━━━━━━━━━━━━━━━━━━━\u001b[0m\u001b[37m\u001b[0m \u001b[1m1s\u001b[0m 974ms/step - binary_accuracy: 0.7600 - loss: 0.4485 - val_binary_accuracy: 0.7143 - val_loss: 0.3879\n",
            "Epoch 26/50\n",
            "\u001b[1m1/1\u001b[0m \u001b[32m━━━━━━━━━━━━━━━━━━━━\u001b[0m\u001b[37m\u001b[0m \u001b[1m1s\u001b[0m 633ms/step - binary_accuracy: 0.9600 - loss: 0.2044 - val_binary_accuracy: 0.7143 - val_loss: 0.3918\n",
            "Epoch 27/50\n",
            "\u001b[1m1/1\u001b[0m \u001b[32m━━━━━━━━━━━━━━━━━━━━\u001b[0m\u001b[37m\u001b[0m \u001b[1m1s\u001b[0m 566ms/step - binary_accuracy: 0.8400 - loss: 0.3082 - val_binary_accuracy: 0.7143 - val_loss: 0.3955\n",
            "Epoch 28/50\n",
            "\u001b[1m1/1\u001b[0m \u001b[32m━━━━━━━━━━━━━━━━━━━━\u001b[0m\u001b[37m\u001b[0m \u001b[1m1s\u001b[0m 580ms/step - binary_accuracy: 0.8000 - loss: 0.4172 - val_binary_accuracy: 0.7143 - val_loss: 0.3892\n",
            "Epoch 29/50\n",
            "\u001b[1m1/1\u001b[0m \u001b[32m━━━━━━━━━━━━━━━━━━━━\u001b[0m\u001b[37m\u001b[0m \u001b[1m1s\u001b[0m 588ms/step - binary_accuracy: 0.7600 - loss: 0.4268 - val_binary_accuracy: 0.7143 - val_loss: 0.3824\n",
            "Epoch 30/50\n",
            "\u001b[1m1/1\u001b[0m \u001b[32m━━━━━━━━━━━━━━━━━━━━\u001b[0m\u001b[37m\u001b[0m \u001b[1m1s\u001b[0m 565ms/step - binary_accuracy: 0.8800 - loss: 0.2799 - val_binary_accuracy: 0.7143 - val_loss: 0.3819\n",
            "Epoch 31/50\n",
            "\u001b[1m1/1\u001b[0m \u001b[32m━━━━━━━━━━━━━━━━━━━━\u001b[0m\u001b[37m\u001b[0m \u001b[1m1s\u001b[0m 546ms/step - binary_accuracy: 0.8400 - loss: 0.3548 - val_binary_accuracy: 0.7143 - val_loss: 0.3757\n",
            "Epoch 32/50\n",
            "\u001b[1m1/1\u001b[0m \u001b[32m━━━━━━━━━━━━━━━━━━━━\u001b[0m\u001b[37m\u001b[0m \u001b[1m1s\u001b[0m 636ms/step - binary_accuracy: 0.8000 - loss: 0.3550 - val_binary_accuracy: 0.7143 - val_loss: 0.3659\n",
            "Epoch 33/50\n",
            "\u001b[1m1/1\u001b[0m \u001b[32m━━━━━━━━━━━━━━━━━━━━\u001b[0m\u001b[37m\u001b[0m \u001b[1m1s\u001b[0m 538ms/step - binary_accuracy: 0.8000 - loss: 0.4260 - val_binary_accuracy: 0.7143 - val_loss: 0.3597\n",
            "Epoch 34/50\n",
            "\u001b[1m1/1\u001b[0m \u001b[32m━━━━━━━━━━━━━━━━━━━━\u001b[0m\u001b[37m\u001b[0m \u001b[1m1s\u001b[0m 550ms/step - binary_accuracy: 0.8000 - loss: 0.2896 - val_binary_accuracy: 0.7143 - val_loss: 0.3685\n",
            "Epoch 35/50\n",
            "\u001b[1m1/1\u001b[0m \u001b[32m━━━━━━━━━━━━━━━━━━━━\u001b[0m\u001b[37m\u001b[0m \u001b[1m1s\u001b[0m 649ms/step - binary_accuracy: 0.9200 - loss: 0.1813 - val_binary_accuracy: 0.7143 - val_loss: 0.4094\n",
            "Epoch 36/50\n",
            "\u001b[1m1/1\u001b[0m \u001b[32m━━━━━━━━━━━━━━━━━━━━\u001b[0m\u001b[37m\u001b[0m \u001b[1m1s\u001b[0m 580ms/step - binary_accuracy: 0.8000 - loss: 0.4293 - val_binary_accuracy: 0.7143 - val_loss: 0.4920\n",
            "Epoch 37/50\n",
            "\u001b[1m1/1\u001b[0m \u001b[32m━━━━━━━━━━━━━━━━━━━━\u001b[0m\u001b[37m\u001b[0m \u001b[1m1s\u001b[0m 618ms/step - binary_accuracy: 0.8800 - loss: 0.3719 - val_binary_accuracy: 0.7143 - val_loss: 0.6029\n",
            "Epoch 38/50\n",
            "\u001b[1m1/1\u001b[0m \u001b[32m━━━━━━━━━━━━━━━━━━━━\u001b[0m\u001b[37m\u001b[0m \u001b[1m1s\u001b[0m 612ms/step - binary_accuracy: 0.8000 - loss: 0.4614 - val_binary_accuracy: 0.7143 - val_loss: 0.4688\n",
            "Epoch 39/50\n",
            "\u001b[1m1/1\u001b[0m \u001b[32m━━━━━━━━━━━━━━━━━━━━\u001b[0m\u001b[37m\u001b[0m \u001b[1m1s\u001b[0m 639ms/step - binary_accuracy: 0.8800 - loss: 0.3285 - val_binary_accuracy: 0.7143 - val_loss: 0.3894\n",
            "Epoch 40/50\n",
            "\u001b[1m1/1\u001b[0m \u001b[32m━━━━━━━━━━━━━━━━━━━━\u001b[0m\u001b[37m\u001b[0m \u001b[1m1s\u001b[0m 559ms/step - binary_accuracy: 0.9600 - loss: 0.2236 - val_binary_accuracy: 0.7143 - val_loss: 0.3225\n",
            "Epoch 41/50\n",
            "\u001b[1m1/1\u001b[0m \u001b[32m━━━━━━━━━━━━━━━━━━━━\u001b[0m\u001b[37m\u001b[0m \u001b[1m1s\u001b[0m 590ms/step - binary_accuracy: 0.8800 - loss: 0.3170 - val_binary_accuracy: 0.7143 - val_loss: 0.2962\n",
            "Epoch 42/50\n",
            "\u001b[1m1/1\u001b[0m \u001b[32m━━━━━━━━━━━━━━━━━━━━\u001b[0m\u001b[37m\u001b[0m \u001b[1m1s\u001b[0m 564ms/step - binary_accuracy: 0.8800 - loss: 0.2222 - val_binary_accuracy: 0.8571 - val_loss: 0.2915\n",
            "Epoch 43/50\n",
            "\u001b[1m1/1\u001b[0m \u001b[32m━━━━━━━━━━━━━━━━━━━━\u001b[0m\u001b[37m\u001b[0m \u001b[1m1s\u001b[0m 856ms/step - binary_accuracy: 0.8400 - loss: 0.3283 - val_binary_accuracy: 0.8571 - val_loss: 0.2898\n",
            "Epoch 44/50\n",
            "\u001b[1m1/1\u001b[0m \u001b[32m━━━━━━━━━━━━━━━━━━━━\u001b[0m\u001b[37m\u001b[0m \u001b[1m1s\u001b[0m 919ms/step - binary_accuracy: 0.9200 - loss: 0.2745 - val_binary_accuracy: 0.7143 - val_loss: 0.3160\n",
            "Epoch 45/50\n",
            "\u001b[1m1/1\u001b[0m \u001b[32m━━━━━━━━━━━━━━━━━━━━\u001b[0m\u001b[37m\u001b[0m \u001b[1m1s\u001b[0m 917ms/step - binary_accuracy: 0.8800 - loss: 0.3296 - val_binary_accuracy: 0.7143 - val_loss: 0.3454\n",
            "Epoch 46/50\n",
            "\u001b[1m1/1\u001b[0m \u001b[32m━━━━━━━━━━━━━━━━━━━━\u001b[0m\u001b[37m\u001b[0m \u001b[1m1s\u001b[0m 932ms/step - binary_accuracy: 0.9200 - loss: 0.2421 - val_binary_accuracy: 0.7143 - val_loss: 0.3902\n",
            "Epoch 47/50\n",
            "\u001b[1m1/1\u001b[0m \u001b[32m━━━━━━━━━━━━━━━━━━━━\u001b[0m\u001b[37m\u001b[0m \u001b[1m1s\u001b[0m 571ms/step - binary_accuracy: 0.8400 - loss: 0.2891 - val_binary_accuracy: 0.7143 - val_loss: 0.4486\n",
            "Epoch 48/50\n",
            "\u001b[1m1/1\u001b[0m \u001b[32m━━━━━━━━━━━━━━━━━━━━\u001b[0m\u001b[37m\u001b[0m \u001b[1m1s\u001b[0m 614ms/step - binary_accuracy: 0.8400 - loss: 0.3752 - val_binary_accuracy: 0.7143 - val_loss: 0.5069\n",
            "Epoch 49/50\n",
            "\u001b[1m1/1\u001b[0m \u001b[32m━━━━━━━━━━━━━━━━━━━━\u001b[0m\u001b[37m\u001b[0m \u001b[1m1s\u001b[0m 549ms/step - binary_accuracy: 0.8400 - loss: 0.4294 - val_binary_accuracy: 0.7143 - val_loss: 0.5066\n",
            "Epoch 50/50\n",
            "\u001b[1m1/1\u001b[0m \u001b[32m━━━━━━━━━━━━━━━━━━━━\u001b[0m\u001b[37m\u001b[0m \u001b[1m1s\u001b[0m 606ms/step - binary_accuracy: 0.8800 - loss: 0.3279 - val_binary_accuracy: 0.7143 - val_loss: 0.4884\n",
            "evaluating..\n",
            "\u001b[1m1/1\u001b[0m \u001b[32m━━━━━━━━━━━━━━━━━━━━\u001b[0m\u001b[37m\u001b[0m \u001b[1m0s\u001b[0m 83ms/step\n",
            "fitting..\n",
            "Epoch 1/50\n",
            "\u001b[1m1/1\u001b[0m \u001b[32m━━━━━━━━━━━━━━━━━━━━\u001b[0m\u001b[37m\u001b[0m \u001b[1m1s\u001b[0m 575ms/step - binary_accuracy: 0.8000 - loss: 0.3941 - val_binary_accuracy: 1.0000 - val_loss: 0.1279\n",
            "Epoch 2/50\n",
            "\u001b[1m1/1\u001b[0m \u001b[32m━━━━━━━━━━━━━━━━━━━━\u001b[0m\u001b[37m\u001b[0m \u001b[1m1s\u001b[0m 577ms/step - binary_accuracy: 0.7600 - loss: 0.5639 - val_binary_accuracy: 1.0000 - val_loss: 0.1626\n",
            "Epoch 3/50\n",
            "\u001b[1m1/1\u001b[0m \u001b[32m━━━━━━━━━━━━━━━━━━━━\u001b[0m\u001b[37m\u001b[0m \u001b[1m1s\u001b[0m 617ms/step - binary_accuracy: 0.8400 - loss: 0.3344 - val_binary_accuracy: 1.0000 - val_loss: 0.1876\n",
            "Epoch 4/50\n",
            "\u001b[1m1/1\u001b[0m \u001b[32m━━━━━━━━━━━━━━━━━━━━\u001b[0m\u001b[37m\u001b[0m \u001b[1m1s\u001b[0m 624ms/step - binary_accuracy: 0.7400 - loss: 0.4196 - val_binary_accuracy: 1.0000 - val_loss: 0.2051\n",
            "Epoch 5/50\n",
            "\u001b[1m1/1\u001b[0m \u001b[32m━━━━━━━━━━━━━━━━━━━━\u001b[0m\u001b[37m\u001b[0m \u001b[1m1s\u001b[0m 614ms/step - binary_accuracy: 0.8000 - loss: 0.3564 - val_binary_accuracy: 1.0000 - val_loss: 0.2169\n",
            "Epoch 6/50\n",
            "\u001b[1m1/1\u001b[0m \u001b[32m━━━━━━━━━━━━━━━━━━━━\u001b[0m\u001b[37m\u001b[0m \u001b[1m1s\u001b[0m 546ms/step - binary_accuracy: 0.8800 - loss: 0.3183 - val_binary_accuracy: 1.0000 - val_loss: 0.2256\n",
            "Epoch 7/50\n",
            "\u001b[1m1/1\u001b[0m \u001b[32m━━━━━━━━━━━━━━━━━━━━\u001b[0m\u001b[37m\u001b[0m \u001b[1m1s\u001b[0m 540ms/step - binary_accuracy: 0.8000 - loss: 0.3513 - val_binary_accuracy: 0.7143 - val_loss: 0.2344\n",
            "Epoch 8/50\n",
            "\u001b[1m1/1\u001b[0m \u001b[32m━━━━━━━━━━━━━━━━━━━━\u001b[0m\u001b[37m\u001b[0m \u001b[1m1s\u001b[0m 573ms/step - binary_accuracy: 0.6800 - loss: 0.3745 - val_binary_accuracy: 0.7143 - val_loss: 0.2419\n",
            "Epoch 9/50\n",
            "\u001b[1m1/1\u001b[0m \u001b[32m━━━━━━━━━━━━━━━━━━━━\u001b[0m\u001b[37m\u001b[0m \u001b[1m1s\u001b[0m 605ms/step - binary_accuracy: 0.8600 - loss: 0.2834 - val_binary_accuracy: 0.7143 - val_loss: 0.2467\n",
            "Epoch 10/50\n",
            "\u001b[1m1/1\u001b[0m \u001b[32m━━━━━━━━━━━━━━━━━━━━\u001b[0m\u001b[37m\u001b[0m \u001b[1m1s\u001b[0m 537ms/step - binary_accuracy: 0.7600 - loss: 0.4431 - val_binary_accuracy: 0.7143 - val_loss: 0.2497\n",
            "Epoch 11/50\n",
            "\u001b[1m1/1\u001b[0m \u001b[32m━━━━━━━━━━━━━━━━━━━━\u001b[0m\u001b[37m\u001b[0m \u001b[1m1s\u001b[0m 639ms/step - binary_accuracy: 0.6800 - loss: 0.4938 - val_binary_accuracy: 0.7143 - val_loss: 0.2492\n",
            "Epoch 12/50\n",
            "\u001b[1m1/1\u001b[0m \u001b[32m━━━━━━━━━━━━━━━━━━━━\u001b[0m\u001b[37m\u001b[0m \u001b[1m1s\u001b[0m 808ms/step - binary_accuracy: 0.8800 - loss: 0.2993 - val_binary_accuracy: 0.7143 - val_loss: 0.2501\n",
            "Epoch 13/50\n",
            "\u001b[1m1/1\u001b[0m \u001b[32m━━━━━━━━━━━━━━━━━━━━\u001b[0m\u001b[37m\u001b[0m \u001b[1m1s\u001b[0m 1s/step - binary_accuracy: 0.6800 - loss: 0.5826 - val_binary_accuracy: 0.7143 - val_loss: 0.2576\n",
            "Epoch 14/50\n",
            "\u001b[1m1/1\u001b[0m \u001b[32m━━━━━━━━━━━━━━━━━━━━\u001b[0m\u001b[37m\u001b[0m \u001b[1m1s\u001b[0m 1s/step - binary_accuracy: 0.6400 - loss: 0.4336 - val_binary_accuracy: 0.7143 - val_loss: 0.2608\n",
            "Epoch 15/50\n",
            "\u001b[1m1/1\u001b[0m \u001b[32m━━━━━━━━━━━━━━━━━━━━\u001b[0m\u001b[37m\u001b[0m \u001b[1m1s\u001b[0m 540ms/step - binary_accuracy: 0.7200 - loss: 0.3985 - val_binary_accuracy: 0.7143 - val_loss: 0.2502\n",
            "Epoch 16/50\n",
            "\u001b[1m1/1\u001b[0m \u001b[32m━━━━━━━━━━━━━━━━━━━━\u001b[0m\u001b[37m\u001b[0m \u001b[1m1s\u001b[0m 616ms/step - binary_accuracy: 0.8200 - loss: 0.3964 - val_binary_accuracy: 0.7143 - val_loss: 0.2368\n",
            "Epoch 17/50\n",
            "\u001b[1m1/1\u001b[0m \u001b[32m━━━━━━━━━━━━━━━━━━━━\u001b[0m\u001b[37m\u001b[0m \u001b[1m1s\u001b[0m 632ms/step - binary_accuracy: 0.8000 - loss: 0.3354 - val_binary_accuracy: 0.8571 - val_loss: 0.2251\n",
            "Epoch 18/50\n",
            "\u001b[1m1/1\u001b[0m \u001b[32m━━━━━━━━━━━━━━━━━━━━\u001b[0m\u001b[37m\u001b[0m \u001b[1m1s\u001b[0m 544ms/step - binary_accuracy: 0.7200 - loss: 0.4207 - val_binary_accuracy: 1.0000 - val_loss: 0.2167\n",
            "Epoch 19/50\n",
            "\u001b[1m1/1\u001b[0m \u001b[32m━━━━━━━━━━━━━━━━━━━━\u001b[0m\u001b[37m\u001b[0m \u001b[1m1s\u001b[0m 548ms/step - binary_accuracy: 0.9000 - loss: 0.2981 - val_binary_accuracy: 1.0000 - val_loss: 0.2096\n",
            "Epoch 20/50\n",
            "\u001b[1m1/1\u001b[0m \u001b[32m━━━━━━━━━━━━━━━━━━━━\u001b[0m\u001b[37m\u001b[0m \u001b[1m1s\u001b[0m 609ms/step - binary_accuracy: 0.9400 - loss: 0.2756 - val_binary_accuracy: 1.0000 - val_loss: 0.2023\n",
            "Epoch 21/50\n",
            "\u001b[1m1/1\u001b[0m \u001b[32m━━━━━━━━━━━━━━━━━━━━\u001b[0m\u001b[37m\u001b[0m \u001b[1m1s\u001b[0m 541ms/step - binary_accuracy: 0.7200 - loss: 0.5353 - val_binary_accuracy: 1.0000 - val_loss: 0.1970\n",
            "Epoch 22/50\n",
            "\u001b[1m1/1\u001b[0m \u001b[32m━━━━━━━━━━━━━━━━━━━━\u001b[0m\u001b[37m\u001b[0m \u001b[1m1s\u001b[0m 529ms/step - binary_accuracy: 0.8000 - loss: 0.4288 - val_binary_accuracy: 1.0000 - val_loss: 0.1932\n",
            "Epoch 23/50\n",
            "\u001b[1m1/1\u001b[0m \u001b[32m━━━━━━━━━━━━━━━━━━━━\u001b[0m\u001b[37m\u001b[0m \u001b[1m1s\u001b[0m 552ms/step - binary_accuracy: 0.9200 - loss: 0.3812 - val_binary_accuracy: 1.0000 - val_loss: 0.1918\n",
            "Epoch 24/50\n",
            "\u001b[1m1/1\u001b[0m \u001b[32m━━━━━━━━━━━━━━━━━━━━\u001b[0m\u001b[37m\u001b[0m \u001b[1m1s\u001b[0m 565ms/step - binary_accuracy: 0.7600 - loss: 0.4426 - val_binary_accuracy: 1.0000 - val_loss: 0.1910\n",
            "Epoch 25/50\n",
            "\u001b[1m1/1\u001b[0m \u001b[32m━━━━━━━━━━━━━━━━━━━━\u001b[0m\u001b[37m\u001b[0m \u001b[1m1s\u001b[0m 535ms/step - binary_accuracy: 0.8800 - loss: 0.3718 - val_binary_accuracy: 1.0000 - val_loss: 0.1903\n",
            "Epoch 26/50\n",
            "\u001b[1m1/1\u001b[0m \u001b[32m━━━━━━━━━━━━━━━━━━━━\u001b[0m\u001b[37m\u001b[0m \u001b[1m1s\u001b[0m 650ms/step - binary_accuracy: 0.9200 - loss: 0.2674 - val_binary_accuracy: 1.0000 - val_loss: 0.1886\n",
            "Epoch 27/50\n",
            "\u001b[1m1/1\u001b[0m \u001b[32m━━━━━━━━━━━━━━━━━━━━\u001b[0m\u001b[37m\u001b[0m \u001b[1m1s\u001b[0m 533ms/step - binary_accuracy: 0.8000 - loss: 0.4420 - val_binary_accuracy: 1.0000 - val_loss: 0.1881\n",
            "Epoch 28/50\n",
            "\u001b[1m1/1\u001b[0m \u001b[32m━━━━━━━━━━━━━━━━━━━━\u001b[0m\u001b[37m\u001b[0m \u001b[1m1s\u001b[0m 635ms/step - binary_accuracy: 0.7800 - loss: 0.3598 - val_binary_accuracy: 1.0000 - val_loss: 0.1884\n",
            "Epoch 29/50\n",
            "\u001b[1m1/1\u001b[0m \u001b[32m━━━━━━━━━━━━━━━━━━━━\u001b[0m\u001b[37m\u001b[0m \u001b[1m1s\u001b[0m 542ms/step - binary_accuracy: 0.8800 - loss: 0.3449 - val_binary_accuracy: 1.0000 - val_loss: 0.1858\n",
            "Epoch 30/50\n",
            "\u001b[1m1/1\u001b[0m \u001b[32m━━━━━━━━━━━━━━━━━━━━\u001b[0m\u001b[37m\u001b[0m \u001b[1m1s\u001b[0m 628ms/step - binary_accuracy: 0.8400 - loss: 0.3333 - val_binary_accuracy: 1.0000 - val_loss: 0.1831\n",
            "Epoch 31/50\n",
            "\u001b[1m1/1\u001b[0m \u001b[32m━━━━━━━━━━━━━━━━━━━━\u001b[0m\u001b[37m\u001b[0m \u001b[1m1s\u001b[0m 633ms/step - binary_accuracy: 0.7200 - loss: 0.4048 - val_binary_accuracy: 1.0000 - val_loss: 0.1822\n",
            "Epoch 32/50\n",
            "\u001b[1m1/1\u001b[0m \u001b[32m━━━━━━━━━━━━━━━━━━━━\u001b[0m\u001b[37m\u001b[0m \u001b[1m1s\u001b[0m 1s/step - binary_accuracy: 0.8200 - loss: 0.3809 - val_binary_accuracy: 1.0000 - val_loss: 0.1789\n",
            "Epoch 33/50\n",
            "\u001b[1m1/1\u001b[0m \u001b[32m━━━━━━━━━━━━━━━━━━━━\u001b[0m\u001b[37m\u001b[0m \u001b[1m1s\u001b[0m 1s/step - binary_accuracy: 0.8400 - loss: 0.3082 - val_binary_accuracy: 1.0000 - val_loss: 0.1744\n",
            "Epoch 34/50\n",
            "\u001b[1m1/1\u001b[0m \u001b[32m━━━━━━━━━━━━━━━━━━━━\u001b[0m\u001b[37m\u001b[0m \u001b[1m1s\u001b[0m 645ms/step - binary_accuracy: 0.8000 - loss: 0.3593 - val_binary_accuracy: 1.0000 - val_loss: 0.1567\n",
            "Epoch 35/50\n",
            "\u001b[1m1/1\u001b[0m \u001b[32m━━━━━━━━━━━━━━━━━━━━\u001b[0m\u001b[37m\u001b[0m \u001b[1m1s\u001b[0m 529ms/step - binary_accuracy: 0.8800 - loss: 0.2752 - val_binary_accuracy: 1.0000 - val_loss: 0.1452\n",
            "Epoch 36/50\n",
            "\u001b[1m1/1\u001b[0m \u001b[32m━━━━━━━━━━━━━━━━━━━━\u001b[0m\u001b[37m\u001b[0m \u001b[1m1s\u001b[0m 641ms/step - binary_accuracy: 0.8800 - loss: 0.2625 - val_binary_accuracy: 1.0000 - val_loss: 0.1359\n",
            "Epoch 37/50\n",
            "\u001b[1m1/1\u001b[0m \u001b[32m━━━━━━━━━━━━━━━━━━━━\u001b[0m\u001b[37m\u001b[0m \u001b[1m1s\u001b[0m 559ms/step - binary_accuracy: 0.8800 - loss: 0.2712 - val_binary_accuracy: 1.0000 - val_loss: 0.1265\n",
            "Epoch 38/50\n",
            "\u001b[1m1/1\u001b[0m \u001b[32m━━━━━━━━━━━━━━━━━━━━\u001b[0m\u001b[37m\u001b[0m \u001b[1m1s\u001b[0m 550ms/step - binary_accuracy: 0.7600 - loss: 0.5739 - val_binary_accuracy: 0.8571 - val_loss: 0.2968\n",
            "Epoch 39/50\n",
            "\u001b[1m1/1\u001b[0m \u001b[32m━━━━━━━━━━━━━━━━━━━━\u001b[0m\u001b[37m\u001b[0m \u001b[1m1s\u001b[0m 542ms/step - binary_accuracy: 0.8000 - loss: 0.5354 - val_binary_accuracy: 0.8571 - val_loss: 0.2952\n",
            "Epoch 40/50\n",
            "\u001b[1m1/1\u001b[0m \u001b[32m━━━━━━━━━━━━━━━━━━━━\u001b[0m\u001b[37m\u001b[0m \u001b[1m1s\u001b[0m 628ms/step - binary_accuracy: 0.7600 - loss: 0.5518 - val_binary_accuracy: 0.8571 - val_loss: 0.2933\n",
            "Epoch 41/50\n",
            "\u001b[1m1/1\u001b[0m \u001b[32m━━━━━━━━━━━━━━━━━━━━\u001b[0m\u001b[37m\u001b[0m \u001b[1m1s\u001b[0m 619ms/step - binary_accuracy: 0.6800 - loss: 0.5472 - val_binary_accuracy: 0.8571 - val_loss: 0.2947\n",
            "Epoch 42/50\n",
            "\u001b[1m1/1\u001b[0m \u001b[32m━━━━━━━━━━━━━━━━━━━━\u001b[0m\u001b[37m\u001b[0m \u001b[1m1s\u001b[0m 530ms/step - binary_accuracy: 0.7200 - loss: 0.5399 - val_binary_accuracy: 0.8571 - val_loss: 0.2980\n",
            "Epoch 43/50\n",
            "\u001b[1m1/1\u001b[0m \u001b[32m━━━━━━━━━━━━━━━━━━━━\u001b[0m\u001b[37m\u001b[0m \u001b[1m1s\u001b[0m 547ms/step - binary_accuracy: 0.7200 - loss: 0.5056 - val_binary_accuracy: 0.8571 - val_loss: 0.2992\n",
            "Epoch 44/50\n",
            "\u001b[1m1/1\u001b[0m \u001b[32m━━━━━━━━━━━━━━━━━━━━\u001b[0m\u001b[37m\u001b[0m \u001b[1m1s\u001b[0m 616ms/step - binary_accuracy: 0.6800 - loss: 0.4698 - val_binary_accuracy: 1.0000 - val_loss: 0.1877\n",
            "Epoch 45/50\n",
            "\u001b[1m1/1\u001b[0m \u001b[32m━━━━━━━━━━━━━━━━━━━━\u001b[0m\u001b[37m\u001b[0m \u001b[1m1s\u001b[0m 629ms/step - binary_accuracy: 0.7600 - loss: 0.4381 - val_binary_accuracy: 1.0000 - val_loss: 0.1892\n",
            "Epoch 46/50\n",
            "\u001b[1m1/1\u001b[0m \u001b[32m━━━━━━━━━━━━━━━━━━━━\u001b[0m\u001b[37m\u001b[0m \u001b[1m1s\u001b[0m 609ms/step - binary_accuracy: 0.7600 - loss: 0.4377 - val_binary_accuracy: 1.0000 - val_loss: 0.1891\n",
            "Epoch 47/50\n",
            "\u001b[1m1/1\u001b[0m \u001b[32m━━━━━━━━━━━━━━━━━━━━\u001b[0m\u001b[37m\u001b[0m \u001b[1m1s\u001b[0m 559ms/step - binary_accuracy: 0.7600 - loss: 0.4603 - val_binary_accuracy: 1.0000 - val_loss: 0.1883\n",
            "Epoch 48/50\n",
            "\u001b[1m1/1\u001b[0m \u001b[32m━━━━━━━━━━━━━━━━━━━━\u001b[0m\u001b[37m\u001b[0m \u001b[1m1s\u001b[0m 561ms/step - binary_accuracy: 0.8000 - loss: 0.3754 - val_binary_accuracy: 1.0000 - val_loss: 0.1874\n",
            "Epoch 49/50\n",
            "\u001b[1m1/1\u001b[0m \u001b[32m━━━━━━━━━━━━━━━━━━━━\u001b[0m\u001b[37m\u001b[0m \u001b[1m1s\u001b[0m 551ms/step - binary_accuracy: 0.8000 - loss: 0.3812 - val_binary_accuracy: 1.0000 - val_loss: 0.1864\n",
            "Epoch 50/50\n",
            "\u001b[1m1/1\u001b[0m \u001b[32m━━━━━━━━━━━━━━━━━━━━\u001b[0m\u001b[37m\u001b[0m \u001b[1m1s\u001b[0m 561ms/step - binary_accuracy: 0.7200 - loss: 0.4585 - val_binary_accuracy: 1.0000 - val_loss: 0.1858\n",
            "evaluating..\n",
            "\u001b[1m1/1\u001b[0m \u001b[32m━━━━━━━━━━━━━━━━━━━━\u001b[0m\u001b[37m\u001b[0m \u001b[1m0s\u001b[0m 79ms/step\n"
          ]
        }
      ]
    },
    {
      "cell_type": "code",
      "metadata": {
        "id": "4XQMFB8v0zfx"
      },
      "source": [
        "#def calc_p_val(stats, h0, n_iterations):\n",
        "def calc_p_val(stats, h0):\n",
        "  '''\n",
        "  finds the p value for the results\n",
        "\n",
        "  '''\n",
        "  # calc pval\n",
        "  tset, pval = ttest_1samp(stats, h0)\n",
        "\n",
        "  return pval\n",
        "\n",
        "p_val=calc_p_val(accuracy, .5)"
      ],
      "execution_count": 21,
      "outputs": []
    },
    {
      "cell_type": "code",
      "metadata": {
        "id": "c3h2oB8y_6XR",
        "outputId": "a9676e37-a5af-4abe-fdd8-ceee1f7bd0e7",
        "colab": {
          "base_uri": "https://localhost:8080/",
          "height": 477
        }
      },
      "source": [
        "def plot_p_value(stats, p_val):\n",
        "  '''\n",
        "  plots the bootstrapping results with the null hypothesis value\n",
        "  '''\n",
        "\n",
        "  plt.hist(stats, label='bootstrapped test')\n",
        "  plt.vlines(.5, 0, 40, color='white', label='p-val= {}'.format(p_val))\n",
        "  plt.vlines(.5, 0, 40, color='navy', label='Null hypothesis (50%)')\n",
        "\n",
        "  plt.title('Histogram model accuracy bootstrapping')\n",
        "  plt.xlabel('Model accuracy')\n",
        "  plt.ylabel('#')\n",
        "  plt.legend()\n",
        "  plt.plot()\n",
        "\n",
        "plot_p_value(accuracy, p_val)"
      ],
      "execution_count": 22,
      "outputs": [
        {
          "output_type": "display_data",
          "data": {
            "text/plain": [
              "<Figure size 640x480 with 1 Axes>"
            ],
            "image/png": "[encoded data removed]"
          },
          "metadata": {}
        }
      ]
    },
    {
      "cell_type": "code",
      "metadata": {
        "id": "kpVt53-80zaN",
        "outputId": "f5e2aa8b-6635-429b-8655-bda7a35c2da7",
        "colab": {
          "base_uri": "https://localhost:8080/",
          "height": 477
        }
      },
      "source": [
        "def plot_roc_curve(fpr_vals, tpr_vals, roc_auc, p_val):\n",
        "  '''\n",
        "  This function plots the median value of the roc for the boostrapped\n",
        "    results calculated above.\n",
        "\n",
        "  fpr stand for false-positive rate\n",
        "  tpr stands for true-positive rate\n",
        "  roc_auc is the area under curve\n",
        "  '''\n",
        "\n",
        "  ## get the values\n",
        "  N=len(fpr_vals)\n",
        "  tprs=[]\n",
        "  median_fpr=np.linspace(0, 1, 100)\n",
        "#  tprs=[interp(median_fpr, fpr_vals[i], tpr_vals[i]) for i in range(N)]\n",
        "  tprs=[np.interp(median_fpr, fpr_vals[i], tpr_vals[i]) for i in range(N)]\n",
        "  std_tpr = np.std(tprs, axis=0)\n",
        "\n",
        "  mean_tpr = np.mean(tprs, axis=0)\n",
        "  median_tpr=np.median(tprs, axis=0)\n",
        "  median_tpr[-1] = 1.0\n",
        "\n",
        "  tprs_upper_2 = np.minimum(mean_tpr + 2*std_tpr, 1)\n",
        "  tprs_lower_2 = np.maximum(mean_tpr - 2*std_tpr, 0)\n",
        "\n",
        "  tprs_upper_1 = np.minimum(mean_tpr + std_tpr, 1)\n",
        "  tprs_lower_1 = np.maximum(mean_tpr - std_tpr, 0)\n",
        "\n",
        "  median_auc_roc=np.median(roc_auc)\n",
        "\n",
        "\n",
        "  ## plot\n",
        "  if p_val<0.05:\n",
        "    p_val=0.05\n",
        "  plt.plot(median_fpr, median_tpr, color='cadetblue',\n",
        "           label='ROC curve \\narea={} \\np-val<{}'.\\\n",
        "            format(np.round(median_auc_roc,2),\n",
        "                   np.round(p_val,2)))\n",
        "  plt.fill_between(median_fpr, tprs_lower_2, tprs_upper_2, color='grey', alpha=.2,\n",
        "                 label=r'$\\pm$ 1 std. dev.')\n",
        "\n",
        "  plt.fill_between(median_fpr, tprs_lower_1, tprs_upper_1, color='cadetblue', alpha=.2,\n",
        "                 label=r'$\\pm$ 2 std. dev.')\n",
        "\n",
        "  plt.plot([0, 1], [0, 1], color='navy', lw=2, linestyle='--', label=r'chance')\n",
        "\n",
        "  plt.xlabel('False Positive Rate')\n",
        "  plt.ylabel('True Positive Rate')\n",
        "  plt.title('Receiver operating characteristic curve')\n",
        "  plt.legend(loc=\"lower right\")\n",
        "\n",
        "  plt.show()\n",
        "\n",
        "\n",
        "\n",
        "plot_roc_curve(roc_msrmnts_fpr, roc_msrmnts_tpr, accuracy,p_val)"
      ],
      "execution_count": 23,
      "outputs": [
        {
          "output_type": "display_data",
          "data": {
            "text/plain": [
              "<Figure size 640x480 with 1 Axes>"
            ],
            "image/png": "[encoded data removed]"
          },
          "metadata": {}
        }
      ]
    }
  ]
}
